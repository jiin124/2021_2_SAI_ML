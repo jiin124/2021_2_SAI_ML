{
  "nbformat": 4,
  "nbformat_minor": 0,
  "metadata": {
    "colab": {
      "name": "Numpy기본 .ipynb",
      "provenance": [],
      "collapsed_sections": [],
      "authorship_tag": "ABX9TyPt0j08X9UAAv2RtRYTYa/1",
      "include_colab_link": true
    },
    "kernelspec": {
      "name": "python3",
      "display_name": "Python 3"
    },
    "language_info": {
      "name": "python"
    }
  },
  "cells": [
    {
      "cell_type": "markdown",
      "metadata": {
        "id": "view-in-github",
        "colab_type": "text"
      },
      "source": [
        "<a href=\"https://colab.research.google.com/github/jiin124/2021_2_SAI_ML/blob/main/Numpy%EA%B8%B0%EB%B3%B8_.ipynb\" target=\"_parent\"><img src=\"https://colab.research.google.com/assets/colab-badge.svg\" alt=\"Open In Colab\"/></a>"
      ]
    },
    {
      "cell_type": "markdown",
      "metadata": {
        "id": "qLsatGy558w-"
      },
      "source": [
        "## ndarray를 편리하게 생성하기 - arange,zeros,ones"
      ]
    },
    {
      "cell_type": "code",
      "metadata": {
        "id": "IULYzznt87GD"
      },
      "source": [
        "import numpy as np"
      ],
      "execution_count": 2,
      "outputs": []
    },
    {
      "cell_type": "code",
      "metadata": {
        "colab": {
          "base_uri": "https://localhost:8080/"
        },
        "id": "vPBjGmFa4BSD",
        "outputId": "5a1868f2-da4b-4d71-81cd-a75fd36c5e54"
      },
      "source": [
        "sequence_array=np.arange(10)\n",
        "sequence_array"
      ],
      "execution_count": null,
      "outputs": [
        {
          "output_type": "execute_result",
          "data": {
            "text/plain": [
              "array([0, 1, 2, 3, 4, 5, 6, 7, 8, 9])"
            ]
          },
          "metadata": {},
          "execution_count": 6
        }
      ]
    },
    {
      "cell_type": "code",
      "metadata": {
        "colab": {
          "base_uri": "https://localhost:8080/"
        },
        "id": "5iXsZFks85CP",
        "outputId": "d35a00be-45f9-474a-9937-c021f60cf6af"
      },
      "source": [
        "sequence_array.dtype\n"
      ],
      "execution_count": null,
      "outputs": [
        {
          "output_type": "execute_result",
          "data": {
            "text/plain": [
              "dtype('int64')"
            ]
          },
          "metadata": {},
          "execution_count": 7
        }
      ]
    },
    {
      "cell_type": "code",
      "metadata": {
        "colab": {
          "base_uri": "https://localhost:8080/"
        },
        "id": "XN_d44_09FS3",
        "outputId": "77c9177c-bba2-48f3-f45d-c296eea30eee"
      },
      "source": [
        "sequence_array.shape"
      ],
      "execution_count": null,
      "outputs": [
        {
          "output_type": "execute_result",
          "data": {
            "text/plain": [
              "(10,)"
            ]
          },
          "metadata": {},
          "execution_count": 8
        }
      ]
    },
    {
      "cell_type": "code",
      "metadata": {
        "colab": {
          "base_uri": "https://localhost:8080/"
        },
        "id": "II9gn7tA9IR0",
        "outputId": "8eba69ed-2e06-4245-8dc9-497ffc8c094e"
      },
      "source": [
        "#zeros()는 함수 인자로 튜플 형태의 shape 값을 입력하면 모든 값을 0으로 채운 해당 shape을 가진 ndarry를 반환한다.\n",
        "zero_array=np.zeros((3,2),dtype='int32')\n",
        "zero_array"
      ],
      "execution_count": null,
      "outputs": [
        {
          "output_type": "execute_result",
          "data": {
            "text/plain": [
              "array([[0, 0],\n",
              "       [0, 0],\n",
              "       [0, 0]], dtype=int32)"
            ]
          },
          "metadata": {},
          "execution_count": 10
        }
      ]
    },
    {
      "cell_type": "code",
      "metadata": {
        "colab": {
          "base_uri": "https://localhost:8080/"
        },
        "id": "UXjxykl690bj",
        "outputId": "8b25b59e-4bcd-4a2f-d28c-33dcd9195ed9"
      },
      "source": [
        "one_array=np.ones((3,2))\n",
        "one_array"
      ],
      "execution_count": null,
      "outputs": [
        {
          "output_type": "execute_result",
          "data": {
            "text/plain": [
              "array([[1., 1.],\n",
              "       [1., 1.],\n",
              "       [1., 1.]])"
            ]
          },
          "metadata": {},
          "execution_count": 11
        }
      ]
    },
    {
      "cell_type": "markdown",
      "metadata": {
        "id": "8Snfh10H-sAk"
      },
      "source": [
        "### ndarray의 차원과 크기를 변경하는 reshape()"
      ]
    },
    {
      "cell_type": "code",
      "metadata": {
        "colab": {
          "base_uri": "https://localhost:8080/"
        },
        "id": "btYcT9Qe-F2C",
        "outputId": "a12ce5d7-73f0-4149-84f5-8fd94b823ce1"
      },
      "source": [
        "array1=np.arange(10)\n",
        "array1"
      ],
      "execution_count": null,
      "outputs": [
        {
          "output_type": "execute_result",
          "data": {
            "text/plain": [
              "array([0, 1, 2, 3, 4, 5, 6, 7, 8, 9])"
            ]
          },
          "metadata": {},
          "execution_count": 12
        }
      ]
    },
    {
      "cell_type": "code",
      "metadata": {
        "colab": {
          "base_uri": "https://localhost:8080/"
        },
        "id": "nyklWlXmBL52",
        "outputId": "5e735706-261e-4ab0-92c1-2a5cb2b49ce6"
      },
      "source": [
        "array2=array1.reshape(2,5)\n",
        "array2"
      ],
      "execution_count": null,
      "outputs": [
        {
          "output_type": "execute_result",
          "data": {
            "text/plain": [
              "array([[0, 1, 2, 3, 4],\n",
              "       [5, 6, 7, 8, 9]])"
            ]
          },
          "metadata": {},
          "execution_count": 13
        }
      ]
    },
    {
      "cell_type": "code",
      "metadata": {
        "colab": {
          "base_uri": "https://localhost:8080/"
        },
        "id": "h-ZFHfzXB0VT",
        "outputId": "ac5279d5-b893-4946-e44e-118d558c0fb9"
      },
      "source": [
        "#-1을 reshape의 인자로 적용했을 때 어떻게 될까\n",
        "array2=array1.reshape(-1,5)\n",
        "array2"
      ],
      "execution_count": null,
      "outputs": [
        {
          "output_type": "execute_result",
          "data": {
            "text/plain": [
              "array([[0, 1, 2, 3, 4],\n",
              "       [5, 6, 7, 8, 9]])"
            ]
          },
          "metadata": {},
          "execution_count": 14
        }
      ]
    },
    {
      "cell_type": "code",
      "metadata": {
        "colab": {
          "base_uri": "https://localhost:8080/"
        },
        "id": "T7VgAK1eCvE3",
        "outputId": "7df9b3de-4df1-4455-8cf2-08aea4a27535"
      },
      "source": [
        "array3=array1.reshape(5,-1)\n",
        "array3"
      ],
      "execution_count": null,
      "outputs": [
        {
          "output_type": "execute_result",
          "data": {
            "text/plain": [
              "array([[0, 1],\n",
              "       [2, 3],\n",
              "       [4, 5],\n",
              "       [6, 7],\n",
              "       [8, 9]])"
            ]
          },
          "metadata": {},
          "execution_count": 15
        }
      ]
    },
    {
      "cell_type": "markdown",
      "metadata": {
        "id": "kttFKD8kC9-w"
      },
      "source": [
        "고정된 나머지 값에 맞는 로우를 자동으로 새롭게 생성해 변환하라는 소리!! 즉 10개의 숫자가 있는데 reshape(5,-1)일때 5*2 로 5행 2열로 변환하라는 소리이다"
      ]
    },
    {
      "cell_type": "code",
      "metadata": {
        "colab": {
          "base_uri": "https://localhost:8080/"
        },
        "id": "uUIHilolC9f9",
        "outputId": "ff14115e-dbe7-4d35-bbd5-a61a464670be"
      },
      "source": [
        "array1=np.arange(8)\n",
        "array1.reshape(-1,1)"
      ],
      "execution_count": null,
      "outputs": [
        {
          "output_type": "execute_result",
          "data": {
            "text/plain": [
              "array([[0],\n",
              "       [1],\n",
              "       [2],\n",
              "       [3],\n",
              "       [4],\n",
              "       [5],\n",
              "       [6],\n",
              "       [7]])"
            ]
          },
          "metadata": {},
          "execution_count": 16
        }
      ]
    },
    {
      "cell_type": "markdown",
      "metadata": {
        "id": "ABIoQf-xG_mT"
      },
      "source": [
        "### 넘파이의 ndarray의 데이터 세트 선택하기 - 인덱싱\n",
        "\n",
        "넘파이에서 ndarray 내의 일부 데이터 세트나 특정 데이터만을 선택할 수 있도록 하는 인덱싱에 대해 알아보겠다.\n",
        "1. 특정한 데이터만 추출 : 원하는 위치의 인덱스 값을 지정하면 해당 위치의 데이터가 반환된다.\n",
        "2.  슬라이싱 : 슬라이싱은 연속된 인덱스 상의 ndarray를 추출하는 방식이다. \n",
        "3. 팬시 인덱싱 : 일정한 인덱싱 집합을 리스트 또는 ndarray 형태로 지정해 해당 위치에 있는 데이터의 ndarray를 반환한다. \n",
        "4. 불린 인덱싱 : 특정조건에 해당하는지 여부인 true/false 값 이덱싱 집합을 기반으로 True에 해당하는 인덱스 위치에 있는 데이터의 ndarray를 반환한다. "
      ]
    },
    {
      "cell_type": "markdown",
      "metadata": {
        "id": "LMeV0fPeH7Wv"
      },
      "source": [
        "### 단일 값 추출"
      ]
    },
    {
      "cell_type": "code",
      "metadata": {
        "colab": {
          "base_uri": "https://localhost:8080/"
        },
        "id": "H8MXTctLC6WH",
        "outputId": "5a717b11-e21e-4538-d2d6-d46ac9a7a924"
      },
      "source": [
        "#1부터 9까지의 1차원 ndarray 생성\n",
        "array1=np.arange(start=1,stop=10)\n",
        "array1[3]"
      ],
      "execution_count": null,
      "outputs": [
        {
          "output_type": "execute_result",
          "data": {
            "text/plain": [
              "4"
            ]
          },
          "metadata": {},
          "execution_count": 19
        }
      ]
    },
    {
      "cell_type": "code",
      "metadata": {
        "colab": {
          "base_uri": "https://localhost:8080/"
        },
        "id": "PvT-Kq-NG0hG",
        "outputId": "7cada3aa-4730-4c4b-dcb7-e0337e81bea8"
      },
      "source": [
        "array1=np.arange(1,10)\n",
        "array2=array1.reshape(3,3)\n",
        "array2"
      ],
      "execution_count": null,
      "outputs": [
        {
          "output_type": "execute_result",
          "data": {
            "text/plain": [
              "array([[1, 2, 3],\n",
              "       [4, 5, 6],\n",
              "       [7, 8, 9]])"
            ]
          },
          "metadata": {},
          "execution_count": 20
        }
      ]
    },
    {
      "cell_type": "code",
      "metadata": {
        "colab": {
          "base_uri": "https://localhost:8080/"
        },
        "id": "sJc5fWAeIpFv",
        "outputId": "97a29c79-ea4b-413e-f702-1ae682568ce5"
      },
      "source": [
        "array2[0,0]\n"
      ],
      "execution_count": null,
      "outputs": [
        {
          "output_type": "execute_result",
          "data": {
            "text/plain": [
              "1"
            ]
          },
          "metadata": {},
          "execution_count": 21
        }
      ]
    },
    {
      "cell_type": "code",
      "metadata": {
        "colab": {
          "base_uri": "https://localhost:8080/"
        },
        "id": "MnDLX99PIufI",
        "outputId": "cda9255d-fdf4-4803-e23f-1674989f1f9c"
      },
      "source": [
        "array2[0,1]"
      ],
      "execution_count": null,
      "outputs": [
        {
          "output_type": "execute_result",
          "data": {
            "text/plain": [
              "2"
            ]
          },
          "metadata": {},
          "execution_count": 22
        }
      ]
    },
    {
      "cell_type": "code",
      "metadata": {
        "colab": {
          "base_uri": "https://localhost:8080/"
        },
        "id": "yhfyeYPEIvph",
        "outputId": "920ec8d7-2439-49d0-8ecb-27ce0421d789"
      },
      "source": [
        "array2[1,0]"
      ],
      "execution_count": null,
      "outputs": [
        {
          "output_type": "execute_result",
          "data": {
            "text/plain": [
              "4"
            ]
          },
          "metadata": {},
          "execution_count": 23
        }
      ]
    },
    {
      "cell_type": "code",
      "metadata": {
        "colab": {
          "base_uri": "https://localhost:8080/"
        },
        "id": "CKSI64a8IxGA",
        "outputId": "03abc8a2-bf08-41bf-8dec-f17af8506050"
      },
      "source": [
        "array1=np.arange(1,10)\n",
        "array2=array1.reshape(3,3)\n",
        "array2"
      ],
      "execution_count": null,
      "outputs": [
        {
          "output_type": "execute_result",
          "data": {
            "text/plain": [
              "array([[1, 2, 3],\n",
              "       [4, 5, 6],\n",
              "       [7, 8, 9]])"
            ]
          },
          "metadata": {},
          "execution_count": 24
        }
      ]
    },
    {
      "cell_type": "code",
      "metadata": {
        "colab": {
          "base_uri": "https://localhost:8080/"
        },
        "id": "CEvfMhIpKxbi",
        "outputId": "cb8b901e-6eb1-431d-87ec-9eb77e9b8240"
      },
      "source": [
        "array2[0:2,0:2]"
      ],
      "execution_count": null,
      "outputs": [
        {
          "output_type": "execute_result",
          "data": {
            "text/plain": [
              "array([[1, 2],\n",
              "       [4, 5]])"
            ]
          },
          "metadata": {},
          "execution_count": 25
        }
      ]
    },
    {
      "cell_type": "code",
      "metadata": {
        "colab": {
          "base_uri": "https://localhost:8080/"
        },
        "id": "AEnKqfcCK420",
        "outputId": "4558ecb0-a7eb-42c5-8912-1dcc7bb04dfe"
      },
      "source": [
        "array2[1:3,0:3]"
      ],
      "execution_count": null,
      "outputs": [
        {
          "output_type": "execute_result",
          "data": {
            "text/plain": [
              "array([[4, 5, 6],\n",
              "       [7, 8, 9]])"
            ]
          },
          "metadata": {},
          "execution_count": 26
        }
      ]
    },
    {
      "cell_type": "code",
      "metadata": {
        "colab": {
          "base_uri": "https://localhost:8080/"
        },
        "id": "KmhCJZZzLS7X",
        "outputId": "07292567-c3ac-46d3-e5fe-fafca8a6b8d6"
      },
      "source": [
        "array2[1:3,:]"
      ],
      "execution_count": null,
      "outputs": [
        {
          "output_type": "execute_result",
          "data": {
            "text/plain": [
              "array([[4, 5, 6],\n",
              "       [7, 8, 9]])"
            ]
          },
          "metadata": {},
          "execution_count": 27
        }
      ]
    },
    {
      "cell_type": "code",
      "metadata": {
        "colab": {
          "base_uri": "https://localhost:8080/"
        },
        "id": "NQt26F_9MH6l",
        "outputId": "209f6be5-ae53-41bd-fe34-2ced5a13b12c"
      },
      "source": [
        "array2[:,:]"
      ],
      "execution_count": null,
      "outputs": [
        {
          "output_type": "execute_result",
          "data": {
            "text/plain": [
              "array([[1, 2, 3],\n",
              "       [4, 5, 6],\n",
              "       [7, 8, 9]])"
            ]
          },
          "metadata": {},
          "execution_count": 28
        }
      ]
    },
    {
      "cell_type": "code",
      "metadata": {
        "colab": {
          "base_uri": "https://localhost:8080/"
        },
        "id": "R9sZD_niMOd5",
        "outputId": "a9ae787b-9c77-4c74-d0a0-cf07fe4173c8"
      },
      "source": [
        "array2[:2,1:]"
      ],
      "execution_count": null,
      "outputs": [
        {
          "output_type": "execute_result",
          "data": {
            "text/plain": [
              "array([[2, 3],\n",
              "       [5, 6]])"
            ]
          },
          "metadata": {},
          "execution_count": 29
        }
      ]
    },
    {
      "cell_type": "code",
      "metadata": {
        "colab": {
          "base_uri": "https://localhost:8080/"
        },
        "id": "WzvoF3-iMa2B",
        "outputId": "898beb4f-3c46-4b92-c3e3-b881a8427985"
      },
      "source": [
        "array2[:2,0]"
      ],
      "execution_count": null,
      "outputs": [
        {
          "output_type": "execute_result",
          "data": {
            "text/plain": [
              "array([1, 4])"
            ]
          },
          "metadata": {},
          "execution_count": 30
        }
      ]
    },
    {
      "cell_type": "markdown",
      "metadata": {
        "id": "ZAbSGjQWLPVJ"
      },
      "source": [
        "## 팬시 인덱싱\n",
        "\n",
        "팬시 인덱싱은 리스트나 ndarray로 인덱스 집합을 지정하면 해당 위치의 인덱스에 해당하는 ndarray를 반환하는 인덱싱 방식이다. "
      ]
    },
    {
      "cell_type": "code",
      "metadata": {
        "id": "SdPTYiM0NO4A",
        "colab": {
          "base_uri": "https://localhost:8080/"
        },
        "outputId": "6d9134fe-bb80-4813-cdfa-28ade996452e"
      },
      "source": [
        "array1=np.arange(1,10)\n",
        "array2=array1.reshape(3,3)\n",
        "array2"
      ],
      "execution_count": 4,
      "outputs": [
        {
          "output_type": "execute_result",
          "data": {
            "text/plain": [
              "array([[1, 2, 3],\n",
              "       [4, 5, 6],\n",
              "       [7, 8, 9]])"
            ]
          },
          "metadata": {},
          "execution_count": 4
        }
      ]
    },
    {
      "cell_type": "code",
      "metadata": {
        "colab": {
          "base_uri": "https://localhost:8080/"
        },
        "id": "v10aRrBIM3P1",
        "outputId": "14140add-14f4-4899-e210-2ed5d9c4f611"
      },
      "source": [
        "array3=array2[[0,1],2]\n",
        "array3"
      ],
      "execution_count": 6,
      "outputs": [
        {
          "output_type": "execute_result",
          "data": {
            "text/plain": [
              "array([3, 6])"
            ]
          },
          "metadata": {},
          "execution_count": 6
        }
      ]
    },
    {
      "cell_type": "markdown",
      "metadata": {
        "id": "PUU4MAnNNabp"
      },
      "source": [
        "0,1행에 있는 2번째 숫자를 가져오라는 뜻"
      ]
    },
    {
      "cell_type": "code",
      "metadata": {
        "colab": {
          "base_uri": "https://localhost:8080/"
        },
        "id": "9K8gp6QoNFsl",
        "outputId": "28ee9bad-00c1-4fe3-e5d5-91eb1e7d57fa"
      },
      "source": [
        "array4=array2[[0,1],0:2]\n",
        "array4"
      ],
      "execution_count": 7,
      "outputs": [
        {
          "output_type": "execute_result",
          "data": {
            "text/plain": [
              "array([[1, 2],\n",
              "       [4, 5]])"
            ]
          },
          "metadata": {},
          "execution_count": 7
        }
      ]
    },
    {
      "cell_type": "markdown",
      "metadata": {
        "id": "uXv43ujeNyf3"
      },
      "source": [
        "## 불린 인덱싱\n",
        "\n",
        "불린 인덱싱은 조건 필터링과 검색을 동시에 할 수 있기 때문에 매우 자주 사용되는 인덱싱 방식이다. "
      ]
    },
    {
      "cell_type": "code",
      "metadata": {
        "colab": {
          "base_uri": "https://localhost:8080/"
        },
        "id": "9yOrwoSLNmVG",
        "outputId": "e8bc7b2c-2330-457e-85d0-7dc44fffa8a3"
      },
      "source": [
        "array=np.arange(1,10)\n",
        "array[array>5]"
      ],
      "execution_count": 8,
      "outputs": [
        {
          "output_type": "execute_result",
          "data": {
            "text/plain": [
              "array([6, 7, 8, 9])"
            ]
          },
          "metadata": {},
          "execution_count": 8
        }
      ]
    },
    {
      "cell_type": "code",
      "metadata": {
        "colab": {
          "base_uri": "https://localhost:8080/"
        },
        "id": "aeyOBcR_OILf",
        "outputId": "a79b0517-1fdf-400f-aba6-81efc6c8b896"
      },
      "source": [
        "#그냥 조건식 할당시\n",
        "array>5"
      ],
      "execution_count": 9,
      "outputs": [
        {
          "output_type": "execute_result",
          "data": {
            "text/plain": [
              "array([False, False, False, False, False,  True,  True,  True,  True])"
            ]
          },
          "metadata": {},
          "execution_count": 9
        }
      ]
    },
    {
      "cell_type": "markdown",
      "metadata": {
        "id": "2kjZPT3oOP3_"
      },
      "source": [
        "해당하는 값들은 True로 처리된다."
      ]
    },
    {
      "cell_type": "markdown",
      "metadata": {
        "id": "7gMWW3CGOY_a"
      },
      "source": [
        "## 행렬의 정렬 - sort()와 argsort()\n",
        "\n",
        "넘파이에서 행렬을 정렬하는 대표적인 방법인 np.sort()과 ndarray.sort()그리고 정렬된 행렬의 인덱스를 반환하는 argsort()"
      ]
    },
    {
      "cell_type": "markdown",
      "metadata": {
        "id": "QkegdrFIOtCs"
      },
      "source": [
        "### 행렬 정렬"
      ]
    },
    {
      "cell_type": "code",
      "metadata": {
        "colab": {
          "base_uri": "https://localhost:8080/"
        },
        "id": "4M2LH2y0OMkI",
        "outputId": "0e3f10cd-6415-4510-c0c8-e995f616fdd0"
      },
      "source": [
        "org_array=np.array([3,2,1,4])\n",
        "org_array"
      ],
      "execution_count": 10,
      "outputs": [
        {
          "output_type": "execute_result",
          "data": {
            "text/plain": [
              "array([3, 2, 1, 4])"
            ]
          },
          "metadata": {},
          "execution_count": 10
        }
      ]
    },
    {
      "cell_type": "code",
      "metadata": {
        "colab": {
          "base_uri": "https://localhost:8080/"
        },
        "id": "OGO6bP-cOz2Z",
        "outputId": "a40e01bf-78a0-4b03-e745-91451dbec186"
      },
      "source": [
        "sort_array=np.sort(org_array)\n",
        "sort_array"
      ],
      "execution_count": 12,
      "outputs": [
        {
          "output_type": "execute_result",
          "data": {
            "text/plain": [
              "array([1, 2, 3, 4])"
            ]
          },
          "metadata": {},
          "execution_count": 12
        }
      ]
    },
    {
      "cell_type": "code",
      "metadata": {
        "id": "mEDVQuPGO4aa"
      },
      "source": [
        "sort_array2=org_array.sort()\n"
      ],
      "execution_count": 13,
      "outputs": []
    },
    {
      "cell_type": "code",
      "metadata": {
        "colab": {
          "base_uri": "https://localhost:8080/"
        },
        "id": "CNB2L2xaO--3",
        "outputId": "add1b33e-00b4-4662-a66e-2acaab635a99"
      },
      "source": [
        "print(sort_array2)"
      ],
      "execution_count": 16,
      "outputs": [
        {
          "output_type": "stream",
          "name": "stdout",
          "text": [
            "None\n"
          ]
        }
      ]
    },
    {
      "cell_type": "code",
      "metadata": {
        "colab": {
          "base_uri": "https://localhost:8080/"
        },
        "id": "ILS_KQdtPBGR",
        "outputId": "3a6c2de1-5ef6-4b69-f9f2-38cec5ed08f7"
      },
      "source": [
        "org_array"
      ],
      "execution_count": 17,
      "outputs": [
        {
          "output_type": "execute_result",
          "data": {
            "text/plain": [
              "array([1, 2, 3, 4])"
            ]
          },
          "metadata": {},
          "execution_count": 17
        }
      ]
    },
    {
      "cell_type": "markdown",
      "metadata": {
        "id": "VCocFICCPQa8"
      },
      "source": [
        "np.sort()는 원본 행렬을 변경하지 않고 정렬된 형태로 반환했고, ndarray.sort()는 원본 행렬을 정렬한 값으로 변환했다. 둘다 기본적으로 오름차순으로 행렬 내 원소를 정렬했으나 내림차순으로 정렬하기 위해서는 [::-1]을 적용한다. "
      ]
    },
    {
      "cell_type": "code",
      "metadata": {
        "id": "JxO_L09vPKfd"
      },
      "source": [
        "sort_array1=np.sort(org_array)[::-1]"
      ],
      "execution_count": 18,
      "outputs": []
    },
    {
      "cell_type": "code",
      "metadata": {
        "colab": {
          "base_uri": "https://localhost:8080/"
        },
        "id": "-OpGAubkRi1G",
        "outputId": "971567dc-e713-4335-c66b-02b50dbe9e2b"
      },
      "source": [
        "sort_array1"
      ],
      "execution_count": 19,
      "outputs": [
        {
          "output_type": "execute_result",
          "data": {
            "text/plain": [
              "array([4, 3, 2, 1])"
            ]
          },
          "metadata": {},
          "execution_count": 19
        }
      ]
    },
    {
      "cell_type": "markdown",
      "metadata": {
        "id": "_DZhiFP9TF3B"
      },
      "source": [
        "행렬이 2차원 이상일 경우 axis 축 값 설정을 통해 로우 방향, 또는 칼럼 방향으로 정렬을 수행 할 수 있다. "
      ]
    },
    {
      "cell_type": "code",
      "metadata": {
        "id": "jiMK-d0DTFWi"
      },
      "source": [
        "array1=np.array([[8,12],\n",
        "                 [7,1]])\n",
        "\n",
        "sort_array1=np.sort(array1,axis=0)#로우 방향으로 정렬"
      ],
      "execution_count": 20,
      "outputs": []
    },
    {
      "cell_type": "code",
      "metadata": {
        "colab": {
          "base_uri": "https://localhost:8080/"
        },
        "id": "Gm88hPbJRjls",
        "outputId": "f2c4bb2e-6cd4-43bd-b14f-b832ad077bb1"
      },
      "source": [
        "sort_array1"
      ],
      "execution_count": 21,
      "outputs": [
        {
          "output_type": "execute_result",
          "data": {
            "text/plain": [
              "array([[ 7,  1],\n",
              "       [ 8, 12]])"
            ]
          },
          "metadata": {},
          "execution_count": 21
        }
      ]
    },
    {
      "cell_type": "code",
      "metadata": {
        "colab": {
          "base_uri": "https://localhost:8080/"
        },
        "id": "ADlLb5NDToJ7",
        "outputId": "bcb49527-f000-40cc-b6ad-11c3f82530e4"
      },
      "source": [
        "sort_array2=np.sort(array1,axis=1)#컬럼 방향으로 정렬\n",
        "sort_array2"
      ],
      "execution_count": 22,
      "outputs": [
        {
          "output_type": "execute_result",
          "data": {
            "text/plain": [
              "array([[ 8, 12],\n",
              "       [ 1,  7]])"
            ]
          },
          "metadata": {},
          "execution_count": 22
        }
      ]
    },
    {
      "cell_type": "markdown",
      "metadata": {
        "id": "qpfgr2f-UMTy"
      },
      "source": [
        "## 정렬된 행렬의 인덱스를 반환\n",
        "\n",
        "원본 행렬이 정렬되었을 때 기존 원본 행렬의 원소에 대한 인덱스를 필요로 할때 np.argsort()를 이용한다. np.argsort()는 정렬 행렬의 원본 행렬 인덱스를 ndarray형으로 반환한다. \n",
        "내림차순으로 정렬시 원본 행렬의 인덱스를 구하는 것도 np.argsort()[::-1] 와 같이 [::-1]을 적용하면 된다"
      ]
    },
    {
      "cell_type": "code",
      "metadata": {
        "colab": {
          "base_uri": "https://localhost:8080/"
        },
        "id": "7sPoBXQaT0BQ",
        "outputId": "6ea8a254-2ffa-4d5a-d626-4e9526a68a27"
      },
      "source": [
        "org_array=np.array([3,1,9,5])\n",
        "sort_indices=np.argsort(org_array)\n",
        "print(sort_indices)"
      ],
      "execution_count": 23,
      "outputs": [
        {
          "output_type": "stream",
          "name": "stdout",
          "text": [
            "[1 0 3 2]\n"
          ]
        }
      ]
    },
    {
      "cell_type": "markdown",
      "metadata": {
        "id": "6k6fUtqdVGuL"
      },
      "source": [
        "## 선형대수 연산 -  행렬내적과 전치 행렬 구하기"
      ]
    },
    {
      "cell_type": "markdown",
      "metadata": {
        "id": "8QbUW_j9VLAT"
      },
      "source": [
        "### 행렬 내적(행렬 곱)"
      ]
    },
    {
      "cell_type": "code",
      "metadata": {
        "colab": {
          "base_uri": "https://localhost:8080/"
        },
        "id": "tIzBdFD2UsRM",
        "outputId": "6dee3df1-48d9-447c-f813-583c1fc8739e"
      },
      "source": [
        "A=np.array([[1,2,3],\n",
        "            [4,5,6]])\n",
        "B=np.array([[7,8],\n",
        "            [9,10],\n",
        "            [11,12]])\n",
        "dot_product=np.dot(A,B)\n",
        "print(dot_product)"
      ],
      "execution_count": 24,
      "outputs": [
        {
          "output_type": "stream",
          "name": "stdout",
          "text": [
            "[[ 58  64]\n",
            " [139 154]]\n"
          ]
        }
      ]
    },
    {
      "cell_type": "markdown",
      "metadata": {
        "id": "ueUfrsGdVdxN"
      },
      "source": [
        "### 전치 행렬\n",
        "\n",
        "원 행렬에서 행과 열 위치를 교환한 원소로 구성한 행렬을 그 행렬의 전치 행렬이라고 한다. "
      ]
    },
    {
      "cell_type": "code",
      "metadata": {
        "colab": {
          "base_uri": "https://localhost:8080/"
        },
        "id": "mhVP0pktVZ-S",
        "outputId": "bc7a0997-f967-431d-f8a5-3976a87d2c3f"
      },
      "source": [
        "A=np.array([[1,2],\n",
        "            [3,4]])\n",
        "transpose_mat=np.transpose(A)\n",
        "print(transpose_mat)"
      ],
      "execution_count": 25,
      "outputs": [
        {
          "output_type": "stream",
          "name": "stdout",
          "text": [
            "[[1 3]\n",
            " [2 4]]\n"
          ]
        }
      ]
    },
    {
      "cell_type": "code",
      "metadata": {
        "id": "M4V0ZeMYVqe0"
      },
      "source": [
        ""
      ],
      "execution_count": null,
      "outputs": []
    }
  ]
}
