{
  "nbformat": 4,
  "nbformat_minor": 0,
  "metadata": {
    "colab": {
      "name": "결정트리실습_사용자 행동 인식 데이터 세트.ipynb",
      "provenance": [],
      "collapsed_sections": [],
      "mount_file_id": "1l-y4BmnfPmxx2JxqJuAAAI3D6lmzVDgZ",
      "authorship_tag": "ABX9TyMs9q1CBr++T3fBdrMPzwdY",
      "include_colab_link": true
    },
    "kernelspec": {
      "name": "python3",
      "display_name": "Python 3"
    },
    "language_info": {
      "name": "python"
    }
  },
  "cells": [
    {
      "cell_type": "markdown",
      "metadata": {
        "id": "view-in-github",
        "colab_type": "text"
      },
      "source": [
        "<a href=\"https://colab.research.google.com/github/jiin124/2021_2_SAI_ML/blob/main/%EA%B2%B0%EC%A0%95%ED%8A%B8%EB%A6%AC%EC%8B%A4%EC%8A%B5_%EC%82%AC%EC%9A%A9%EC%9E%90_%ED%96%89%EB%8F%99_%EC%9D%B8%EC%8B%9D_%EB%8D%B0%EC%9D%B4%ED%84%B0_%EC%84%B8%ED%8A%B8.ipynb\" target=\"_parent\"><img src=\"https://colab.research.google.com/assets/colab-badge.svg\" alt=\"Open In Colab\"/></a>"
      ]
    },
    {
      "cell_type": "markdown",
      "metadata": {
        "id": "Hfx_c1bjNfRn"
      },
      "source": [
        "# Human Activity Recognition Using Smartphones Data set"
      ]
    },
    {
      "cell_type": "code",
      "metadata": {
        "colab": {
          "base_uri": "https://localhost:8080/"
        },
        "id": "H3nYrBdjJ0Re",
        "outputId": "ee0f285f-f2dc-4063-a29a-415993ae575c"
      },
      "source": [
        "import pandas as pd\n",
        "import numpy as np\n",
        "import matplotlib.pyplot as plt\n",
        "%matplotlib inline\n",
        "\n",
        "#features.txt파엘이는 피처 이름 index와 피처명이 공백으로 분리되어있다. 이를 dataframe으로 로드\n",
        "feature_name_df=pd.read_csv('drive/MyDrive/human_activity/features.txt',sep='\\s+',\n",
        "                            header=None,names=['column_index','column_name'])\n",
        "\n",
        "#피처명 index를 제거하고, 피처명만 리스트 객체로 생성한 뒤 샘플로 10개만 추출\n",
        "feature_name=feature_name_df.iloc[:,1].values.tolist()\n",
        "print('전체 피처명에서 10개만 추출:',feature_name[:10])"
      ],
      "execution_count": 8,
      "outputs": [
        {
          "output_type": "stream",
          "name": "stdout",
          "text": [
            "전체 피처명에서 10개만 추출: ['tBodyAcc-mean()-X', 'tBodyAcc-mean()-Y', 'tBodyAcc-mean()-Z', 'tBodyAcc-std()-X', 'tBodyAcc-std()-Y', 'tBodyAcc-std()-Z', 'tBodyAcc-mad()-X', 'tBodyAcc-mad()-Y', 'tBodyAcc-mad()-Z', 'tBodyAcc-max()-X']\n"
          ]
        }
      ]
    },
    {
      "cell_type": "markdown",
      "metadata": {
        "id": "t_AFvUmiMY07"
      },
      "source": [
        "피처명을 보면 인체의 움직임과 관련된 속성의 평균/표준편차가 X,Y,Z축 값으로 되어있음을 유추할 수 있다. 위에서 피처명을 가지고 있는 feature_info.txt는 중복된 피처명을 가지고 있다. 이 중복된 피처명들을 이용해 데이터 파일을 데이터 세트 DataFrame에서 유추하면 오류가 발생한다. "
      ]
    },
    {
      "cell_type": "code",
      "metadata": {
        "colab": {
          "base_uri": "https://localhost:8080/",
          "height": 269
        },
        "id": "BdfimWuvNuph",
        "outputId": "82e2845f-16cf-4893-ded6-d0eeb1b4ab36"
      },
      "source": [
        "feature_dup_df=feature_name_df.groupby('column_name').count()\n",
        "print(feature_dup_df[feature_dup_df['column_index']>1].count())\n",
        "feature_dup_df[feature_dup_df['column_index']>1].head()"
      ],
      "execution_count": 9,
      "outputs": [
        {
          "output_type": "stream",
          "name": "stdout",
          "text": [
            "column_index    42\n",
            "dtype: int64\n"
          ]
        },
        {
          "output_type": "execute_result",
          "data": {
            "text/html": [
              "<div>\n",
              "<style scoped>\n",
              "    .dataframe tbody tr th:only-of-type {\n",
              "        vertical-align: middle;\n",
              "    }\n",
              "\n",
              "    .dataframe tbody tr th {\n",
              "        vertical-align: top;\n",
              "    }\n",
              "\n",
              "    .dataframe thead th {\n",
              "        text-align: right;\n",
              "    }\n",
              "</style>\n",
              "<table border=\"1\" class=\"dataframe\">\n",
              "  <thead>\n",
              "    <tr style=\"text-align: right;\">\n",
              "      <th></th>\n",
              "      <th>column_index</th>\n",
              "    </tr>\n",
              "    <tr>\n",
              "      <th>column_name</th>\n",
              "      <th></th>\n",
              "    </tr>\n",
              "  </thead>\n",
              "  <tbody>\n",
              "    <tr>\n",
              "      <th>fBodyAcc-bandsEnergy()-1,16</th>\n",
              "      <td>3</td>\n",
              "    </tr>\n",
              "    <tr>\n",
              "      <th>fBodyAcc-bandsEnergy()-1,24</th>\n",
              "      <td>3</td>\n",
              "    </tr>\n",
              "    <tr>\n",
              "      <th>fBodyAcc-bandsEnergy()-1,8</th>\n",
              "      <td>3</td>\n",
              "    </tr>\n",
              "    <tr>\n",
              "      <th>fBodyAcc-bandsEnergy()-17,24</th>\n",
              "      <td>3</td>\n",
              "    </tr>\n",
              "    <tr>\n",
              "      <th>fBodyAcc-bandsEnergy()-17,32</th>\n",
              "      <td>3</td>\n",
              "    </tr>\n",
              "  </tbody>\n",
              "</table>\n",
              "</div>"
            ],
            "text/plain": [
              "                              column_index\n",
              "column_name                               \n",
              "fBodyAcc-bandsEnergy()-1,16              3\n",
              "fBodyAcc-bandsEnergy()-1,24              3\n",
              "fBodyAcc-bandsEnergy()-1,8               3\n",
              "fBodyAcc-bandsEnergy()-17,24             3\n",
              "fBodyAcc-bandsEnergy()-17,32             3"
            ]
          },
          "metadata": {},
          "execution_count": 9
        }
      ]
    },
    {
      "cell_type": "markdown",
      "metadata": {
        "id": "GBHd2z0zPNm5"
      },
      "source": [
        "총 42개의 피처명이 중복돼있다. 이 중복된 피처명에 대해서는 원본 피처명에 _1,_2를 추가로 부여해 새로운 피처명을 가지를 dataframe을 반환하는 함수인 get_new_feature_name_df를 생성하겠다"
      ]
    },
    {
      "cell_type": "code",
      "metadata": {
        "id": "6saunzkxOuyc"
      },
      "source": [
        "def get_new_feature_name_df(old_feature_name_df):\n",
        "    feature_dup_df = pd.DataFrame(data=old_feature_name_df.groupby('column_name').cumcount(), columns=['dup_cnt'])\n",
        "    feature_dup_df = feature_dup_df.reset_index()\n",
        "    new_feature_name_df = pd.merge(old_feature_name_df.reset_index(), feature_dup_df, how='outer')\n",
        "    # print(new_feature_name_df.info())\n",
        "    \n",
        "    new_feature_name_df['column_name'] = new_feature_name_df[['column_name', 'dup_cnt']].apply(lambda x : x[0]+'_'+str(x[1]) if x[1] > 0 else x[0], axis=1)\n",
        "    new_feature_name_df = new_feature_name_df.drop(['index'], axis=1)\n",
        "    # print(new_feature_name_df.info())\n",
        "    return new_feature_name_df"
      ],
      "execution_count": 16,
      "outputs": []
    },
    {
      "cell_type": "code",
      "metadata": {
        "id": "jZg1oYVkPKsq"
      },
      "source": [
        "import pandas as pd\n",
        "\n",
        "def get_human_dataset() :\n",
        "    \n",
        "    # 각 데이터 파일들은 공백으로 분리되어 있으므로\n",
        "    # read_csv에서 공백 문자를 sep로 할당\n",
        "    feature_name_df = pd.read_csv('drive/MyDrive//human_activity/features.txt', sep='\\s+',\n",
        "                                 header=None, names=['column_index', 'column_name'])\n",
        "    new_feature_name_df=get_new_feature_name_df(feature_name_df)\n",
        "    # DataFrame에 피처명을 칼럼으로 부여하기 위해 리스트 객체로 다시 변환\n",
        "    feature_name = new_feature_name_df.iloc[:, 1].values.tolist()\n",
        "    \n",
        "    # 학습 피처 데이터 세트와 테스트 피처 데이터를 DataFrame으로 로딩\n",
        "    # 칼럼명은 feature_name 적용\n",
        "    X_train = pd.read_csv('drive/MyDrive//human_activity/train/X_train.txt', sep = '\\s+', names = feature_name)\n",
        "    X_test = pd.read_csv('drive/MyDrive//human_activity/test/X_test.txt', sep = '\\s+', names = feature_name )\n",
        "    \n",
        "    # 학습 레이블과 테스트 레이블 데이터를 DataFrame으로 로딩\n",
        "    # 칼럼명은 action으로 부여\n",
        "    y_train = pd.read_csv('drive/MyDrive//human_activity/train/y_train.txt', sep = '\\s+', header = None, names = ['action'])\n",
        "    y_test = pd.read_csv('drive/MyDrive//human_activity/test/y_test.txt', sep = '\\s+', header = None, names = ['action'])\n",
        "    \n",
        "    # 로드된 학습/테스트용 DataFrame 모두 반환\n",
        "    return X_train, X_test, y_train, y_test\n",
        "\n",
        "X_train, X_test, y_train, y_test = get_human_dataset()"
      ],
      "execution_count": 17,
      "outputs": []
    },
    {
      "cell_type": "code",
      "metadata": {
        "colab": {
          "base_uri": "https://localhost:8080/"
        },
        "id": "OmFSBld2RihK",
        "outputId": "fdcb7729-7eb5-44e9-c216-8afe57a25e71"
      },
      "source": [
        "print('##학습 피처 데이터셋 info()')\n",
        "print(X_train.info())"
      ],
      "execution_count": 19,
      "outputs": [
        {
          "output_type": "stream",
          "name": "stdout",
          "text": [
            "##학습 피처 데이터셋 info()\n",
            "<class 'pandas.core.frame.DataFrame'>\n",
            "RangeIndex: 7352 entries, 0 to 7351\n",
            "Columns: 561 entries, tBodyAcc-mean()-X to angle(Z,gravityMean)\n",
            "dtypes: float64(561)\n",
            "memory usage: 31.5 MB\n",
            "None\n"
          ]
        }
      ]
    },
    {
      "cell_type": "code",
      "metadata": {
        "colab": {
          "base_uri": "https://localhost:8080/"
        },
        "id": "3Cwswes1TdI3",
        "outputId": "8be7237d-9fe9-47dc-a709-860c6375d173"
      },
      "source": [
        "# 레이블 값은 1, 2, 3, 4, 5, 6의 6개 값이고\n",
        "# 분포도는 특정 값으로 왜곡되지 않고 비교적 고르게 분포되어 있다\n",
        "print(y_train['action'].value_counts())"
      ],
      "execution_count": 20,
      "outputs": [
        {
          "output_type": "stream",
          "name": "stdout",
          "text": [
            "6    1407\n",
            "5    1374\n",
            "4    1286\n",
            "1    1226\n",
            "2    1073\n",
            "3     986\n",
            "Name: action, dtype: int64\n"
          ]
        }
      ]
    },
    {
      "cell_type": "code",
      "metadata": {
        "colab": {
          "base_uri": "https://localhost:8080/"
        },
        "id": "sQX8aspoTs-K",
        "outputId": "4241546b-097c-41e2-e61b-b76736dbfdf3"
      },
      "source": [
        "from sklearn.tree import DecisionTreeClassifier\n",
        "from sklearn.metrics import accuracy_score\n",
        "\n",
        "#예제 반복시마다 동일한 예측 결과 도출을 위해 random_state결정\n",
        "dt_clf=DecisionTreeClassifier(random_state=156)\n",
        "dt_clf.fit(X_train,y_train)\n",
        "pred=dt_clf.predict(X_test)\n",
        "accuracy=accuracy_score(y_test,pred)\n",
        "print(\"결정트리 예측 정확도 : {0:.4f}\".format(accuracy))\n",
        "\n",
        "#DecisionTreeClassfier의 하이퍼 파라미터 추출\n",
        "print(\"DecisionTreeClassifier 기본 하이퍼 파라미터:\\n\",dt_clf.get_params())"
      ],
      "execution_count": 21,
      "outputs": [
        {
          "output_type": "stream",
          "name": "stdout",
          "text": [
            "결정트리 예측 정확도 : 0.8548\n",
            "DecisionTreeClassifier 기본 하이퍼 파라미터:\n",
            " {'ccp_alpha': 0.0, 'class_weight': None, 'criterion': 'gini', 'max_depth': None, 'max_features': None, 'max_leaf_nodes': None, 'min_impurity_decrease': 0.0, 'min_impurity_split': None, 'min_samples_leaf': 1, 'min_samples_split': 2, 'min_weight_fraction_leaf': 0.0, 'presort': 'deprecated', 'random_state': 156, 'splitter': 'best'}\n"
          ]
        }
      ]
    },
    {
      "cell_type": "markdown",
      "metadata": {
        "id": "O091-HcvVHNh"
      },
      "source": [
        "약 85.48%의 정확도를 나타내고 있다. 이번에는 결정 트리의 트리 깊이가 예측 정확도에 주는 영향을 살펴보겠다. GridSearchCV를 이용해 사이킷런 결정 트리의 깊이를 조절할 수 있는 하이퍼 파라미터이 max_depth 값을 변화시키면서 예측 성능을 확인해보겠다.\n",
        "\n",
        "\n",
        "\n"
      ]
    },
    {
      "cell_type": "code",
      "metadata": {
        "colab": {
          "base_uri": "https://localhost:8080/"
        },
        "id": "FCt7TV-9U9Bu",
        "outputId": "3ebedcf5-86f5-4ab9-8f39-834e657bd374"
      },
      "source": [
        "from sklearn.model_selection import GridSearchCV\n",
        "\n",
        "params={'max_depth':[6,8,10,12,16,20,24]}\n",
        "\n",
        "grid_cv=GridSearchCV(dt_clf,param_grid=params,scoring='accuracy',cv=5,verbose=1)\n",
        "grid_cv.fit(X_train,y_train)\n",
        "print('Gridsearch 최고 평균 정확도 수치: {0:.4f}'.format(grid_cv.best_score_))\n",
        "print('GridSearch 최적 하이퍼 파라미터 :',grid_cv.best_params_)"
      ],
      "execution_count": 23,
      "outputs": [
        {
          "output_type": "stream",
          "name": "stdout",
          "text": [
            "Fitting 5 folds for each of 7 candidates, totalling 35 fits\n"
          ]
        },
        {
          "output_type": "stream",
          "name": "stderr",
          "text": [
            "[Parallel(n_jobs=1)]: Using backend SequentialBackend with 1 concurrent workers.\n",
            "[Parallel(n_jobs=1)]: Done  35 out of  35 | elapsed:  1.9min finished\n"
          ]
        },
        {
          "output_type": "stream",
          "name": "stdout",
          "text": [
            "Gridsearch 최고 평균 정확도 수치: 0.8513\n",
            "GridSearch 최적 하이퍼 파라미터 : {'max_depth': 16}\n"
          ]
        }
      ]
    },
    {
      "cell_type": "markdown",
      "metadata": {
        "id": "LoZqUyknZk3J"
      },
      "source": [
        "max_depth=16일때 5개의 폴드 세트의 최고 평균 정확도 결과가 85.13%로 도출됐다.\n",
        "5개의 CV세트에서 max_depth 값에 따라 어떻게 예측 성능이 변했는지 GridSearchCV 객체의 cv_results_ 속성을 통해 살펴보겠다. "
      ]
    },
    {
      "cell_type": "code",
      "metadata": {
        "colab": {
          "base_uri": "https://localhost:8080/",
          "height": 265
        },
        "id": "46PMtv76Yi_a",
        "outputId": "5ea07916-8f31-4b77-9873-ce919460415d"
      },
      "source": [
        "#GridSearCV 객체의 cv_results_ 속성을 DataFrame으로 생성.\n",
        "cv_results_df=pd.DataFrame(grid_cv.cv_results_)\n",
        "\n",
        "#max_depth 파라미터 값과 그때의 티ㅔ스트 세트 학습 데이터 세트의 정확도 수치 추출\n",
        "cv_results_df[['param_max_depth','mean_test_score']]"
      ],
      "execution_count": 25,
      "outputs": [
        {
          "output_type": "execute_result",
          "data": {
            "text/html": [
              "<div>\n",
              "<style scoped>\n",
              "    .dataframe tbody tr th:only-of-type {\n",
              "        vertical-align: middle;\n",
              "    }\n",
              "\n",
              "    .dataframe tbody tr th {\n",
              "        vertical-align: top;\n",
              "    }\n",
              "\n",
              "    .dataframe thead th {\n",
              "        text-align: right;\n",
              "    }\n",
              "</style>\n",
              "<table border=\"1\" class=\"dataframe\">\n",
              "  <thead>\n",
              "    <tr style=\"text-align: right;\">\n",
              "      <th></th>\n",
              "      <th>param_max_depth</th>\n",
              "      <th>mean_test_score</th>\n",
              "    </tr>\n",
              "  </thead>\n",
              "  <tbody>\n",
              "    <tr>\n",
              "      <th>0</th>\n",
              "      <td>6</td>\n",
              "      <td>0.850791</td>\n",
              "    </tr>\n",
              "    <tr>\n",
              "      <th>1</th>\n",
              "      <td>8</td>\n",
              "      <td>0.851069</td>\n",
              "    </tr>\n",
              "    <tr>\n",
              "      <th>2</th>\n",
              "      <td>10</td>\n",
              "      <td>0.851209</td>\n",
              "    </tr>\n",
              "    <tr>\n",
              "      <th>3</th>\n",
              "      <td>12</td>\n",
              "      <td>0.844135</td>\n",
              "    </tr>\n",
              "    <tr>\n",
              "      <th>4</th>\n",
              "      <td>16</td>\n",
              "      <td>0.851344</td>\n",
              "    </tr>\n",
              "    <tr>\n",
              "      <th>5</th>\n",
              "      <td>20</td>\n",
              "      <td>0.850800</td>\n",
              "    </tr>\n",
              "    <tr>\n",
              "      <th>6</th>\n",
              "      <td>24</td>\n",
              "      <td>0.849440</td>\n",
              "    </tr>\n",
              "  </tbody>\n",
              "</table>\n",
              "</div>"
            ],
            "text/plain": [
              "  param_max_depth  mean_test_score\n",
              "0               6         0.850791\n",
              "1               8         0.851069\n",
              "2              10         0.851209\n",
              "3              12         0.844135\n",
              "4              16         0.851344\n",
              "5              20         0.850800\n",
              "6              24         0.849440"
            ]
          },
          "metadata": {},
          "execution_count": 25
        }
      ]
    },
    {
      "cell_type": "markdown",
      "metadata": {
        "id": "QoHOXDsqcBlq"
      },
      "source": [
        "이번에는 별도의 테스트 데이터 세트에서 결정 트리의 정확도를 측정해보겠다. "
      ]
    },
    {
      "cell_type": "code",
      "metadata": {
        "colab": {
          "base_uri": "https://localhost:8080/"
        },
        "id": "DlDh3PF2bpq7",
        "outputId": "194e43d1-87b2-46ed-f6c2-0d4b3b19aac5"
      },
      "source": [
        "max_depth=[6,8,10,12,16,20,24]\n",
        "#max_dapth값을 변화시키면서 그때마다 학습과 테스트 세트에서의 예측 성능 측정\n",
        "for depth in max_depth:\n",
        "  dt_clf=DecisionTreeClassifier(max_depth=depth,random_state=156)\n",
        "  dt_clf.fit(X_train,y_train)\n",
        "  pred=dt_clf.predict(X_test)\n",
        "  accuracy=accuracy_score(y_test,pred)\n",
        "  print('max_depth={0} 정확도 : {1:.4f}'.format(depth,accuracy))"
      ],
      "execution_count": 26,
      "outputs": [
        {
          "output_type": "stream",
          "name": "stdout",
          "text": [
            "max_depth=6 정확도 : 0.8558\n",
            "max_depth=8 정확도 : 0.8707\n",
            "max_depth=10 정확도 : 0.8673\n",
            "max_depth=12 정확도 : 0.8646\n",
            "max_depth=16 정확도 : 0.8575\n",
            "max_depth=20 정확도 : 0.8548\n",
            "max_depth=24 정확도 : 0.8548\n"
          ]
        }
      ]
    },
    {
      "cell_type": "markdown",
      "metadata": {
        "id": "UnObmavBc33k"
      },
      "source": [
        "8일때 가장 높은 정확도를 나타낸다. 그리고 커질수록 정확도는 낮아지고 있다. 이론이 맞군."
      ]
    },
    {
      "cell_type": "code",
      "metadata": {
        "colab": {
          "base_uri": "https://localhost:8080/"
        },
        "id": "5r8wefxNcqZo",
        "outputId": "90776d88-36b2-4b4d-c0d7-f57d2625226e"
      },
      "source": [
        "#max_depth,min_samples_split를 같이 변경하면서 정확도 성능을 튜닝해보겠다.\n",
        "params={\n",
        "    'max_depth':[8,12,16,20],\n",
        "    'min_samples_split':[16,24],\n",
        "}\n",
        "\n",
        "grid_cv=GridSearchCV(dt_clf,param_grid=params,scoring='accuracy',cv=5,verbose=1)\n",
        "grid_cv.fit(X_train,y_train)\n",
        "print('GridSearchCV 최고 평균 정확도 수치: {0:.4f}'.format(grid_cv.best_score_))\n",
        "print('GridSearchCV 최적 하이퍼 파라미터:',grid_cv.best_params_)\n"
      ],
      "execution_count": 29,
      "outputs": [
        {
          "output_type": "stream",
          "name": "stdout",
          "text": [
            "Fitting 5 folds for each of 8 candidates, totalling 40 fits\n"
          ]
        },
        {
          "output_type": "stream",
          "name": "stderr",
          "text": [
            "[Parallel(n_jobs=1)]: Using backend SequentialBackend with 1 concurrent workers.\n",
            "[Parallel(n_jobs=1)]: Done  40 out of  40 | elapsed:  2.3min finished\n"
          ]
        },
        {
          "output_type": "stream",
          "name": "stdout",
          "text": [
            "GridSearchCV 최고 평균 정확도 수치: 0.8549\n",
            "GridSearchCV 최적 하이퍼 파라미터: {'max_depth': 8, 'min_samples_split': 16}\n"
          ]
        }
      ]
    },
    {
      "cell_type": "markdown",
      "metadata": {
        "id": "6CZnpZ1ngZ-W"
      },
      "source": [
        "GridSearchCV객체의 grid_cv의 속성인 best_estimator_ 는 최적 하이퍼 파라미터이 max_depth 8, min_samples_split 16으로 학습이 완료된 estimator 객체이다. "
      ]
    },
    {
      "cell_type": "code",
      "metadata": {
        "colab": {
          "base_uri": "https://localhost:8080/"
        },
        "id": "N5qMdlN5dCiz",
        "outputId": "59596a96-0ef4-4f1b-e5b1-bcd76ecdf784"
      },
      "source": [
        "best_df_clf=grid_cv.best_estimator_\n",
        "pred1=best_df_clf.predict(X_test)\n",
        "accuracy=accuracy_score(y_test,pred1)\n",
        "print(\"결정 트리 에측 정확도:{0:.4f}\".format(accuracy))"
      ],
      "execution_count": 30,
      "outputs": [
        {
          "output_type": "stream",
          "name": "stdout",
          "text": [
            "결정 트리 에측 정확도:0.8717\n"
          ]
        }
      ]
    },
    {
      "cell_type": "code",
      "metadata": {
        "colab": {
          "base_uri": "https://localhost:8080/",
          "height": 281
        },
        "id": "xrZu2tMSft23",
        "outputId": "c94de34d-6b89-46c6-e296-f69d836382fa"
      },
      "source": [
        "import seaborn as sns\n",
        "\n",
        "ftr_importances_values=best_df_clf.feature_importances_\n",
        "#Top중요도로 정렬을 쉽게 하고, 시본의 막대그래프로 ㅜ십게 표현하기 위한 series변환\n",
        "ftr_importances=pd.Series(ftr_importances_values,index=X_train.columns)\n",
        "#중요도값 순으로 Series값을 정렬\n",
        "ftr_top20=ftr_importances.sort_values(ascending=False)[:20]\n",
        "plt.title('Feature importances Top20')\n",
        "sns.barplot(x=ftr_top20,y=ftr_top20.index)\n",
        "plt.show()"
      ],
      "execution_count": 31,
      "outputs": [
        {
          "output_type": "display_data",
          "data": {
            "image/png": "[encoded data removed]",
            "text/plain": [
              "<Figure size 432x288 with 1 Axes>"
            ]
          },
          "metadata": {
            "needs_background": "light"
          }
        }
      ]
    },
    {
      "cell_type": "code",
      "metadata": {
        "id": "JHtJPxKPgRud"
      },
      "source": [
        ""
      ],
      "execution_count": null,
      "outputs": []
    }
  ]
}