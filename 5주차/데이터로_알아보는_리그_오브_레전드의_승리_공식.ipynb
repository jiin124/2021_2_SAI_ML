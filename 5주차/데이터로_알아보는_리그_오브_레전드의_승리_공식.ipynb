{
  "nbformat": 4,
  "nbformat_minor": 0,
  "metadata": {
    "kernelspec": {
      "display_name": "Python 3",
      "language": "python",
      "name": "python3"
    },
    "language_info": {
      "codemirror_mode": {
        "name": "ipython",
        "version": 3
      },
      "file_extension": ".py",
      "mimetype": "text/x-python",
      "name": "python",
      "nbconvert_exporter": "python",
      "pygments_lexer": "ipython3",
      "version": "3.7.7"
    },
    "colab": {
      "name": "데이터로 알아보는 리그 오브 레전드의 승리 공식.ipynb",
      "provenance": [],
      "collapsed_sections": [],
      "include_colab_link": true
    }
  },
  "cells": [
    {
      "cell_type": "markdown",
      "metadata": {
        "id": "view-in-github",
        "colab_type": "text"
      },
      "source": [
        "<a href=\"https://colab.research.google.com/github/jiin124/2021_2_SAI_ML/blob/main/5%EC%A3%BC%EC%B0%A8/%EB%8D%B0%EC%9D%B4%ED%84%B0%EB%A1%9C_%EC%95%8C%EC%95%84%EB%B3%B4%EB%8A%94_%EB%A6%AC%EA%B7%B8_%EC%98%A4%EB%B8%8C_%EB%A0%88%EC%A0%84%EB%93%9C%EC%9D%98_%EC%8A%B9%EB%A6%AC_%EA%B3%B5%EC%8B%9D.ipynb\" target=\"_parent\"><img src=\"https://colab.research.google.com/assets/colab-badge.svg\" alt=\"Open In Colab\"/></a>"
      ]
    },
    {
      "cell_type": "markdown",
      "metadata": {
        "id": "NqqLNJZjfi8U"
      },
      "source": [
        "# 주제 : 롤 좀 하니? '이것'만 하면 무조건 이긴다!<br> - 데이터로 알아보는 리그 오브 레전드의 승리 공식\n",
        "----------\n",
        "\n",
        "## 실습 가이드\n",
        "    1. 데이터를 다운로드하여 Colab에 불러옵니다.\n",
        "    2. 필요한 라이브러리는 모두 코드로 작성되어 있습니다.\n",
        "    3. 코드는 위에서부터 아래로 순서대로 실행합니다.\n",
        "    \n",
        "    \n",
        "## 데이터 소개\n",
        "    - 이번 주제는 League of Legends Diamond Ranked Games (10 min) 데이터셋을 사용합니다.\n",
        "    \n",
        "    - 다음 1개의 csv 파일을 사용합니다.\n",
        "    high_diamond_ranked_10min.csv\n",
        "    \n",
        "    - 각 파일의 컬럼은 아래와 같습니다.\n",
        "    gameId: 게임 판의 고유 ID\n",
        "    blueWins: 블루팀의 승리 여부 (0: 패배, 1: 승리)\n",
        "    xxxWardsPlaced: xxx팀에서 설치한 와드의 수 \n",
        "    xxxWardsDestroyed: xxx팀에서 파괴한 와드의 수\n",
        "    xxxFirstBlood: xxx팀의 첫번째 킬 달성 여부\n",
        "    xxxKills: xxx팀의 킬 수\n",
        "    xxxDeaths: xxx팀의 죽음 수\n",
        "    xxxAssists: xxx팀의 어시스트 수\n",
        "    xxxEliteMonsters: xxx팀이 죽인 엘리트 몬스터 수\n",
        "    xxxDragons: xxx팀이 죽인 용의 수\n",
        "    xxxHeralds: xxx팀이 죽인 전령의 수\n",
        "    xxxTowersDestroyed: xxx팀이 파괴한 탑의 수\n",
        "    xxxTotalGold: xxx팀의 전체 획득 골드\n",
        "    xxxAvgLevel: xxx팀의 평균 레벨\n",
        "    xxxTotalExperience: xxx팀의 총 경험치 획득량\n",
        "    xxxTotalMinionsKilled: xxx팀의 총 미니언 킬 수\n",
        "    xxxTotalJungleMinionsKilled: xxx팀의 총 정글 미니언 킬 수\n",
        "    xxxGoldDiff: xxx팀과 다른 팀 간의 골드 획득량 차이\n",
        "    xxxExperienceDiff: xxx팀과 다른 팀과의 경험치 획득량 차이\n",
        "    xxxCSPerMin: xxx팀의 분당 CS 스코어\n",
        "    xxxGoldPerMin: xxx팀의 분당 골드 획득량\n",
        "      \n",
        "    \n",
        "    \n",
        "- 데이터 출처: https://www.kaggle.com/bobbyscience/league-of-legends-diamond-ranked-games-10-min\n",
        "\n",
        "## 최종 목표\n",
        "    - 일상에서 볼 수 있는 데이터의 활용\n",
        "    - 데이터 시각화를 통한 인사이트 습득 방법의 이해\n",
        "    - Scikit-learn 기반의 모델 학습 방법 습득\n",
        "    - 학습된 모델로부터 인사이트 습득 방법 이해\n"
      ]
    },
    {
      "cell_type": "markdown",
      "metadata": {
        "id": "ODJVmYvIP3x-"
      },
      "source": [
        "## Step 0. 리그 오브 레전드 데이터셋"
      ]
    },
    {
      "cell_type": "markdown",
      "metadata": {
        "id": "c0iKTnLNsraM"
      },
      "source": [
        "### E-스포츠와 리그 오브 레전드\n"
      ]
    },
    {
      "cell_type": "markdown",
      "metadata": {
        "id": "cxZwPnfms0-9"
      },
      "source": [
        "### 리그 오브 레전드 데이터셋에 관하여\n"
      ]
    },
    {
      "cell_type": "markdown",
      "metadata": {
        "id": "IRssoNrgP7So"
      },
      "source": [
        "## Step 1. 데이터셋 준비하기"
      ]
    },
    {
      "cell_type": "code",
      "metadata": {
        "id": "g49RuFGrBvt7"
      },
      "source": [
        "import pandas as pd\n",
        "import numpy as np\n",
        "import matplotlib.pyplot as plt\n",
        "import seaborn as sns"
      ],
      "execution_count": 1,
      "outputs": []
    },
    {
      "cell_type": "markdown",
      "metadata": {
        "id": "paInbv8Ys-Qy"
      },
      "source": [
        "### 문제 1. Colab Notebook에 Kaggle API 세팅하기\n"
      ]
    },
    {
      "cell_type": "code",
      "metadata": {
        "id": "RRXGYV60B7FX"
      },
      "source": [
        "import os"
      ],
      "execution_count": 2,
      "outputs": []
    },
    {
      "cell_type": "code",
      "metadata": {
        "id": "mMKFOC0OBtHO"
      },
      "source": [
        "# os.environ을 이용하여 Kaggle API Username, Key 세팅하기\n",
        "\n",
        "\n",
        "os.environ['KAGGLE_USERNAME']='jiinpp'\n",
        "os.environ['KAGGLE_KEY']='b06d525a9f66198051ccb648b091778a'\n",
        "\n"
      ],
      "execution_count": 3,
      "outputs": []
    },
    {
      "cell_type": "markdown",
      "metadata": {
        "id": "zvbeoB_WtBi-"
      },
      "source": [
        "### 문제 2. 데이터 다운로드 및 압축 해제하기\n"
      ]
    },
    {
      "cell_type": "code",
      "metadata": {
        "id": "JSblp2NsCGbh",
        "colab": {
          "base_uri": "https://localhost:8080/"
        },
        "outputId": "07a53340-0ceb-4931-a461-abfad22cd058"
      },
      "source": [
        "# Linux 명령어로 Kaggle API를 이용하여 데이터셋 다운로드하기 (!kaggle ~)\n",
        "# Linux 명령어로 압축 해제하기\n",
        "\n",
        "!kaggle datasets download -d bobbyscience/league-of-legends-diamond-ranked-games-10-min\n",
        "!unzip '*.zip'\n"
      ],
      "execution_count": 4,
      "outputs": [
        {
          "output_type": "stream",
          "name": "stdout",
          "text": [
            "Downloading league-of-legends-diamond-ranked-games-10-min.zip to /content\n",
            "\r  0% 0.00/539k [00:00<?, ?B/s]\n",
            "\r100% 539k/539k [00:00<00:00, 38.9MB/s]\n",
            "Archive:  league-of-legends-diamond-ranked-games-10-min.zip\n",
            "  inflating: high_diamond_ranked_10min.csv  \n"
          ]
        }
      ]
    },
    {
      "cell_type": "markdown",
      "metadata": {
        "id": "aJ34SovLtFI8"
      },
      "source": [
        "### 문제 3. Pandas 라이브러리로 csv파일 읽어들이기\n"
      ]
    },
    {
      "cell_type": "code",
      "metadata": {
        "id": "RnJv-4YwCMSx"
      },
      "source": [
        "# pd.read_csv()로 csv파일 읽어들이기\n",
        "df = pd.read_csv(\"high_diamond_ranked_10min.csv\")\n"
      ],
      "execution_count": 5,
      "outputs": []
    },
    {
      "cell_type": "markdown",
      "metadata": {
        "id": "9L3BNVM7tHN5"
      },
      "source": [
        "## Step 2. EDA 및 데이터 기초 통계 분석\n"
      ]
    },
    {
      "cell_type": "markdown",
      "metadata": {
        "id": "HyFm33tNtVn7"
      },
      "source": [
        "### 문제 4. 데이터프레임의 각 컬럼 분석하기\n"
      ]
    },
    {
      "cell_type": "code",
      "metadata": {
        "id": "YcR9BX23DIFW",
        "colab": {
          "base_uri": "https://localhost:8080/",
          "height": 226
        },
        "outputId": "b125c678-7543-4d72-cb74-34af608328c0"
      },
      "source": [
        "# DataFrame에서 제공하는 메소드를 이용하여 컬럼 분석하기 (head(), info(), describe())\n",
        "df.head()"
      ],
      "execution_count": 6,
      "outputs": [
        {
          "output_type": "execute_result",
          "data": {
            "text/html": [
              "<div>\n",
              "<style scoped>\n",
              "    .dataframe tbody tr th:only-of-type {\n",
              "        vertical-align: middle;\n",
              "    }\n",
              "\n",
              "    .dataframe tbody tr th {\n",
              "        vertical-align: top;\n",
              "    }\n",
              "\n",
              "    .dataframe thead th {\n",
              "        text-align: right;\n",
              "    }\n",
              "</style>\n",
              "<table border=\"1\" class=\"dataframe\">\n",
              "  <thead>\n",
              "    <tr style=\"text-align: right;\">\n",
              "      <th></th>\n",
              "      <th>gameId</th>\n",
              "      <th>blueWins</th>\n",
              "      <th>blueWardsPlaced</th>\n",
              "      <th>blueWardsDestroyed</th>\n",
              "      <th>blueFirstBlood</th>\n",
              "      <th>blueKills</th>\n",
              "      <th>blueDeaths</th>\n",
              "      <th>blueAssists</th>\n",
              "      <th>blueEliteMonsters</th>\n",
              "      <th>blueDragons</th>\n",
              "      <th>blueHeralds</th>\n",
              "      <th>blueTowersDestroyed</th>\n",
              "      <th>blueTotalGold</th>\n",
              "      <th>blueAvgLevel</th>\n",
              "      <th>blueTotalExperience</th>\n",
              "      <th>blueTotalMinionsKilled</th>\n",
              "      <th>blueTotalJungleMinionsKilled</th>\n",
              "      <th>blueGoldDiff</th>\n",
              "      <th>blueExperienceDiff</th>\n",
              "      <th>blueCSPerMin</th>\n",
              "      <th>blueGoldPerMin</th>\n",
              "      <th>redWardsPlaced</th>\n",
              "      <th>redWardsDestroyed</th>\n",
              "      <th>redFirstBlood</th>\n",
              "      <th>redKills</th>\n",
              "      <th>redDeaths</th>\n",
              "      <th>redAssists</th>\n",
              "      <th>redEliteMonsters</th>\n",
              "      <th>redDragons</th>\n",
              "      <th>redHeralds</th>\n",
              "      <th>redTowersDestroyed</th>\n",
              "      <th>redTotalGold</th>\n",
              "      <th>redAvgLevel</th>\n",
              "      <th>redTotalExperience</th>\n",
              "      <th>redTotalMinionsKilled</th>\n",
              "      <th>redTotalJungleMinionsKilled</th>\n",
              "      <th>redGoldDiff</th>\n",
              "      <th>redExperienceDiff</th>\n",
              "      <th>redCSPerMin</th>\n",
              "      <th>redGoldPerMin</th>\n",
              "    </tr>\n",
              "  </thead>\n",
              "  <tbody>\n",
              "    <tr>\n",
              "      <th>0</th>\n",
              "      <td>4519157822</td>\n",
              "      <td>0</td>\n",
              "      <td>28</td>\n",
              "      <td>2</td>\n",
              "      <td>1</td>\n",
              "      <td>9</td>\n",
              "      <td>6</td>\n",
              "      <td>11</td>\n",
              "      <td>0</td>\n",
              "      <td>0</td>\n",
              "      <td>0</td>\n",
              "      <td>0</td>\n",
              "      <td>17210</td>\n",
              "      <td>6.6</td>\n",
              "      <td>17039</td>\n",
              "      <td>195</td>\n",
              "      <td>36</td>\n",
              "      <td>643</td>\n",
              "      <td>-8</td>\n",
              "      <td>19.5</td>\n",
              "      <td>1721.0</td>\n",
              "      <td>15</td>\n",
              "      <td>6</td>\n",
              "      <td>0</td>\n",
              "      <td>6</td>\n",
              "      <td>9</td>\n",
              "      <td>8</td>\n",
              "      <td>0</td>\n",
              "      <td>0</td>\n",
              "      <td>0</td>\n",
              "      <td>0</td>\n",
              "      <td>16567</td>\n",
              "      <td>6.8</td>\n",
              "      <td>17047</td>\n",
              "      <td>197</td>\n",
              "      <td>55</td>\n",
              "      <td>-643</td>\n",
              "      <td>8</td>\n",
              "      <td>19.7</td>\n",
              "      <td>1656.7</td>\n",
              "    </tr>\n",
              "    <tr>\n",
              "      <th>1</th>\n",
              "      <td>4523371949</td>\n",
              "      <td>0</td>\n",
              "      <td>12</td>\n",
              "      <td>1</td>\n",
              "      <td>0</td>\n",
              "      <td>5</td>\n",
              "      <td>5</td>\n",
              "      <td>5</td>\n",
              "      <td>0</td>\n",
              "      <td>0</td>\n",
              "      <td>0</td>\n",
              "      <td>0</td>\n",
              "      <td>14712</td>\n",
              "      <td>6.6</td>\n",
              "      <td>16265</td>\n",
              "      <td>174</td>\n",
              "      <td>43</td>\n",
              "      <td>-2908</td>\n",
              "      <td>-1173</td>\n",
              "      <td>17.4</td>\n",
              "      <td>1471.2</td>\n",
              "      <td>12</td>\n",
              "      <td>1</td>\n",
              "      <td>1</td>\n",
              "      <td>5</td>\n",
              "      <td>5</td>\n",
              "      <td>2</td>\n",
              "      <td>2</td>\n",
              "      <td>1</td>\n",
              "      <td>1</td>\n",
              "      <td>1</td>\n",
              "      <td>17620</td>\n",
              "      <td>6.8</td>\n",
              "      <td>17438</td>\n",
              "      <td>240</td>\n",
              "      <td>52</td>\n",
              "      <td>2908</td>\n",
              "      <td>1173</td>\n",
              "      <td>24.0</td>\n",
              "      <td>1762.0</td>\n",
              "    </tr>\n",
              "    <tr>\n",
              "      <th>2</th>\n",
              "      <td>4521474530</td>\n",
              "      <td>0</td>\n",
              "      <td>15</td>\n",
              "      <td>0</td>\n",
              "      <td>0</td>\n",
              "      <td>7</td>\n",
              "      <td>11</td>\n",
              "      <td>4</td>\n",
              "      <td>1</td>\n",
              "      <td>1</td>\n",
              "      <td>0</td>\n",
              "      <td>0</td>\n",
              "      <td>16113</td>\n",
              "      <td>6.4</td>\n",
              "      <td>16221</td>\n",
              "      <td>186</td>\n",
              "      <td>46</td>\n",
              "      <td>-1172</td>\n",
              "      <td>-1033</td>\n",
              "      <td>18.6</td>\n",
              "      <td>1611.3</td>\n",
              "      <td>15</td>\n",
              "      <td>3</td>\n",
              "      <td>1</td>\n",
              "      <td>11</td>\n",
              "      <td>7</td>\n",
              "      <td>14</td>\n",
              "      <td>0</td>\n",
              "      <td>0</td>\n",
              "      <td>0</td>\n",
              "      <td>0</td>\n",
              "      <td>17285</td>\n",
              "      <td>6.8</td>\n",
              "      <td>17254</td>\n",
              "      <td>203</td>\n",
              "      <td>28</td>\n",
              "      <td>1172</td>\n",
              "      <td>1033</td>\n",
              "      <td>20.3</td>\n",
              "      <td>1728.5</td>\n",
              "    </tr>\n",
              "    <tr>\n",
              "      <th>3</th>\n",
              "      <td>4524384067</td>\n",
              "      <td>0</td>\n",
              "      <td>43</td>\n",
              "      <td>1</td>\n",
              "      <td>0</td>\n",
              "      <td>4</td>\n",
              "      <td>5</td>\n",
              "      <td>5</td>\n",
              "      <td>1</td>\n",
              "      <td>0</td>\n",
              "      <td>1</td>\n",
              "      <td>0</td>\n",
              "      <td>15157</td>\n",
              "      <td>7.0</td>\n",
              "      <td>17954</td>\n",
              "      <td>201</td>\n",
              "      <td>55</td>\n",
              "      <td>-1321</td>\n",
              "      <td>-7</td>\n",
              "      <td>20.1</td>\n",
              "      <td>1515.7</td>\n",
              "      <td>15</td>\n",
              "      <td>2</td>\n",
              "      <td>1</td>\n",
              "      <td>5</td>\n",
              "      <td>4</td>\n",
              "      <td>10</td>\n",
              "      <td>0</td>\n",
              "      <td>0</td>\n",
              "      <td>0</td>\n",
              "      <td>0</td>\n",
              "      <td>16478</td>\n",
              "      <td>7.0</td>\n",
              "      <td>17961</td>\n",
              "      <td>235</td>\n",
              "      <td>47</td>\n",
              "      <td>1321</td>\n",
              "      <td>7</td>\n",
              "      <td>23.5</td>\n",
              "      <td>1647.8</td>\n",
              "    </tr>\n",
              "    <tr>\n",
              "      <th>4</th>\n",
              "      <td>4436033771</td>\n",
              "      <td>0</td>\n",
              "      <td>75</td>\n",
              "      <td>4</td>\n",
              "      <td>0</td>\n",
              "      <td>6</td>\n",
              "      <td>6</td>\n",
              "      <td>6</td>\n",
              "      <td>0</td>\n",
              "      <td>0</td>\n",
              "      <td>0</td>\n",
              "      <td>0</td>\n",
              "      <td>16400</td>\n",
              "      <td>7.0</td>\n",
              "      <td>18543</td>\n",
              "      <td>210</td>\n",
              "      <td>57</td>\n",
              "      <td>-1004</td>\n",
              "      <td>230</td>\n",
              "      <td>21.0</td>\n",
              "      <td>1640.0</td>\n",
              "      <td>17</td>\n",
              "      <td>2</td>\n",
              "      <td>1</td>\n",
              "      <td>6</td>\n",
              "      <td>6</td>\n",
              "      <td>7</td>\n",
              "      <td>1</td>\n",
              "      <td>1</td>\n",
              "      <td>0</td>\n",
              "      <td>0</td>\n",
              "      <td>17404</td>\n",
              "      <td>7.0</td>\n",
              "      <td>18313</td>\n",
              "      <td>225</td>\n",
              "      <td>67</td>\n",
              "      <td>1004</td>\n",
              "      <td>-230</td>\n",
              "      <td>22.5</td>\n",
              "      <td>1740.4</td>\n",
              "    </tr>\n",
              "  </tbody>\n",
              "</table>\n",
              "</div>"
            ],
            "text/plain": [
              "       gameId  blueWins  ...  redCSPerMin  redGoldPerMin\n",
              "0  4519157822         0  ...         19.7         1656.7\n",
              "1  4523371949         0  ...         24.0         1762.0\n",
              "2  4521474530         0  ...         20.3         1728.5\n",
              "3  4524384067         0  ...         23.5         1647.8\n",
              "4  4436033771         0  ...         22.5         1740.4\n",
              "\n",
              "[5 rows x 40 columns]"
            ]
          },
          "metadata": {},
          "execution_count": 6
        }
      ]
    },
    {
      "cell_type": "code",
      "metadata": {
        "colab": {
          "base_uri": "https://localhost:8080/"
        },
        "id": "4uhUZvHjCIgV",
        "outputId": "fc706863-14db-4806-e928-75a82216d78c"
      },
      "source": [
        "df.info()"
      ],
      "execution_count": 7,
      "outputs": [
        {
          "output_type": "stream",
          "name": "stdout",
          "text": [
            "<class 'pandas.core.frame.DataFrame'>\n",
            "RangeIndex: 9879 entries, 0 to 9878\n",
            "Data columns (total 40 columns):\n",
            " #   Column                        Non-Null Count  Dtype  \n",
            "---  ------                        --------------  -----  \n",
            " 0   gameId                        9879 non-null   int64  \n",
            " 1   blueWins                      9879 non-null   int64  \n",
            " 2   blueWardsPlaced               9879 non-null   int64  \n",
            " 3   blueWardsDestroyed            9879 non-null   int64  \n",
            " 4   blueFirstBlood                9879 non-null   int64  \n",
            " 5   blueKills                     9879 non-null   int64  \n",
            " 6   blueDeaths                    9879 non-null   int64  \n",
            " 7   blueAssists                   9879 non-null   int64  \n",
            " 8   blueEliteMonsters             9879 non-null   int64  \n",
            " 9   blueDragons                   9879 non-null   int64  \n",
            " 10  blueHeralds                   9879 non-null   int64  \n",
            " 11  blueTowersDestroyed           9879 non-null   int64  \n",
            " 12  blueTotalGold                 9879 non-null   int64  \n",
            " 13  blueAvgLevel                  9879 non-null   float64\n",
            " 14  blueTotalExperience           9879 non-null   int64  \n",
            " 15  blueTotalMinionsKilled        9879 non-null   int64  \n",
            " 16  blueTotalJungleMinionsKilled  9879 non-null   int64  \n",
            " 17  blueGoldDiff                  9879 non-null   int64  \n",
            " 18  blueExperienceDiff            9879 non-null   int64  \n",
            " 19  blueCSPerMin                  9879 non-null   float64\n",
            " 20  blueGoldPerMin                9879 non-null   float64\n",
            " 21  redWardsPlaced                9879 non-null   int64  \n",
            " 22  redWardsDestroyed             9879 non-null   int64  \n",
            " 23  redFirstBlood                 9879 non-null   int64  \n",
            " 24  redKills                      9879 non-null   int64  \n",
            " 25  redDeaths                     9879 non-null   int64  \n",
            " 26  redAssists                    9879 non-null   int64  \n",
            " 27  redEliteMonsters              9879 non-null   int64  \n",
            " 28  redDragons                    9879 non-null   int64  \n",
            " 29  redHeralds                    9879 non-null   int64  \n",
            " 30  redTowersDestroyed            9879 non-null   int64  \n",
            " 31  redTotalGold                  9879 non-null   int64  \n",
            " 32  redAvgLevel                   9879 non-null   float64\n",
            " 33  redTotalExperience            9879 non-null   int64  \n",
            " 34  redTotalMinionsKilled         9879 non-null   int64  \n",
            " 35  redTotalJungleMinionsKilled   9879 non-null   int64  \n",
            " 36  redGoldDiff                   9879 non-null   int64  \n",
            " 37  redExperienceDiff             9879 non-null   int64  \n",
            " 38  redCSPerMin                   9879 non-null   float64\n",
            " 39  redGoldPerMin                 9879 non-null   float64\n",
            "dtypes: float64(6), int64(34)\n",
            "memory usage: 3.0 MB\n"
          ]
        }
      ]
    },
    {
      "cell_type": "code",
      "metadata": {
        "colab": {
          "base_uri": "https://localhost:8080/",
          "height": 320
        },
        "id": "hT2tOS4RCIjD",
        "outputId": "7295b5c0-a839-4ae3-fd4a-08a4bc4e9d58"
      },
      "source": [
        "df.describe()"
      ],
      "execution_count": 8,
      "outputs": [
        {
          "output_type": "execute_result",
          "data": {
            "text/html": [
              "<div>\n",
              "<style scoped>\n",
              "    .dataframe tbody tr th:only-of-type {\n",
              "        vertical-align: middle;\n",
              "    }\n",
              "\n",
              "    .dataframe tbody tr th {\n",
              "        vertical-align: top;\n",
              "    }\n",
              "\n",
              "    .dataframe thead th {\n",
              "        text-align: right;\n",
              "    }\n",
              "</style>\n",
              "<table border=\"1\" class=\"dataframe\">\n",
              "  <thead>\n",
              "    <tr style=\"text-align: right;\">\n",
              "      <th></th>\n",
              "      <th>gameId</th>\n",
              "      <th>blueWins</th>\n",
              "      <th>blueWardsPlaced</th>\n",
              "      <th>blueWardsDestroyed</th>\n",
              "      <th>blueFirstBlood</th>\n",
              "      <th>blueKills</th>\n",
              "      <th>blueDeaths</th>\n",
              "      <th>blueAssists</th>\n",
              "      <th>blueEliteMonsters</th>\n",
              "      <th>blueDragons</th>\n",
              "      <th>blueHeralds</th>\n",
              "      <th>blueTowersDestroyed</th>\n",
              "      <th>blueTotalGold</th>\n",
              "      <th>blueAvgLevel</th>\n",
              "      <th>blueTotalExperience</th>\n",
              "      <th>blueTotalMinionsKilled</th>\n",
              "      <th>blueTotalJungleMinionsKilled</th>\n",
              "      <th>blueGoldDiff</th>\n",
              "      <th>blueExperienceDiff</th>\n",
              "      <th>blueCSPerMin</th>\n",
              "      <th>blueGoldPerMin</th>\n",
              "      <th>redWardsPlaced</th>\n",
              "      <th>redWardsDestroyed</th>\n",
              "      <th>redFirstBlood</th>\n",
              "      <th>redKills</th>\n",
              "      <th>redDeaths</th>\n",
              "      <th>redAssists</th>\n",
              "      <th>redEliteMonsters</th>\n",
              "      <th>redDragons</th>\n",
              "      <th>redHeralds</th>\n",
              "      <th>redTowersDestroyed</th>\n",
              "      <th>redTotalGold</th>\n",
              "      <th>redAvgLevel</th>\n",
              "      <th>redTotalExperience</th>\n",
              "      <th>redTotalMinionsKilled</th>\n",
              "      <th>redTotalJungleMinionsKilled</th>\n",
              "      <th>redGoldDiff</th>\n",
              "      <th>redExperienceDiff</th>\n",
              "      <th>redCSPerMin</th>\n",
              "      <th>redGoldPerMin</th>\n",
              "    </tr>\n",
              "  </thead>\n",
              "  <tbody>\n",
              "    <tr>\n",
              "      <th>count</th>\n",
              "      <td>9.879000e+03</td>\n",
              "      <td>9879.000000</td>\n",
              "      <td>9879.000000</td>\n",
              "      <td>9879.000000</td>\n",
              "      <td>9879.000000</td>\n",
              "      <td>9879.000000</td>\n",
              "      <td>9879.000000</td>\n",
              "      <td>9879.000000</td>\n",
              "      <td>9879.000000</td>\n",
              "      <td>9879.000000</td>\n",
              "      <td>9879.000000</td>\n",
              "      <td>9879.000000</td>\n",
              "      <td>9879.000000</td>\n",
              "      <td>9879.000000</td>\n",
              "      <td>9879.000000</td>\n",
              "      <td>9879.000000</td>\n",
              "      <td>9879.000000</td>\n",
              "      <td>9879.000000</td>\n",
              "      <td>9879.000000</td>\n",
              "      <td>9879.000000</td>\n",
              "      <td>9879.000000</td>\n",
              "      <td>9879.000000</td>\n",
              "      <td>9879.000000</td>\n",
              "      <td>9879.000000</td>\n",
              "      <td>9879.000000</td>\n",
              "      <td>9879.000000</td>\n",
              "      <td>9879.000000</td>\n",
              "      <td>9879.000000</td>\n",
              "      <td>9879.000000</td>\n",
              "      <td>9879.000000</td>\n",
              "      <td>9879.000000</td>\n",
              "      <td>9879.000000</td>\n",
              "      <td>9879.000000</td>\n",
              "      <td>9879.000000</td>\n",
              "      <td>9879.000000</td>\n",
              "      <td>9879.000000</td>\n",
              "      <td>9879.000000</td>\n",
              "      <td>9879.000000</td>\n",
              "      <td>9879.000000</td>\n",
              "      <td>9879.000000</td>\n",
              "    </tr>\n",
              "    <tr>\n",
              "      <th>mean</th>\n",
              "      <td>4.500084e+09</td>\n",
              "      <td>0.499038</td>\n",
              "      <td>22.288288</td>\n",
              "      <td>2.824881</td>\n",
              "      <td>0.504808</td>\n",
              "      <td>6.183925</td>\n",
              "      <td>6.137666</td>\n",
              "      <td>6.645106</td>\n",
              "      <td>0.549954</td>\n",
              "      <td>0.361980</td>\n",
              "      <td>0.187974</td>\n",
              "      <td>0.051422</td>\n",
              "      <td>16503.455512</td>\n",
              "      <td>6.916004</td>\n",
              "      <td>17928.110133</td>\n",
              "      <td>216.699565</td>\n",
              "      <td>50.509667</td>\n",
              "      <td>14.414111</td>\n",
              "      <td>-33.620306</td>\n",
              "      <td>21.669956</td>\n",
              "      <td>1650.345551</td>\n",
              "      <td>22.367952</td>\n",
              "      <td>2.723150</td>\n",
              "      <td>0.495192</td>\n",
              "      <td>6.137666</td>\n",
              "      <td>6.183925</td>\n",
              "      <td>6.662112</td>\n",
              "      <td>0.573135</td>\n",
              "      <td>0.413098</td>\n",
              "      <td>0.160036</td>\n",
              "      <td>0.043021</td>\n",
              "      <td>16489.041401</td>\n",
              "      <td>6.925316</td>\n",
              "      <td>17961.730438</td>\n",
              "      <td>217.349226</td>\n",
              "      <td>51.313088</td>\n",
              "      <td>-14.414111</td>\n",
              "      <td>33.620306</td>\n",
              "      <td>21.734923</td>\n",
              "      <td>1648.904140</td>\n",
              "    </tr>\n",
              "    <tr>\n",
              "      <th>std</th>\n",
              "      <td>2.757328e+07</td>\n",
              "      <td>0.500024</td>\n",
              "      <td>18.019177</td>\n",
              "      <td>2.174998</td>\n",
              "      <td>0.500002</td>\n",
              "      <td>3.011028</td>\n",
              "      <td>2.933818</td>\n",
              "      <td>4.064520</td>\n",
              "      <td>0.625527</td>\n",
              "      <td>0.480597</td>\n",
              "      <td>0.390712</td>\n",
              "      <td>0.244369</td>\n",
              "      <td>1535.446636</td>\n",
              "      <td>0.305146</td>\n",
              "      <td>1200.523764</td>\n",
              "      <td>21.858437</td>\n",
              "      <td>9.898282</td>\n",
              "      <td>2453.349179</td>\n",
              "      <td>1920.370438</td>\n",
              "      <td>2.185844</td>\n",
              "      <td>153.544664</td>\n",
              "      <td>18.457427</td>\n",
              "      <td>2.138356</td>\n",
              "      <td>0.500002</td>\n",
              "      <td>2.933818</td>\n",
              "      <td>3.011028</td>\n",
              "      <td>4.060612</td>\n",
              "      <td>0.626482</td>\n",
              "      <td>0.492415</td>\n",
              "      <td>0.366658</td>\n",
              "      <td>0.216900</td>\n",
              "      <td>1490.888406</td>\n",
              "      <td>0.305311</td>\n",
              "      <td>1198.583912</td>\n",
              "      <td>21.911668</td>\n",
              "      <td>10.027885</td>\n",
              "      <td>2453.349179</td>\n",
              "      <td>1920.370438</td>\n",
              "      <td>2.191167</td>\n",
              "      <td>149.088841</td>\n",
              "    </tr>\n",
              "    <tr>\n",
              "      <th>min</th>\n",
              "      <td>4.295358e+09</td>\n",
              "      <td>0.000000</td>\n",
              "      <td>5.000000</td>\n",
              "      <td>0.000000</td>\n",
              "      <td>0.000000</td>\n",
              "      <td>0.000000</td>\n",
              "      <td>0.000000</td>\n",
              "      <td>0.000000</td>\n",
              "      <td>0.000000</td>\n",
              "      <td>0.000000</td>\n",
              "      <td>0.000000</td>\n",
              "      <td>0.000000</td>\n",
              "      <td>10730.000000</td>\n",
              "      <td>4.600000</td>\n",
              "      <td>10098.000000</td>\n",
              "      <td>90.000000</td>\n",
              "      <td>0.000000</td>\n",
              "      <td>-10830.000000</td>\n",
              "      <td>-9333.000000</td>\n",
              "      <td>9.000000</td>\n",
              "      <td>1073.000000</td>\n",
              "      <td>6.000000</td>\n",
              "      <td>0.000000</td>\n",
              "      <td>0.000000</td>\n",
              "      <td>0.000000</td>\n",
              "      <td>0.000000</td>\n",
              "      <td>0.000000</td>\n",
              "      <td>0.000000</td>\n",
              "      <td>0.000000</td>\n",
              "      <td>0.000000</td>\n",
              "      <td>0.000000</td>\n",
              "      <td>11212.000000</td>\n",
              "      <td>4.800000</td>\n",
              "      <td>10465.000000</td>\n",
              "      <td>107.000000</td>\n",
              "      <td>4.000000</td>\n",
              "      <td>-11467.000000</td>\n",
              "      <td>-8348.000000</td>\n",
              "      <td>10.700000</td>\n",
              "      <td>1121.200000</td>\n",
              "    </tr>\n",
              "    <tr>\n",
              "      <th>25%</th>\n",
              "      <td>4.483301e+09</td>\n",
              "      <td>0.000000</td>\n",
              "      <td>14.000000</td>\n",
              "      <td>1.000000</td>\n",
              "      <td>0.000000</td>\n",
              "      <td>4.000000</td>\n",
              "      <td>4.000000</td>\n",
              "      <td>4.000000</td>\n",
              "      <td>0.000000</td>\n",
              "      <td>0.000000</td>\n",
              "      <td>0.000000</td>\n",
              "      <td>0.000000</td>\n",
              "      <td>15415.500000</td>\n",
              "      <td>6.800000</td>\n",
              "      <td>17168.000000</td>\n",
              "      <td>202.000000</td>\n",
              "      <td>44.000000</td>\n",
              "      <td>-1585.500000</td>\n",
              "      <td>-1290.500000</td>\n",
              "      <td>20.200000</td>\n",
              "      <td>1541.550000</td>\n",
              "      <td>14.000000</td>\n",
              "      <td>1.000000</td>\n",
              "      <td>0.000000</td>\n",
              "      <td>4.000000</td>\n",
              "      <td>4.000000</td>\n",
              "      <td>4.000000</td>\n",
              "      <td>0.000000</td>\n",
              "      <td>0.000000</td>\n",
              "      <td>0.000000</td>\n",
              "      <td>0.000000</td>\n",
              "      <td>15427.500000</td>\n",
              "      <td>6.800000</td>\n",
              "      <td>17209.500000</td>\n",
              "      <td>203.000000</td>\n",
              "      <td>44.000000</td>\n",
              "      <td>-1596.000000</td>\n",
              "      <td>-1212.000000</td>\n",
              "      <td>20.300000</td>\n",
              "      <td>1542.750000</td>\n",
              "    </tr>\n",
              "    <tr>\n",
              "      <th>50%</th>\n",
              "      <td>4.510920e+09</td>\n",
              "      <td>0.000000</td>\n",
              "      <td>16.000000</td>\n",
              "      <td>3.000000</td>\n",
              "      <td>1.000000</td>\n",
              "      <td>6.000000</td>\n",
              "      <td>6.000000</td>\n",
              "      <td>6.000000</td>\n",
              "      <td>0.000000</td>\n",
              "      <td>0.000000</td>\n",
              "      <td>0.000000</td>\n",
              "      <td>0.000000</td>\n",
              "      <td>16398.000000</td>\n",
              "      <td>7.000000</td>\n",
              "      <td>17951.000000</td>\n",
              "      <td>218.000000</td>\n",
              "      <td>50.000000</td>\n",
              "      <td>14.000000</td>\n",
              "      <td>-28.000000</td>\n",
              "      <td>21.800000</td>\n",
              "      <td>1639.800000</td>\n",
              "      <td>16.000000</td>\n",
              "      <td>2.000000</td>\n",
              "      <td>0.000000</td>\n",
              "      <td>6.000000</td>\n",
              "      <td>6.000000</td>\n",
              "      <td>6.000000</td>\n",
              "      <td>0.000000</td>\n",
              "      <td>0.000000</td>\n",
              "      <td>0.000000</td>\n",
              "      <td>0.000000</td>\n",
              "      <td>16378.000000</td>\n",
              "      <td>7.000000</td>\n",
              "      <td>17974.000000</td>\n",
              "      <td>218.000000</td>\n",
              "      <td>51.000000</td>\n",
              "      <td>-14.000000</td>\n",
              "      <td>28.000000</td>\n",
              "      <td>21.800000</td>\n",
              "      <td>1637.800000</td>\n",
              "    </tr>\n",
              "    <tr>\n",
              "      <th>75%</th>\n",
              "      <td>4.521733e+09</td>\n",
              "      <td>1.000000</td>\n",
              "      <td>20.000000</td>\n",
              "      <td>4.000000</td>\n",
              "      <td>1.000000</td>\n",
              "      <td>8.000000</td>\n",
              "      <td>8.000000</td>\n",
              "      <td>9.000000</td>\n",
              "      <td>1.000000</td>\n",
              "      <td>1.000000</td>\n",
              "      <td>0.000000</td>\n",
              "      <td>0.000000</td>\n",
              "      <td>17459.000000</td>\n",
              "      <td>7.200000</td>\n",
              "      <td>18724.000000</td>\n",
              "      <td>232.000000</td>\n",
              "      <td>56.000000</td>\n",
              "      <td>1596.000000</td>\n",
              "      <td>1212.000000</td>\n",
              "      <td>23.200000</td>\n",
              "      <td>1745.900000</td>\n",
              "      <td>20.000000</td>\n",
              "      <td>4.000000</td>\n",
              "      <td>1.000000</td>\n",
              "      <td>8.000000</td>\n",
              "      <td>8.000000</td>\n",
              "      <td>9.000000</td>\n",
              "      <td>1.000000</td>\n",
              "      <td>1.000000</td>\n",
              "      <td>0.000000</td>\n",
              "      <td>0.000000</td>\n",
              "      <td>17418.500000</td>\n",
              "      <td>7.200000</td>\n",
              "      <td>18764.500000</td>\n",
              "      <td>233.000000</td>\n",
              "      <td>57.000000</td>\n",
              "      <td>1585.500000</td>\n",
              "      <td>1290.500000</td>\n",
              "      <td>23.300000</td>\n",
              "      <td>1741.850000</td>\n",
              "    </tr>\n",
              "    <tr>\n",
              "      <th>max</th>\n",
              "      <td>4.527991e+09</td>\n",
              "      <td>1.000000</td>\n",
              "      <td>250.000000</td>\n",
              "      <td>27.000000</td>\n",
              "      <td>1.000000</td>\n",
              "      <td>22.000000</td>\n",
              "      <td>22.000000</td>\n",
              "      <td>29.000000</td>\n",
              "      <td>2.000000</td>\n",
              "      <td>1.000000</td>\n",
              "      <td>1.000000</td>\n",
              "      <td>4.000000</td>\n",
              "      <td>23701.000000</td>\n",
              "      <td>8.000000</td>\n",
              "      <td>22224.000000</td>\n",
              "      <td>283.000000</td>\n",
              "      <td>92.000000</td>\n",
              "      <td>11467.000000</td>\n",
              "      <td>8348.000000</td>\n",
              "      <td>28.300000</td>\n",
              "      <td>2370.100000</td>\n",
              "      <td>276.000000</td>\n",
              "      <td>24.000000</td>\n",
              "      <td>1.000000</td>\n",
              "      <td>22.000000</td>\n",
              "      <td>22.000000</td>\n",
              "      <td>28.000000</td>\n",
              "      <td>2.000000</td>\n",
              "      <td>1.000000</td>\n",
              "      <td>1.000000</td>\n",
              "      <td>2.000000</td>\n",
              "      <td>22732.000000</td>\n",
              "      <td>8.200000</td>\n",
              "      <td>22269.000000</td>\n",
              "      <td>289.000000</td>\n",
              "      <td>92.000000</td>\n",
              "      <td>10830.000000</td>\n",
              "      <td>9333.000000</td>\n",
              "      <td>28.900000</td>\n",
              "      <td>2273.200000</td>\n",
              "    </tr>\n",
              "  </tbody>\n",
              "</table>\n",
              "</div>"
            ],
            "text/plain": [
              "             gameId     blueWins  ...  redCSPerMin  redGoldPerMin\n",
              "count  9.879000e+03  9879.000000  ...  9879.000000    9879.000000\n",
              "mean   4.500084e+09     0.499038  ...    21.734923    1648.904140\n",
              "std    2.757328e+07     0.500024  ...     2.191167     149.088841\n",
              "min    4.295358e+09     0.000000  ...    10.700000    1121.200000\n",
              "25%    4.483301e+09     0.000000  ...    20.300000    1542.750000\n",
              "50%    4.510920e+09     0.000000  ...    21.800000    1637.800000\n",
              "75%    4.521733e+09     1.000000  ...    23.300000    1741.850000\n",
              "max    4.527991e+09     1.000000  ...    28.900000    2273.200000\n",
              "\n",
              "[8 rows x 40 columns]"
            ]
          },
          "metadata": {},
          "execution_count": 8
        }
      ]
    },
    {
      "cell_type": "code",
      "metadata": {
        "colab": {
          "base_uri": "https://localhost:8080/"
        },
        "id": "xMpJv4rmnKYR",
        "outputId": "6d667892-9b0e-4dd0-ff24-4eacb4fecbad"
      },
      "source": [
        "df.isna().sum()"
      ],
      "execution_count": 9,
      "outputs": [
        {
          "output_type": "execute_result",
          "data": {
            "text/plain": [
              "gameId                          0\n",
              "blueWins                        0\n",
              "blueWardsPlaced                 0\n",
              "blueWardsDestroyed              0\n",
              "blueFirstBlood                  0\n",
              "blueKills                       0\n",
              "blueDeaths                      0\n",
              "blueAssists                     0\n",
              "blueEliteMonsters               0\n",
              "blueDragons                     0\n",
              "blueHeralds                     0\n",
              "blueTowersDestroyed             0\n",
              "blueTotalGold                   0\n",
              "blueAvgLevel                    0\n",
              "blueTotalExperience             0\n",
              "blueTotalMinionsKilled          0\n",
              "blueTotalJungleMinionsKilled    0\n",
              "blueGoldDiff                    0\n",
              "blueExperienceDiff              0\n",
              "blueCSPerMin                    0\n",
              "blueGoldPerMin                  0\n",
              "redWardsPlaced                  0\n",
              "redWardsDestroyed               0\n",
              "redFirstBlood                   0\n",
              "redKills                        0\n",
              "redDeaths                       0\n",
              "redAssists                      0\n",
              "redEliteMonsters                0\n",
              "redDragons                      0\n",
              "redHeralds                      0\n",
              "redTowersDestroyed              0\n",
              "redTotalGold                    0\n",
              "redAvgLevel                     0\n",
              "redTotalExperience              0\n",
              "redTotalMinionsKilled           0\n",
              "redTotalJungleMinionsKilled     0\n",
              "redGoldDiff                     0\n",
              "redExperienceDiff               0\n",
              "redCSPerMin                     0\n",
              "redGoldPerMin                   0\n",
              "dtype: int64"
            ]
          },
          "metadata": {},
          "execution_count": 9
        }
      ]
    },
    {
      "cell_type": "markdown",
      "metadata": {
        "id": "HGHvPwkNtXgj"
      },
      "source": [
        "### 문제 5. 각 컬럼의 Correlation 히트맵으로 시각화하기\n"
      ]
    },
    {
      "cell_type": "code",
      "metadata": {
        "id": "GZXSBFPyDh6R",
        "colab": {
          "base_uri": "https://localhost:8080/",
          "height": 613
        },
        "outputId": "799e23a7-1027-4e01-b6d9-d240b09e2f3a"
      },
      "source": [
        "# DataFrame의 corr() 메소드와 Seaborn의 heatmap() 메소드를 이용하여 Pearson's correlation 시각화하기\n",
        "\n",
        "fig=plt.figure(figsize=(5,10))\n",
        "sns.heatmap(df.corr()[['blueWins']],annot=True)\n"
      ],
      "execution_count": 10,
      "outputs": [
        {
          "output_type": "execute_result",
          "data": {
            "text/plain": [
              "<matplotlib.axes._subplots.AxesSubplot at 0x7f76db1a1850>"
            ]
          },
          "metadata": {},
          "execution_count": 10
        },
        {
          "output_type": "display_data",
          "data": {
            "image/png": "[encoded data removed]",
            "text/plain": [
              "<Figure size 360x720 with 2 Axes>"
            ]
          },
          "metadata": {
            "needs_background": "light"
          }
        }
      ]
    },
    {
      "cell_type": "markdown",
      "metadata": {
        "id": "MzCR9Cv3pXSP"
      },
      "source": [
        "bluekills,bluetotalgold,blueavglevel,blueavglevel,bluegolddiff,blueExperiencediff,blueexperiencediff,bluegoldpermin,reddeaths가 상관관계가 좀 있어보임"
      ]
    },
    {
      "cell_type": "markdown",
      "metadata": {
        "id": "KywGh9sjtYl9"
      },
      "source": [
        "### 문제 6. 각 컬럼과 승리 여부의 관계 시각화하기\n"
      ]
    },
    {
      "cell_type": "code",
      "metadata": {
        "colab": {
          "base_uri": "https://localhost:8080/"
        },
        "id": "jrzzj3HLpyb7",
        "outputId": "72d7a6a2-87e4-481d-ad0d-38da618b5de8"
      },
      "source": [
        "df.columns"
      ],
      "execution_count": 11,
      "outputs": [
        {
          "output_type": "execute_result",
          "data": {
            "text/plain": [
              "Index(['gameId', 'blueWins', 'blueWardsPlaced', 'blueWardsDestroyed',\n",
              "       'blueFirstBlood', 'blueKills', 'blueDeaths', 'blueAssists',\n",
              "       'blueEliteMonsters', 'blueDragons', 'blueHeralds',\n",
              "       'blueTowersDestroyed', 'blueTotalGold', 'blueAvgLevel',\n",
              "       'blueTotalExperience', 'blueTotalMinionsKilled',\n",
              "       'blueTotalJungleMinionsKilled', 'blueGoldDiff', 'blueExperienceDiff',\n",
              "       'blueCSPerMin', 'blueGoldPerMin', 'redWardsPlaced', 'redWardsDestroyed',\n",
              "       'redFirstBlood', 'redKills', 'redDeaths', 'redAssists',\n",
              "       'redEliteMonsters', 'redDragons', 'redHeralds', 'redTowersDestroyed',\n",
              "       'redTotalGold', 'redAvgLevel', 'redTotalExperience',\n",
              "       'redTotalMinionsKilled', 'redTotalJungleMinionsKilled', 'redGoldDiff',\n",
              "       'redExperienceDiff', 'redCSPerMin', 'redGoldPerMin'],\n",
              "      dtype='object')"
            ]
          },
          "metadata": {},
          "execution_count": 11
        }
      ]
    },
    {
      "cell_type": "code",
      "metadata": {
        "id": "TqXkwW8JDxhH",
        "colab": {
          "base_uri": "https://localhost:8080/",
          "height": 297
        },
        "outputId": "0823b567-8caf-4b7e-a897-ba6ab6280815"
      },
      "source": [
        "# Seaborn의 countplot() 및 histplot()을 사용하여 각 컬럼과 승/패의 관계를 시각화\n",
        "sns.histplot(data=df,x=\"blueKills\",hue=\"blueWins\")"
      ],
      "execution_count": 12,
      "outputs": [
        {
          "output_type": "execute_result",
          "data": {
            "text/plain": [
              "<matplotlib.axes._subplots.AxesSubplot at 0x7f76d2fef290>"
            ]
          },
          "metadata": {},
          "execution_count": 12
        },
        {
          "output_type": "display_data",
          "data": {
            "image/png": "[encoded data removed]",
            "text/plain": [
              "<Figure size 432x288 with 1 Axes>"
            ]
          },
          "metadata": {
            "needs_background": "light"
          }
        }
      ]
    },
    {
      "cell_type": "code",
      "metadata": {
        "colab": {
          "base_uri": "https://localhost:8080/",
          "height": 297
        },
        "id": "uZWTBsU5pvs8",
        "outputId": "e7a08e33-18cb-491b-c931-1b23aa425407"
      },
      "source": [
        "sns.histplot(data=df,x=\"blueTotalGold\",hue=\"blueWins\")\n"
      ],
      "execution_count": 13,
      "outputs": [
        {
          "output_type": "execute_result",
          "data": {
            "text/plain": [
              "<matplotlib.axes._subplots.AxesSubplot at 0x7f76d1f09910>"
            ]
          },
          "metadata": {},
          "execution_count": 13
        },
        {
          "output_type": "display_data",
          "data": {
            "image/png": "[encoded data removed]",
            "text/plain": [
              "<Figure size 432x288 with 1 Axes>"
            ]
          },
          "metadata": {
            "needs_background": "light"
          }
        }
      ]
    },
    {
      "cell_type": "code",
      "metadata": {
        "colab": {
          "base_uri": "https://localhost:8080/",
          "height": 297
        },
        "id": "wCaOncxgpvv_",
        "outputId": "a8beed61-c2ab-4e66-b167-026b452f074d"
      },
      "source": [
        "sns.histplot(data=df,x=\"blueGoldDiff\",hue=\"blueWins\")"
      ],
      "execution_count": 14,
      "outputs": [
        {
          "output_type": "execute_result",
          "data": {
            "text/plain": [
              "<matplotlib.axes._subplots.AxesSubplot at 0x7f76d1d0e490>"
            ]
          },
          "metadata": {},
          "execution_count": 14
        },
        {
          "output_type": "display_data",
          "data": {
            "image/png": "[encoded data removed]",
            "text/plain": [
              "<Figure size 432x288 with 1 Axes>"
            ]
          },
          "metadata": {
            "needs_background": "light"
          }
        }
      ]
    },
    {
      "cell_type": "code",
      "metadata": {
        "colab": {
          "base_uri": "https://localhost:8080/",
          "height": 297
        },
        "id": "adv6PwhWvmgH",
        "outputId": "84ad870a-ae80-42d8-9af0-42b05fd6e178"
      },
      "source": [
        "sns.histplot(data=df,x=\"blueExperienceDiff\",hue=\"blueWins\")"
      ],
      "execution_count": 15,
      "outputs": [
        {
          "output_type": "execute_result",
          "data": {
            "text/plain": [
              "<matplotlib.axes._subplots.AxesSubplot at 0x7f76d1b28710>"
            ]
          },
          "metadata": {},
          "execution_count": 15
        },
        {
          "output_type": "display_data",
          "data": {
            "image/png": "[encoded data removed]",
            "text/plain": [
              "<Figure size 432x288 with 1 Axes>"
            ]
          },
          "metadata": {
            "needs_background": "light"
          }
        }
      ]
    },
    {
      "cell_type": "code",
      "metadata": {
        "colab": {
          "base_uri": "https://localhost:8080/",
          "height": 297
        },
        "id": "3vWe6uEvvmi0",
        "outputId": "5dfa1359-0c72-4c11-a123-59c34b7927d6"
      },
      "source": [
        "sns.histplot(data=df,x=\"blueGoldPerMin\",hue=\"blueWins\")\n"
      ],
      "execution_count": 16,
      "outputs": [
        {
          "output_type": "execute_result",
          "data": {
            "text/plain": [
              "<matplotlib.axes._subplots.AxesSubplot at 0x7f76d1ab00d0>"
            ]
          },
          "metadata": {},
          "execution_count": 16
        },
        {
          "output_type": "display_data",
          "data": {
            "image/png": "[encoded data removed]",
            "text/plain": [
              "<Figure size 432x288 with 1 Axes>"
            ]
          },
          "metadata": {
            "needs_background": "light"
          }
        }
      ]
    },
    {
      "cell_type": "code",
      "metadata": {
        "id": "qNW4-3SOxVR8"
      },
      "source": [
        ""
      ],
      "execution_count": 16,
      "outputs": []
    },
    {
      "cell_type": "code",
      "metadata": {
        "id": "gu_4lBr5xVUp"
      },
      "source": [
        ""
      ],
      "execution_count": 16,
      "outputs": []
    },
    {
      "cell_type": "code",
      "metadata": {
        "id": "iDyPp3hfxVW6"
      },
      "source": [
        ""
      ],
      "execution_count": 16,
      "outputs": []
    },
    {
      "cell_type": "markdown",
      "metadata": {
        "id": "GD18QuastZy8"
      },
      "source": [
        "## Step 3. 모델 학습을 위한 데이터 전처리\n"
      ]
    },
    {
      "cell_type": "markdown",
      "metadata": {
        "id": "Dev2yLeMta85"
      },
      "source": [
        "### 문제 7. StandardScaler를 이용해 수치형 데이터 표준화하기\n"
      ]
    },
    {
      "cell_type": "code",
      "metadata": {
        "id": "_k_SDCh5xMgD"
      },
      "source": [
        "from sklearn.preprocessing import StandardScaler"
      ],
      "execution_count": 17,
      "outputs": []
    },
    {
      "cell_type": "code",
      "metadata": {
        "colab": {
          "base_uri": "https://localhost:8080/",
          "height": 443
        },
        "id": "on5DgDsJxzZx",
        "outputId": "317a5433-323c-4830-ce12-0475e2240355"
      },
      "source": [
        "df"
      ],
      "execution_count": 18,
      "outputs": [
        {
          "output_type": "execute_result",
          "data": {
            "text/html": [
              "<div>\n",
              "<style scoped>\n",
              "    .dataframe tbody tr th:only-of-type {\n",
              "        vertical-align: middle;\n",
              "    }\n",
              "\n",
              "    .dataframe tbody tr th {\n",
              "        vertical-align: top;\n",
              "    }\n",
              "\n",
              "    .dataframe thead th {\n",
              "        text-align: right;\n",
              "    }\n",
              "</style>\n",
              "<table border=\"1\" class=\"dataframe\">\n",
              "  <thead>\n",
              "    <tr style=\"text-align: right;\">\n",
              "      <th></th>\n",
              "      <th>gameId</th>\n",
              "      <th>blueWins</th>\n",
              "      <th>blueWardsPlaced</th>\n",
              "      <th>blueWardsDestroyed</th>\n",
              "      <th>blueFirstBlood</th>\n",
              "      <th>blueKills</th>\n",
              "      <th>blueDeaths</th>\n",
              "      <th>blueAssists</th>\n",
              "      <th>blueEliteMonsters</th>\n",
              "      <th>blueDragons</th>\n",
              "      <th>blueHeralds</th>\n",
              "      <th>blueTowersDestroyed</th>\n",
              "      <th>blueTotalGold</th>\n",
              "      <th>blueAvgLevel</th>\n",
              "      <th>blueTotalExperience</th>\n",
              "      <th>blueTotalMinionsKilled</th>\n",
              "      <th>blueTotalJungleMinionsKilled</th>\n",
              "      <th>blueGoldDiff</th>\n",
              "      <th>blueExperienceDiff</th>\n",
              "      <th>blueCSPerMin</th>\n",
              "      <th>blueGoldPerMin</th>\n",
              "      <th>redWardsPlaced</th>\n",
              "      <th>redWardsDestroyed</th>\n",
              "      <th>redFirstBlood</th>\n",
              "      <th>redKills</th>\n",
              "      <th>redDeaths</th>\n",
              "      <th>redAssists</th>\n",
              "      <th>redEliteMonsters</th>\n",
              "      <th>redDragons</th>\n",
              "      <th>redHeralds</th>\n",
              "      <th>redTowersDestroyed</th>\n",
              "      <th>redTotalGold</th>\n",
              "      <th>redAvgLevel</th>\n",
              "      <th>redTotalExperience</th>\n",
              "      <th>redTotalMinionsKilled</th>\n",
              "      <th>redTotalJungleMinionsKilled</th>\n",
              "      <th>redGoldDiff</th>\n",
              "      <th>redExperienceDiff</th>\n",
              "      <th>redCSPerMin</th>\n",
              "      <th>redGoldPerMin</th>\n",
              "    </tr>\n",
              "  </thead>\n",
              "  <tbody>\n",
              "    <tr>\n",
              "      <th>0</th>\n",
              "      <td>4519157822</td>\n",
              "      <td>0</td>\n",
              "      <td>28</td>\n",
              "      <td>2</td>\n",
              "      <td>1</td>\n",
              "      <td>9</td>\n",
              "      <td>6</td>\n",
              "      <td>11</td>\n",
              "      <td>0</td>\n",
              "      <td>0</td>\n",
              "      <td>0</td>\n",
              "      <td>0</td>\n",
              "      <td>17210</td>\n",
              "      <td>6.6</td>\n",
              "      <td>17039</td>\n",
              "      <td>195</td>\n",
              "      <td>36</td>\n",
              "      <td>643</td>\n",
              "      <td>-8</td>\n",
              "      <td>19.5</td>\n",
              "      <td>1721.0</td>\n",
              "      <td>15</td>\n",
              "      <td>6</td>\n",
              "      <td>0</td>\n",
              "      <td>6</td>\n",
              "      <td>9</td>\n",
              "      <td>8</td>\n",
              "      <td>0</td>\n",
              "      <td>0</td>\n",
              "      <td>0</td>\n",
              "      <td>0</td>\n",
              "      <td>16567</td>\n",
              "      <td>6.8</td>\n",
              "      <td>17047</td>\n",
              "      <td>197</td>\n",
              "      <td>55</td>\n",
              "      <td>-643</td>\n",
              "      <td>8</td>\n",
              "      <td>19.7</td>\n",
              "      <td>1656.7</td>\n",
              "    </tr>\n",
              "    <tr>\n",
              "      <th>1</th>\n",
              "      <td>4523371949</td>\n",
              "      <td>0</td>\n",
              "      <td>12</td>\n",
              "      <td>1</td>\n",
              "      <td>0</td>\n",
              "      <td>5</td>\n",
              "      <td>5</td>\n",
              "      <td>5</td>\n",
              "      <td>0</td>\n",
              "      <td>0</td>\n",
              "      <td>0</td>\n",
              "      <td>0</td>\n",
              "      <td>14712</td>\n",
              "      <td>6.6</td>\n",
              "      <td>16265</td>\n",
              "      <td>174</td>\n",
              "      <td>43</td>\n",
              "      <td>-2908</td>\n",
              "      <td>-1173</td>\n",
              "      <td>17.4</td>\n",
              "      <td>1471.2</td>\n",
              "      <td>12</td>\n",
              "      <td>1</td>\n",
              "      <td>1</td>\n",
              "      <td>5</td>\n",
              "      <td>5</td>\n",
              "      <td>2</td>\n",
              "      <td>2</td>\n",
              "      <td>1</td>\n",
              "      <td>1</td>\n",
              "      <td>1</td>\n",
              "      <td>17620</td>\n",
              "      <td>6.8</td>\n",
              "      <td>17438</td>\n",
              "      <td>240</td>\n",
              "      <td>52</td>\n",
              "      <td>2908</td>\n",
              "      <td>1173</td>\n",
              "      <td>24.0</td>\n",
              "      <td>1762.0</td>\n",
              "    </tr>\n",
              "    <tr>\n",
              "      <th>2</th>\n",
              "      <td>4521474530</td>\n",
              "      <td>0</td>\n",
              "      <td>15</td>\n",
              "      <td>0</td>\n",
              "      <td>0</td>\n",
              "      <td>7</td>\n",
              "      <td>11</td>\n",
              "      <td>4</td>\n",
              "      <td>1</td>\n",
              "      <td>1</td>\n",
              "      <td>0</td>\n",
              "      <td>0</td>\n",
              "      <td>16113</td>\n",
              "      <td>6.4</td>\n",
              "      <td>16221</td>\n",
              "      <td>186</td>\n",
              "      <td>46</td>\n",
              "      <td>-1172</td>\n",
              "      <td>-1033</td>\n",
              "      <td>18.6</td>\n",
              "      <td>1611.3</td>\n",
              "      <td>15</td>\n",
              "      <td>3</td>\n",
              "      <td>1</td>\n",
              "      <td>11</td>\n",
              "      <td>7</td>\n",
              "      <td>14</td>\n",
              "      <td>0</td>\n",
              "      <td>0</td>\n",
              "      <td>0</td>\n",
              "      <td>0</td>\n",
              "      <td>17285</td>\n",
              "      <td>6.8</td>\n",
              "      <td>17254</td>\n",
              "      <td>203</td>\n",
              "      <td>28</td>\n",
              "      <td>1172</td>\n",
              "      <td>1033</td>\n",
              "      <td>20.3</td>\n",
              "      <td>1728.5</td>\n",
              "    </tr>\n",
              "    <tr>\n",
              "      <th>3</th>\n",
              "      <td>4524384067</td>\n",
              "      <td>0</td>\n",
              "      <td>43</td>\n",
              "      <td>1</td>\n",
              "      <td>0</td>\n",
              "      <td>4</td>\n",
              "      <td>5</td>\n",
              "      <td>5</td>\n",
              "      <td>1</td>\n",
              "      <td>0</td>\n",
              "      <td>1</td>\n",
              "      <td>0</td>\n",
              "      <td>15157</td>\n",
              "      <td>7.0</td>\n",
              "      <td>17954</td>\n",
              "      <td>201</td>\n",
              "      <td>55</td>\n",
              "      <td>-1321</td>\n",
              "      <td>-7</td>\n",
              "      <td>20.1</td>\n",
              "      <td>1515.7</td>\n",
              "      <td>15</td>\n",
              "      <td>2</td>\n",
              "      <td>1</td>\n",
              "      <td>5</td>\n",
              "      <td>4</td>\n",
              "      <td>10</td>\n",
              "      <td>0</td>\n",
              "      <td>0</td>\n",
              "      <td>0</td>\n",
              "      <td>0</td>\n",
              "      <td>16478</td>\n",
              "      <td>7.0</td>\n",
              "      <td>17961</td>\n",
              "      <td>235</td>\n",
              "      <td>47</td>\n",
              "      <td>1321</td>\n",
              "      <td>7</td>\n",
              "      <td>23.5</td>\n",
              "      <td>1647.8</td>\n",
              "    </tr>\n",
              "    <tr>\n",
              "      <th>4</th>\n",
              "      <td>4436033771</td>\n",
              "      <td>0</td>\n",
              "      <td>75</td>\n",
              "      <td>4</td>\n",
              "      <td>0</td>\n",
              "      <td>6</td>\n",
              "      <td>6</td>\n",
              "      <td>6</td>\n",
              "      <td>0</td>\n",
              "      <td>0</td>\n",
              "      <td>0</td>\n",
              "      <td>0</td>\n",
              "      <td>16400</td>\n",
              "      <td>7.0</td>\n",
              "      <td>18543</td>\n",
              "      <td>210</td>\n",
              "      <td>57</td>\n",
              "      <td>-1004</td>\n",
              "      <td>230</td>\n",
              "      <td>21.0</td>\n",
              "      <td>1640.0</td>\n",
              "      <td>17</td>\n",
              "      <td>2</td>\n",
              "      <td>1</td>\n",
              "      <td>6</td>\n",
              "      <td>6</td>\n",
              "      <td>7</td>\n",
              "      <td>1</td>\n",
              "      <td>1</td>\n",
              "      <td>0</td>\n",
              "      <td>0</td>\n",
              "      <td>17404</td>\n",
              "      <td>7.0</td>\n",
              "      <td>18313</td>\n",
              "      <td>225</td>\n",
              "      <td>67</td>\n",
              "      <td>1004</td>\n",
              "      <td>-230</td>\n",
              "      <td>22.5</td>\n",
              "      <td>1740.4</td>\n",
              "    </tr>\n",
              "    <tr>\n",
              "      <th>...</th>\n",
              "      <td>...</td>\n",
              "      <td>...</td>\n",
              "      <td>...</td>\n",
              "      <td>...</td>\n",
              "      <td>...</td>\n",
              "      <td>...</td>\n",
              "      <td>...</td>\n",
              "      <td>...</td>\n",
              "      <td>...</td>\n",
              "      <td>...</td>\n",
              "      <td>...</td>\n",
              "      <td>...</td>\n",
              "      <td>...</td>\n",
              "      <td>...</td>\n",
              "      <td>...</td>\n",
              "      <td>...</td>\n",
              "      <td>...</td>\n",
              "      <td>...</td>\n",
              "      <td>...</td>\n",
              "      <td>...</td>\n",
              "      <td>...</td>\n",
              "      <td>...</td>\n",
              "      <td>...</td>\n",
              "      <td>...</td>\n",
              "      <td>...</td>\n",
              "      <td>...</td>\n",
              "      <td>...</td>\n",
              "      <td>...</td>\n",
              "      <td>...</td>\n",
              "      <td>...</td>\n",
              "      <td>...</td>\n",
              "      <td>...</td>\n",
              "      <td>...</td>\n",
              "      <td>...</td>\n",
              "      <td>...</td>\n",
              "      <td>...</td>\n",
              "      <td>...</td>\n",
              "      <td>...</td>\n",
              "      <td>...</td>\n",
              "      <td>...</td>\n",
              "    </tr>\n",
              "    <tr>\n",
              "      <th>9874</th>\n",
              "      <td>4527873286</td>\n",
              "      <td>1</td>\n",
              "      <td>17</td>\n",
              "      <td>2</td>\n",
              "      <td>1</td>\n",
              "      <td>7</td>\n",
              "      <td>4</td>\n",
              "      <td>5</td>\n",
              "      <td>1</td>\n",
              "      <td>1</td>\n",
              "      <td>0</td>\n",
              "      <td>0</td>\n",
              "      <td>17765</td>\n",
              "      <td>7.2</td>\n",
              "      <td>18967</td>\n",
              "      <td>211</td>\n",
              "      <td>69</td>\n",
              "      <td>2519</td>\n",
              "      <td>2469</td>\n",
              "      <td>21.1</td>\n",
              "      <td>1776.5</td>\n",
              "      <td>46</td>\n",
              "      <td>3</td>\n",
              "      <td>0</td>\n",
              "      <td>4</td>\n",
              "      <td>7</td>\n",
              "      <td>7</td>\n",
              "      <td>0</td>\n",
              "      <td>0</td>\n",
              "      <td>0</td>\n",
              "      <td>0</td>\n",
              "      <td>15246</td>\n",
              "      <td>6.8</td>\n",
              "      <td>16498</td>\n",
              "      <td>229</td>\n",
              "      <td>34</td>\n",
              "      <td>-2519</td>\n",
              "      <td>-2469</td>\n",
              "      <td>22.9</td>\n",
              "      <td>1524.6</td>\n",
              "    </tr>\n",
              "    <tr>\n",
              "      <th>9875</th>\n",
              "      <td>4527797466</td>\n",
              "      <td>1</td>\n",
              "      <td>54</td>\n",
              "      <td>0</td>\n",
              "      <td>0</td>\n",
              "      <td>6</td>\n",
              "      <td>4</td>\n",
              "      <td>8</td>\n",
              "      <td>1</td>\n",
              "      <td>1</td>\n",
              "      <td>0</td>\n",
              "      <td>0</td>\n",
              "      <td>16238</td>\n",
              "      <td>7.2</td>\n",
              "      <td>19255</td>\n",
              "      <td>233</td>\n",
              "      <td>48</td>\n",
              "      <td>782</td>\n",
              "      <td>888</td>\n",
              "      <td>23.3</td>\n",
              "      <td>1623.8</td>\n",
              "      <td>12</td>\n",
              "      <td>21</td>\n",
              "      <td>1</td>\n",
              "      <td>4</td>\n",
              "      <td>6</td>\n",
              "      <td>3</td>\n",
              "      <td>0</td>\n",
              "      <td>0</td>\n",
              "      <td>0</td>\n",
              "      <td>0</td>\n",
              "      <td>15456</td>\n",
              "      <td>7.0</td>\n",
              "      <td>18367</td>\n",
              "      <td>206</td>\n",
              "      <td>56</td>\n",
              "      <td>-782</td>\n",
              "      <td>-888</td>\n",
              "      <td>20.6</td>\n",
              "      <td>1545.6</td>\n",
              "    </tr>\n",
              "    <tr>\n",
              "      <th>9876</th>\n",
              "      <td>4527713716</td>\n",
              "      <td>0</td>\n",
              "      <td>23</td>\n",
              "      <td>1</td>\n",
              "      <td>0</td>\n",
              "      <td>6</td>\n",
              "      <td>7</td>\n",
              "      <td>5</td>\n",
              "      <td>0</td>\n",
              "      <td>0</td>\n",
              "      <td>0</td>\n",
              "      <td>0</td>\n",
              "      <td>15903</td>\n",
              "      <td>7.0</td>\n",
              "      <td>18032</td>\n",
              "      <td>210</td>\n",
              "      <td>45</td>\n",
              "      <td>-2416</td>\n",
              "      <td>-1877</td>\n",
              "      <td>21.0</td>\n",
              "      <td>1590.3</td>\n",
              "      <td>14</td>\n",
              "      <td>0</td>\n",
              "      <td>1</td>\n",
              "      <td>7</td>\n",
              "      <td>6</td>\n",
              "      <td>11</td>\n",
              "      <td>1</td>\n",
              "      <td>1</td>\n",
              "      <td>0</td>\n",
              "      <td>0</td>\n",
              "      <td>18319</td>\n",
              "      <td>7.4</td>\n",
              "      <td>19909</td>\n",
              "      <td>261</td>\n",
              "      <td>60</td>\n",
              "      <td>2416</td>\n",
              "      <td>1877</td>\n",
              "      <td>26.1</td>\n",
              "      <td>1831.9</td>\n",
              "    </tr>\n",
              "    <tr>\n",
              "      <th>9877</th>\n",
              "      <td>4527628313</td>\n",
              "      <td>0</td>\n",
              "      <td>14</td>\n",
              "      <td>4</td>\n",
              "      <td>1</td>\n",
              "      <td>2</td>\n",
              "      <td>3</td>\n",
              "      <td>3</td>\n",
              "      <td>1</td>\n",
              "      <td>1</td>\n",
              "      <td>0</td>\n",
              "      <td>0</td>\n",
              "      <td>14459</td>\n",
              "      <td>6.6</td>\n",
              "      <td>17229</td>\n",
              "      <td>224</td>\n",
              "      <td>48</td>\n",
              "      <td>-839</td>\n",
              "      <td>-1085</td>\n",
              "      <td>22.4</td>\n",
              "      <td>1445.9</td>\n",
              "      <td>66</td>\n",
              "      <td>4</td>\n",
              "      <td>0</td>\n",
              "      <td>3</td>\n",
              "      <td>2</td>\n",
              "      <td>1</td>\n",
              "      <td>0</td>\n",
              "      <td>0</td>\n",
              "      <td>0</td>\n",
              "      <td>0</td>\n",
              "      <td>15298</td>\n",
              "      <td>7.2</td>\n",
              "      <td>18314</td>\n",
              "      <td>247</td>\n",
              "      <td>40</td>\n",
              "      <td>839</td>\n",
              "      <td>1085</td>\n",
              "      <td>24.7</td>\n",
              "      <td>1529.8</td>\n",
              "    </tr>\n",
              "    <tr>\n",
              "      <th>9878</th>\n",
              "      <td>4523772935</td>\n",
              "      <td>1</td>\n",
              "      <td>18</td>\n",
              "      <td>0</td>\n",
              "      <td>1</td>\n",
              "      <td>6</td>\n",
              "      <td>6</td>\n",
              "      <td>5</td>\n",
              "      <td>0</td>\n",
              "      <td>0</td>\n",
              "      <td>0</td>\n",
              "      <td>0</td>\n",
              "      <td>16266</td>\n",
              "      <td>7.0</td>\n",
              "      <td>17321</td>\n",
              "      <td>207</td>\n",
              "      <td>44</td>\n",
              "      <td>927</td>\n",
              "      <td>-58</td>\n",
              "      <td>20.7</td>\n",
              "      <td>1626.6</td>\n",
              "      <td>9</td>\n",
              "      <td>2</td>\n",
              "      <td>0</td>\n",
              "      <td>6</td>\n",
              "      <td>6</td>\n",
              "      <td>4</td>\n",
              "      <td>1</td>\n",
              "      <td>1</td>\n",
              "      <td>0</td>\n",
              "      <td>0</td>\n",
              "      <td>15339</td>\n",
              "      <td>6.8</td>\n",
              "      <td>17379</td>\n",
              "      <td>201</td>\n",
              "      <td>46</td>\n",
              "      <td>-927</td>\n",
              "      <td>58</td>\n",
              "      <td>20.1</td>\n",
              "      <td>1533.9</td>\n",
              "    </tr>\n",
              "  </tbody>\n",
              "</table>\n",
              "<p>9879 rows × 40 columns</p>\n",
              "</div>"
            ],
            "text/plain": [
              "          gameId  blueWins  ...  redCSPerMin  redGoldPerMin\n",
              "0     4519157822         0  ...         19.7         1656.7\n",
              "1     4523371949         0  ...         24.0         1762.0\n",
              "2     4521474530         0  ...         20.3         1728.5\n",
              "3     4524384067         0  ...         23.5         1647.8\n",
              "4     4436033771         0  ...         22.5         1740.4\n",
              "...          ...       ...  ...          ...            ...\n",
              "9874  4527873286         1  ...         22.9         1524.6\n",
              "9875  4527797466         1  ...         20.6         1545.6\n",
              "9876  4527713716         0  ...         26.1         1831.9\n",
              "9877  4527628313         0  ...         24.7         1529.8\n",
              "9878  4523772935         1  ...         20.1         1533.9\n",
              "\n",
              "[9879 rows x 40 columns]"
            ]
          },
          "metadata": {},
          "execution_count": 18
        }
      ]
    },
    {
      "cell_type": "code",
      "metadata": {
        "colab": {
          "base_uri": "https://localhost:8080/"
        },
        "id": "4AJKST2-2PTj",
        "outputId": "6d4bbf8e-d310-4c1a-8375-8a6c25ff7ad8"
      },
      "source": [
        "df['blueTowersDestroyed'].value_counts()"
      ],
      "execution_count": 19,
      "outputs": [
        {
          "output_type": "execute_result",
          "data": {
            "text/plain": [
              "0    9415\n",
              "1     429\n",
              "2      27\n",
              "3       7\n",
              "4       1\n",
              "Name: blueTowersDestroyed, dtype: int64"
            ]
          },
          "metadata": {},
          "execution_count": 19
        }
      ]
    },
    {
      "cell_type": "code",
      "metadata": {
        "colab": {
          "base_uri": "https://localhost:8080/"
        },
        "id": "8oyZxzeuyyIT",
        "outputId": "bea00e0d-045e-4ed5-bb0c-622980dd839a"
      },
      "source": [
        "df.columns"
      ],
      "execution_count": 20,
      "outputs": [
        {
          "output_type": "execute_result",
          "data": {
            "text/plain": [
              "Index(['gameId', 'blueWins', 'blueWardsPlaced', 'blueWardsDestroyed',\n",
              "       'blueFirstBlood', 'blueKills', 'blueDeaths', 'blueAssists',\n",
              "       'blueEliteMonsters', 'blueDragons', 'blueHeralds',\n",
              "       'blueTowersDestroyed', 'blueTotalGold', 'blueAvgLevel',\n",
              "       'blueTotalExperience', 'blueTotalMinionsKilled',\n",
              "       'blueTotalJungleMinionsKilled', 'blueGoldDiff', 'blueExperienceDiff',\n",
              "       'blueCSPerMin', 'blueGoldPerMin', 'redWardsPlaced', 'redWardsDestroyed',\n",
              "       'redFirstBlood', 'redKills', 'redDeaths', 'redAssists',\n",
              "       'redEliteMonsters', 'redDragons', 'redHeralds', 'redTowersDestroyed',\n",
              "       'redTotalGold', 'redAvgLevel', 'redTotalExperience',\n",
              "       'redTotalMinionsKilled', 'redTotalJungleMinionsKilled', 'redGoldDiff',\n",
              "       'redExperienceDiff', 'redCSPerMin', 'redGoldPerMin'],\n",
              "      dtype='object')"
            ]
          },
          "metadata": {},
          "execution_count": 20
        }
      ]
    },
    {
      "cell_type": "code",
      "metadata": {
        "id": "04BBjEt_4Wws",
        "colab": {
          "base_uri": "https://localhost:8080/",
          "height": 323
        },
        "outputId": "5b25e5df-7aee-4189-9348-a2ca807e26d2"
      },
      "source": [
        "df.drop(['gameId','redKills', 'redDeaths'], axis=1, inplace=True)\n"
      ],
      "execution_count": 51,
      "outputs": [
        {
          "output_type": "error",
          "ename": "KeyError",
          "evalue": "ignored",
          "traceback": [
            "\u001b[0;31m---------------------------------------------------------------------------\u001b[0m",
            "\u001b[0;31mKeyError\u001b[0m                                  Traceback (most recent call last)",
            "\u001b[0;32m<ipython-input-51-854cc4d43c5c>\u001b[0m in \u001b[0;36m<module>\u001b[0;34m()\u001b[0m\n\u001b[0;32m----> 1\u001b[0;31m \u001b[0mdf\u001b[0m\u001b[0;34m.\u001b[0m\u001b[0mdrop\u001b[0m\u001b[0;34m(\u001b[0m\u001b[0;34m[\u001b[0m\u001b[0;34m'gameId'\u001b[0m\u001b[0;34m,\u001b[0m\u001b[0;34m'redKills'\u001b[0m\u001b[0;34m,\u001b[0m \u001b[0;34m'redDeaths'\u001b[0m\u001b[0;34m]\u001b[0m\u001b[0;34m,\u001b[0m \u001b[0maxis\u001b[0m\u001b[0;34m=\u001b[0m\u001b[0;36m1\u001b[0m\u001b[0;34m,\u001b[0m \u001b[0minplace\u001b[0m\u001b[0;34m=\u001b[0m\u001b[0;32mTrue\u001b[0m\u001b[0;34m)\u001b[0m\u001b[0;34m\u001b[0m\u001b[0;34m\u001b[0m\u001b[0m\n\u001b[0m",
            "\u001b[0;32m/usr/local/lib/python3.7/dist-packages/pandas/core/frame.py\u001b[0m in \u001b[0;36mdrop\u001b[0;34m(self, labels, axis, index, columns, level, inplace, errors)\u001b[0m\n\u001b[1;32m   4172\u001b[0m             \u001b[0mlevel\u001b[0m\u001b[0;34m=\u001b[0m\u001b[0mlevel\u001b[0m\u001b[0;34m,\u001b[0m\u001b[0;34m\u001b[0m\u001b[0;34m\u001b[0m\u001b[0m\n\u001b[1;32m   4173\u001b[0m             \u001b[0minplace\u001b[0m\u001b[0;34m=\u001b[0m\u001b[0minplace\u001b[0m\u001b[0;34m,\u001b[0m\u001b[0;34m\u001b[0m\u001b[0;34m\u001b[0m\u001b[0m\n\u001b[0;32m-> 4174\u001b[0;31m             \u001b[0merrors\u001b[0m\u001b[0;34m=\u001b[0m\u001b[0merrors\u001b[0m\u001b[0;34m,\u001b[0m\u001b[0;34m\u001b[0m\u001b[0;34m\u001b[0m\u001b[0m\n\u001b[0m\u001b[1;32m   4175\u001b[0m         )\n\u001b[1;32m   4176\u001b[0m \u001b[0;34m\u001b[0m\u001b[0m\n",
            "\u001b[0;32m/usr/local/lib/python3.7/dist-packages/pandas/core/generic.py\u001b[0m in \u001b[0;36mdrop\u001b[0;34m(self, labels, axis, index, columns, level, inplace, errors)\u001b[0m\n\u001b[1;32m   3887\u001b[0m         \u001b[0;32mfor\u001b[0m \u001b[0maxis\u001b[0m\u001b[0;34m,\u001b[0m \u001b[0mlabels\u001b[0m \u001b[0;32min\u001b[0m \u001b[0maxes\u001b[0m\u001b[0;34m.\u001b[0m\u001b[0mitems\u001b[0m\u001b[0;34m(\u001b[0m\u001b[0;34m)\u001b[0m\u001b[0;34m:\u001b[0m\u001b[0;34m\u001b[0m\u001b[0;34m\u001b[0m\u001b[0m\n\u001b[1;32m   3888\u001b[0m             \u001b[0;32mif\u001b[0m \u001b[0mlabels\u001b[0m \u001b[0;32mis\u001b[0m \u001b[0;32mnot\u001b[0m \u001b[0;32mNone\u001b[0m\u001b[0;34m:\u001b[0m\u001b[0;34m\u001b[0m\u001b[0;34m\u001b[0m\u001b[0m\n\u001b[0;32m-> 3889\u001b[0;31m                 \u001b[0mobj\u001b[0m \u001b[0;34m=\u001b[0m \u001b[0mobj\u001b[0m\u001b[0;34m.\u001b[0m\u001b[0m_drop_axis\u001b[0m\u001b[0;34m(\u001b[0m\u001b[0mlabels\u001b[0m\u001b[0;34m,\u001b[0m \u001b[0maxis\u001b[0m\u001b[0;34m,\u001b[0m \u001b[0mlevel\u001b[0m\u001b[0;34m=\u001b[0m\u001b[0mlevel\u001b[0m\u001b[0;34m,\u001b[0m \u001b[0merrors\u001b[0m\u001b[0;34m=\u001b[0m\u001b[0merrors\u001b[0m\u001b[0;34m)\u001b[0m\u001b[0;34m\u001b[0m\u001b[0;34m\u001b[0m\u001b[0m\n\u001b[0m\u001b[1;32m   3890\u001b[0m \u001b[0;34m\u001b[0m\u001b[0m\n\u001b[1;32m   3891\u001b[0m         \u001b[0;32mif\u001b[0m \u001b[0minplace\u001b[0m\u001b[0;34m:\u001b[0m\u001b[0;34m\u001b[0m\u001b[0;34m\u001b[0m\u001b[0m\n",
            "\u001b[0;32m/usr/local/lib/python3.7/dist-packages/pandas/core/generic.py\u001b[0m in \u001b[0;36m_drop_axis\u001b[0;34m(self, labels, axis, level, errors)\u001b[0m\n\u001b[1;32m   3921\u001b[0m                 \u001b[0mnew_axis\u001b[0m \u001b[0;34m=\u001b[0m \u001b[0maxis\u001b[0m\u001b[0;34m.\u001b[0m\u001b[0mdrop\u001b[0m\u001b[0;34m(\u001b[0m\u001b[0mlabels\u001b[0m\u001b[0;34m,\u001b[0m \u001b[0mlevel\u001b[0m\u001b[0;34m=\u001b[0m\u001b[0mlevel\u001b[0m\u001b[0;34m,\u001b[0m \u001b[0merrors\u001b[0m\u001b[0;34m=\u001b[0m\u001b[0merrors\u001b[0m\u001b[0;34m)\u001b[0m\u001b[0;34m\u001b[0m\u001b[0;34m\u001b[0m\u001b[0m\n\u001b[1;32m   3922\u001b[0m             \u001b[0;32melse\u001b[0m\u001b[0;34m:\u001b[0m\u001b[0;34m\u001b[0m\u001b[0;34m\u001b[0m\u001b[0m\n\u001b[0;32m-> 3923\u001b[0;31m                 \u001b[0mnew_axis\u001b[0m \u001b[0;34m=\u001b[0m \u001b[0maxis\u001b[0m\u001b[0;34m.\u001b[0m\u001b[0mdrop\u001b[0m\u001b[0;34m(\u001b[0m\u001b[0mlabels\u001b[0m\u001b[0;34m,\u001b[0m \u001b[0merrors\u001b[0m\u001b[0;34m=\u001b[0m\u001b[0merrors\u001b[0m\u001b[0;34m)\u001b[0m\u001b[0;34m\u001b[0m\u001b[0;34m\u001b[0m\u001b[0m\n\u001b[0m\u001b[1;32m   3924\u001b[0m             \u001b[0mresult\u001b[0m \u001b[0;34m=\u001b[0m \u001b[0mself\u001b[0m\u001b[0;34m.\u001b[0m\u001b[0mreindex\u001b[0m\u001b[0;34m(\u001b[0m\u001b[0;34m**\u001b[0m\u001b[0;34m{\u001b[0m\u001b[0maxis_name\u001b[0m\u001b[0;34m:\u001b[0m \u001b[0mnew_axis\u001b[0m\u001b[0;34m}\u001b[0m\u001b[0;34m)\u001b[0m\u001b[0;34m\u001b[0m\u001b[0;34m\u001b[0m\u001b[0m\n\u001b[1;32m   3925\u001b[0m \u001b[0;34m\u001b[0m\u001b[0m\n",
            "\u001b[0;32m/usr/local/lib/python3.7/dist-packages/pandas/core/indexes/base.py\u001b[0m in \u001b[0;36mdrop\u001b[0;34m(self, labels, errors)\u001b[0m\n\u001b[1;32m   5285\u001b[0m         \u001b[0;32mif\u001b[0m \u001b[0mmask\u001b[0m\u001b[0;34m.\u001b[0m\u001b[0many\u001b[0m\u001b[0;34m(\u001b[0m\u001b[0;34m)\u001b[0m\u001b[0;34m:\u001b[0m\u001b[0;34m\u001b[0m\u001b[0;34m\u001b[0m\u001b[0m\n\u001b[1;32m   5286\u001b[0m             \u001b[0;32mif\u001b[0m \u001b[0merrors\u001b[0m \u001b[0;34m!=\u001b[0m \u001b[0;34m\"ignore\"\u001b[0m\u001b[0;34m:\u001b[0m\u001b[0;34m\u001b[0m\u001b[0;34m\u001b[0m\u001b[0m\n\u001b[0;32m-> 5287\u001b[0;31m                 \u001b[0;32mraise\u001b[0m \u001b[0mKeyError\u001b[0m\u001b[0;34m(\u001b[0m\u001b[0;34mf\"{labels[mask]} not found in axis\"\u001b[0m\u001b[0;34m)\u001b[0m\u001b[0;34m\u001b[0m\u001b[0;34m\u001b[0m\u001b[0m\n\u001b[0m\u001b[1;32m   5288\u001b[0m             \u001b[0mindexer\u001b[0m \u001b[0;34m=\u001b[0m \u001b[0mindexer\u001b[0m\u001b[0;34m[\u001b[0m\u001b[0;34m~\u001b[0m\u001b[0mmask\u001b[0m\u001b[0;34m]\u001b[0m\u001b[0;34m\u001b[0m\u001b[0;34m\u001b[0m\u001b[0m\n\u001b[1;32m   5289\u001b[0m         \u001b[0;32mreturn\u001b[0m \u001b[0mself\u001b[0m\u001b[0;34m.\u001b[0m\u001b[0mdelete\u001b[0m\u001b[0;34m(\u001b[0m\u001b[0mindexer\u001b[0m\u001b[0;34m)\u001b[0m\u001b[0;34m\u001b[0m\u001b[0;34m\u001b[0m\u001b[0m\n",
            "\u001b[0;31mKeyError\u001b[0m: \"['gameId' 'redKills' 'redDeaths'] not found in axis\""
          ]
        }
      ]
    },
    {
      "cell_type": "code",
      "metadata": {
        "id": "W3EO22NCE3wG"
      },
      "source": [
        "# StandardScaler를 이용해 수치형 데이터를 표준화하기\n",
        "# Hint) Multicollinearity를 피하기 위해 불필요한 컬럼은 drop한다.\n",
        "X_num = df[['blueWardsPlaced', 'blueWardsDestroyed', \n",
        "       'blueKills', 'blueDeaths', 'blueAssists', 'blueEliteMonsters',\n",
        "       'blueTowersDestroyed', 'blueTotalGold',\n",
        "       'blueAvgLevel', 'blueTotalExperience', 'blueTotalMinionsKilled',\n",
        "       'blueTotalJungleMinionsKilled', 'blueGoldDiff', 'blueExperienceDiff',\n",
        "       'blueCSPerMin', 'blueGoldPerMin', 'redWardsPlaced', 'redWardsDestroyed',\n",
        "       'redFirstBlood','redAssists', 'redEliteMonsters', 'redTowersDestroyed','redTotalGold',\n",
        "        'redAvgLevel','redTotalExperience', 'redTotalMinionsKilled',\n",
        "       'redGoldDiff','redExperienceDiff','redTotalJungleMinionsKilled', 'redCSPerMin', 'redGoldPerMin']]\n",
        "X_cat = df[['blueFirstBlood', 'blueDragons', 'blueHeralds', 'redDragons', 'redHeralds']]\n",
        "\n",
        "\n",
        "scaler=StandardScaler()\n",
        "scaler.fit(X_num)\n",
        "X_scaled=scaler.transform(X_num)\n",
        "X_scaled = pd.DataFrame(X_scaled, index=X_num.index, columns=X_num.columns)\n",
        "\n",
        "X = pd.concat([X_scaled, X_cat], axis=1)\n",
        "y = df['blueWins']"
      ],
      "execution_count": 52,
      "outputs": []
    },
    {
      "cell_type": "markdown",
      "metadata": {
        "id": "x93Tb6lptcA2"
      },
      "source": [
        "### 문제 8. 학습데이터와 테스트데이터 분리하기\n"
      ]
    },
    {
      "cell_type": "code",
      "metadata": {
        "id": "C9kMQI8SEche"
      },
      "source": [
        "from sklearn.model_selection import train_test_split"
      ],
      "execution_count": 53,
      "outputs": []
    },
    {
      "cell_type": "code",
      "metadata": {
        "id": "F07QjOFwFNEw"
      },
      "source": [
        "# train_test_split() 함수로 학습 데이터와 테스트 데이터 분리하기\n",
        "X_train, X_test, y_train, y_test = train_test_split(X,y,test_size=0.3,random_state=0)"
      ],
      "execution_count": 54,
      "outputs": []
    },
    {
      "cell_type": "markdown",
      "metadata": {
        "id": "DTqb-HqPtc4I"
      },
      "source": [
        "## Step 4. Classification 모델 학습하기\n"
      ]
    },
    {
      "cell_type": "markdown",
      "metadata": {
        "id": "Ckexl202tmZI"
      },
      "source": [
        "### 문제 9. Logistic Regression 모델 생성/학습하기\n"
      ]
    },
    {
      "cell_type": "code",
      "metadata": {
        "id": "2Wt_0AdNFfbN"
      },
      "source": [
        "from sklearn.linear_model import LogisticRegression"
      ],
      "execution_count": 55,
      "outputs": []
    },
    {
      "cell_type": "code",
      "metadata": {
        "id": "1lM57a_8Fdbh",
        "colab": {
          "base_uri": "https://localhost:8080/"
        },
        "outputId": "7532bd04-3310-4a8d-b8df-943043dea8fa"
      },
      "source": [
        "# LogisticRegression 모델 생성/학습\n",
        "model_lr = LogisticRegression()\n",
        "model_lr.fit(X_train,y_train)\n",
        "\n",
        "\n"
      ],
      "execution_count": 56,
      "outputs": [
        {
          "output_type": "execute_result",
          "data": {
            "text/plain": [
              "LogisticRegression(C=1.0, class_weight=None, dual=False, fit_intercept=True,\n",
              "                   intercept_scaling=1, l1_ratio=None, max_iter=100,\n",
              "                   multi_class='auto', n_jobs=None, penalty='l2',\n",
              "                   random_state=None, solver='lbfgs', tol=0.0001, verbose=0,\n",
              "                   warm_start=False)"
            ]
          },
          "metadata": {},
          "execution_count": 56
        }
      ]
    },
    {
      "cell_type": "markdown",
      "metadata": {
        "id": "APOI7Hc9tnvr"
      },
      "source": [
        "### 문제 10. 모델 학습 결과 평가하기\n"
      ]
    },
    {
      "cell_type": "code",
      "metadata": {
        "id": "2lIoyMjFFrif"
      },
      "source": [
        "from sklearn.metrics import classification_report"
      ],
      "execution_count": 57,
      "outputs": []
    },
    {
      "cell_type": "code",
      "metadata": {
        "id": "1dD9JnN-FnpC",
        "colab": {
          "base_uri": "https://localhost:8080/"
        },
        "outputId": "5adda618-76fd-4dcd-dcf7-8a933793faf5"
      },
      "source": [
        "# Predict를 수행하고 classification_report() 결과 출력하기\n",
        "pred =model_lr.predict(X_test)\n",
        "print(classification_report(y_test,pred)) \n",
        "\n",
        "\n"
      ],
      "execution_count": 58,
      "outputs": [
        {
          "output_type": "stream",
          "name": "stdout",
          "text": [
            "              precision    recall  f1-score   support\n",
            "\n",
            "           0       0.73      0.72      0.73      1520\n",
            "           1       0.71      0.73      0.72      1444\n",
            "\n",
            "    accuracy                           0.72      2964\n",
            "   macro avg       0.72      0.72      0.72      2964\n",
            "weighted avg       0.72      0.72      0.72      2964\n",
            "\n"
          ]
        }
      ]
    },
    {
      "cell_type": "markdown",
      "metadata": {
        "id": "xTRTOLTNto3h"
      },
      "source": [
        "### 문제 11. XGBoost 모델 생성/학습하기\n"
      ]
    },
    {
      "cell_type": "code",
      "metadata": {
        "id": "ow28ZRL4F7D5"
      },
      "source": [
        "from xgboost import XGBClassifier"
      ],
      "execution_count": 59,
      "outputs": []
    },
    {
      "cell_type": "code",
      "metadata": {
        "id": "LSSNqFUrGM6R",
        "colab": {
          "base_uri": "https://localhost:8080/"
        },
        "outputId": "147dbd03-7ab9-4d10-9844-a1bd2ade02cd"
      },
      "source": [
        "# XGBClassifier 모델 생성/학습\n",
        "model_xgb = XGBClassifier()\n",
        "model_xgb.fit(X_train,y_train)\n",
        "\n",
        "\n"
      ],
      "execution_count": 60,
      "outputs": [
        {
          "output_type": "execute_result",
          "data": {
            "text/plain": [
              "XGBClassifier(base_score=0.5, booster='gbtree', colsample_bylevel=1,\n",
              "              colsample_bynode=1, colsample_bytree=1, gamma=0,\n",
              "              learning_rate=0.1, max_delta_step=0, max_depth=3,\n",
              "              min_child_weight=1, missing=None, n_estimators=100, n_jobs=1,\n",
              "              nthread=None, objective='binary:logistic', random_state=0,\n",
              "              reg_alpha=0, reg_lambda=1, scale_pos_weight=1, seed=None,\n",
              "              silent=None, subsample=1, verbosity=1)"
            ]
          },
          "metadata": {},
          "execution_count": 60
        }
      ]
    },
    {
      "cell_type": "markdown",
      "metadata": {
        "id": "kAisZoSEtp35"
      },
      "source": [
        "### 문제 12. 모델 학습 결과 평가하기\n"
      ]
    },
    {
      "cell_type": "code",
      "metadata": {
        "id": "WLnyYNJwGRgd",
        "colab": {
          "base_uri": "https://localhost:8080/"
        },
        "outputId": "8c0ff3ae-3b30-4b94-bbe4-8224bdf217e1"
      },
      "source": [
        "# Predict를 수행하고 classification_report() 결과 출력하기\n",
        "pred = model_xgb.predict(X_test)\n",
        "print(classification_report(y_test,pred))\n",
        "\n",
        "\n"
      ],
      "execution_count": 61,
      "outputs": [
        {
          "output_type": "stream",
          "name": "stdout",
          "text": [
            "              precision    recall  f1-score   support\n",
            "\n",
            "           0       0.74      0.74      0.74      1520\n",
            "           1       0.72      0.72      0.72      1444\n",
            "\n",
            "    accuracy                           0.73      2964\n",
            "   macro avg       0.73      0.73      0.73      2964\n",
            "weighted avg       0.73      0.73      0.73      2964\n",
            "\n"
          ]
        }
      ]
    },
    {
      "cell_type": "markdown",
      "metadata": {
        "id": "7icVVlSwtr53"
      },
      "source": [
        "## Step5 모델 학습 결과 심화 분석하기\n"
      ]
    },
    {
      "cell_type": "markdown",
      "metadata": {
        "id": "LmaEIOOItvJa"
      },
      "source": [
        "### 문제 13. Logistic Regression 모델 계수로 상관성 파악하기"
      ]
    },
    {
      "cell_type": "code",
      "metadata": {
        "id": "BUIXk9RNGnRa",
        "colab": {
          "base_uri": "https://localhost:8080/",
          "height": 397
        },
        "outputId": "95eca656-a224-4da8-baf3-8c045cb74edc"
      },
      "source": [
        "# Logistic Regression 모델의 coef_ 속성을 plot하기\n",
        "model_coef = pd.DataFrame(data=model_lr.coef_[0], index=X.columns, columns=['Model Coefficient'])\n",
        "model_coef.sort_values(by='Model Coefficient', ascending=False, inplace=True)\n",
        "plt.bar(model_coef.index, model_coef['Model Coefficient'])\n",
        "plt.xticks(rotation=90)\n",
        "plt.grid()\n",
        "plt.show()\n",
        "\n",
        "\n"
      ],
      "execution_count": 33,
      "outputs": [
        {
          "output_type": "display_data",
          "data": {
            "image/png": "[encoded data removed]",
            "text/plain": [
              "<Figure size 432x288 with 1 Axes>"
            ]
          },
          "metadata": {
            "needs_background": "light"
          }
        }
      ]
    },
    {
      "cell_type": "markdown",
      "metadata": {
        "id": "5yIbQKjktuwg"
      },
      "source": [
        "### 문제 14. XGBoost 모델로 특징의 중요도 확인하기"
      ]
    },
    {
      "cell_type": "code",
      "metadata": {
        "id": "3bY4SZZ4HBdN",
        "colab": {
          "base_uri": "https://localhost:8080/",
          "height": 610
        },
        "outputId": "ec06baec-2747-42cd-8da4-c5f1811bf905"
      },
      "source": [
        "# XGBoost 모델의 feature_importances_ 속성을 plot하기\n",
        "fig = plt.figure(figsize=(10, 10))\n",
        "plt.barh(X.columns, model_xgb.feature_importances_)\n",
        "\n",
        "\n"
      ],
      "execution_count": 34,
      "outputs": [
        {
          "output_type": "execute_result",
          "data": {
            "text/plain": [
              "<BarContainer object of 36 artists>"
            ]
          },
          "metadata": {},
          "execution_count": 34
        },
        {
          "output_type": "display_data",
          "data": {
            "image/png": "[encoded data removed]",
            "text/plain": [
              "<Figure size 720x720 with 1 Axes>"
            ]
          },
          "metadata": {
            "needs_background": "light"
          }
        }
      ]
    },
    {
      "cell_type": "code",
      "metadata": {
        "id": "dS-iJXxnGXKD",
        "colab": {
          "base_uri": "https://localhost:8080/",
          "height": 443
        },
        "outputId": "e1e6a264-1ff9-4f90-9794-931705e7c032"
      },
      "source": [
        "df"
      ],
      "execution_count": 35,
      "outputs": [
        {
          "output_type": "execute_result",
          "data": {
            "text/html": [
              "<div>\n",
              "<style scoped>\n",
              "    .dataframe tbody tr th:only-of-type {\n",
              "        vertical-align: middle;\n",
              "    }\n",
              "\n",
              "    .dataframe tbody tr th {\n",
              "        vertical-align: top;\n",
              "    }\n",
              "\n",
              "    .dataframe thead th {\n",
              "        text-align: right;\n",
              "    }\n",
              "</style>\n",
              "<table border=\"1\" class=\"dataframe\">\n",
              "  <thead>\n",
              "    <tr style=\"text-align: right;\">\n",
              "      <th></th>\n",
              "      <th>blueWins</th>\n",
              "      <th>blueWardsPlaced</th>\n",
              "      <th>blueWardsDestroyed</th>\n",
              "      <th>blueFirstBlood</th>\n",
              "      <th>blueKills</th>\n",
              "      <th>blueDeaths</th>\n",
              "      <th>blueAssists</th>\n",
              "      <th>blueEliteMonsters</th>\n",
              "      <th>blueDragons</th>\n",
              "      <th>blueHeralds</th>\n",
              "      <th>blueTowersDestroyed</th>\n",
              "      <th>blueTotalGold</th>\n",
              "      <th>blueAvgLevel</th>\n",
              "      <th>blueTotalExperience</th>\n",
              "      <th>blueTotalMinionsKilled</th>\n",
              "      <th>blueTotalJungleMinionsKilled</th>\n",
              "      <th>blueGoldDiff</th>\n",
              "      <th>blueExperienceDiff</th>\n",
              "      <th>blueCSPerMin</th>\n",
              "      <th>blueGoldPerMin</th>\n",
              "      <th>redWardsPlaced</th>\n",
              "      <th>redWardsDestroyed</th>\n",
              "      <th>redFirstBlood</th>\n",
              "      <th>redAssists</th>\n",
              "      <th>redEliteMonsters</th>\n",
              "      <th>redDragons</th>\n",
              "      <th>redHeralds</th>\n",
              "      <th>redTowersDestroyed</th>\n",
              "      <th>redTotalGold</th>\n",
              "      <th>redAvgLevel</th>\n",
              "      <th>redTotalExperience</th>\n",
              "      <th>redTotalMinionsKilled</th>\n",
              "      <th>redTotalJungleMinionsKilled</th>\n",
              "      <th>redGoldDiff</th>\n",
              "      <th>redExperienceDiff</th>\n",
              "      <th>redCSPerMin</th>\n",
              "      <th>redGoldPerMin</th>\n",
              "    </tr>\n",
              "  </thead>\n",
              "  <tbody>\n",
              "    <tr>\n",
              "      <th>0</th>\n",
              "      <td>0</td>\n",
              "      <td>28</td>\n",
              "      <td>2</td>\n",
              "      <td>1</td>\n",
              "      <td>9</td>\n",
              "      <td>6</td>\n",
              "      <td>11</td>\n",
              "      <td>0</td>\n",
              "      <td>0</td>\n",
              "      <td>0</td>\n",
              "      <td>0</td>\n",
              "      <td>17210</td>\n",
              "      <td>6.6</td>\n",
              "      <td>17039</td>\n",
              "      <td>195</td>\n",
              "      <td>36</td>\n",
              "      <td>643</td>\n",
              "      <td>-8</td>\n",
              "      <td>19.5</td>\n",
              "      <td>1721.0</td>\n",
              "      <td>15</td>\n",
              "      <td>6</td>\n",
              "      <td>0</td>\n",
              "      <td>8</td>\n",
              "      <td>0</td>\n",
              "      <td>0</td>\n",
              "      <td>0</td>\n",
              "      <td>0</td>\n",
              "      <td>16567</td>\n",
              "      <td>6.8</td>\n",
              "      <td>17047</td>\n",
              "      <td>197</td>\n",
              "      <td>55</td>\n",
              "      <td>-643</td>\n",
              "      <td>8</td>\n",
              "      <td>19.7</td>\n",
              "      <td>1656.7</td>\n",
              "    </tr>\n",
              "    <tr>\n",
              "      <th>1</th>\n",
              "      <td>0</td>\n",
              "      <td>12</td>\n",
              "      <td>1</td>\n",
              "      <td>0</td>\n",
              "      <td>5</td>\n",
              "      <td>5</td>\n",
              "      <td>5</td>\n",
              "      <td>0</td>\n",
              "      <td>0</td>\n",
              "      <td>0</td>\n",
              "      <td>0</td>\n",
              "      <td>14712</td>\n",
              "      <td>6.6</td>\n",
              "      <td>16265</td>\n",
              "      <td>174</td>\n",
              "      <td>43</td>\n",
              "      <td>-2908</td>\n",
              "      <td>-1173</td>\n",
              "      <td>17.4</td>\n",
              "      <td>1471.2</td>\n",
              "      <td>12</td>\n",
              "      <td>1</td>\n",
              "      <td>1</td>\n",
              "      <td>2</td>\n",
              "      <td>2</td>\n",
              "      <td>1</td>\n",
              "      <td>1</td>\n",
              "      <td>1</td>\n",
              "      <td>17620</td>\n",
              "      <td>6.8</td>\n",
              "      <td>17438</td>\n",
              "      <td>240</td>\n",
              "      <td>52</td>\n",
              "      <td>2908</td>\n",
              "      <td>1173</td>\n",
              "      <td>24.0</td>\n",
              "      <td>1762.0</td>\n",
              "    </tr>\n",
              "    <tr>\n",
              "      <th>2</th>\n",
              "      <td>0</td>\n",
              "      <td>15</td>\n",
              "      <td>0</td>\n",
              "      <td>0</td>\n",
              "      <td>7</td>\n",
              "      <td>11</td>\n",
              "      <td>4</td>\n",
              "      <td>1</td>\n",
              "      <td>1</td>\n",
              "      <td>0</td>\n",
              "      <td>0</td>\n",
              "      <td>16113</td>\n",
              "      <td>6.4</td>\n",
              "      <td>16221</td>\n",
              "      <td>186</td>\n",
              "      <td>46</td>\n",
              "      <td>-1172</td>\n",
              "      <td>-1033</td>\n",
              "      <td>18.6</td>\n",
              "      <td>1611.3</td>\n",
              "      <td>15</td>\n",
              "      <td>3</td>\n",
              "      <td>1</td>\n",
              "      <td>14</td>\n",
              "      <td>0</td>\n",
              "      <td>0</td>\n",
              "      <td>0</td>\n",
              "      <td>0</td>\n",
              "      <td>17285</td>\n",
              "      <td>6.8</td>\n",
              "      <td>17254</td>\n",
              "      <td>203</td>\n",
              "      <td>28</td>\n",
              "      <td>1172</td>\n",
              "      <td>1033</td>\n",
              "      <td>20.3</td>\n",
              "      <td>1728.5</td>\n",
              "    </tr>\n",
              "    <tr>\n",
              "      <th>3</th>\n",
              "      <td>0</td>\n",
              "      <td>43</td>\n",
              "      <td>1</td>\n",
              "      <td>0</td>\n",
              "      <td>4</td>\n",
              "      <td>5</td>\n",
              "      <td>5</td>\n",
              "      <td>1</td>\n",
              "      <td>0</td>\n",
              "      <td>1</td>\n",
              "      <td>0</td>\n",
              "      <td>15157</td>\n",
              "      <td>7.0</td>\n",
              "      <td>17954</td>\n",
              "      <td>201</td>\n",
              "      <td>55</td>\n",
              "      <td>-1321</td>\n",
              "      <td>-7</td>\n",
              "      <td>20.1</td>\n",
              "      <td>1515.7</td>\n",
              "      <td>15</td>\n",
              "      <td>2</td>\n",
              "      <td>1</td>\n",
              "      <td>10</td>\n",
              "      <td>0</td>\n",
              "      <td>0</td>\n",
              "      <td>0</td>\n",
              "      <td>0</td>\n",
              "      <td>16478</td>\n",
              "      <td>7.0</td>\n",
              "      <td>17961</td>\n",
              "      <td>235</td>\n",
              "      <td>47</td>\n",
              "      <td>1321</td>\n",
              "      <td>7</td>\n",
              "      <td>23.5</td>\n",
              "      <td>1647.8</td>\n",
              "    </tr>\n",
              "    <tr>\n",
              "      <th>4</th>\n",
              "      <td>0</td>\n",
              "      <td>75</td>\n",
              "      <td>4</td>\n",
              "      <td>0</td>\n",
              "      <td>6</td>\n",
              "      <td>6</td>\n",
              "      <td>6</td>\n",
              "      <td>0</td>\n",
              "      <td>0</td>\n",
              "      <td>0</td>\n",
              "      <td>0</td>\n",
              "      <td>16400</td>\n",
              "      <td>7.0</td>\n",
              "      <td>18543</td>\n",
              "      <td>210</td>\n",
              "      <td>57</td>\n",
              "      <td>-1004</td>\n",
              "      <td>230</td>\n",
              "      <td>21.0</td>\n",
              "      <td>1640.0</td>\n",
              "      <td>17</td>\n",
              "      <td>2</td>\n",
              "      <td>1</td>\n",
              "      <td>7</td>\n",
              "      <td>1</td>\n",
              "      <td>1</td>\n",
              "      <td>0</td>\n",
              "      <td>0</td>\n",
              "      <td>17404</td>\n",
              "      <td>7.0</td>\n",
              "      <td>18313</td>\n",
              "      <td>225</td>\n",
              "      <td>67</td>\n",
              "      <td>1004</td>\n",
              "      <td>-230</td>\n",
              "      <td>22.5</td>\n",
              "      <td>1740.4</td>\n",
              "    </tr>\n",
              "    <tr>\n",
              "      <th>...</th>\n",
              "      <td>...</td>\n",
              "      <td>...</td>\n",
              "      <td>...</td>\n",
              "      <td>...</td>\n",
              "      <td>...</td>\n",
              "      <td>...</td>\n",
              "      <td>...</td>\n",
              "      <td>...</td>\n",
              "      <td>...</td>\n",
              "      <td>...</td>\n",
              "      <td>...</td>\n",
              "      <td>...</td>\n",
              "      <td>...</td>\n",
              "      <td>...</td>\n",
              "      <td>...</td>\n",
              "      <td>...</td>\n",
              "      <td>...</td>\n",
              "      <td>...</td>\n",
              "      <td>...</td>\n",
              "      <td>...</td>\n",
              "      <td>...</td>\n",
              "      <td>...</td>\n",
              "      <td>...</td>\n",
              "      <td>...</td>\n",
              "      <td>...</td>\n",
              "      <td>...</td>\n",
              "      <td>...</td>\n",
              "      <td>...</td>\n",
              "      <td>...</td>\n",
              "      <td>...</td>\n",
              "      <td>...</td>\n",
              "      <td>...</td>\n",
              "      <td>...</td>\n",
              "      <td>...</td>\n",
              "      <td>...</td>\n",
              "      <td>...</td>\n",
              "      <td>...</td>\n",
              "    </tr>\n",
              "    <tr>\n",
              "      <th>9874</th>\n",
              "      <td>1</td>\n",
              "      <td>17</td>\n",
              "      <td>2</td>\n",
              "      <td>1</td>\n",
              "      <td>7</td>\n",
              "      <td>4</td>\n",
              "      <td>5</td>\n",
              "      <td>1</td>\n",
              "      <td>1</td>\n",
              "      <td>0</td>\n",
              "      <td>0</td>\n",
              "      <td>17765</td>\n",
              "      <td>7.2</td>\n",
              "      <td>18967</td>\n",
              "      <td>211</td>\n",
              "      <td>69</td>\n",
              "      <td>2519</td>\n",
              "      <td>2469</td>\n",
              "      <td>21.1</td>\n",
              "      <td>1776.5</td>\n",
              "      <td>46</td>\n",
              "      <td>3</td>\n",
              "      <td>0</td>\n",
              "      <td>7</td>\n",
              "      <td>0</td>\n",
              "      <td>0</td>\n",
              "      <td>0</td>\n",
              "      <td>0</td>\n",
              "      <td>15246</td>\n",
              "      <td>6.8</td>\n",
              "      <td>16498</td>\n",
              "      <td>229</td>\n",
              "      <td>34</td>\n",
              "      <td>-2519</td>\n",
              "      <td>-2469</td>\n",
              "      <td>22.9</td>\n",
              "      <td>1524.6</td>\n",
              "    </tr>\n",
              "    <tr>\n",
              "      <th>9875</th>\n",
              "      <td>1</td>\n",
              "      <td>54</td>\n",
              "      <td>0</td>\n",
              "      <td>0</td>\n",
              "      <td>6</td>\n",
              "      <td>4</td>\n",
              "      <td>8</td>\n",
              "      <td>1</td>\n",
              "      <td>1</td>\n",
              "      <td>0</td>\n",
              "      <td>0</td>\n",
              "      <td>16238</td>\n",
              "      <td>7.2</td>\n",
              "      <td>19255</td>\n",
              "      <td>233</td>\n",
              "      <td>48</td>\n",
              "      <td>782</td>\n",
              "      <td>888</td>\n",
              "      <td>23.3</td>\n",
              "      <td>1623.8</td>\n",
              "      <td>12</td>\n",
              "      <td>21</td>\n",
              "      <td>1</td>\n",
              "      <td>3</td>\n",
              "      <td>0</td>\n",
              "      <td>0</td>\n",
              "      <td>0</td>\n",
              "      <td>0</td>\n",
              "      <td>15456</td>\n",
              "      <td>7.0</td>\n",
              "      <td>18367</td>\n",
              "      <td>206</td>\n",
              "      <td>56</td>\n",
              "      <td>-782</td>\n",
              "      <td>-888</td>\n",
              "      <td>20.6</td>\n",
              "      <td>1545.6</td>\n",
              "    </tr>\n",
              "    <tr>\n",
              "      <th>9876</th>\n",
              "      <td>0</td>\n",
              "      <td>23</td>\n",
              "      <td>1</td>\n",
              "      <td>0</td>\n",
              "      <td>6</td>\n",
              "      <td>7</td>\n",
              "      <td>5</td>\n",
              "      <td>0</td>\n",
              "      <td>0</td>\n",
              "      <td>0</td>\n",
              "      <td>0</td>\n",
              "      <td>15903</td>\n",
              "      <td>7.0</td>\n",
              "      <td>18032</td>\n",
              "      <td>210</td>\n",
              "      <td>45</td>\n",
              "      <td>-2416</td>\n",
              "      <td>-1877</td>\n",
              "      <td>21.0</td>\n",
              "      <td>1590.3</td>\n",
              "      <td>14</td>\n",
              "      <td>0</td>\n",
              "      <td>1</td>\n",
              "      <td>11</td>\n",
              "      <td>1</td>\n",
              "      <td>1</td>\n",
              "      <td>0</td>\n",
              "      <td>0</td>\n",
              "      <td>18319</td>\n",
              "      <td>7.4</td>\n",
              "      <td>19909</td>\n",
              "      <td>261</td>\n",
              "      <td>60</td>\n",
              "      <td>2416</td>\n",
              "      <td>1877</td>\n",
              "      <td>26.1</td>\n",
              "      <td>1831.9</td>\n",
              "    </tr>\n",
              "    <tr>\n",
              "      <th>9877</th>\n",
              "      <td>0</td>\n",
              "      <td>14</td>\n",
              "      <td>4</td>\n",
              "      <td>1</td>\n",
              "      <td>2</td>\n",
              "      <td>3</td>\n",
              "      <td>3</td>\n",
              "      <td>1</td>\n",
              "      <td>1</td>\n",
              "      <td>0</td>\n",
              "      <td>0</td>\n",
              "      <td>14459</td>\n",
              "      <td>6.6</td>\n",
              "      <td>17229</td>\n",
              "      <td>224</td>\n",
              "      <td>48</td>\n",
              "      <td>-839</td>\n",
              "      <td>-1085</td>\n",
              "      <td>22.4</td>\n",
              "      <td>1445.9</td>\n",
              "      <td>66</td>\n",
              "      <td>4</td>\n",
              "      <td>0</td>\n",
              "      <td>1</td>\n",
              "      <td>0</td>\n",
              "      <td>0</td>\n",
              "      <td>0</td>\n",
              "      <td>0</td>\n",
              "      <td>15298</td>\n",
              "      <td>7.2</td>\n",
              "      <td>18314</td>\n",
              "      <td>247</td>\n",
              "      <td>40</td>\n",
              "      <td>839</td>\n",
              "      <td>1085</td>\n",
              "      <td>24.7</td>\n",
              "      <td>1529.8</td>\n",
              "    </tr>\n",
              "    <tr>\n",
              "      <th>9878</th>\n",
              "      <td>1</td>\n",
              "      <td>18</td>\n",
              "      <td>0</td>\n",
              "      <td>1</td>\n",
              "      <td>6</td>\n",
              "      <td>6</td>\n",
              "      <td>5</td>\n",
              "      <td>0</td>\n",
              "      <td>0</td>\n",
              "      <td>0</td>\n",
              "      <td>0</td>\n",
              "      <td>16266</td>\n",
              "      <td>7.0</td>\n",
              "      <td>17321</td>\n",
              "      <td>207</td>\n",
              "      <td>44</td>\n",
              "      <td>927</td>\n",
              "      <td>-58</td>\n",
              "      <td>20.7</td>\n",
              "      <td>1626.6</td>\n",
              "      <td>9</td>\n",
              "      <td>2</td>\n",
              "      <td>0</td>\n",
              "      <td>4</td>\n",
              "      <td>1</td>\n",
              "      <td>1</td>\n",
              "      <td>0</td>\n",
              "      <td>0</td>\n",
              "      <td>15339</td>\n",
              "      <td>6.8</td>\n",
              "      <td>17379</td>\n",
              "      <td>201</td>\n",
              "      <td>46</td>\n",
              "      <td>-927</td>\n",
              "      <td>58</td>\n",
              "      <td>20.1</td>\n",
              "      <td>1533.9</td>\n",
              "    </tr>\n",
              "  </tbody>\n",
              "</table>\n",
              "<p>9879 rows × 37 columns</p>\n",
              "</div>"
            ],
            "text/plain": [
              "      blueWins  blueWardsPlaced  ...  redCSPerMin  redGoldPerMin\n",
              "0            0               28  ...         19.7         1656.7\n",
              "1            0               12  ...         24.0         1762.0\n",
              "2            0               15  ...         20.3         1728.5\n",
              "3            0               43  ...         23.5         1647.8\n",
              "4            0               75  ...         22.5         1740.4\n",
              "...        ...              ...  ...          ...            ...\n",
              "9874         1               17  ...         22.9         1524.6\n",
              "9875         1               54  ...         20.6         1545.6\n",
              "9876         0               23  ...         26.1         1831.9\n",
              "9877         0               14  ...         24.7         1529.8\n",
              "9878         1               18  ...         20.1         1533.9\n",
              "\n",
              "[9879 rows x 37 columns]"
            ]
          },
          "metadata": {},
          "execution_count": 35
        }
      ]
    },
    {
      "cell_type": "code",
      "metadata": {
        "id": "UcVUEm0ydNGs"
      },
      "source": [
        "df['blueWardsPlaced']=np.log1p(df['blueWardsPlaced'])"
      ],
      "execution_count": 48,
      "outputs": []
    },
    {
      "cell_type": "code",
      "metadata": {
        "colab": {
          "base_uri": "https://localhost:8080/",
          "height": 443
        },
        "id": "L9pD53pnedaP",
        "outputId": "5c185723-9eb5-42d4-8de9-be5912f58d2a"
      },
      "source": [
        "df"
      ],
      "execution_count": 49,
      "outputs": [
        {
          "output_type": "execute_result",
          "data": {
            "text/html": [
              "<div>\n",
              "<style scoped>\n",
              "    .dataframe tbody tr th:only-of-type {\n",
              "        vertical-align: middle;\n",
              "    }\n",
              "\n",
              "    .dataframe tbody tr th {\n",
              "        vertical-align: top;\n",
              "    }\n",
              "\n",
              "    .dataframe thead th {\n",
              "        text-align: right;\n",
              "    }\n",
              "</style>\n",
              "<table border=\"1\" class=\"dataframe\">\n",
              "  <thead>\n",
              "    <tr style=\"text-align: right;\">\n",
              "      <th></th>\n",
              "      <th>blueWins</th>\n",
              "      <th>blueWardsPlaced</th>\n",
              "      <th>blueWardsDestroyed</th>\n",
              "      <th>blueFirstBlood</th>\n",
              "      <th>blueKills</th>\n",
              "      <th>blueDeaths</th>\n",
              "      <th>blueAssists</th>\n",
              "      <th>blueEliteMonsters</th>\n",
              "      <th>blueDragons</th>\n",
              "      <th>blueHeralds</th>\n",
              "      <th>blueTowersDestroyed</th>\n",
              "      <th>blueTotalGold</th>\n",
              "      <th>blueAvgLevel</th>\n",
              "      <th>blueTotalExperience</th>\n",
              "      <th>blueTotalMinionsKilled</th>\n",
              "      <th>blueTotalJungleMinionsKilled</th>\n",
              "      <th>blueGoldDiff</th>\n",
              "      <th>blueExperienceDiff</th>\n",
              "      <th>blueCSPerMin</th>\n",
              "      <th>blueGoldPerMin</th>\n",
              "      <th>redWardsPlaced</th>\n",
              "      <th>redWardsDestroyed</th>\n",
              "      <th>redFirstBlood</th>\n",
              "      <th>redAssists</th>\n",
              "      <th>redEliteMonsters</th>\n",
              "      <th>redDragons</th>\n",
              "      <th>redHeralds</th>\n",
              "      <th>redTowersDestroyed</th>\n",
              "      <th>redTotalGold</th>\n",
              "      <th>redAvgLevel</th>\n",
              "      <th>redTotalExperience</th>\n",
              "      <th>redTotalMinionsKilled</th>\n",
              "      <th>redTotalJungleMinionsKilled</th>\n",
              "      <th>redGoldDiff</th>\n",
              "      <th>redExperienceDiff</th>\n",
              "      <th>redCSPerMin</th>\n",
              "      <th>redGoldPerMin</th>\n",
              "    </tr>\n",
              "  </thead>\n",
              "  <tbody>\n",
              "    <tr>\n",
              "      <th>0</th>\n",
              "      <td>0</td>\n",
              "      <td>3.367296</td>\n",
              "      <td>2</td>\n",
              "      <td>1</td>\n",
              "      <td>9</td>\n",
              "      <td>6</td>\n",
              "      <td>11</td>\n",
              "      <td>0</td>\n",
              "      <td>0</td>\n",
              "      <td>0</td>\n",
              "      <td>0</td>\n",
              "      <td>17210</td>\n",
              "      <td>6.6</td>\n",
              "      <td>17039</td>\n",
              "      <td>195</td>\n",
              "      <td>36</td>\n",
              "      <td>643</td>\n",
              "      <td>-8</td>\n",
              "      <td>19.5</td>\n",
              "      <td>1721.0</td>\n",
              "      <td>15</td>\n",
              "      <td>6</td>\n",
              "      <td>0</td>\n",
              "      <td>8</td>\n",
              "      <td>0</td>\n",
              "      <td>0</td>\n",
              "      <td>0</td>\n",
              "      <td>0</td>\n",
              "      <td>16567</td>\n",
              "      <td>6.8</td>\n",
              "      <td>17047</td>\n",
              "      <td>197</td>\n",
              "      <td>55</td>\n",
              "      <td>-643</td>\n",
              "      <td>8</td>\n",
              "      <td>19.7</td>\n",
              "      <td>1656.7</td>\n",
              "    </tr>\n",
              "    <tr>\n",
              "      <th>1</th>\n",
              "      <td>0</td>\n",
              "      <td>2.564949</td>\n",
              "      <td>1</td>\n",
              "      <td>0</td>\n",
              "      <td>5</td>\n",
              "      <td>5</td>\n",
              "      <td>5</td>\n",
              "      <td>0</td>\n",
              "      <td>0</td>\n",
              "      <td>0</td>\n",
              "      <td>0</td>\n",
              "      <td>14712</td>\n",
              "      <td>6.6</td>\n",
              "      <td>16265</td>\n",
              "      <td>174</td>\n",
              "      <td>43</td>\n",
              "      <td>-2908</td>\n",
              "      <td>-1173</td>\n",
              "      <td>17.4</td>\n",
              "      <td>1471.2</td>\n",
              "      <td>12</td>\n",
              "      <td>1</td>\n",
              "      <td>1</td>\n",
              "      <td>2</td>\n",
              "      <td>2</td>\n",
              "      <td>1</td>\n",
              "      <td>1</td>\n",
              "      <td>1</td>\n",
              "      <td>17620</td>\n",
              "      <td>6.8</td>\n",
              "      <td>17438</td>\n",
              "      <td>240</td>\n",
              "      <td>52</td>\n",
              "      <td>2908</td>\n",
              "      <td>1173</td>\n",
              "      <td>24.0</td>\n",
              "      <td>1762.0</td>\n",
              "    </tr>\n",
              "    <tr>\n",
              "      <th>2</th>\n",
              "      <td>0</td>\n",
              "      <td>2.772589</td>\n",
              "      <td>0</td>\n",
              "      <td>0</td>\n",
              "      <td>7</td>\n",
              "      <td>11</td>\n",
              "      <td>4</td>\n",
              "      <td>1</td>\n",
              "      <td>1</td>\n",
              "      <td>0</td>\n",
              "      <td>0</td>\n",
              "      <td>16113</td>\n",
              "      <td>6.4</td>\n",
              "      <td>16221</td>\n",
              "      <td>186</td>\n",
              "      <td>46</td>\n",
              "      <td>-1172</td>\n",
              "      <td>-1033</td>\n",
              "      <td>18.6</td>\n",
              "      <td>1611.3</td>\n",
              "      <td>15</td>\n",
              "      <td>3</td>\n",
              "      <td>1</td>\n",
              "      <td>14</td>\n",
              "      <td>0</td>\n",
              "      <td>0</td>\n",
              "      <td>0</td>\n",
              "      <td>0</td>\n",
              "      <td>17285</td>\n",
              "      <td>6.8</td>\n",
              "      <td>17254</td>\n",
              "      <td>203</td>\n",
              "      <td>28</td>\n",
              "      <td>1172</td>\n",
              "      <td>1033</td>\n",
              "      <td>20.3</td>\n",
              "      <td>1728.5</td>\n",
              "    </tr>\n",
              "    <tr>\n",
              "      <th>3</th>\n",
              "      <td>0</td>\n",
              "      <td>3.784190</td>\n",
              "      <td>1</td>\n",
              "      <td>0</td>\n",
              "      <td>4</td>\n",
              "      <td>5</td>\n",
              "      <td>5</td>\n",
              "      <td>1</td>\n",
              "      <td>0</td>\n",
              "      <td>1</td>\n",
              "      <td>0</td>\n",
              "      <td>15157</td>\n",
              "      <td>7.0</td>\n",
              "      <td>17954</td>\n",
              "      <td>201</td>\n",
              "      <td>55</td>\n",
              "      <td>-1321</td>\n",
              "      <td>-7</td>\n",
              "      <td>20.1</td>\n",
              "      <td>1515.7</td>\n",
              "      <td>15</td>\n",
              "      <td>2</td>\n",
              "      <td>1</td>\n",
              "      <td>10</td>\n",
              "      <td>0</td>\n",
              "      <td>0</td>\n",
              "      <td>0</td>\n",
              "      <td>0</td>\n",
              "      <td>16478</td>\n",
              "      <td>7.0</td>\n",
              "      <td>17961</td>\n",
              "      <td>235</td>\n",
              "      <td>47</td>\n",
              "      <td>1321</td>\n",
              "      <td>7</td>\n",
              "      <td>23.5</td>\n",
              "      <td>1647.8</td>\n",
              "    </tr>\n",
              "    <tr>\n",
              "      <th>4</th>\n",
              "      <td>0</td>\n",
              "      <td>4.330733</td>\n",
              "      <td>4</td>\n",
              "      <td>0</td>\n",
              "      <td>6</td>\n",
              "      <td>6</td>\n",
              "      <td>6</td>\n",
              "      <td>0</td>\n",
              "      <td>0</td>\n",
              "      <td>0</td>\n",
              "      <td>0</td>\n",
              "      <td>16400</td>\n",
              "      <td>7.0</td>\n",
              "      <td>18543</td>\n",
              "      <td>210</td>\n",
              "      <td>57</td>\n",
              "      <td>-1004</td>\n",
              "      <td>230</td>\n",
              "      <td>21.0</td>\n",
              "      <td>1640.0</td>\n",
              "      <td>17</td>\n",
              "      <td>2</td>\n",
              "      <td>1</td>\n",
              "      <td>7</td>\n",
              "      <td>1</td>\n",
              "      <td>1</td>\n",
              "      <td>0</td>\n",
              "      <td>0</td>\n",
              "      <td>17404</td>\n",
              "      <td>7.0</td>\n",
              "      <td>18313</td>\n",
              "      <td>225</td>\n",
              "      <td>67</td>\n",
              "      <td>1004</td>\n",
              "      <td>-230</td>\n",
              "      <td>22.5</td>\n",
              "      <td>1740.4</td>\n",
              "    </tr>\n",
              "    <tr>\n",
              "      <th>...</th>\n",
              "      <td>...</td>\n",
              "      <td>...</td>\n",
              "      <td>...</td>\n",
              "      <td>...</td>\n",
              "      <td>...</td>\n",
              "      <td>...</td>\n",
              "      <td>...</td>\n",
              "      <td>...</td>\n",
              "      <td>...</td>\n",
              "      <td>...</td>\n",
              "      <td>...</td>\n",
              "      <td>...</td>\n",
              "      <td>...</td>\n",
              "      <td>...</td>\n",
              "      <td>...</td>\n",
              "      <td>...</td>\n",
              "      <td>...</td>\n",
              "      <td>...</td>\n",
              "      <td>...</td>\n",
              "      <td>...</td>\n",
              "      <td>...</td>\n",
              "      <td>...</td>\n",
              "      <td>...</td>\n",
              "      <td>...</td>\n",
              "      <td>...</td>\n",
              "      <td>...</td>\n",
              "      <td>...</td>\n",
              "      <td>...</td>\n",
              "      <td>...</td>\n",
              "      <td>...</td>\n",
              "      <td>...</td>\n",
              "      <td>...</td>\n",
              "      <td>...</td>\n",
              "      <td>...</td>\n",
              "      <td>...</td>\n",
              "      <td>...</td>\n",
              "      <td>...</td>\n",
              "    </tr>\n",
              "    <tr>\n",
              "      <th>9874</th>\n",
              "      <td>1</td>\n",
              "      <td>2.890372</td>\n",
              "      <td>2</td>\n",
              "      <td>1</td>\n",
              "      <td>7</td>\n",
              "      <td>4</td>\n",
              "      <td>5</td>\n",
              "      <td>1</td>\n",
              "      <td>1</td>\n",
              "      <td>0</td>\n",
              "      <td>0</td>\n",
              "      <td>17765</td>\n",
              "      <td>7.2</td>\n",
              "      <td>18967</td>\n",
              "      <td>211</td>\n",
              "      <td>69</td>\n",
              "      <td>2519</td>\n",
              "      <td>2469</td>\n",
              "      <td>21.1</td>\n",
              "      <td>1776.5</td>\n",
              "      <td>46</td>\n",
              "      <td>3</td>\n",
              "      <td>0</td>\n",
              "      <td>7</td>\n",
              "      <td>0</td>\n",
              "      <td>0</td>\n",
              "      <td>0</td>\n",
              "      <td>0</td>\n",
              "      <td>15246</td>\n",
              "      <td>6.8</td>\n",
              "      <td>16498</td>\n",
              "      <td>229</td>\n",
              "      <td>34</td>\n",
              "      <td>-2519</td>\n",
              "      <td>-2469</td>\n",
              "      <td>22.9</td>\n",
              "      <td>1524.6</td>\n",
              "    </tr>\n",
              "    <tr>\n",
              "      <th>9875</th>\n",
              "      <td>1</td>\n",
              "      <td>4.007333</td>\n",
              "      <td>0</td>\n",
              "      <td>0</td>\n",
              "      <td>6</td>\n",
              "      <td>4</td>\n",
              "      <td>8</td>\n",
              "      <td>1</td>\n",
              "      <td>1</td>\n",
              "      <td>0</td>\n",
              "      <td>0</td>\n",
              "      <td>16238</td>\n",
              "      <td>7.2</td>\n",
              "      <td>19255</td>\n",
              "      <td>233</td>\n",
              "      <td>48</td>\n",
              "      <td>782</td>\n",
              "      <td>888</td>\n",
              "      <td>23.3</td>\n",
              "      <td>1623.8</td>\n",
              "      <td>12</td>\n",
              "      <td>21</td>\n",
              "      <td>1</td>\n",
              "      <td>3</td>\n",
              "      <td>0</td>\n",
              "      <td>0</td>\n",
              "      <td>0</td>\n",
              "      <td>0</td>\n",
              "      <td>15456</td>\n",
              "      <td>7.0</td>\n",
              "      <td>18367</td>\n",
              "      <td>206</td>\n",
              "      <td>56</td>\n",
              "      <td>-782</td>\n",
              "      <td>-888</td>\n",
              "      <td>20.6</td>\n",
              "      <td>1545.6</td>\n",
              "    </tr>\n",
              "    <tr>\n",
              "      <th>9876</th>\n",
              "      <td>0</td>\n",
              "      <td>3.178054</td>\n",
              "      <td>1</td>\n",
              "      <td>0</td>\n",
              "      <td>6</td>\n",
              "      <td>7</td>\n",
              "      <td>5</td>\n",
              "      <td>0</td>\n",
              "      <td>0</td>\n",
              "      <td>0</td>\n",
              "      <td>0</td>\n",
              "      <td>15903</td>\n",
              "      <td>7.0</td>\n",
              "      <td>18032</td>\n",
              "      <td>210</td>\n",
              "      <td>45</td>\n",
              "      <td>-2416</td>\n",
              "      <td>-1877</td>\n",
              "      <td>21.0</td>\n",
              "      <td>1590.3</td>\n",
              "      <td>14</td>\n",
              "      <td>0</td>\n",
              "      <td>1</td>\n",
              "      <td>11</td>\n",
              "      <td>1</td>\n",
              "      <td>1</td>\n",
              "      <td>0</td>\n",
              "      <td>0</td>\n",
              "      <td>18319</td>\n",
              "      <td>7.4</td>\n",
              "      <td>19909</td>\n",
              "      <td>261</td>\n",
              "      <td>60</td>\n",
              "      <td>2416</td>\n",
              "      <td>1877</td>\n",
              "      <td>26.1</td>\n",
              "      <td>1831.9</td>\n",
              "    </tr>\n",
              "    <tr>\n",
              "      <th>9877</th>\n",
              "      <td>0</td>\n",
              "      <td>2.708050</td>\n",
              "      <td>4</td>\n",
              "      <td>1</td>\n",
              "      <td>2</td>\n",
              "      <td>3</td>\n",
              "      <td>3</td>\n",
              "      <td>1</td>\n",
              "      <td>1</td>\n",
              "      <td>0</td>\n",
              "      <td>0</td>\n",
              "      <td>14459</td>\n",
              "      <td>6.6</td>\n",
              "      <td>17229</td>\n",
              "      <td>224</td>\n",
              "      <td>48</td>\n",
              "      <td>-839</td>\n",
              "      <td>-1085</td>\n",
              "      <td>22.4</td>\n",
              "      <td>1445.9</td>\n",
              "      <td>66</td>\n",
              "      <td>4</td>\n",
              "      <td>0</td>\n",
              "      <td>1</td>\n",
              "      <td>0</td>\n",
              "      <td>0</td>\n",
              "      <td>0</td>\n",
              "      <td>0</td>\n",
              "      <td>15298</td>\n",
              "      <td>7.2</td>\n",
              "      <td>18314</td>\n",
              "      <td>247</td>\n",
              "      <td>40</td>\n",
              "      <td>839</td>\n",
              "      <td>1085</td>\n",
              "      <td>24.7</td>\n",
              "      <td>1529.8</td>\n",
              "    </tr>\n",
              "    <tr>\n",
              "      <th>9878</th>\n",
              "      <td>1</td>\n",
              "      <td>2.944439</td>\n",
              "      <td>0</td>\n",
              "      <td>1</td>\n",
              "      <td>6</td>\n",
              "      <td>6</td>\n",
              "      <td>5</td>\n",
              "      <td>0</td>\n",
              "      <td>0</td>\n",
              "      <td>0</td>\n",
              "      <td>0</td>\n",
              "      <td>16266</td>\n",
              "      <td>7.0</td>\n",
              "      <td>17321</td>\n",
              "      <td>207</td>\n",
              "      <td>44</td>\n",
              "      <td>927</td>\n",
              "      <td>-58</td>\n",
              "      <td>20.7</td>\n",
              "      <td>1626.6</td>\n",
              "      <td>9</td>\n",
              "      <td>2</td>\n",
              "      <td>0</td>\n",
              "      <td>4</td>\n",
              "      <td>1</td>\n",
              "      <td>1</td>\n",
              "      <td>0</td>\n",
              "      <td>0</td>\n",
              "      <td>15339</td>\n",
              "      <td>6.8</td>\n",
              "      <td>17379</td>\n",
              "      <td>201</td>\n",
              "      <td>46</td>\n",
              "      <td>-927</td>\n",
              "      <td>58</td>\n",
              "      <td>20.1</td>\n",
              "      <td>1533.9</td>\n",
              "    </tr>\n",
              "  </tbody>\n",
              "</table>\n",
              "<p>9879 rows × 37 columns</p>\n",
              "</div>"
            ],
            "text/plain": [
              "      blueWins  blueWardsPlaced  ...  redCSPerMin  redGoldPerMin\n",
              "0            0         3.367296  ...         19.7         1656.7\n",
              "1            0         2.564949  ...         24.0         1762.0\n",
              "2            0         2.772589  ...         20.3         1728.5\n",
              "3            0         3.784190  ...         23.5         1647.8\n",
              "4            0         4.330733  ...         22.5         1740.4\n",
              "...        ...              ...  ...          ...            ...\n",
              "9874         1         2.890372  ...         22.9         1524.6\n",
              "9875         1         4.007333  ...         20.6         1545.6\n",
              "9876         0         3.178054  ...         26.1         1831.9\n",
              "9877         0         2.708050  ...         24.7         1529.8\n",
              "9878         1         2.944439  ...         20.1         1533.9\n",
              "\n",
              "[9879 rows x 37 columns]"
            ]
          },
          "metadata": {},
          "execution_count": 49
        }
      ]
    },
    {
      "cell_type": "code",
      "metadata": {
        "colab": {
          "base_uri": "https://localhost:8080/",
          "height": 297
        },
        "id": "Sl8sF1h9f-7l",
        "outputId": "7d01a966-8ad9-4cdd-df7b-f5b75b12caa2"
      },
      "source": [
        "sns.histplot(data=df,x='blueWardsPlaced')"
      ],
      "execution_count": 50,
      "outputs": [
        {
          "output_type": "execute_result",
          "data": {
            "text/plain": [
              "<matplotlib.axes._subplots.AxesSubplot at 0x7f76bfc25590>"
            ]
          },
          "metadata": {},
          "execution_count": 50
        },
        {
          "output_type": "display_data",
          "data": {
            "image/png": "[encoded data removed]",
            "text/plain": [
              "<Figure size 432x288 with 1 Axes>"
            ]
          },
          "metadata": {
            "needs_background": "light"
          }
        }
      ]
    },
    {
      "cell_type": "markdown",
      "metadata": {
        "id": "EsFU0G5SgSV0"
      },
      "source": [
        "# 랜덤포레스트로 훈련"
      ]
    },
    {
      "cell_type": "code",
      "metadata": {
        "colab": {
          "base_uri": "https://localhost:8080/"
        },
        "id": "d_lo3l89gR94",
        "outputId": "961e8bcc-61de-4e61-d26f-2ea310ed6bbe"
      },
      "source": [
        "from sklearn.ensemble import RandomForestClassifier \n",
        "\n",
        "model_rf=RandomForestClassifier()\n",
        "model_rf.fit(X_train,y_train)\n",
        "pred=model_rf.predict(X_test)\n",
        "print(classification_report(y_test,pred))"
      ],
      "execution_count": 63,
      "outputs": [
        {
          "output_type": "stream",
          "name": "stdout",
          "text": [
            "              precision    recall  f1-score   support\n",
            "\n",
            "           0       0.72      0.72      0.72      1520\n",
            "           1       0.71      0.70      0.71      1444\n",
            "\n",
            "    accuracy                           0.71      2964\n",
            "   macro avg       0.71      0.71      0.71      2964\n",
            "weighted avg       0.71      0.71      0.71      2964\n",
            "\n"
          ]
        }
      ]
    },
    {
      "cell_type": "markdown",
      "metadata": {
        "id": "pzWAeWOOgx1B"
      },
      "source": [
        "tlqkf.. 뭐가문제야.. 왤케 낮냐"
      ]
    },
    {
      "cell_type": "code",
      "metadata": {
        "id": "Lu2uzlNhgSAO"
      },
      "source": [
        ""
      ],
      "execution_count": null,
      "outputs": []
    },
    {
      "cell_type": "code",
      "metadata": {
        "id": "QK89vy7cgSC1"
      },
      "source": [
        ""
      ],
      "execution_count": null,
      "outputs": []
    },
    {
      "cell_type": "markdown",
      "metadata": {
        "id": "0yFXhmgfgNkK"
      },
      "source": [
        "# 하이퍼파라미터 튜닝\n",
        "\n",
        "랜덤포레스트, 로지스틱회귀, XGBoost로 훈련 돌려버리겠음"
      ]
    },
    {
      "cell_type": "markdown",
      "metadata": {
        "id": "EBYkzFtpg7cs"
      },
      "source": [
        "## 랜덤포레스트"
      ]
    },
    {
      "cell_type": "code",
      "metadata": {
        "colab": {
          "base_uri": "https://localhost:8080/"
        },
        "id": "OrsfwotIg66N",
        "outputId": "42a6ade5-4268-4c49-b8af-91a5c8148ce4"
      },
      "source": [
        "from sklearn.model_selection import GridSearchCV\n",
        "\n",
        "params={\n",
        "    'n_estimators':[300,500],\n",
        "    'max_depth':[6,8,10,12],\n",
        "    'min_samples_leaf':[8,12,18],\n",
        "    'min_samples_split':[8,16,20]\n",
        "}\n",
        "\n",
        "rf_clf=RandomForestClassifier(random_state=0,n_jobs=-1)\n",
        "grid_cv=GridSearchCV(rf_clf,param_grid=params,cv=2,n_jobs=-1)\n",
        "grid_cv.fit(X_train,y_train)\n",
        "\n",
        "print(grid_cv.best_params_)\n",
        "print(grid_cv.best_score_)\n"
      ],
      "execution_count": 66,
      "outputs": [
        {
          "output_type": "stream",
          "name": "stdout",
          "text": [
            "{'max_depth': 10, 'min_samples_leaf': 8, 'min_samples_split': 20, 'n_estimators': 300}\n",
            "0.7355027552415003\n"
          ]
        }
      ]
    },
    {
      "cell_type": "code",
      "metadata": {
        "colab": {
          "base_uri": "https://localhost:8080/"
        },
        "id": "OMmBDK4eoqX5",
        "outputId": "a3e407ec-6da9-4b3d-9b5c-934d18920553"
      },
      "source": [
        "model_rf=RandomForestClassifier(max_depth=10,min_samples_leaf=8,min_samples_split=20,n_estimators=300)\n",
        "model_rf.fit(X_train,y_train)\n",
        "rf_pred=model_rf.predict(X_test)\n",
        "print(classification_report(y_test,pred))"
      ],
      "execution_count": 88,
      "outputs": [
        {
          "output_type": "stream",
          "name": "stdout",
          "text": [
            "              precision    recall  f1-score   support\n",
            "\n",
            "           0       0.72      0.73      0.72      1520\n",
            "           1       0.71      0.70      0.71      1444\n",
            "\n",
            "    accuracy                           0.72      2964\n",
            "   macro avg       0.72      0.72      0.72      2964\n",
            "weighted avg       0.72      0.72      0.72      2964\n",
            "\n"
          ]
        }
      ]
    },
    {
      "cell_type": "code",
      "metadata": {
        "colab": {
          "base_uri": "https://localhost:8080/"
        },
        "id": "JdzAl791gCRW",
        "outputId": "969e9e81-119a-4c2d-d93c-575aa3817fde"
      },
      "source": [
        "params={\n",
        "    'penalty':['l1','l2'],\n",
        "    'C':[0.01,0.1,1,1,5,10]\n",
        "}\n",
        "\n",
        "model_lr=LogisticRegression(random_state=0,n_jobs=-1)\n",
        "grid_cv=GridSearchCV(model_lr,param_grid=params,cv=3,scoring=\"accuracy\")\n",
        "grid_cv.fit(X_train,y_train)\n",
        "\n",
        "print(grid_cv.best_params_)\n",
        "print(grid_cv.best_score_)\n"
      ],
      "execution_count": 68,
      "outputs": [
        {
          "output_type": "stream",
          "name": "stderr",
          "text": [
            "/usr/local/lib/python3.7/dist-packages/sklearn/model_selection/_validation.py:536: FitFailedWarning: Estimator fit failed. The score on this train-test partition for these parameters will be set to nan. Details: \n",
            "ValueError: Solver lbfgs supports only 'l2' or 'none' penalties, got l1 penalty.\n",
            "\n",
            "  FitFailedWarning)\n",
            "/usr/local/lib/python3.7/dist-packages/sklearn/model_selection/_validation.py:536: FitFailedWarning: Estimator fit failed. The score on this train-test partition for these parameters will be set to nan. Details: \n",
            "ValueError: Solver lbfgs supports only 'l2' or 'none' penalties, got l1 penalty.\n",
            "\n",
            "  FitFailedWarning)\n",
            "/usr/local/lib/python3.7/dist-packages/sklearn/model_selection/_validation.py:536: FitFailedWarning: Estimator fit failed. The score on this train-test partition for these parameters will be set to nan. Details: \n",
            "ValueError: Solver lbfgs supports only 'l2' or 'none' penalties, got l1 penalty.\n",
            "\n",
            "  FitFailedWarning)\n",
            "/usr/local/lib/python3.7/dist-packages/sklearn/model_selection/_validation.py:536: FitFailedWarning: Estimator fit failed. The score on this train-test partition for these parameters will be set to nan. Details: \n",
            "ValueError: Solver lbfgs supports only 'l2' or 'none' penalties, got l1 penalty.\n",
            "\n",
            "  FitFailedWarning)\n",
            "/usr/local/lib/python3.7/dist-packages/sklearn/model_selection/_validation.py:536: FitFailedWarning: Estimator fit failed. The score on this train-test partition for these parameters will be set to nan. Details: \n",
            "ValueError: Solver lbfgs supports only 'l2' or 'none' penalties, got l1 penalty.\n",
            "\n",
            "  FitFailedWarning)\n",
            "/usr/local/lib/python3.7/dist-packages/sklearn/model_selection/_validation.py:536: FitFailedWarning: Estimator fit failed. The score on this train-test partition for these parameters will be set to nan. Details: \n",
            "ValueError: Solver lbfgs supports only 'l2' or 'none' penalties, got l1 penalty.\n",
            "\n",
            "  FitFailedWarning)\n"
          ]
        },
        {
          "output_type": "stream",
          "name": "stdout",
          "text": [
            "{'C': 1, 'penalty': 'l2'}\n",
            "0.7344902386117137\n"
          ]
        }
      ]
    },
    {
      "cell_type": "code",
      "metadata": {
        "colab": {
          "base_uri": "https://localhost:8080/"
        },
        "id": "so81PSd-pELt",
        "outputId": "d67075e1-b46c-466f-981b-94d29bb08978"
      },
      "source": [
        "model_lr=LogisticRegression(C=1,penalty='l2')\n",
        "model_lr.fit(X_train,y_train)\n",
        "lr_pred=model_lr.predict(X_test)\n",
        "print(classification_report(y_test,pred))"
      ],
      "execution_count": 87,
      "outputs": [
        {
          "output_type": "stream",
          "name": "stdout",
          "text": [
            "              precision    recall  f1-score   support\n",
            "\n",
            "           0       0.72      0.73      0.72      1520\n",
            "           1       0.71      0.70      0.71      1444\n",
            "\n",
            "    accuracy                           0.72      2964\n",
            "   macro avg       0.72      0.72      0.72      2964\n",
            "weighted avg       0.72      0.72      0.72      2964\n",
            "\n"
          ]
        }
      ]
    },
    {
      "cell_type": "code",
      "metadata": {
        "colab": {
          "base_uri": "https://localhost:8080/"
        },
        "id": "E-r5J26inJUu",
        "outputId": "206a844e-865e-4bd7-bca6-b43e389920c0"
      },
      "source": [
        "params={\n",
        "    'n_estimators':[300,400],\n",
        "    'learning_rate':[0.01,0.05,0.1],\n",
        "    'max_depth':[3,5],\n",
        "    'gamma':[1,2,3],\n",
        "    'sup_sample':[1,2,3]\n",
        "\n",
        "\n",
        "}\n",
        "\n",
        "model_xgb=XGBClassifier(random_state=0,n_jobs=-1)\n",
        "grid_cv=GridSearchCV(model_xgb,param_grid=params,cv=2,scoring=\"accuracy\")\n",
        "grid_cv.fit(X_train,y_train)\n",
        "\n",
        "print(grid_cv.best_params_)\n",
        "print(grid_cv.best_score_)"
      ],
      "execution_count": 72,
      "outputs": [
        {
          "output_type": "stream",
          "name": "stdout",
          "text": [
            "{'gamma': 3, 'learning_rate': 0.01, 'max_depth': 3, 'n_estimators': 400, 'sup_sample': 1}\n",
            "0.7347800031218876\n"
          ]
        }
      ]
    },
    {
      "cell_type": "code",
      "metadata": {
        "colab": {
          "base_uri": "https://localhost:8080/"
        },
        "id": "PjHxnVHFns5_",
        "outputId": "d11597ed-2bd2-4f72-b5ec-82147bae6304"
      },
      "source": [
        "model_xgb=XGBClassifier(n_estimators=400,max_depth=3,learning_rate=0.01,gamma=3,sup_sample=1)\n",
        "model_xgb.fit(X_train,y_train)\n",
        "xgb_pred=model_xgb.predict(X_test)\n",
        "print(classification_report(y_test,pred))"
      ],
      "execution_count": 86,
      "outputs": [
        {
          "output_type": "stream",
          "name": "stdout",
          "text": [
            "              precision    recall  f1-score   support\n",
            "\n",
            "           0       0.72      0.73      0.72      1520\n",
            "           1       0.71      0.70      0.71      1444\n",
            "\n",
            "    accuracy                           0.72      2964\n",
            "   macro avg       0.72      0.72      0.72      2964\n",
            "weighted avg       0.72      0.72      0.72      2964\n",
            "\n"
          ]
        }
      ]
    },
    {
      "cell_type": "code",
      "metadata": {
        "colab": {
          "base_uri": "https://localhost:8080/"
        },
        "id": "BOZ_PcfewTSY",
        "outputId": "a748c2d8-38bb-4b01-bfa6-3f9e0d27c744"
      },
      "source": [
        "from sklearn.ensemble import VotingClassifier\n",
        "\n",
        "#개별 모델을 소프트 보팅 기반의 앙상블 모델로 구현한 분류기\n",
        "vo_clf=VotingClassifier(estimators=[('LR',model_lr),('RF',model_rf),('XGB',model_xgb)],voting='soft')\n",
        "\n",
        "#VotingClassifier 학습/예측 평가\n",
        "vo_clf.fit(X_train,y_train)\n",
        "pred=vo_clf.predict(X_test)\n",
        "print(classification_report(y_test,pred))\n"
      ],
      "execution_count": 75,
      "outputs": [
        {
          "output_type": "stream",
          "name": "stdout",
          "text": [
            "              precision    recall  f1-score   support\n",
            "\n",
            "           0       0.74      0.73      0.73      1520\n",
            "           1       0.72      0.72      0.72      1444\n",
            "\n",
            "    accuracy                           0.73      2964\n",
            "   macro avg       0.73      0.73      0.73      2964\n",
            "weighted avg       0.73      0.73      0.73      2964\n",
            "\n"
          ]
        }
      ]
    },
    {
      "cell_type": "code",
      "metadata": {
        "colab": {
          "base_uri": "https://localhost:8080/"
        },
        "id": "C7eu2ktuy46N",
        "outputId": "1cf95948-6d3d-4bc8-9aa5-6b90088bd676"
      },
      "source": [
        "from sklearn.neighbors import KNeighborsClassifier\n",
        "from sklearn.metrics import accuracy_score\n",
        "\n",
        "model_knn=KNeighborsClassifier(n_neighbors=50)\n",
        "model_knn.fit(X_train,y_train)\n",
        "knn_pred=model_knn.predict(X_test)\n",
        "print(classification_report(y_test,pred))"
      ],
      "execution_count": 85,
      "outputs": [
        {
          "output_type": "stream",
          "name": "stdout",
          "text": [
            "              precision    recall  f1-score   support\n",
            "\n",
            "           0       0.72      0.73      0.72      1520\n",
            "           1       0.71      0.70      0.71      1444\n",
            "\n",
            "    accuracy                           0.72      2964\n",
            "   macro avg       0.72      0.72      0.72      2964\n",
            "weighted avg       0.72      0.72      0.72      2964\n",
            "\n"
          ]
        }
      ]
    },
    {
      "cell_type": "code",
      "metadata": {
        "colab": {
          "base_uri": "https://localhost:8080/"
        },
        "id": "Elhu1rbb0Akr",
        "outputId": "6f23ff14-5ec6-4fa5-814b-46062669876f"
      },
      "source": [
        "from sklearn.ensemble import AdaBoostClassifier\n",
        "\n",
        "ada_clf=AdaBoostClassifier(n_estimators=100)\n",
        "ada_clf.fit(X_train,y_train)\n",
        "ada_pred=ada_clf.predict(X_test)\n",
        "\n",
        "print(classification_report(y_test,ada_pred))"
      ],
      "execution_count": 84,
      "outputs": [
        {
          "output_type": "stream",
          "name": "stdout",
          "text": [
            "              precision    recall  f1-score   support\n",
            "\n",
            "           0       0.72      0.73      0.73      1520\n",
            "           1       0.71      0.70      0.71      1444\n",
            "\n",
            "    accuracy                           0.72      2964\n",
            "   macro avg       0.72      0.72      0.72      2964\n",
            "weighted avg       0.72      0.72      0.72      2964\n",
            "\n"
          ]
        }
      ]
    },
    {
      "cell_type": "markdown",
      "metadata": {
        "id": "c7FoyVPb5pXG"
      },
      "source": [
        "## 스태킹앙상블"
      ]
    },
    {
      "cell_type": "code",
      "metadata": {
        "colab": {
          "base_uri": "https://localhost:8080/"
        },
        "id": "KkWTbMq_0AnA",
        "outputId": "33e1b920-74d4-453b-8384-47816a4aeb1d"
      },
      "source": [
        "pred=np.array([knn_pred,rf_pred,xgb_pred,ada_pred])\n",
        "print(pred.shape)\n",
        "\n",
        "#tranpose를 이용해 행과 열 위치 교환 칼럼 레벨로 각 알고리즘의 예측 결과를 피처로 만듦\n",
        "pred=np.transpose(pred)\n",
        "print(pred.shape)"
      ],
      "execution_count": 91,
      "outputs": [
        {
          "output_type": "stream",
          "name": "stdout",
          "text": [
            "(4, 2964)\n",
            "(2964, 4)\n"
          ]
        }
      ]
    },
    {
      "cell_type": "code",
      "metadata": {
        "id": "u3Gr1jv76Fsx"
      },
      "source": [
        "lr_final=LogisticRegression(C=1,penalty='l2')"
      ],
      "execution_count": 90,
      "outputs": []
    },
    {
      "cell_type": "code",
      "metadata": {
        "colab": {
          "base_uri": "https://localhost:8080/"
        },
        "id": "4TSpXFgK0ApK",
        "outputId": "f877c611-2b89-4159-8735-f8d2514e48d7"
      },
      "source": [
        "lr_final.fit(pred,y_test)\n",
        "final=lr_final.predict(pred)\n",
        "\n",
        "print(\"최종 메타 모델의 예측 정확도 :{0:.4f}\".format(accuracy_score(y_test,final)))"
      ],
      "execution_count": 92,
      "outputs": [
        {
          "output_type": "stream",
          "name": "stdout",
          "text": [
            "최종 메타 모델의 예측 정확도 :0.7298\n"
          ]
        }
      ]
    },
    {
      "cell_type": "markdown",
      "metadata": {
        "id": "dKLhNTzP6XIH"
      },
      "source": [
        "똑같다..^^"
      ]
    },
    {
      "cell_type": "code",
      "metadata": {
        "id": "byQ3khX40Arr"
      },
      "source": [
        ""
      ],
      "execution_count": null,
      "outputs": []
    }
  ]
}