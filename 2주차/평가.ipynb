{
  "nbformat": 4,
  "nbformat_minor": 0,
  "metadata": {
    "colab": {
      "name": "평가",
      "provenance": [],
      "collapsed_sections": [],
      "authorship_tag": "ABX9TyNhz2zZkGsyYrlu8+G99QWO",
      "include_colab_link": true
    },
    "kernelspec": {
      "name": "python3",
      "display_name": "Python 3"
    },
    "language_info": {
      "name": "python"
    }
  },
  "cells": [
    {
      "cell_type": "markdown",
      "metadata": {
        "id": "view-in-github",
        "colab_type": "text"
      },
      "source": [
        "<a href=\"https://colab.research.google.com/github/jiin124/2021_2_SAI_ML/blob/main/%ED%8F%89%EA%B0%80.ipynb\" target=\"_parent\"><img src=\"https://colab.research.google.com/assets/colab-badge.svg\" alt=\"Open In Colab\"/></a>"
      ]
    },
    {
      "cell_type": "markdown",
      "metadata": {
        "id": "_JpZp_aM70KS"
      },
      "source": [
        "# 정확도\n",
        "\n",
        "사이킷런의 BaseEstimator 클래스를 상속받아 마우런 학습을 하지 않고, 성별에 따라 생존자를 예측하는 단순한 CLassifier를 생성함. 사이킷런은 BaseEstimator를 상속받으면 Cistomized 형태의 Estimator를 개발자가 생성할 수 있다. "
      ]
    },
    {
      "cell_type": "code",
      "metadata": {
        "id": "vCR2AgeI2fNS"
      },
      "source": [
        "from sklearn.base import BaseEstimator\n",
        "\n",
        "class MyDummyClassifier(BaseEstimator):\n",
        "  def fit(self,X,y=None):\n",
        "    pass\n",
        "  def predict(self,X):\n",
        "    pred=np.zeros((X.shape[0],1))\n",
        "    for i in range(X.shape[0]):\n",
        "      if X['Sex'].iloc[i]==1:\n",
        "        pred[i]=0\n",
        "      else:\n",
        "        pred[i]=1\n",
        "    return pred"
      ],
      "execution_count": null,
      "outputs": []
    },
    {
      "cell_type": "code",
      "metadata": {
        "id": "fSBGIjymchWY"
      },
      "source": [
        "import os\n",
        "\n",
        "os.environ['KAGGLE_USERNAME'] = 'jiinpp'\n",
        "os.environ['KAGGLE_KEY'] = 'b06d525a9f66198051ccb648b091778a'\n"
      ],
      "execution_count": null,
      "outputs": []
    },
    {
      "cell_type": "code",
      "metadata": {
        "colab": {
          "base_uri": "https://localhost:8080/"
        },
        "id": "X0kkPaB8dD5w",
        "outputId": "086090f3-35af-41ef-d775-3e4ee9062170"
      },
      "source": [
        "!kaggle competitions download -c titanic"
      ],
      "execution_count": null,
      "outputs": [
        {
          "output_type": "stream",
          "name": "stdout",
          "text": [
            "Warning: Looks like you're using an outdated API Version, please consider updating (server 1.5.12 / client 1.5.4)\n",
            "Downloading gender_submission.csv to /content\n",
            "  0% 0.00/3.18k [00:00<?, ?B/s]\n",
            "100% 3.18k/3.18k [00:00<00:00, 2.81MB/s]\n",
            "Downloading test.csv to /content\n",
            "  0% 0.00/28.0k [00:00<?, ?B/s]\n",
            "100% 28.0k/28.0k [00:00<00:00, 28.2MB/s]\n",
            "Downloading train.csv to /content\n",
            "  0% 0.00/59.8k [00:00<?, ?B/s]\n",
            "100% 59.8k/59.8k [00:00<00:00, 55.9MB/s]\n"
          ]
        }
      ]
    },
    {
      "cell_type": "code",
      "metadata": {
        "id": "4Rv-1qsmkCSE"
      },
      "source": [
        "from sklearn.model_selection import train_test_split\n",
        "from sklearn.metrics import accuracy_score\n",
        "from sklearn.preprocessing import LabelEncoder\n",
        "\n",
        "## Null 처리 함수\n",
        "def fillna(df):\n",
        "    df['Age'].fillna(df['Age'].mean(), inplace=True)\n",
        "    df['Cabin'].fillna('N', inplace=True)\n",
        "    df['Embarked'].fillna('N', inplace=True)\n",
        "    df['Fare'].fillna(0, inplace=True)\n",
        "    return df\n",
        "\n",
        "## 머신러닝에 불필요한 피처 제거\n",
        "def drop_features(df):\n",
        "    df.drop(['PassengerId', 'Name', 'Ticket'], axis=1, inplace=True)\n",
        "    return df\n",
        "\n",
        "## Label Encoding 수행\n",
        "def format_features(df):\n",
        "    df['Cabin'] = df['Cabin'].str[:1]\n",
        "    features = ['Cabin', 'Sex', 'Embarked']\n",
        "    for feature in features:\n",
        "        le = LabelEncoder()\n",
        "        le.fit(df[feature])\n",
        "        df[feature] = le.transform(df[feature])\n",
        "    return df\n",
        "\n",
        "## 앞에서 실행한 Data Preprocessing 함수 호출\n",
        "def transform_features(df):\n",
        "    df = fillna(df)\n",
        "    df = drop_features(df)\n",
        "    df = format_features(df)\n",
        "    return df"
      ],
      "execution_count": null,
      "outputs": []
    },
    {
      "cell_type": "code",
      "metadata": {
        "id": "V7b6b9zQYQOB"
      },
      "source": [
        "from sklearn.metrics import accuracy_score,precision_score,recall_score,confusion_matrix\n",
        "\n",
        "def get_clf_eval(y_test,pred):\n",
        "  confusion=confusion_matrix(y_test,pred)\n",
        "  accuracy=accuracy_score(y_test,pred)\n",
        "  precision=precision_score(y_test,pred)\n",
        "  recall=recall_score(y_test,pred)\n",
        "  print('오차행렬')\n",
        "  print(confusion)\n",
        "  print('정확도:{0:.4f}, 정밀도:{1:.4f},재현율:{2:.4f}'.format(accuracy,precision,recall))"
      ],
      "execution_count": null,
      "outputs": []
    },
    {
      "cell_type": "code",
      "metadata": {
        "colab": {
          "base_uri": "https://localhost:8080/"
        },
        "id": "he4c7G32frI9",
        "outputId": "acc2ab15-a043-4ad1-dd22-326d3ef6b1ee"
      },
      "source": [
        "import pandas as pd\n",
        "from sklearn.model_selection import train_test_split\n",
        "from sklearn.metrics import accuracy_score\n",
        "from sklearn.linear_model import LogisticRegression\n",
        "\n",
        "#원본데이터를 재로딩, 데이터 가공, 학습데이터/테스트 데이터 분할\n",
        "titanic_df=pd.read_csv('train.csv')\n",
        "y_titanic_df=titanic_df['Survived']\n",
        "X_titanic_df=titanic_df.drop(['Survived'], axis=1)\n",
        "\n",
        "X_titanic_df=transform_features(X_titanic_df)\n",
        "X_train,X_test,y_train,y_test=train_test_split(X_titanic_df,y_titanic_df,test_size=0.2,random_state=0)\n",
        "\n",
        "lr_clf=LogisticRegression()\n",
        "\n",
        "lr_clf.fit(X_train,y_train)\n",
        "pred=lr_clf.predict(X_test)\n",
        "get_clf_eval(y_test,pred)"
      ],
      "execution_count": null,
      "outputs": [
        {
          "output_type": "stream",
          "name": "stdout",
          "text": [
            "오차행렬\n",
            "[[92 18]\n",
            " [16 53]]\n",
            "정확도:0.8101, 정밀도:0.7465,재현율:0.7681\n"
          ]
        },
        {
          "output_type": "stream",
          "name": "stderr",
          "text": [
            "/usr/local/lib/python3.7/dist-packages/sklearn/linear_model/_logistic.py:940: ConvergenceWarning: lbfgs failed to converge (status=1):\n",
            "STOP: TOTAL NO. of ITERATIONS REACHED LIMIT.\n",
            "\n",
            "Increase the number of iterations (max_iter) or scale the data as shown in:\n",
            "    https://scikit-learn.org/stable/modules/preprocessing.html\n",
            "Please also refer to the documentation for alternative solver options:\n",
            "    https://scikit-learn.org/stable/modules/linear_model.html#logistic-regression\n",
            "  extra_warning_msg=_LOGISTIC_SOLVER_CONVERGENCE_MSG)\n"
          ]
        }
      ]
    },
    {
      "cell_type": "markdown",
      "metadata": {
        "id": "u3xkneESmPVQ"
      },
      "source": [
        "정밀도에 비해 재현율이 낮게 나왔다. 재현율 또는 정밀도를 좀 더 강화할 방법은?"
      ]
    },
    {
      "cell_type": "code",
      "metadata": {
        "colab": {
          "base_uri": "https://localhost:8080/"
        },
        "id": "xZYFTlekjNYp",
        "outputId": "ba7559c9-90f3-4280-d8a9-0fce13a9e8cf"
      },
      "source": [
        "import numpy as np\n",
        "\n",
        "pred_proba=lr_clf.predict_proba(X_test)\n",
        "pred=lr_clf.predict(X_test)\n",
        "print(pred_proba.shape)\n",
        "print(\"pred_proba array에서 앞 3개만 샘플로 추출 : \",pred_proba[:3])\n",
        "\n",
        "#예측 확률 array와 예측 결괏값 array를 병합해 예측 확률과 결괏값을 한눈에 확인\n",
        "pred_proba_result=np.concatenate([pred_proba,pred.reshape(-1,1)],axis=1)\n",
        "print(\"두 개의 class 중에서 더 큰 확률을 클래스 값으로 예측 \\n\",pred_proba_result[:3])"
      ],
      "execution_count": null,
      "outputs": [
        {
          "output_type": "stream",
          "name": "stdout",
          "text": [
            "(179, 2)\n",
            "pred_proba array에서 앞 3개만 샘플로 추출 :  [[0.85200153 0.14799847]\n",
            " [0.89279033 0.10720967]\n",
            " [0.9336069  0.0663931 ]]\n",
            "두 개의 class 중에서 더 큰 확률을 클래스 값으로 예측 \n",
            " [[0.85200153 0.14799847 0.        ]\n",
            " [0.89279033 0.10720967 0.        ]\n",
            " [0.9336069  0.0663931  0.        ]]\n"
          ]
        }
      ]
    },
    {
      "cell_type": "code",
      "metadata": {
        "colab": {
          "base_uri": "https://localhost:8080/"
        },
        "id": "qKW89hDWq8zw",
        "outputId": "4a09d919-e8ee-426b-a282-575fd5803e59"
      },
      "source": [
        "from sklearn.preprocessing import Binarizer\n",
        "\n",
        "X=[[1,-1,2],\n",
        "   [2,0,0],\n",
        "   [0,1.1,1.2]]\n",
        "\n",
        "#X의 개별 원소들이 threshold값보다 같거나 작으면 0을 크면 1을 반환\n",
        "binarizer=Binarizer(threshold=1.1)\n",
        "print(binarizer.fit_transform(X))"
      ],
      "execution_count": null,
      "outputs": [
        {
          "output_type": "stream",
          "name": "stdout",
          "text": [
            "[[0. 0. 1.]\n",
            " [1. 0. 0.]\n",
            " [0. 0. 1.]]\n"
          ]
        }
      ]
    },
    {
      "cell_type": "code",
      "metadata": {
        "colab": {
          "base_uri": "https://localhost:8080/"
        },
        "id": "CTjOcmtdwplo",
        "outputId": "26d5fddd-7f61-4b92-f7c8-86ec420d60f0"
      },
      "source": [
        "from sklearn.preprocessing import Binarizer\n",
        "\n",
        "#Binarizer의 thereshold 설정값, 분류 결정 임곗값임.\n",
        "custom_threshold=0.5\n",
        "\n",
        "#predict_proba() 반환 값의 두 번째 칼럼, 즉 positive클래스 칼럼 하나만 추출해 binarizer을 적용\n",
        "pred_proba_1=pred_proba[:,1].reshape(-1,1)\n",
        "binarizer=Binarizer(threshold=custom_threshold).fit(pred_proba_1)\n",
        "custom_predict=binarizer.transform(pred_proba_1)\n",
        "\n",
        "get_clf_eval(y_test,custom_predict)"
      ],
      "execution_count": null,
      "outputs": [
        {
          "output_type": "stream",
          "name": "stdout",
          "text": [
            "오차행렬\n",
            "[[92 18]\n",
            " [16 53]]\n",
            "정확도:0.8101, 정밀도:0.7465,재현율:0.7681\n"
          ]
        }
      ]
    },
    {
      "cell_type": "markdown",
      "metadata": {
        "id": "d77v1tqI1gh7"
      },
      "source": [
        ""
      ]
    },
    {
      "cell_type": "code",
      "metadata": {
        "colab": {
          "base_uri": "https://localhost:8080/"
        },
        "id": "PhPbpcX7zxPR",
        "outputId": "4607d4d3-cecd-4e22-a423-599481216948"
      },
      "source": [
        "from sklearn.preprocessing import Binarizer\n",
        "\n",
        "#Binarizer의 thereshold 설정값, 분류 결정 임곗값임.\n",
        "custom_threshold=0.4\n",
        "\n",
        "#predict_proba() 반환 값의 두 번째 칼럼, 즉 positive클래스 칼럼 하나만 추출해 binarizer을 적용\n",
        "pred_proba_1=pred_proba[:,1].reshape(-1,1)\n",
        "binarizer=Binarizer(threshold=custom_threshold).fit(pred_proba_1)\n",
        "custom_predict=binarizer.transform(pred_proba_1)\n",
        "\n",
        "get_clf_eval(y_test,custom_predict)"
      ],
      "execution_count": null,
      "outputs": [
        {
          "output_type": "stream",
          "name": "stdout",
          "text": [
            "오차행렬\n",
            "[[86 24]\n",
            " [13 56]]\n",
            "정확도:0.7933, 정밀도:0.7000,재현율:0.8116\n"
          ]
        }
      ]
    },
    {
      "cell_type": "code",
      "metadata": {
        "colab": {
          "base_uri": "https://localhost:8080/"
        },
        "id": "R9jtJbm92xA5",
        "outputId": "3e77ed4c-ec6e-456b-9e17-cd2367c6e012"
      },
      "source": [
        "#테스트를 수행할 모든 임곗값을 리스트 객체로 저장\n",
        "thresholds=[0.4,0.45,0.5,0.55,0.60]\n",
        "\n",
        "def get_eval_by_threshold(y_test,pred_proba_c1,thresholds):\n",
        "  #thresholds list 객체 내의 값을 차례로 iteration하면서 Evaluation 수행\n",
        "  for custom_threshold in thresholds:\n",
        "    binarizer=Binarizer(threshold=custom_threshold).fit(pred_proba_c1)\n",
        "    custom_predict=binarizer.transform(pred_proba_c1)\n",
        "    print('임계값:',custom_threshold)\n",
        "    get_clf_eval(y_test,custom_predict)\n",
        "\n",
        "get_eval_by_threshold(y_test,pred_proba[:,1].reshape(-1,1),thresholds)"
      ],
      "execution_count": null,
      "outputs": [
        {
          "output_type": "stream",
          "name": "stdout",
          "text": [
            "임계값: 0.4\n",
            "오차행렬\n",
            "[[86 24]\n",
            " [13 56]]\n",
            "정확도:0.7933, 정밀도:0.7000,재현율:0.8116\n",
            "임계값: 0.45\n",
            "오차행렬\n",
            "[[91 19]\n",
            " [14 55]]\n",
            "정확도:0.8156, 정밀도:0.7432,재현율:0.7971\n",
            "임계값: 0.5\n",
            "오차행렬\n",
            "[[92 18]\n",
            " [16 53]]\n",
            "정확도:0.8101, 정밀도:0.7465,재현율:0.7681\n",
            "임계값: 0.55\n",
            "오차행렬\n",
            "[[97 13]\n",
            " [18 51]]\n",
            "정확도:0.8268, 정밀도:0.7969,재현율:0.7391\n",
            "임계값: 0.6\n",
            "오차행렬\n",
            "[[99 11]\n",
            " [25 44]]\n",
            "정확도:0.7989, 정밀도:0.8000,재현율:0.6377\n"
          ]
        }
      ]
    },
    {
      "cell_type": "code",
      "metadata": {
        "colab": {
          "base_uri": "https://localhost:8080/"
        },
        "id": "uUnaMEh08B7P",
        "outputId": "4df9c2d6-bb00-435b-eae4-d2811c75c578"
      },
      "source": [
        "from sklearn.metrics import precision_recall_curve\n",
        "\n",
        "#레이블 값이 1일 때의 예측 확률을 추출\n",
        "pred_proba_class1=lr_clf.predict_proba(X_test)[:,1]\n",
        "\n",
        "#실제값 데이터 세트와 레이블 값이 1일 떄의 예측 확률을 precision_recall_curve 인자로 입력\n",
        "precisions,recalls,thresholds=precision_recall_curve(y_test,pred_proba_class1)\n",
        "print('반환한 분류 결정 임곗값 배열의 shape:',thresholds.shape)\n",
        "\n",
        "#반환된 임계값 배열 로우가 147건이므로 샘플로 10건만 추출하되, 임곗값을 15step으로 추출.\n",
        "thr_index=np.arange(0,thresholds.shape[0],15)\n",
        "print('샘플 추출을 위한 임계값 배열의 index 10개 : ',thr_index)\n",
        "print('샘플용 10개의 임곗값 : ',np.round(thresholds[thr_index],2))\n",
        "\n",
        "#15 step 단위로 추출된 임계값에 따른 정밀도와 재현율 값\n",
        "print('샘플 임게값별 정밀도 : ', np.round(precisions[thr_index],3))\n",
        "print('샘플 임계값별 재현율 : ',np.round(recalls[thr_index],3))"
      ],
      "execution_count": null,
      "outputs": [
        {
          "output_type": "stream",
          "name": "stdout",
          "text": [
            "반환한 분류 결정 임곗값 배열의 shape: (166,)\n",
            "샘플 추출을 위한 임계값 배열의 index 10개 :  [  0  15  30  45  60  75  90 105 120 135 150 165]\n",
            "샘플용 10개의 임곗값 :  [0.06 0.1  0.11 0.15 0.19 0.28 0.43 0.57 0.65 0.8  0.91 0.97]\n",
            "샘플 임게값별 정밀도 :  [0.399 0.418 0.464 0.52  0.594 0.659 0.724 0.803 0.826 1.    1.    1.   ]\n",
            "샘플 임계값별 재현율 :  [1.    0.957 0.928 0.928 0.913 0.87  0.797 0.71  0.551 0.449 0.232 0.014]\n"
          ]
        }
      ]
    },
    {
      "cell_type": "markdown",
      "metadata": {
        "id": "sBZu16-4ZmqR"
      },
      "source": [
        ""
      ]
    },
    {
      "cell_type": "code",
      "metadata": {
        "id": "6-EIgrISBVA1"
      },
      "source": [
        "import matplotlib.pyplot as plt\n",
        "import matplotlib.ticker as ticker\n",
        "%matplotlib inline"
      ],
      "execution_count": null,
      "outputs": []
    },
    {
      "cell_type": "code",
      "metadata": {
        "colab": {
          "base_uri": "https://localhost:8080/",
          "height": 388
        },
        "id": "Sw_yI4tJD3ix",
        "outputId": "2196a32b-8ab5-4521-c7c4-938b9dc868d0"
      },
      "source": [
        "def precision_recall_curve_plot(y_test,pred_proba_c1):\n",
        "  #threshold ndarry와 이 threshold에 따른 정밀도, 재현율 ndarray 추출\n",
        "  precisions,recalls,thresholds=precision_recall_curve(y_test,pred_proba_c1)\n",
        "\n",
        "  #X축을 threshold값으로, y축은 정밀도, 재현율 값으로 각각 plot 수행, 정밀도는 점선으로 표시\n",
        "  plt.figure(figsize=(8,6))\n",
        "  threshold_boundary=thresholds.shape[0]\n",
        "  plt.plot(thresholds,precisions[0:threshold_boundary],linestyle='--',label='precision')\n",
        "  plt.plot(thresholds,recalls[0:threshold_boundary],label='recall')\n",
        "\n",
        "  #threshold 값 X축의 scale을 0.1 단위로 변경\n",
        "  start,end=plt.xlim()\n",
        "  plt.xticks(np.round(np.arange(start,end,0.1),2))\n",
        "\n",
        "  #X축,y축 label과 legend 그리고 grid 설정\n",
        "  plt.xlabel('Threshold value')\n",
        "  plt.ylabel('Precision and Recall value')\n",
        "  plt.legend()\n",
        "  plt.grid()\n",
        "\n",
        "precision_recall_curve_plot(y_test,lr_clf.predict_proba(X_test)[:,1])"
      ],
      "execution_count": null,
      "outputs": [
        {
          "output_type": "display_data",
          "data": {
            "image/png": "[encoded data removed]",
            "text/plain": [
              "<Figure size 576x432 with 1 Axes>"
            ]
          },
          "metadata": {
            "needs_background": "light"
          }
        }
      ]
    },
    {
      "cell_type": "code",
      "metadata": {
        "id": "s71lFjrwFaxS",
        "colab": {
          "base_uri": "https://localhost:8080/"
        },
        "outputId": "8e082777-10ed-44be-f1e6-34743720c1fe"
      },
      "source": [
        "from sklearn.metrics import f1_score\n",
        "\n",
        "f1=f1_score(y_test,pred)\n",
        "print('F1 스코어: {0:.4f}'.format(f1))"
      ],
      "execution_count": null,
      "outputs": [
        {
          "output_type": "stream",
          "name": "stdout",
          "text": [
            "F1 스코어: 0.7571\n"
          ]
        }
      ]
    },
    {
      "cell_type": "code",
      "metadata": {
        "colab": {
          "base_uri": "https://localhost:8080/"
        },
        "id": "aryFQqwN2lxb",
        "outputId": "12e38b89-696d-4488-84eb-4813fab0bfbe"
      },
      "source": [
        "def get_clf_eval(y_test,pred):\n",
        "  confusion=confusion_matrix(y_test,pred)#오차행렬\n",
        "  accuracy=accuracy_score(y_test,pred)#정확도\n",
        "  precision=precision_score(y_test,pred)#정밀도\n",
        "  recall=recall_score(y_test,pred)#재현율\n",
        "\n",
        "  #f1 스코어 추가\n",
        "  f1=f1_score(y_test,pred)\n",
        "  print(confusion)\n",
        "\n",
        "  #f1 score print 추가\n",
        "  print(\"정확도 :{0:.4f}, 정밀도 : {0:.4f}, 재현율 : {0:.4f}, f1 : {0:.4f}\".format(accuracy,precision,recall,f1))\n",
        "\n",
        "\n",
        "thresholds=[0.4,0.45,0.5,0.55,0.6]\n",
        "pred_proba=lr_clf.predict_proba(X_test)\n",
        "get_eval_by_threshold(y_test,pred_proba[:,1].reshape(-1,1),thresholds)"
      ],
      "execution_count": null,
      "outputs": [
        {
          "output_type": "stream",
          "name": "stdout",
          "text": [
            "임계값: 0.4\n",
            "[[86 24]\n",
            " [13 56]]\n",
            "정확도 :0.7933, 정밀도 : 0.7933, 재현율 : 0.7933, f1 : 0.7933\n",
            "임계값: 0.45\n",
            "[[91 19]\n",
            " [14 55]]\n",
            "정확도 :0.8156, 정밀도 : 0.8156, 재현율 : 0.8156, f1 : 0.8156\n",
            "임계값: 0.5\n",
            "[[92 18]\n",
            " [16 53]]\n",
            "정확도 :0.8101, 정밀도 : 0.8101, 재현율 : 0.8101, f1 : 0.8101\n",
            "임계값: 0.55\n",
            "[[97 13]\n",
            " [18 51]]\n",
            "정확도 :0.8268, 정밀도 : 0.8268, 재현율 : 0.8268, f1 : 0.8268\n",
            "임계값: 0.6\n",
            "[[99 11]\n",
            " [25 44]]\n",
            "정확도 :0.7989, 정밀도 : 0.7989, 재현율 : 0.7989, f1 : 0.7989\n"
          ]
        }
      ]
    },
    {
      "cell_type": "markdown",
      "metadata": {
        "id": "lhpqLj896auU"
      },
      "source": [
        "#  ROC 곡선과 AUC\n",
        "\n"
      ]
    },
    {
      "cell_type": "markdown",
      "metadata": {
        "id": "P8WcAG63581I"
      },
      "source": [
        "임곗값이 0.55일 때 가장 좋은 값을 보여준다. "
      ]
    },
    {
      "cell_type": "code",
      "metadata": {
        "id": "c2mHUJn4473u",
        "colab": {
          "base_uri": "https://localhost:8080/"
        },
        "outputId": "17dfc593-a0aa-40b6-a90b-0ca52fb2d7c5"
      },
      "source": [
        "from sklearn.metrics import roc_curve\n",
        "\n",
        "#레이블 값이 1일때의 예측 확률을 추출\n",
        "pred_proba_class1=lr_clf.predict_proba(X_test)[:,1]\n",
        "\n",
        "fprs,tprs,thresholds=roc_curve(y_test,pred_proba_class1)\n",
        "#반환된 임계값 배열에서 샘플로 데이터를 추출하되, 임곗값을 5 steps로 추출\n",
        "#thresholds[0]은 max(예측확률)+1로 임의설정, 이를 제외하기 위해 np.arange는 1부터 시작\n",
        "thr_index=np.arange(1,thresholds.shape[0],5)\n",
        "\n",
        "print('샘플 추출을 위한 임곗값 배열의 index:',thr_index)\n",
        "print('샘플 index로 추출한 임곗값 : ',np.round(thresholds[thr_index],2))\n",
        "\n",
        "#5 step 단위로 추출된 임계값에 따른 fpr,tpr 값\n",
        "print('샘플 임곗값별 fpr:' ,np.round(fprs[thr_index],3))\n",
        "print('샘플 임곗값별 tpr: ',np.round(tprs[thr_index],3))"
      ],
      "execution_count": null,
      "outputs": [
        {
          "output_type": "stream",
          "name": "stdout",
          "text": [
            "샘플 추출을 위한 임곗값 배열의 index: [ 1  6 11 16 21 26 31 36 41 46]\n",
            "샘플 index로 추출한 임곗값 :  [0.97 0.69 0.63 0.57 0.38 0.29 0.16 0.11 0.11 0.07]\n",
            "샘플 임곗값별 fpr: [0.    0.045 0.091 0.109 0.227 0.264 0.473 0.673 0.791 0.918]\n",
            "샘플 임곗값별 tpr:  [0.014 0.551 0.594 0.739 0.812 0.87  0.913 0.928 0.942 0.971]\n"
          ]
        }
      ]
    },
    {
      "cell_type": "code",
      "metadata": {
        "colab": {
          "base_uri": "https://localhost:8080/",
          "height": 283
        },
        "id": "zwwPRTDfPjOt",
        "outputId": "4069e564-ab35-4a82-fea1-a561e2a5ee4c"
      },
      "source": [
        "def roc_curve_plot(y_test,pred_proba_c1):\n",
        "  #임곗값에 따른 fpr,tpr 값을 반환 받음\n",
        "  fprs,tprs,thresholds=roc_curve(y_test,pred_proba_c1)\n",
        "  #roc 곡선을 그래프 곡선으로 그림\n",
        "  plt.plot(fprs,tprs,label='ROC')\n",
        "  #가운데 대각선 직선을 그림.\n",
        "  plt.plot([0,1],[0,1],'k--',label='Random')\n",
        "\n",
        "  #FPR X축의 Scale을 0.1 단위로 변경, X,Y 축 명 설정 등\n",
        "  start,end=plt.xlim()\n",
        "  plt.xticks(np.round(np.arange(start,end,0.1),2))\n",
        "  plt.xlim(0,1)\n",
        "  plt.ylim(0,1)\n",
        "  plt.xlabel('FPR(1-sensitivity)')\n",
        "  plt.ylabel('TPR(Recall)')\n",
        "  plt.legend()\n",
        "\n",
        "roc_curve_plot(y_test,pred_proba[:,1])"
      ],
      "execution_count": null,
      "outputs": [
        {
          "output_type": "display_data",
          "data": {
            "image/png": "[encoded data removed]",
            "text/plain": [
              "<Figure size 432x288 with 1 Axes>"
            ]
          },
          "metadata": {
            "needs_background": "light"
          }
        }
      ]
    },
    {
      "cell_type": "code",
      "metadata": {
        "id": "tIHbON4UUS2-"
      },
      "source": [
        "from sklearn.metrics import accuracy_score,confusion_matrix,precision_score\n",
        "from sklearn.metrics import recall_score,f1_score,roc_auc_score\n",
        "import numpy as np \n",
        "\n",
        "print(confusion_matrix(y_target,preds))\n",
        "print('정확도 : ',np.round(accuracy_score(y_target,preds),4))\n",
        "print('정밀도 : ',np.round(precision_score(y_target,preds),4))\n",
        "print(\"재현율 : \",recall_score(y_target,preds),4)"
      ],
      "execution_count": null,
      "outputs": []
    },
    {
      "cell_type": "markdown",
      "metadata": {
        "id": "DtqiBezZX7Aa"
      },
      "source": [
        "평가 함수 "
      ]
    },
    {
      "cell_type": "code",
      "metadata": {
        "id": "ZOGrLVfKUe9d"
      },
      "source": [
        "def get_clf_eval(y_test, pred=None, pred_proba=None):\n",
        "    confusion = confusion_matrix(y_test, pred)\n",
        "    accuracy = accuracy_score(y_test, pred)\n",
        "    precision = precision_score(y_test, pred)\n",
        "    recall = recall_score(y_test, pred)\n",
        "    f1 = f1_score(y_test, pred)\n",
        "    roc_auc = roc_auc_score(y_test, pred)\n",
        "    \n",
        "    print('오차행렬')\n",
        "    print(confusion)\n",
        "    print('정확도: {0:.4f}, 정밀도: {1:.4f}, 재현율: {2:.4f}, F1: {3:.4f}, AUC:{4:.4f}'\n",
        "          .format(accuracy, precision, recall, f1, roc_auc))"
      ],
      "execution_count": null,
      "outputs": []
    },
    {
      "cell_type": "code",
      "metadata": {
        "id": "4Iom9kCzX1xx"
      },
      "source": [
        ""
      ],
      "execution_count": null,
      "outputs": []
    }
  ]
}
