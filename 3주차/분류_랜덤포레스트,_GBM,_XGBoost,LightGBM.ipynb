{
  "nbformat": 4,
  "nbformat_minor": 0,
  "metadata": {
    "colab": {
      "name": "분류 - 랜덤포레스트, GBM, XGBoost, 위스콘신실습.ipynb",
      "provenance": [],
      "collapsed_sections": [],
      "mount_file_id": "1l-y4BmnfPmxx2JxqJuAAAI3D6lmzVDgZ",
      "authorship_tag": "ABX9TyMNbK8o9wubtBMsiIczLfM1",
      "include_colab_link": true
    },
    "kernelspec": {
      "name": "python3",
      "display_name": "Python 3"
    },
    "language_info": {
      "name": "python"
    }
  },
  "cells": [
    {
      "cell_type": "markdown",
      "metadata": {
        "id": "view-in-github",
        "colab_type": "text"
      },
      "source": [
        "<a href=\"https://colab.research.google.com/github/jiin124/2021_2_SAI_ML/blob/main/%EB%B6%84%EB%A5%98_%EB%9E%9C%EB%8D%A4%ED%8F%AC%EB%A0%88%EC%8A%A4%ED%8A%B8%2C_GBM%2C_XGBoost%2C_%EC%9C%84%EC%8A%A4%EC%BD%98%EC%8B%A0%EC%8B%A4%EC%8A%B5.ipynb\" target=\"_parent\"><img src=\"https://colab.research.google.com/assets/colab-badge.svg\" alt=\"Open In Colab\"/></a>"
      ]
    },
    {
      "cell_type": "markdown",
      "metadata": {
        "id": "Hfx_c1bjNfRn"
      },
      "source": [
        "# Human Activity Recognition Using Smartphones Data set"
      ]
    },
    {
      "cell_type": "code",
      "metadata": {
        "colab": {
          "base_uri": "https://localhost:8080/"
        },
        "id": "H3nYrBdjJ0Re",
        "outputId": "0b48de2d-79e6-4854-f2ff-7d540216f671"
      },
      "source": [
        "import pandas as pd\n",
        "import numpy as np\n",
        "import matplotlib.pyplot as plt\n",
        "%matplotlib inline\n",
        "\n",
        "#features.txt파엘이는 피처 이름 index와 피처명이 공백으로 분리되어있다. 이를 dataframe으로 로드\n",
        "feature_name_df=pd.read_csv('drive/MyDrive/human_activity/features.txt',sep='\\s+',\n",
        "                            header=None,names=['column_index','column_name'])\n",
        "\n",
        "#피처명 index를 제거하고, 피처명만 리스트 객체로 생성한 뒤 샘플로 10개만 추출\n",
        "feature_name=feature_name_df.iloc[:,1].values.tolist()\n",
        "print('전체 피처명에서 10개만 추출:',feature_name[:10])"
      ],
      "execution_count": 1,
      "outputs": [
        {
          "output_type": "stream",
          "name": "stdout",
          "text": [
            "전체 피처명에서 10개만 추출: ['tBodyAcc-mean()-X', 'tBodyAcc-mean()-Y', 'tBodyAcc-mean()-Z', 'tBodyAcc-std()-X', 'tBodyAcc-std()-Y', 'tBodyAcc-std()-Z', 'tBodyAcc-mad()-X', 'tBodyAcc-mad()-Y', 'tBodyAcc-mad()-Z', 'tBodyAcc-max()-X']\n"
          ]
        }
      ]
    },
    {
      "cell_type": "markdown",
      "metadata": {
        "id": "t_AFvUmiMY07"
      },
      "source": [
        "피처명을 보면 인체의 움직임과 관련된 속성의 평균/표준편차가 X,Y,Z축 값으로 되어있음을 유추할 수 있다. 위에서 피처명을 가지고 있는 feature_info.txt는 중복된 피처명을 가지고 있다. 이 중복된 피처명들을 이용해 데이터 파일을 데이터 세트 DataFrame에서 유추하면 오류가 발생한다. "
      ]
    },
    {
      "cell_type": "code",
      "metadata": {
        "colab": {
          "base_uri": "https://localhost:8080/",
          "height": 269
        },
        "id": "BdfimWuvNuph",
        "outputId": "369e84ee-4068-44eb-f6ed-60199e57b4fe"
      },
      "source": [
        "feature_dup_df=feature_name_df.groupby('column_name').count()\n",
        "print(feature_dup_df[feature_dup_df['column_index']>1].count())\n",
        "feature_dup_df[feature_dup_df['column_index']>1].head()"
      ],
      "execution_count": 2,
      "outputs": [
        {
          "output_type": "stream",
          "name": "stdout",
          "text": [
            "column_index    42\n",
            "dtype: int64\n"
          ]
        },
        {
          "output_type": "execute_result",
          "data": {
            "text/html": [
              "<div>\n",
              "<style scoped>\n",
              "    .dataframe tbody tr th:only-of-type {\n",
              "        vertical-align: middle;\n",
              "    }\n",
              "\n",
              "    .dataframe tbody tr th {\n",
              "        vertical-align: top;\n",
              "    }\n",
              "\n",
              "    .dataframe thead th {\n",
              "        text-align: right;\n",
              "    }\n",
              "</style>\n",
              "<table border=\"1\" class=\"dataframe\">\n",
              "  <thead>\n",
              "    <tr style=\"text-align: right;\">\n",
              "      <th></th>\n",
              "      <th>column_index</th>\n",
              "    </tr>\n",
              "    <tr>\n",
              "      <th>column_name</th>\n",
              "      <th></th>\n",
              "    </tr>\n",
              "  </thead>\n",
              "  <tbody>\n",
              "    <tr>\n",
              "      <th>fBodyAcc-bandsEnergy()-1,16</th>\n",
              "      <td>3</td>\n",
              "    </tr>\n",
              "    <tr>\n",
              "      <th>fBodyAcc-bandsEnergy()-1,24</th>\n",
              "      <td>3</td>\n",
              "    </tr>\n",
              "    <tr>\n",
              "      <th>fBodyAcc-bandsEnergy()-1,8</th>\n",
              "      <td>3</td>\n",
              "    </tr>\n",
              "    <tr>\n",
              "      <th>fBodyAcc-bandsEnergy()-17,24</th>\n",
              "      <td>3</td>\n",
              "    </tr>\n",
              "    <tr>\n",
              "      <th>fBodyAcc-bandsEnergy()-17,32</th>\n",
              "      <td>3</td>\n",
              "    </tr>\n",
              "  </tbody>\n",
              "</table>\n",
              "</div>"
            ],
            "text/plain": [
              "                              column_index\n",
              "column_name                               \n",
              "fBodyAcc-bandsEnergy()-1,16              3\n",
              "fBodyAcc-bandsEnergy()-1,24              3\n",
              "fBodyAcc-bandsEnergy()-1,8               3\n",
              "fBodyAcc-bandsEnergy()-17,24             3\n",
              "fBodyAcc-bandsEnergy()-17,32             3"
            ]
          },
          "metadata": {},
          "execution_count": 2
        }
      ]
    },
    {
      "cell_type": "markdown",
      "metadata": {
        "id": "GBHd2z0zPNm5"
      },
      "source": [
        "총 42개의 피처명이 중복돼있다. 이 중복된 피처명에 대해서는 원본 피처명에 _1,_2를 추가로 부여해 새로운 피처명을 가지를 dataframe을 반환하는 함수인 get_new_feature_name_df를 생성하겠다"
      ]
    },
    {
      "cell_type": "code",
      "metadata": {
        "id": "6saunzkxOuyc"
      },
      "source": [
        "def get_new_feature_name_df(old_feature_name_df):\n",
        "    feature_dup_df = pd.DataFrame(data=old_feature_name_df.groupby('column_name').cumcount(), columns=['dup_cnt'])\n",
        "    feature_dup_df = feature_dup_df.reset_index()\n",
        "    new_feature_name_df = pd.merge(old_feature_name_df.reset_index(), feature_dup_df, how='outer')\n",
        "    # print(new_feature_name_df.info())\n",
        "    \n",
        "    new_feature_name_df['column_name'] = new_feature_name_df[['column_name', 'dup_cnt']].apply(lambda x : x[0]+'_'+str(x[1]) if x[1] > 0 else x[0], axis=1)\n",
        "    new_feature_name_df = new_feature_name_df.drop(['index'], axis=1)\n",
        "    # print(new_feature_name_df.info())\n",
        "    return new_feature_name_df"
      ],
      "execution_count": 3,
      "outputs": []
    },
    {
      "cell_type": "code",
      "metadata": {
        "id": "jZg1oYVkPKsq"
      },
      "source": [
        "import pandas as pd\n",
        "\n",
        "def get_human_dataset() :\n",
        "    \n",
        "    # 각 데이터 파일들은 공백으로 분리되어 있으므로\n",
        "    # read_csv에서 공백 문자를 sep로 할당\n",
        "    feature_name_df = pd.read_csv('drive/MyDrive//human_activity/features.txt', sep='\\s+',\n",
        "                                 header=None, names=['column_index', 'column_name'])\n",
        "    new_feature_name_df=get_new_feature_name_df(feature_name_df)\n",
        "    # DataFrame에 피처명을 칼럼으로 부여하기 위해 리스트 객체로 다시 변환\n",
        "    feature_name = new_feature_name_df.iloc[:, 1].values.tolist()\n",
        "    \n",
        "    # 학습 피처 데이터 세트와 테스트 피처 데이터를 DataFrame으로 로딩\n",
        "    # 칼럼명은 feature_name 적용\n",
        "    X_train = pd.read_csv('drive/MyDrive//human_activity/train/X_train.txt', sep = '\\s+', names = feature_name)\n",
        "    X_test = pd.read_csv('drive/MyDrive//human_activity/test/X_test.txt', sep = '\\s+', names = feature_name )\n",
        "    \n",
        "    # 학습 레이블과 테스트 레이블 데이터를 DataFrame으로 로딩\n",
        "    # 칼럼명은 action으로 부여\n",
        "    y_train = pd.read_csv('drive/MyDrive//human_activity/train/y_train.txt', sep = '\\s+', header = None, names = ['action'])\n",
        "    y_test = pd.read_csv('drive/MyDrive//human_activity/test/y_test.txt', sep = '\\s+', header = None, names = ['action'])\n",
        "    \n",
        "    # 로드된 학습/테스트용 DataFrame 모두 반환\n",
        "    return X_train, X_test, y_train, y_test\n",
        "\n",
        "X_train, X_test, y_train, y_test = get_human_dataset()"
      ],
      "execution_count": 4,
      "outputs": []
    },
    {
      "cell_type": "code",
      "metadata": {
        "colab": {
          "base_uri": "https://localhost:8080/"
        },
        "id": "OmFSBld2RihK",
        "outputId": "0f1d3846-79df-4931-cc1d-57f74509c6e5"
      },
      "source": [
        "print('##학습 피처 데이터셋 info()')\n",
        "print(X_train.info())"
      ],
      "execution_count": 5,
      "outputs": [
        {
          "output_type": "stream",
          "name": "stdout",
          "text": [
            "##학습 피처 데이터셋 info()\n",
            "<class 'pandas.core.frame.DataFrame'>\n",
            "RangeIndex: 7352 entries, 0 to 7351\n",
            "Columns: 561 entries, tBodyAcc-mean()-X to angle(Z,gravityMean)\n",
            "dtypes: float64(561)\n",
            "memory usage: 31.5 MB\n",
            "None\n"
          ]
        }
      ]
    },
    {
      "cell_type": "code",
      "metadata": {
        "colab": {
          "base_uri": "https://localhost:8080/"
        },
        "id": "3Cwswes1TdI3",
        "outputId": "5d2ac677-31d7-4ab4-ec41-4fb4460827de"
      },
      "source": [
        "# 레이블 값은 1, 2, 3, 4, 5, 6의 6개 값이고\n",
        "# 분포도는 특정 값으로 왜곡되지 않고 비교적 고르게 분포되어 있다\n",
        "print(y_train['action'].value_counts())"
      ],
      "execution_count": 6,
      "outputs": [
        {
          "output_type": "stream",
          "name": "stdout",
          "text": [
            "6    1407\n",
            "5    1374\n",
            "4    1286\n",
            "1    1226\n",
            "2    1073\n",
            "3     986\n",
            "Name: action, dtype: int64\n"
          ]
        }
      ]
    },
    {
      "cell_type": "code",
      "metadata": {
        "colab": {
          "base_uri": "https://localhost:8080/"
        },
        "id": "sQX8aspoTs-K",
        "outputId": "3ae74c35-581b-4a18-b7f0-85d9f5a8cb7b"
      },
      "source": [
        "from sklearn.tree import DecisionTreeClassifier\n",
        "from sklearn.metrics import accuracy_score\n",
        "\n",
        "#예제 반복시마다 동일한 예측 결과 도출을 위해 random_state결정\n",
        "dt_clf=DecisionTreeClassifier(random_state=156)\n",
        "dt_clf.fit(X_train,y_train)\n",
        "pred=dt_clf.predict(X_test)\n",
        "accuracy=accuracy_score(y_test,pred)\n",
        "print(\"결정트리 예측 정확도 : {0:.4f}\".format(accuracy))\n",
        "\n",
        "#DecisionTreeClassfier의 하이퍼 파라미터 추출\n",
        "print(\"DecisionTreeClassifier 기본 하이퍼 파라미터:\\n\",dt_clf.get_params())"
      ],
      "execution_count": null,
      "outputs": [
        {
          "output_type": "stream",
          "name": "stdout",
          "text": [
            "결정트리 예측 정확도 : 0.8548\n",
            "DecisionTreeClassifier 기본 하이퍼 파라미터:\n",
            " {'ccp_alpha': 0.0, 'class_weight': None, 'criterion': 'gini', 'max_depth': None, 'max_features': None, 'max_leaf_nodes': None, 'min_impurity_decrease': 0.0, 'min_impurity_split': None, 'min_samples_leaf': 1, 'min_samples_split': 2, 'min_weight_fraction_leaf': 0.0, 'presort': 'deprecated', 'random_state': 156, 'splitter': 'best'}\n"
          ]
        }
      ]
    },
    {
      "cell_type": "markdown",
      "metadata": {
        "id": "O091-HcvVHNh"
      },
      "source": [
        "약 85.48%의 정확도를 나타내고 있다. 이번에는 결정 트리의 트리 깊이가 예측 정확도에 주는 영향을 살펴보겠다. GridSearchCV를 이용해 사이킷런 결정 트리의 깊이를 조절할 수 있는 하이퍼 파라미터이 max_depth 값을 변화시키면서 예측 성능을 확인해보겠다.\n",
        "\n",
        "\n",
        "\n"
      ]
    },
    {
      "cell_type": "code",
      "metadata": {
        "colab": {
          "base_uri": "https://localhost:8080/",
          "height": 422
        },
        "id": "FCt7TV-9U9Bu",
        "outputId": "89a239fa-f86e-44df-c8de-027dbcfd9838"
      },
      "source": [
        "from sklearn.model_selection import GridSearchCV\n",
        "\n",
        "params={'max_depth':[6,8,10,12,16,20,24]}\n",
        "\n",
        "grid_cv=GridSearchCV(dt_clf,param_grid=params,scoring='accuracy',cv=5,verbose=1)\n",
        "grid_cv.fit(X_train,y_train)\n",
        "print('Gridsearch 최고 평균 정확도 수치: {0:.4f}'.format(grid_cv.best_score_))\n",
        "print('GridSearch 최적 하이퍼 파라미터 :',grid_cv.best_params_)"
      ],
      "execution_count": null,
      "outputs": [
        {
          "output_type": "stream",
          "name": "stdout",
          "text": [
            "Fitting 5 folds for each of 7 candidates, totalling 35 fits\n"
          ]
        },
        {
          "output_type": "stream",
          "name": "stderr",
          "text": [
            "[Parallel(n_jobs=1)]: Using backend SequentialBackend with 1 concurrent workers.\n"
          ]
        },
        {
          "output_type": "error",
          "ename": "KeyboardInterrupt",
          "evalue": "ignored",
          "traceback": [
            "\u001b[0;31m---------------------------------------------------------------------------\u001b[0m",
            "\u001b[0;31mKeyboardInterrupt\u001b[0m                         Traceback (most recent call last)",
            "\u001b[0;32m<ipython-input-8-d8296d0e93db>\u001b[0m in \u001b[0;36m<module>\u001b[0;34m()\u001b[0m\n\u001b[1;32m      4\u001b[0m \u001b[0;34m\u001b[0m\u001b[0m\n\u001b[1;32m      5\u001b[0m \u001b[0mgrid_cv\u001b[0m\u001b[0;34m=\u001b[0m\u001b[0mGridSearchCV\u001b[0m\u001b[0;34m(\u001b[0m\u001b[0mdt_clf\u001b[0m\u001b[0;34m,\u001b[0m\u001b[0mparam_grid\u001b[0m\u001b[0;34m=\u001b[0m\u001b[0mparams\u001b[0m\u001b[0;34m,\u001b[0m\u001b[0mscoring\u001b[0m\u001b[0;34m=\u001b[0m\u001b[0;34m'accuracy'\u001b[0m\u001b[0;34m,\u001b[0m\u001b[0mcv\u001b[0m\u001b[0;34m=\u001b[0m\u001b[0;36m5\u001b[0m\u001b[0;34m,\u001b[0m\u001b[0mverbose\u001b[0m\u001b[0;34m=\u001b[0m\u001b[0;36m1\u001b[0m\u001b[0;34m)\u001b[0m\u001b[0;34m\u001b[0m\u001b[0;34m\u001b[0m\u001b[0m\n\u001b[0;32m----> 6\u001b[0;31m \u001b[0mgrid_cv\u001b[0m\u001b[0;34m.\u001b[0m\u001b[0mfit\u001b[0m\u001b[0;34m(\u001b[0m\u001b[0mX_train\u001b[0m\u001b[0;34m,\u001b[0m\u001b[0my_train\u001b[0m\u001b[0;34m)\u001b[0m\u001b[0;34m\u001b[0m\u001b[0;34m\u001b[0m\u001b[0m\n\u001b[0m\u001b[1;32m      7\u001b[0m \u001b[0mprint\u001b[0m\u001b[0;34m(\u001b[0m\u001b[0;34m'Gridsearch 최고 평균 정확도 수치: {0:.4f}'\u001b[0m\u001b[0;34m.\u001b[0m\u001b[0mformat\u001b[0m\u001b[0;34m(\u001b[0m\u001b[0mgrid_cv\u001b[0m\u001b[0;34m.\u001b[0m\u001b[0mbest_score_\u001b[0m\u001b[0;34m)\u001b[0m\u001b[0;34m)\u001b[0m\u001b[0;34m\u001b[0m\u001b[0;34m\u001b[0m\u001b[0m\n\u001b[1;32m      8\u001b[0m \u001b[0mprint\u001b[0m\u001b[0;34m(\u001b[0m\u001b[0;34m'GridSearch 최적 하이퍼 파라미터 :'\u001b[0m\u001b[0;34m,\u001b[0m\u001b[0mgrid_cv\u001b[0m\u001b[0;34m.\u001b[0m\u001b[0mbest_params_\u001b[0m\u001b[0;34m)\u001b[0m\u001b[0;34m\u001b[0m\u001b[0;34m\u001b[0m\u001b[0m\n",
            "\u001b[0;32m/usr/local/lib/python3.7/dist-packages/sklearn/model_selection/_search.py\u001b[0m in \u001b[0;36mfit\u001b[0;34m(self, X, y, groups, **fit_params)\u001b[0m\n\u001b[1;32m    708\u001b[0m                 \u001b[0;32mreturn\u001b[0m \u001b[0mresults\u001b[0m\u001b[0;34m\u001b[0m\u001b[0;34m\u001b[0m\u001b[0m\n\u001b[1;32m    709\u001b[0m \u001b[0;34m\u001b[0m\u001b[0m\n\u001b[0;32m--> 710\u001b[0;31m             \u001b[0mself\u001b[0m\u001b[0;34m.\u001b[0m\u001b[0m_run_search\u001b[0m\u001b[0;34m(\u001b[0m\u001b[0mevaluate_candidates\u001b[0m\u001b[0;34m)\u001b[0m\u001b[0;34m\u001b[0m\u001b[0;34m\u001b[0m\u001b[0m\n\u001b[0m\u001b[1;32m    711\u001b[0m \u001b[0;34m\u001b[0m\u001b[0m\n\u001b[1;32m    712\u001b[0m         \u001b[0;31m# For multi-metric evaluation, store the best_index_, best_params_ and\u001b[0m\u001b[0;34m\u001b[0m\u001b[0;34m\u001b[0m\u001b[0;34m\u001b[0m\u001b[0m\n",
            "\u001b[0;32m/usr/local/lib/python3.7/dist-packages/sklearn/model_selection/_search.py\u001b[0m in \u001b[0;36m_run_search\u001b[0;34m(self, evaluate_candidates)\u001b[0m\n\u001b[1;32m   1149\u001b[0m     \u001b[0;32mdef\u001b[0m \u001b[0m_run_search\u001b[0m\u001b[0;34m(\u001b[0m\u001b[0mself\u001b[0m\u001b[0;34m,\u001b[0m \u001b[0mevaluate_candidates\u001b[0m\u001b[0;34m)\u001b[0m\u001b[0;34m:\u001b[0m\u001b[0;34m\u001b[0m\u001b[0;34m\u001b[0m\u001b[0m\n\u001b[1;32m   1150\u001b[0m         \u001b[0;34m\"\"\"Search all candidates in param_grid\"\"\"\u001b[0m\u001b[0;34m\u001b[0m\u001b[0;34m\u001b[0m\u001b[0m\n\u001b[0;32m-> 1151\u001b[0;31m         \u001b[0mevaluate_candidates\u001b[0m\u001b[0;34m(\u001b[0m\u001b[0mParameterGrid\u001b[0m\u001b[0;34m(\u001b[0m\u001b[0mself\u001b[0m\u001b[0;34m.\u001b[0m\u001b[0mparam_grid\u001b[0m\u001b[0;34m)\u001b[0m\u001b[0;34m)\u001b[0m\u001b[0;34m\u001b[0m\u001b[0;34m\u001b[0m\u001b[0m\n\u001b[0m\u001b[1;32m   1152\u001b[0m \u001b[0;34m\u001b[0m\u001b[0m\n\u001b[1;32m   1153\u001b[0m \u001b[0;34m\u001b[0m\u001b[0m\n",
            "\u001b[0;32m/usr/local/lib/python3.7/dist-packages/sklearn/model_selection/_search.py\u001b[0m in \u001b[0;36mevaluate_candidates\u001b[0;34m(candidate_params)\u001b[0m\n\u001b[1;32m    687\u001b[0m                                \u001b[0;32mfor\u001b[0m \u001b[0mparameters\u001b[0m\u001b[0;34m,\u001b[0m \u001b[0;34m(\u001b[0m\u001b[0mtrain\u001b[0m\u001b[0;34m,\u001b[0m \u001b[0mtest\u001b[0m\u001b[0;34m)\u001b[0m\u001b[0;34m\u001b[0m\u001b[0;34m\u001b[0m\u001b[0m\n\u001b[1;32m    688\u001b[0m                                in product(candidate_params,\n\u001b[0;32m--> 689\u001b[0;31m                                           cv.split(X, y, groups)))\n\u001b[0m\u001b[1;32m    690\u001b[0m \u001b[0;34m\u001b[0m\u001b[0m\n\u001b[1;32m    691\u001b[0m                 \u001b[0;32mif\u001b[0m \u001b[0mlen\u001b[0m\u001b[0;34m(\u001b[0m\u001b[0mout\u001b[0m\u001b[0;34m)\u001b[0m \u001b[0;34m<\u001b[0m \u001b[0;36m1\u001b[0m\u001b[0;34m:\u001b[0m\u001b[0;34m\u001b[0m\u001b[0;34m\u001b[0m\u001b[0m\n",
            "\u001b[0;32m/usr/local/lib/python3.7/dist-packages/joblib/parallel.py\u001b[0m in \u001b[0;36m__call__\u001b[0;34m(self, iterable)\u001b[0m\n\u001b[1;32m   1042\u001b[0m                 \u001b[0mself\u001b[0m\u001b[0;34m.\u001b[0m\u001b[0m_iterating\u001b[0m \u001b[0;34m=\u001b[0m \u001b[0mself\u001b[0m\u001b[0;34m.\u001b[0m\u001b[0m_original_iterator\u001b[0m \u001b[0;32mis\u001b[0m \u001b[0;32mnot\u001b[0m \u001b[0;32mNone\u001b[0m\u001b[0;34m\u001b[0m\u001b[0;34m\u001b[0m\u001b[0m\n\u001b[1;32m   1043\u001b[0m \u001b[0;34m\u001b[0m\u001b[0m\n\u001b[0;32m-> 1044\u001b[0;31m             \u001b[0;32mwhile\u001b[0m \u001b[0mself\u001b[0m\u001b[0;34m.\u001b[0m\u001b[0mdispatch_one_batch\u001b[0m\u001b[0;34m(\u001b[0m\u001b[0miterator\u001b[0m\u001b[0;34m)\u001b[0m\u001b[0;34m:\u001b[0m\u001b[0;34m\u001b[0m\u001b[0;34m\u001b[0m\u001b[0m\n\u001b[0m\u001b[1;32m   1045\u001b[0m                 \u001b[0;32mpass\u001b[0m\u001b[0;34m\u001b[0m\u001b[0;34m\u001b[0m\u001b[0m\n\u001b[1;32m   1046\u001b[0m \u001b[0;34m\u001b[0m\u001b[0m\n",
            "\u001b[0;32m/usr/local/lib/python3.7/dist-packages/joblib/parallel.py\u001b[0m in \u001b[0;36mdispatch_one_batch\u001b[0;34m(self, iterator)\u001b[0m\n\u001b[1;32m    857\u001b[0m                 \u001b[0;32mreturn\u001b[0m \u001b[0;32mFalse\u001b[0m\u001b[0;34m\u001b[0m\u001b[0;34m\u001b[0m\u001b[0m\n\u001b[1;32m    858\u001b[0m             \u001b[0;32melse\u001b[0m\u001b[0;34m:\u001b[0m\u001b[0;34m\u001b[0m\u001b[0;34m\u001b[0m\u001b[0m\n\u001b[0;32m--> 859\u001b[0;31m                 \u001b[0mself\u001b[0m\u001b[0;34m.\u001b[0m\u001b[0m_dispatch\u001b[0m\u001b[0;34m(\u001b[0m\u001b[0mtasks\u001b[0m\u001b[0;34m)\u001b[0m\u001b[0;34m\u001b[0m\u001b[0;34m\u001b[0m\u001b[0m\n\u001b[0m\u001b[1;32m    860\u001b[0m                 \u001b[0;32mreturn\u001b[0m \u001b[0;32mTrue\u001b[0m\u001b[0;34m\u001b[0m\u001b[0;34m\u001b[0m\u001b[0m\n\u001b[1;32m    861\u001b[0m \u001b[0;34m\u001b[0m\u001b[0m\n",
            "\u001b[0;32m/usr/local/lib/python3.7/dist-packages/joblib/parallel.py\u001b[0m in \u001b[0;36m_dispatch\u001b[0;34m(self, batch)\u001b[0m\n\u001b[1;32m    775\u001b[0m         \u001b[0;32mwith\u001b[0m \u001b[0mself\u001b[0m\u001b[0;34m.\u001b[0m\u001b[0m_lock\u001b[0m\u001b[0;34m:\u001b[0m\u001b[0;34m\u001b[0m\u001b[0;34m\u001b[0m\u001b[0m\n\u001b[1;32m    776\u001b[0m             \u001b[0mjob_idx\u001b[0m \u001b[0;34m=\u001b[0m \u001b[0mlen\u001b[0m\u001b[0;34m(\u001b[0m\u001b[0mself\u001b[0m\u001b[0;34m.\u001b[0m\u001b[0m_jobs\u001b[0m\u001b[0;34m)\u001b[0m\u001b[0;34m\u001b[0m\u001b[0;34m\u001b[0m\u001b[0m\n\u001b[0;32m--> 777\u001b[0;31m             \u001b[0mjob\u001b[0m \u001b[0;34m=\u001b[0m \u001b[0mself\u001b[0m\u001b[0;34m.\u001b[0m\u001b[0m_backend\u001b[0m\u001b[0;34m.\u001b[0m\u001b[0mapply_async\u001b[0m\u001b[0;34m(\u001b[0m\u001b[0mbatch\u001b[0m\u001b[0;34m,\u001b[0m \u001b[0mcallback\u001b[0m\u001b[0;34m=\u001b[0m\u001b[0mcb\u001b[0m\u001b[0;34m)\u001b[0m\u001b[0;34m\u001b[0m\u001b[0;34m\u001b[0m\u001b[0m\n\u001b[0m\u001b[1;32m    778\u001b[0m             \u001b[0;31m# A job can complete so quickly than its callback is\u001b[0m\u001b[0;34m\u001b[0m\u001b[0;34m\u001b[0m\u001b[0;34m\u001b[0m\u001b[0m\n\u001b[1;32m    779\u001b[0m             \u001b[0;31m# called before we get here, causing self._jobs to\u001b[0m\u001b[0;34m\u001b[0m\u001b[0;34m\u001b[0m\u001b[0;34m\u001b[0m\u001b[0m\n",
            "\u001b[0;32m/usr/local/lib/python3.7/dist-packages/joblib/_parallel_backends.py\u001b[0m in \u001b[0;36mapply_async\u001b[0;34m(self, func, callback)\u001b[0m\n\u001b[1;32m    206\u001b[0m     \u001b[0;32mdef\u001b[0m \u001b[0mapply_async\u001b[0m\u001b[0;34m(\u001b[0m\u001b[0mself\u001b[0m\u001b[0;34m,\u001b[0m \u001b[0mfunc\u001b[0m\u001b[0;34m,\u001b[0m \u001b[0mcallback\u001b[0m\u001b[0;34m=\u001b[0m\u001b[0;32mNone\u001b[0m\u001b[0;34m)\u001b[0m\u001b[0;34m:\u001b[0m\u001b[0;34m\u001b[0m\u001b[0;34m\u001b[0m\u001b[0m\n\u001b[1;32m    207\u001b[0m         \u001b[0;34m\"\"\"Schedule a func to be run\"\"\"\u001b[0m\u001b[0;34m\u001b[0m\u001b[0;34m\u001b[0m\u001b[0m\n\u001b[0;32m--> 208\u001b[0;31m         \u001b[0mresult\u001b[0m \u001b[0;34m=\u001b[0m \u001b[0mImmediateResult\u001b[0m\u001b[0;34m(\u001b[0m\u001b[0mfunc\u001b[0m\u001b[0;34m)\u001b[0m\u001b[0;34m\u001b[0m\u001b[0;34m\u001b[0m\u001b[0m\n\u001b[0m\u001b[1;32m    209\u001b[0m         \u001b[0;32mif\u001b[0m \u001b[0mcallback\u001b[0m\u001b[0;34m:\u001b[0m\u001b[0;34m\u001b[0m\u001b[0;34m\u001b[0m\u001b[0m\n\u001b[1;32m    210\u001b[0m             \u001b[0mcallback\u001b[0m\u001b[0;34m(\u001b[0m\u001b[0mresult\u001b[0m\u001b[0;34m)\u001b[0m\u001b[0;34m\u001b[0m\u001b[0;34m\u001b[0m\u001b[0m\n",
            "\u001b[0;32m/usr/local/lib/python3.7/dist-packages/joblib/_parallel_backends.py\u001b[0m in \u001b[0;36m__init__\u001b[0;34m(self, batch)\u001b[0m\n\u001b[1;32m    570\u001b[0m         \u001b[0;31m# Don't delay the application, to avoid keeping the input\u001b[0m\u001b[0;34m\u001b[0m\u001b[0;34m\u001b[0m\u001b[0;34m\u001b[0m\u001b[0m\n\u001b[1;32m    571\u001b[0m         \u001b[0;31m# arguments in memory\u001b[0m\u001b[0;34m\u001b[0m\u001b[0;34m\u001b[0m\u001b[0;34m\u001b[0m\u001b[0m\n\u001b[0;32m--> 572\u001b[0;31m         \u001b[0mself\u001b[0m\u001b[0;34m.\u001b[0m\u001b[0mresults\u001b[0m \u001b[0;34m=\u001b[0m \u001b[0mbatch\u001b[0m\u001b[0;34m(\u001b[0m\u001b[0;34m)\u001b[0m\u001b[0;34m\u001b[0m\u001b[0;34m\u001b[0m\u001b[0m\n\u001b[0m\u001b[1;32m    573\u001b[0m \u001b[0;34m\u001b[0m\u001b[0m\n\u001b[1;32m    574\u001b[0m     \u001b[0;32mdef\u001b[0m \u001b[0mget\u001b[0m\u001b[0;34m(\u001b[0m\u001b[0mself\u001b[0m\u001b[0;34m)\u001b[0m\u001b[0;34m:\u001b[0m\u001b[0;34m\u001b[0m\u001b[0;34m\u001b[0m\u001b[0m\n",
            "\u001b[0;32m/usr/local/lib/python3.7/dist-packages/joblib/parallel.py\u001b[0m in \u001b[0;36m__call__\u001b[0;34m(self)\u001b[0m\n\u001b[1;32m    261\u001b[0m         \u001b[0;32mwith\u001b[0m \u001b[0mparallel_backend\u001b[0m\u001b[0;34m(\u001b[0m\u001b[0mself\u001b[0m\u001b[0;34m.\u001b[0m\u001b[0m_backend\u001b[0m\u001b[0;34m,\u001b[0m \u001b[0mn_jobs\u001b[0m\u001b[0;34m=\u001b[0m\u001b[0mself\u001b[0m\u001b[0;34m.\u001b[0m\u001b[0m_n_jobs\u001b[0m\u001b[0;34m)\u001b[0m\u001b[0;34m:\u001b[0m\u001b[0;34m\u001b[0m\u001b[0;34m\u001b[0m\u001b[0m\n\u001b[1;32m    262\u001b[0m             return [func(*args, **kwargs)\n\u001b[0;32m--> 263\u001b[0;31m                     for func, args, kwargs in self.items]\n\u001b[0m\u001b[1;32m    264\u001b[0m \u001b[0;34m\u001b[0m\u001b[0m\n\u001b[1;32m    265\u001b[0m     \u001b[0;32mdef\u001b[0m \u001b[0m__reduce__\u001b[0m\u001b[0;34m(\u001b[0m\u001b[0mself\u001b[0m\u001b[0;34m)\u001b[0m\u001b[0;34m:\u001b[0m\u001b[0;34m\u001b[0m\u001b[0;34m\u001b[0m\u001b[0m\n",
            "\u001b[0;32m/usr/local/lib/python3.7/dist-packages/joblib/parallel.py\u001b[0m in \u001b[0;36m<listcomp>\u001b[0;34m(.0)\u001b[0m\n\u001b[1;32m    261\u001b[0m         \u001b[0;32mwith\u001b[0m \u001b[0mparallel_backend\u001b[0m\u001b[0;34m(\u001b[0m\u001b[0mself\u001b[0m\u001b[0;34m.\u001b[0m\u001b[0m_backend\u001b[0m\u001b[0;34m,\u001b[0m \u001b[0mn_jobs\u001b[0m\u001b[0;34m=\u001b[0m\u001b[0mself\u001b[0m\u001b[0;34m.\u001b[0m\u001b[0m_n_jobs\u001b[0m\u001b[0;34m)\u001b[0m\u001b[0;34m:\u001b[0m\u001b[0;34m\u001b[0m\u001b[0;34m\u001b[0m\u001b[0m\n\u001b[1;32m    262\u001b[0m             return [func(*args, **kwargs)\n\u001b[0;32m--> 263\u001b[0;31m                     for func, args, kwargs in self.items]\n\u001b[0m\u001b[1;32m    264\u001b[0m \u001b[0;34m\u001b[0m\u001b[0m\n\u001b[1;32m    265\u001b[0m     \u001b[0;32mdef\u001b[0m \u001b[0m__reduce__\u001b[0m\u001b[0;34m(\u001b[0m\u001b[0mself\u001b[0m\u001b[0;34m)\u001b[0m\u001b[0;34m:\u001b[0m\u001b[0;34m\u001b[0m\u001b[0;34m\u001b[0m\u001b[0m\n",
            "\u001b[0;32m/usr/local/lib/python3.7/dist-packages/sklearn/model_selection/_validation.py\u001b[0m in \u001b[0;36m_fit_and_score\u001b[0;34m(estimator, X, y, scorer, train, test, verbose, parameters, fit_params, return_train_score, return_parameters, return_n_test_samples, return_times, return_estimator, error_score)\u001b[0m\n\u001b[1;32m    513\u001b[0m             \u001b[0mestimator\u001b[0m\u001b[0;34m.\u001b[0m\u001b[0mfit\u001b[0m\u001b[0;34m(\u001b[0m\u001b[0mX_train\u001b[0m\u001b[0;34m,\u001b[0m \u001b[0;34m**\u001b[0m\u001b[0mfit_params\u001b[0m\u001b[0;34m)\u001b[0m\u001b[0;34m\u001b[0m\u001b[0;34m\u001b[0m\u001b[0m\n\u001b[1;32m    514\u001b[0m         \u001b[0;32melse\u001b[0m\u001b[0;34m:\u001b[0m\u001b[0;34m\u001b[0m\u001b[0;34m\u001b[0m\u001b[0m\n\u001b[0;32m--> 515\u001b[0;31m             \u001b[0mestimator\u001b[0m\u001b[0;34m.\u001b[0m\u001b[0mfit\u001b[0m\u001b[0;34m(\u001b[0m\u001b[0mX_train\u001b[0m\u001b[0;34m,\u001b[0m \u001b[0my_train\u001b[0m\u001b[0;34m,\u001b[0m \u001b[0;34m**\u001b[0m\u001b[0mfit_params\u001b[0m\u001b[0;34m)\u001b[0m\u001b[0;34m\u001b[0m\u001b[0;34m\u001b[0m\u001b[0m\n\u001b[0m\u001b[1;32m    516\u001b[0m \u001b[0;34m\u001b[0m\u001b[0m\n\u001b[1;32m    517\u001b[0m     \u001b[0;32mexcept\u001b[0m \u001b[0mException\u001b[0m \u001b[0;32mas\u001b[0m \u001b[0me\u001b[0m\u001b[0;34m:\u001b[0m\u001b[0;34m\u001b[0m\u001b[0;34m\u001b[0m\u001b[0m\n",
            "\u001b[0;32m/usr/local/lib/python3.7/dist-packages/sklearn/tree/_classes.py\u001b[0m in \u001b[0;36mfit\u001b[0;34m(self, X, y, sample_weight, check_input, X_idx_sorted)\u001b[0m\n\u001b[1;32m    875\u001b[0m             \u001b[0msample_weight\u001b[0m\u001b[0;34m=\u001b[0m\u001b[0msample_weight\u001b[0m\u001b[0;34m,\u001b[0m\u001b[0;34m\u001b[0m\u001b[0;34m\u001b[0m\u001b[0m\n\u001b[1;32m    876\u001b[0m             \u001b[0mcheck_input\u001b[0m\u001b[0;34m=\u001b[0m\u001b[0mcheck_input\u001b[0m\u001b[0;34m,\u001b[0m\u001b[0;34m\u001b[0m\u001b[0;34m\u001b[0m\u001b[0m\n\u001b[0;32m--> 877\u001b[0;31m             X_idx_sorted=X_idx_sorted)\n\u001b[0m\u001b[1;32m    878\u001b[0m         \u001b[0;32mreturn\u001b[0m \u001b[0mself\u001b[0m\u001b[0;34m\u001b[0m\u001b[0;34m\u001b[0m\u001b[0m\n\u001b[1;32m    879\u001b[0m \u001b[0;34m\u001b[0m\u001b[0m\n",
            "\u001b[0;32m/usr/local/lib/python3.7/dist-packages/sklearn/tree/_classes.py\u001b[0m in \u001b[0;36mfit\u001b[0;34m(self, X, y, sample_weight, check_input, X_idx_sorted)\u001b[0m\n\u001b[1;32m    365\u001b[0m                                            min_impurity_split)\n\u001b[1;32m    366\u001b[0m \u001b[0;34m\u001b[0m\u001b[0m\n\u001b[0;32m--> 367\u001b[0;31m         \u001b[0mbuilder\u001b[0m\u001b[0;34m.\u001b[0m\u001b[0mbuild\u001b[0m\u001b[0;34m(\u001b[0m\u001b[0mself\u001b[0m\u001b[0;34m.\u001b[0m\u001b[0mtree_\u001b[0m\u001b[0;34m,\u001b[0m \u001b[0mX\u001b[0m\u001b[0;34m,\u001b[0m \u001b[0my\u001b[0m\u001b[0;34m,\u001b[0m \u001b[0msample_weight\u001b[0m\u001b[0;34m,\u001b[0m \u001b[0mX_idx_sorted\u001b[0m\u001b[0;34m)\u001b[0m\u001b[0;34m\u001b[0m\u001b[0;34m\u001b[0m\u001b[0m\n\u001b[0m\u001b[1;32m    368\u001b[0m \u001b[0;34m\u001b[0m\u001b[0m\n\u001b[1;32m    369\u001b[0m         \u001b[0;32mif\u001b[0m \u001b[0mself\u001b[0m\u001b[0;34m.\u001b[0m\u001b[0mn_outputs_\u001b[0m \u001b[0;34m==\u001b[0m \u001b[0;36m1\u001b[0m \u001b[0;32mand\u001b[0m \u001b[0mis_classifier\u001b[0m\u001b[0;34m(\u001b[0m\u001b[0mself\u001b[0m\u001b[0;34m)\u001b[0m\u001b[0;34m:\u001b[0m\u001b[0;34m\u001b[0m\u001b[0;34m\u001b[0m\u001b[0m\n",
            "\u001b[0;31mKeyboardInterrupt\u001b[0m: "
          ]
        }
      ]
    },
    {
      "cell_type": "markdown",
      "metadata": {
        "id": "LoZqUyknZk3J"
      },
      "source": [
        "max_depth=16일때 5개의 폴드 세트의 최고 평균 정확도 결과가 85.13%로 도출됐다.\n",
        "5개의 CV세트에서 max_depth 값에 따라 어떻게 예측 성능이 변했는지 GridSearchCV 객체의 cv_results_ 속성을 통해 살펴보겠다. "
      ]
    },
    {
      "cell_type": "code",
      "metadata": {
        "id": "46PMtv76Yi_a"
      },
      "source": [
        "#GridSearCV 객체의 cv_results_ 속성을 DataFrame으로 생성.\n",
        "cv_results_df=pd.DataFrame(grid_cv.cv_results_)\n",
        "\n",
        "#max_depth 파라미터 값과 그때의 티ㅔ스트 세트 학습 데이터 세트의 정확도 수치 추출\n",
        "cv_results_df[['param_max_depth','mean_test_score']]"
      ],
      "execution_count": null,
      "outputs": []
    },
    {
      "cell_type": "markdown",
      "metadata": {
        "id": "QoHOXDsqcBlq"
      },
      "source": [
        "이번에는 별도의 테스트 데이터 세트에서 결정 트리의 정확도를 측정해보겠다. "
      ]
    },
    {
      "cell_type": "code",
      "metadata": {
        "id": "DlDh3PF2bpq7"
      },
      "source": [
        "max_depth=[6,8,10,12,16,20,24]\n",
        "#max_dapth값을 변화시키면서 그때마다 학습과 테스트 세트에서의 예측 성능 측정\n",
        "for depth in max_depth:\n",
        "  dt_clf=DecisionTreeClassifier(max_depth=depth,random_state=156)\n",
        "  dt_clf.fit(X_train,y_train)\n",
        "  pred=dt_clf.predict(X_test)\n",
        "  accuracy=accuracy_score(y_test,pred)\n",
        "  print('max_depth={0} 정확도 : {1:.4f}'.format(depth,accuracy))"
      ],
      "execution_count": null,
      "outputs": []
    },
    {
      "cell_type": "markdown",
      "metadata": {
        "id": "UnObmavBc33k"
      },
      "source": [
        "8일때 가장 높은 정확도를 나타낸다. 그리고 커질수록 정확도는 낮아지고 있다. 이론이 맞군."
      ]
    },
    {
      "cell_type": "code",
      "metadata": {
        "id": "5r8wefxNcqZo"
      },
      "source": [
        "#max_depth,min_samples_split를 같이 변경하면서 정확도 성능을 튜닝해보겠다.\n",
        "params={\n",
        "    'max_depth':[8,12,16,20],\n",
        "    'min_samples_split':[16,24],\n",
        "}\n",
        "\n",
        "grid_cv=GridSearchCV(dt_clf,param_grid=params,scoring='accuracy',cv=5,verbose=1)\n",
        "grid_cv.fit(X_train,y_train)\n",
        "print('GridSearchCV 최고 평균 정확도 수치: {0:.4f}'.format(grid_cv.best_score_))\n",
        "print('GridSearchCV 최적 하이퍼 파라미터:',grid_cv.best_params_)\n"
      ],
      "execution_count": null,
      "outputs": []
    },
    {
      "cell_type": "markdown",
      "metadata": {
        "id": "6CZnpZ1ngZ-W"
      },
      "source": [
        "GridSearchCV객체의 grid_cv의 속성인 best_estimator_ 는 최적 하이퍼 파라미터이 max_depth 8, min_samples_split 16으로 학습이 완료된 estimator 객체이다. "
      ]
    },
    {
      "cell_type": "code",
      "metadata": {
        "id": "N5qMdlN5dCiz"
      },
      "source": [
        "best_df_clf=grid_cv.best_estimator_\n",
        "pred1=best_df_clf.predict(X_test)\n",
        "accuracy=accuracy_score(y_test,pred1)\n",
        "print(\"결정 트리 에측 정확도:{0:.4f}\".format(accuracy))"
      ],
      "execution_count": null,
      "outputs": []
    },
    {
      "cell_type": "code",
      "metadata": {
        "id": "xrZu2tMSft23"
      },
      "source": [
        "import seaborn as sns\n",
        "\n",
        "ftr_importances_values=best_df_clf.feature_importances_\n",
        "#Top중요도로 정렬을 쉽게 하고, 시본의 막대그래프로 ㅜ십게 표현하기 위한 series변환\n",
        "ftr_importances=pd.Series(ftr_importances_values,index=X_train.columns)\n",
        "#중요도값 순으로 Series값을 정렬\n",
        "ftr_top20=ftr_importances.sort_values(ascending=False)[:20]\n",
        "plt.title('Feature importances Top20')\n",
        "sns.barplot(x=ftr_top20,y=ftr_top20.index)\n",
        "plt.show()"
      ],
      "execution_count": null,
      "outputs": []
    },
    {
      "cell_type": "markdown",
      "metadata": {
        "id": "KnY_Kdiq4DPf"
      },
      "source": [
        "# 랜덤 포레스트"
      ]
    },
    {
      "cell_type": "markdown",
      "metadata": {
        "id": "5rOHdv6b49mq"
      },
      "source": [
        "위에서 사용한 사용자 행동 인식 데이터 세트를 그대로 사용하겠다. "
      ]
    },
    {
      "cell_type": "code",
      "metadata": {
        "id": "JHtJPxKPgRud",
        "colab": {
          "base_uri": "https://localhost:8080/"
        },
        "outputId": "5769a10f-7549-4ae0-8c67-3fd8e53716b8"
      },
      "source": [
        "from sklearn.ensemble import RandomForestClassifier\n",
        "from sklearn.metrics import accuracy_score\n",
        "import pandas as pd\n",
        "import numpy as np\n",
        "import warnings\n",
        "warnings.filterwarnings('ignore')\n",
        "\n",
        "#결정트리에서 사용한 get_human_dataset()을 이용해 학습.테스트용 데이터프레임 반환\n",
        "X_train,X_test,y_train,y_test=get_human_dataset()\n",
        "\n",
        "#랜덤 포레스트 학습 및 별도의 테스트 세트로 예측 성능 평가\n",
        "rf_clf=RandomForestClassifier(random_state=0)\n",
        "rf_clf.fit(X_train,y_train)\n",
        "pred=rf_clf.predict(X_test)\n",
        "accuracy=accuracy_score(y_test,pred)\n",
        "print(\"랜덤 포레스트 정확도:{0:.4f}\".format(accuracy))"
      ],
      "execution_count": null,
      "outputs": [
        {
          "output_type": "stream",
          "name": "stdout",
          "text": [
            "랜덤 포레스트 정확도:0.9253\n"
          ]
        }
      ]
    },
    {
      "cell_type": "markdown",
      "metadata": {
        "id": "p7oqjPv95DQS"
      },
      "source": [
        "## 랜덤 포레스트 하이퍼 파라미터 및 튜닝"
      ]
    },
    {
      "cell_type": "code",
      "metadata": {
        "colab": {
          "base_uri": "https://localhost:8080/"
        },
        "id": "hsc-vQO-43W5",
        "outputId": "652e44cb-006b-4320-c931-0ea91b4fc10e"
      },
      "source": [
        "from sklearn.model_selection import GridSearchCV\n",
        "\n",
        "params={\n",
        "    'n_estimators':[100],\n",
        "    'max_depth':[6,8,10,12],\n",
        "    'min_samples_leaf':[8,12,18],\n",
        "    'min_samples_split':[8,16,20]\n",
        "}\n",
        "\n",
        "#RandomForestClassifier 객체 생성 후 GridSearchCV 수행\n",
        "rf_clf=RandomForestClassifier(random_state=0,n_jobs=-1)\n",
        "grid_cv=GridSearchCV(rf_clf,param_grid=params,cv=2,n_jobs=-1)\n",
        "grid_cv.fit(X_train,y_train)\n",
        "\n",
        "print(\"최적 하이퍼 파라미터: \",grid_cv.best_params_)\n",
        "print(\"최고 예측 정확도 : \",grid_cv.best_score_)"
      ],
      "execution_count": null,
      "outputs": [
        {
          "output_type": "stream",
          "name": "stdout",
          "text": [
            "최적 하이퍼 파라미터:  {'max_depth': 10, 'min_samples_leaf': 8, 'min_samples_split': 8, 'n_estimators': 100}\n",
            "최고 예측 정확도 :  0.9179815016322089\n"
          ]
        }
      ]
    },
    {
      "cell_type": "markdown",
      "metadata": {
        "id": "ckOsjX3_8UxG"
      },
      "source": [
        "이제 n_estimators를 300으로 증가시키고 최적화 하이퍼 파라미터로 다시 randomforestclasifier를 학습 스킨 뒤 이번에는 별도의 테스트 데이터 세트에서 예측 성능을 측정해보겟다."
      ]
    },
    {
      "cell_type": "code",
      "metadata": {
        "colab": {
          "base_uri": "https://localhost:8080/"
        },
        "id": "sFfj-Zwg8IJO",
        "outputId": "4cb79fae-12ba-4fda-f0b2-ff48513ca71e"
      },
      "source": [
        "rf_clf1=RandomForestClassifier(n_estimators=300,max_depth=10,min_samples_leaf=8,\n",
        "                               min_samples_split=8,random_state=0)\n",
        "\n",
        "rf_clf1.fit(X_train,y_train)\n",
        "pred=rf_clf1.predict(X_test)\n",
        "print(\"예즉 정확도 : {0:.4f}\".format(accuracy_score(y_test,pred)))"
      ],
      "execution_count": null,
      "outputs": [
        {
          "output_type": "stream",
          "name": "stdout",
          "text": [
            "예즉 정확도 : 0.9165\n"
          ]
        }
      ]
    },
    {
      "cell_type": "code",
      "metadata": {
        "colab": {
          "base_uri": "https://localhost:8080/",
          "height": 390
        },
        "id": "nOKOYm0p9MKr",
        "outputId": "5bfc48e8-fa90-4348-b93c-523a8851adb9"
      },
      "source": [
        "import seaborn as sns\n",
        "import matplotlib.pyplot as plt\n",
        "%matplotlib inline\n",
        "\n",
        "ftr_importances_values=rf_clf1.feature_importances_\n",
        "ftr_importances=pd.Series(ftr_importances_values,index=X_train.columns)\n",
        "ftr_top20=ftr_importances.sort_values(ascending=False)[:20]\n",
        "\n",
        "plt.figure(figsize=(8,6))\n",
        "plt.title(\"feature importances top20\")\n",
        "sns.barplot(x=ftr_top20,y=ftr_top20.index)\n",
        "plt.show()"
      ],
      "execution_count": null,
      "outputs": [
        {
          "output_type": "display_data",
          "data": {
            "image/png": "[encoded data removed]",
            "text/plain": [
              "<Figure size 576x432 with 1 Axes>"
            ]
          },
          "metadata": {
            "needs_background": "light"
          }
        }
      ]
    },
    {
      "cell_type": "markdown",
      "metadata": {
        "id": "cpjlOhB5DRpy"
      },
      "source": [
        "# GBM(Gradient Boosting Machine)\n"
      ]
    },
    {
      "cell_type": "code",
      "metadata": {
        "id": "8AxylQpIBXGX",
        "colab": {
          "base_uri": "https://localhost:8080/"
        },
        "outputId": "7cd5cac0-c576-4e5d-9c29-d8175c8ce751"
      },
      "source": [
        "from sklearn.ensemble import GradientBoostingClassifier\n",
        "import time\n",
        "import warnings\n",
        "warnings.filterwarnings('ignore')\n",
        "\n",
        "X_train,X_test,y_train,y_test=get_human_dataset()\n",
        "\n",
        "#GBM 수행시간 측정을 위함. 시작 시간 설정\n",
        "start_time=time.time()\n",
        "gb_clf=GradientBoostingClassifier(random_state=0)\n",
        "gb_clf.fit(X_train,y_train)\n",
        "gb_pred=gb_clf.predict(X_test)\n",
        "gb_accuracy=accuracy_score(y_test,gb_pred)\n",
        "\n",
        "print('GBM 정확도 : {0:.4f}'.format(gb_accuracy))\n",
        "print('GBM 수행 시간:{0:.1f}'.format(time.time()-start_time))"
      ],
      "execution_count": null,
      "outputs": [
        {
          "output_type": "stream",
          "name": "stdout",
          "text": [
            "GBM 정확도 : 0.9386\n",
            "GBM 수행 시간:815.4\n"
          ]
        }
      ]
    },
    {
      "cell_type": "markdown",
      "metadata": {
        "id": "2Il24vCl-_Ga"
      },
      "source": [
        "## GBM 하이퍼 파라미터 및 튜닝"
      ]
    },
    {
      "cell_type": "code",
      "metadata": {
        "colab": {
          "base_uri": "https://localhost:8080/"
        },
        "id": "7h3eYuJL753f",
        "outputId": "71e2b830-f562-4d63-e6ef-a1fd8685e375"
      },
      "source": [
        "from sklearn.model_selection import GridSearchCV\n",
        "\n",
        "params={\n",
        "    'n_estimators':[100,500],\n",
        "    'learning_rate':[0.05,0.1]\n",
        "}\n",
        "grid_cv=GridSearchCV(gb_clf,param_grid=params,cv=2,verbose=1)\n",
        "grid_cv.fit(X_train,y_train)\n",
        "print('최적 하이퍼 파라미터 :\\n',grid_cv.best_params_)\n",
        "print('최고 예측 정확도 :{0:.4f}'.format(grid_cv.best_score_))"
      ],
      "execution_count": null,
      "outputs": [
        {
          "output_type": "stream",
          "name": "stdout",
          "text": [
            "Fitting 2 folds for each of 4 candidates, totalling 8 fits\n"
          ]
        },
        {
          "output_type": "stream",
          "name": "stderr",
          "text": [
            "[Parallel(n_jobs=1)]: Using backend SequentialBackend with 1 concurrent workers.\n",
            "[Parallel(n_jobs=1)]: Done   8 out of   8 | elapsed: 81.3min finished\n"
          ]
        },
        {
          "output_type": "stream",
          "name": "stdout",
          "text": [
            "최적 하이퍼 파라미터 :\n",
            " {'learning_rate': 0.05, 'n_estimators': 500}\n",
            "최고 예측 정확도 :0.9013\n"
          ]
        }
      ]
    },
    {
      "cell_type": "code",
      "metadata": {
        "colab": {
          "base_uri": "https://localhost:8080/"
        },
        "id": "SY9WLL6fDM5V",
        "outputId": "f06871ae-f601-4327-a4e5-971fa2437cb5"
      },
      "source": [
        "#gridsearchcv를 이용해 최적으로 학습된 estimator로 학습 수행\n",
        "gb_pred=grid_cv.best_estimator_.predict(X_test)\n",
        "gb_accuracy=accuracy_score(y_test,gb_pred)\n",
        "print('GBM 정확도 : {0:.4f}'.format(gb_accuracy))"
      ],
      "execution_count": null,
      "outputs": [
        {
          "output_type": "stream",
          "name": "stdout",
          "text": [
            "GBM 정확도 : 0.9396\n"
          ]
        }
      ]
    },
    {
      "cell_type": "markdown",
      "metadata": {
        "id": "k7crkRjejaLy"
      },
      "source": [
        "# XGBoost"
      ]
    },
    {
      "cell_type": "code",
      "metadata": {
        "colab": {
          "base_uri": "https://localhost:8080/"
        },
        "id": "MGo0tlPjht7k",
        "outputId": "d2952bb0-64cb-4eeb-85e5-ce06c29b4cba"
      },
      "source": [
        "import xgboost\n",
        "print(xgboost.__version__)"
      ],
      "execution_count": null,
      "outputs": [
        {
          "output_type": "stream",
          "name": "stdout",
          "text": [
            "0.90\n"
          ]
        }
      ]
    },
    {
      "cell_type": "markdown",
      "metadata": {
        "id": "E5iW03Nijifw"
      },
      "source": [
        "## 파이썬 래퍼 XGBoost 적용 - 위스콘신 유방암 예측"
      ]
    },
    {
      "cell_type": "code",
      "metadata": {
        "colab": {
          "base_uri": "https://localhost:8080/",
          "height": 195
        },
        "id": "CjCqGSCfjfwa",
        "outputId": "6265893d-46e5-4061-b803-22630836f3b1"
      },
      "source": [
        "import xgboost as xgb\n",
        "from xgboost import plot_importance\n",
        "import pandas as pd\n",
        "import numpy as np\n",
        "from sklearn.datasets import load_breast_cancer\n",
        "from sklearn.model_selection import train_test_split\n",
        "import warnings\n",
        "warnings.filterwarnings('ignore')\n",
        "\n",
        "dataset=load_breast_cancer()\n",
        "X_features=dataset.data\n",
        "y_label=dataset.target\n",
        "df=pd.DataFrame(data=X_features,columns=dataset.feature_names)\n",
        "df['target']=y_label\n",
        "df.head(3)"
      ],
      "execution_count": null,
      "outputs": [
        {
          "output_type": "execute_result",
          "data": {
            "text/html": [
              "<div>\n",
              "<style scoped>\n",
              "    .dataframe tbody tr th:only-of-type {\n",
              "        vertical-align: middle;\n",
              "    }\n",
              "\n",
              "    .dataframe tbody tr th {\n",
              "        vertical-align: top;\n",
              "    }\n",
              "\n",
              "    .dataframe thead th {\n",
              "        text-align: right;\n",
              "    }\n",
              "</style>\n",
              "<table border=\"1\" class=\"dataframe\">\n",
              "  <thead>\n",
              "    <tr style=\"text-align: right;\">\n",
              "      <th></th>\n",
              "      <th>mean radius</th>\n",
              "      <th>mean texture</th>\n",
              "      <th>mean perimeter</th>\n",
              "      <th>mean area</th>\n",
              "      <th>mean smoothness</th>\n",
              "      <th>mean compactness</th>\n",
              "      <th>mean concavity</th>\n",
              "      <th>mean concave points</th>\n",
              "      <th>mean symmetry</th>\n",
              "      <th>mean fractal dimension</th>\n",
              "      <th>radius error</th>\n",
              "      <th>texture error</th>\n",
              "      <th>perimeter error</th>\n",
              "      <th>area error</th>\n",
              "      <th>smoothness error</th>\n",
              "      <th>compactness error</th>\n",
              "      <th>concavity error</th>\n",
              "      <th>concave points error</th>\n",
              "      <th>symmetry error</th>\n",
              "      <th>fractal dimension error</th>\n",
              "      <th>worst radius</th>\n",
              "      <th>worst texture</th>\n",
              "      <th>worst perimeter</th>\n",
              "      <th>worst area</th>\n",
              "      <th>worst smoothness</th>\n",
              "      <th>worst compactness</th>\n",
              "      <th>worst concavity</th>\n",
              "      <th>worst concave points</th>\n",
              "      <th>worst symmetry</th>\n",
              "      <th>worst fractal dimension</th>\n",
              "      <th>target</th>\n",
              "    </tr>\n",
              "  </thead>\n",
              "  <tbody>\n",
              "    <tr>\n",
              "      <th>0</th>\n",
              "      <td>17.99</td>\n",
              "      <td>10.38</td>\n",
              "      <td>122.8</td>\n",
              "      <td>1001.0</td>\n",
              "      <td>0.11840</td>\n",
              "      <td>0.27760</td>\n",
              "      <td>0.3001</td>\n",
              "      <td>0.14710</td>\n",
              "      <td>0.2419</td>\n",
              "      <td>0.07871</td>\n",
              "      <td>1.0950</td>\n",
              "      <td>0.9053</td>\n",
              "      <td>8.589</td>\n",
              "      <td>153.40</td>\n",
              "      <td>0.006399</td>\n",
              "      <td>0.04904</td>\n",
              "      <td>0.05373</td>\n",
              "      <td>0.01587</td>\n",
              "      <td>0.03003</td>\n",
              "      <td>0.006193</td>\n",
              "      <td>25.38</td>\n",
              "      <td>17.33</td>\n",
              "      <td>184.6</td>\n",
              "      <td>2019.0</td>\n",
              "      <td>0.1622</td>\n",
              "      <td>0.6656</td>\n",
              "      <td>0.7119</td>\n",
              "      <td>0.2654</td>\n",
              "      <td>0.4601</td>\n",
              "      <td>0.11890</td>\n",
              "      <td>0</td>\n",
              "    </tr>\n",
              "    <tr>\n",
              "      <th>1</th>\n",
              "      <td>20.57</td>\n",
              "      <td>17.77</td>\n",
              "      <td>132.9</td>\n",
              "      <td>1326.0</td>\n",
              "      <td>0.08474</td>\n",
              "      <td>0.07864</td>\n",
              "      <td>0.0869</td>\n",
              "      <td>0.07017</td>\n",
              "      <td>0.1812</td>\n",
              "      <td>0.05667</td>\n",
              "      <td>0.5435</td>\n",
              "      <td>0.7339</td>\n",
              "      <td>3.398</td>\n",
              "      <td>74.08</td>\n",
              "      <td>0.005225</td>\n",
              "      <td>0.01308</td>\n",
              "      <td>0.01860</td>\n",
              "      <td>0.01340</td>\n",
              "      <td>0.01389</td>\n",
              "      <td>0.003532</td>\n",
              "      <td>24.99</td>\n",
              "      <td>23.41</td>\n",
              "      <td>158.8</td>\n",
              "      <td>1956.0</td>\n",
              "      <td>0.1238</td>\n",
              "      <td>0.1866</td>\n",
              "      <td>0.2416</td>\n",
              "      <td>0.1860</td>\n",
              "      <td>0.2750</td>\n",
              "      <td>0.08902</td>\n",
              "      <td>0</td>\n",
              "    </tr>\n",
              "    <tr>\n",
              "      <th>2</th>\n",
              "      <td>19.69</td>\n",
              "      <td>21.25</td>\n",
              "      <td>130.0</td>\n",
              "      <td>1203.0</td>\n",
              "      <td>0.10960</td>\n",
              "      <td>0.15990</td>\n",
              "      <td>0.1974</td>\n",
              "      <td>0.12790</td>\n",
              "      <td>0.2069</td>\n",
              "      <td>0.05999</td>\n",
              "      <td>0.7456</td>\n",
              "      <td>0.7869</td>\n",
              "      <td>4.585</td>\n",
              "      <td>94.03</td>\n",
              "      <td>0.006150</td>\n",
              "      <td>0.04006</td>\n",
              "      <td>0.03832</td>\n",
              "      <td>0.02058</td>\n",
              "      <td>0.02250</td>\n",
              "      <td>0.004571</td>\n",
              "      <td>23.57</td>\n",
              "      <td>25.53</td>\n",
              "      <td>152.5</td>\n",
              "      <td>1709.0</td>\n",
              "      <td>0.1444</td>\n",
              "      <td>0.4245</td>\n",
              "      <td>0.4504</td>\n",
              "      <td>0.2430</td>\n",
              "      <td>0.3613</td>\n",
              "      <td>0.08758</td>\n",
              "      <td>0</td>\n",
              "    </tr>\n",
              "  </tbody>\n",
              "</table>\n",
              "</div>"
            ],
            "text/plain": [
              "   mean radius  mean texture  ...  worst fractal dimension  target\n",
              "0        17.99         10.38  ...                  0.11890       0\n",
              "1        20.57         17.77  ...                  0.08902       0\n",
              "2        19.69         21.25  ...                  0.08758       0\n",
              "\n",
              "[3 rows x 31 columns]"
            ]
          },
          "metadata": {},
          "execution_count": 8
        }
      ]
    },
    {
      "cell_type": "code",
      "metadata": {
        "colab": {
          "base_uri": "https://localhost:8080/"
        },
        "id": "sH39M5eHmnSr",
        "outputId": "dc573371-0ea5-4b8e-f1bb-ea663159d83d"
      },
      "source": [
        "print(dataset.target_names)\n",
        "print(df['target'].value_counts())"
      ],
      "execution_count": null,
      "outputs": [
        {
          "output_type": "stream",
          "name": "stdout",
          "text": [
            "['malignant' 'benign']\n",
            "1    357\n",
            "0    212\n",
            "Name: target, dtype: int64\n"
          ]
        }
      ]
    },
    {
      "cell_type": "markdown",
      "metadata": {
        "id": "EOETbWGFnO2a"
      },
      "source": [
        "1값인 양성benign이 357개, 0값인 양성이 malignant가 212개로 구성. 전체 데이터 세트 중 80%를 학습용으로 20%를 테스트용으로 분할해보자"
      ]
    },
    {
      "cell_type": "code",
      "metadata": {
        "colab": {
          "base_uri": "https://localhost:8080/"
        },
        "id": "VGu65l83nLR9",
        "outputId": "2c6cce2a-1878-453a-a56a-c1a4a0c5532e"
      },
      "source": [
        "X_train,X_test,y_train,y_test=train_test_split(X_features,y_label,test_size=0.2,random_state=156)\n",
        "\n",
        "print(X_train.shape,X_test.shape)"
      ],
      "execution_count": null,
      "outputs": [
        {
          "output_type": "stream",
          "name": "stdout",
          "text": [
            "(455, 30) (114, 30)\n"
          ]
        }
      ]
    },
    {
      "cell_type": "markdown",
      "metadata": {
        "id": "asXLOidDv4co"
      },
      "source": [
        "파이썬 래퍼 XGBoost는 사이킷런과 차이가 여러가지 있지만 먼저 눈에 띄는 차이는 학습용과 테스트용 데이터 세트를 ㅜ이해 별도의 객체인 DMatrix를 생성한다는 점. 입력 파라미터를 받아서 만들어지는 XGBoost만의 전용 데이터 세트. DMatrix의 주요 입력 파라미터는 data와 label이다. datasms 피처 데이터 세트이며, label은 분류의 경우에는 레이블 데이터 세트, 회귀의 경우에는 숫자형인 종속값 데이터 세트이다. \n",
        "\n",
        "\n",
        "판다스의 dataFrame으로 데이터 인터페이스를 하기 위해서는 DataFrame.values를 이용해 넘파이로 일차 변환한 뒤에 이를 이용해 DMatirx변환을 적용한다. "
      ]
    },
    {
      "cell_type": "code",
      "metadata": {
        "id": "tBvt8NpTt9hc"
      },
      "source": [
        "dtrain=xgb.DMatrix(data=X_train,label=y_train)\n",
        "dtest=xgb.DMatrix(data=X_test,label=y_test)"
      ],
      "execution_count": null,
      "outputs": []
    },
    {
      "cell_type": "markdown",
      "metadata": {
        "id": "ukwOnov5wWIh"
      },
      "source": [
        "파이썬 래퍼 XGBoost 모듈인 xgboost를 이용해 학습을 수행하기 전에 먼저 XGBoost의 하이퍼 파라미터를 설정. XGBoost의 하이퍼 파라미터는 주로 딕셔너리 형태로 입력한다. 다음과 같은 하이퍼 파라미터 설정을 딕셔너리 형태로 만들어보겠다.\n",
        "\n",
        "- max_depth는 3\n",
        "- 학습률 eta는 0.1(XGBClassifier 사용시 eta가 아니라 learning_rate)\n",
        "- 예제 데이터가 0 또는 1 이진 분류이므로 목적함수는 이진 로지스틱\n",
        "- 오류 함수의 평가 성능 지표는 logloss.\n",
        "- num_rounds는 400회."
      ]
    },
    {
      "cell_type": "code",
      "metadata": {
        "id": "XgbYcvnFwUrt"
      },
      "source": [
        "params={\n",
        "    'max_depth':3,\n",
        "    'objective':'binary:logistic',\n",
        "    'eval_metric':'logloss',\n",
        "    'early_stopping':100\n",
        "}\n",
        "num_rounds=400"
      ],
      "execution_count": null,
      "outputs": []
    },
    {
      "cell_type": "markdown",
      "metadata": {
        "id": "V0QFTfWx1-s9"
      },
      "source": [
        "위에 지정된 하이퍼 파라미터로 XGBoost 모델을 학습시켜보겠다. 파이썬 래퍼 XGBoost는 하이퍼 파라미터를 xgboost 모듈의 train()함수에 파라미터로 전달.그리고 학습 시 XGBoost는 수행 속도를 개선하기 위해 조기중단 기능을 제공한다. 저이상 지표 개선이 없을 경우 num_boost_round 횟수를 모두 채우지 않고 중간에 반복 탈출!\n",
        "\n",
        "조기 중단은 xgboost()의 train()함수에 early_stopping_rounds 파라미터를 입력해 설정한다. 여기서는 조기중단 할 수 있는 최소 반복횟수를 100으로 설정하겠다. early_stopping_rounds 파라미터를 설정해 조기 중단을 수행하기 ㅜ이해서는 반드시 eval_set과 eval_metric이 함께 설정돼야 한다. \n",
        "\n",
        "- eval_set은 성능 평가를 수행할 평가용 데이터 세트를 설정\n",
        "- eval_metric은 평가 세트에 적용할 성능 평가 방법. 분류일 경우 주로 error. logloss 적용"
      ]
    },
    {
      "cell_type": "code",
      "metadata": {
        "colab": {
          "base_uri": "https://localhost:8080/"
        },
        "id": "pnuI5caP1-CM",
        "outputId": "bc593635-a67e-4c68-8909-7bc5814c087f"
      },
      "source": [
        "#train 데이터 세트는 'train','evaluation(test) 데이터 세트는 'eval'로 명기\n",
        "wlist=[(dtrain,'train'),(dtest,'eval')]\n",
        "\n",
        "#하이퍼 파라미터와 early stopping 파라미터를 train() 함수의 파라미터로 전달\n",
        "xgb_model=xgb.train(params=params,dtrain=dtrain,num_boost_round=num_rounds,\n",
        "                    early_stopping_rounds=100,evals=wlist)"
      ],
      "execution_count": null,
      "outputs": [
        {
          "output_type": "stream",
          "name": "stdout",
          "text": [
            "[0]\ttrain-logloss:0.467748\teval-logloss:0.479838\n",
            "Multiple eval metrics have been passed: 'eval-logloss' will be used for early stopping.\n",
            "\n",
            "Will train until eval-logloss hasn't improved in 100 rounds.\n",
            "[1]\ttrain-logloss:0.335779\teval-logloss:0.362179\n",
            "[2]\ttrain-logloss:0.252541\teval-logloss:0.290041\n",
            "[3]\ttrain-logloss:0.195835\teval-logloss:0.233818\n",
            "[4]\ttrain-logloss:0.156638\teval-logloss:0.199013\n",
            "[5]\ttrain-logloss:0.126627\teval-logloss:0.174692\n",
            "[6]\ttrain-logloss:0.103527\teval-logloss:0.155492\n",
            "[7]\ttrain-logloss:0.085451\teval-logloss:0.133671\n",
            "[8]\ttrain-logloss:0.072771\teval-logloss:0.124106\n",
            "[9]\ttrain-logloss:0.06333\teval-logloss:0.116106\n",
            "[10]\ttrain-logloss:0.054842\teval-logloss:0.107679\n",
            "[11]\ttrain-logloss:0.04787\teval-logloss:0.100176\n",
            "[12]\ttrain-logloss:0.043336\teval-logloss:0.097538\n",
            "[13]\ttrain-logloss:0.037944\teval-logloss:0.089204\n",
            "[14]\ttrain-logloss:0.033084\teval-logloss:0.092592\n",
            "[15]\ttrain-logloss:0.029423\teval-logloss:0.09144\n",
            "[16]\ttrain-logloss:0.026893\teval-logloss:0.090663\n",
            "[17]\ttrain-logloss:0.024392\teval-logloss:0.090576\n",
            "[18]\ttrain-logloss:0.022263\teval-logloss:0.088944\n",
            "[19]\ttrain-logloss:0.02053\teval-logloss:0.086216\n",
            "[20]\ttrain-logloss:0.018909\teval-logloss:0.086938\n",
            "[21]\ttrain-logloss:0.017658\teval-logloss:0.084374\n",
            "[22]\ttrain-logloss:0.016487\teval-logloss:0.080915\n",
            "[23]\ttrain-logloss:0.015474\teval-logloss:0.084044\n",
            "[24]\ttrain-logloss:0.014569\teval-logloss:0.082521\n",
            "[25]\ttrain-logloss:0.013812\teval-logloss:0.083631\n",
            "[26]\ttrain-logloss:0.013216\teval-logloss:0.082212\n",
            "[27]\ttrain-logloss:0.01285\teval-logloss:0.080055\n",
            "[28]\ttrain-logloss:0.012222\teval-logloss:0.080122\n",
            "[29]\ttrain-logloss:0.011696\teval-logloss:0.08106\n",
            "[30]\ttrain-logloss:0.011268\teval-logloss:0.079121\n",
            "[31]\ttrain-logloss:0.010865\teval-logloss:0.079024\n",
            "[32]\ttrain-logloss:0.010441\teval-logloss:0.078281\n",
            "[33]\ttrain-logloss:0.010088\teval-logloss:0.077632\n",
            "[34]\ttrain-logloss:0.009768\teval-logloss:0.078147\n",
            "[35]\ttrain-logloss:0.009481\teval-logloss:0.077172\n",
            "[36]\ttrain-logloss:0.009161\teval-logloss:0.080302\n",
            "[37]\ttrain-logloss:0.008989\teval-logloss:0.079808\n",
            "[38]\ttrain-logloss:0.008753\teval-logloss:0.079705\n",
            "[39]\ttrain-logloss:0.008623\teval-logloss:0.07979\n",
            "[40]\ttrain-logloss:0.008423\teval-logloss:0.081419\n",
            "[41]\ttrain-logloss:0.008264\teval-logloss:0.081076\n",
            "[42]\ttrain-logloss:0.008165\teval-logloss:0.080929\n",
            "[43]\ttrain-logloss:0.007907\teval-logloss:0.08288\n",
            "[44]\ttrain-logloss:0.007825\teval-logloss:0.082966\n",
            "[45]\ttrain-logloss:0.007745\teval-logloss:0.082862\n",
            "[46]\ttrain-logloss:0.007567\teval-logloss:0.084213\n",
            "[47]\ttrain-logloss:0.007487\teval-logloss:0.083984\n",
            "[48]\ttrain-logloss:0.007415\teval-logloss:0.083231\n",
            "[49]\ttrain-logloss:0.007344\teval-logloss:0.08398\n",
            "[50]\ttrain-logloss:0.007272\teval-logloss:0.083168\n",
            "[51]\ttrain-logloss:0.007208\teval-logloss:0.083313\n",
            "[52]\ttrain-logloss:0.007142\teval-logloss:0.083249\n",
            "[53]\ttrain-logloss:0.007077\teval-logloss:0.082481\n",
            "[54]\ttrain-logloss:0.007015\teval-logloss:0.082204\n",
            "[55]\ttrain-logloss:0.006958\teval-logloss:0.081522\n",
            "[56]\ttrain-logloss:0.006896\teval-logloss:0.081386\n",
            "[57]\ttrain-logloss:0.006834\teval-logloss:0.081522\n",
            "[58]\ttrain-logloss:0.006777\teval-logloss:0.080875\n",
            "[59]\ttrain-logloss:0.00672\teval-logloss:0.08083\n",
            "[60]\ttrain-logloss:0.006669\teval-logloss:0.081478\n",
            "[61]\ttrain-logloss:0.006615\teval-logloss:0.08076\n",
            "[62]\ttrain-logloss:0.006565\teval-logloss:0.080691\n",
            "[63]\ttrain-logloss:0.006517\teval-logloss:0.080109\n",
            "[64]\ttrain-logloss:0.006468\teval-logloss:0.079851\n",
            "[65]\ttrain-logloss:0.00642\teval-logloss:0.080125\n",
            "[66]\ttrain-logloss:0.006372\teval-logloss:0.080755\n",
            "[67]\ttrain-logloss:0.006329\teval-logloss:0.080749\n",
            "[68]\ttrain-logloss:0.006283\teval-logloss:0.080182\n",
            "[69]\ttrain-logloss:0.00624\teval-logloss:0.080218\n",
            "[70]\ttrain-logloss:0.006196\teval-logloss:0.08028\n",
            "[71]\ttrain-logloss:0.006155\teval-logloss:0.080269\n",
            "[72]\ttrain-logloss:0.006118\teval-logloss:0.080655\n",
            "[73]\ttrain-logloss:0.006074\teval-logloss:0.080461\n",
            "[74]\ttrain-logloss:0.006035\teval-logloss:0.080223\n",
            "[75]\ttrain-logloss:0.006\teval-logloss:0.080494\n",
            "[76]\ttrain-logloss:0.005965\teval-logloss:0.081033\n",
            "[77]\ttrain-logloss:0.005925\teval-logloss:0.080862\n",
            "[78]\ttrain-logloss:0.005892\teval-logloss:0.080929\n",
            "[79]\ttrain-logloss:0.005855\teval-logloss:0.080975\n",
            "[80]\ttrain-logloss:0.005822\teval-logloss:0.080997\n",
            "[81]\ttrain-logloss:0.005792\teval-logloss:0.081512\n",
            "[82]\ttrain-logloss:0.005759\teval-logloss:0.081363\n",
            "[83]\ttrain-logloss:0.005727\teval-logloss:0.081148\n",
            "[84]\ttrain-logloss:0.005699\teval-logloss:0.080777\n",
            "[85]\ttrain-logloss:0.005669\teval-logloss:0.080823\n",
            "[86]\ttrain-logloss:0.005641\teval-logloss:0.08086\n",
            "[87]\ttrain-logloss:0.005616\teval-logloss:0.080521\n",
            "[88]\ttrain-logloss:0.005591\teval-logloss:0.080569\n",
            "[89]\ttrain-logloss:0.005567\teval-logloss:0.080815\n",
            "[90]\ttrain-logloss:0.005543\teval-logloss:0.08051\n",
            "[91]\ttrain-logloss:0.005518\teval-logloss:0.080856\n",
            "[92]\ttrain-logloss:0.005495\teval-logloss:0.080687\n",
            "[93]\ttrain-logloss:0.005473\teval-logloss:0.080396\n",
            "[94]\ttrain-logloss:0.005452\teval-logloss:0.08045\n",
            "[95]\ttrain-logloss:0.00543\teval-logloss:0.080497\n",
            "[96]\ttrain-logloss:0.005409\teval-logloss:0.080724\n",
            "[97]\ttrain-logloss:0.00539\teval-logloss:0.080454\n",
            "[98]\ttrain-logloss:0.005367\teval-logloss:0.08078\n",
            "[99]\ttrain-logloss:0.005348\teval-logloss:0.080439\n",
            "[100]\ttrain-logloss:0.00533\teval-logloss:0.080179\n",
            "[101]\ttrain-logloss:0.005311\teval-logloss:0.08049\n",
            "[102]\ttrain-logloss:0.005292\teval-logloss:0.080701\n",
            "[103]\ttrain-logloss:0.005273\teval-logloss:0.080451\n",
            "[104]\ttrain-logloss:0.005256\teval-logloss:0.080126\n",
            "[105]\ttrain-logloss:0.005239\teval-logloss:0.08007\n",
            "[106]\ttrain-logloss:0.005221\teval-logloss:0.08011\n",
            "[107]\ttrain-logloss:0.005204\teval-logloss:0.07986\n",
            "[108]\ttrain-logloss:0.005187\teval-logloss:0.080159\n",
            "[109]\ttrain-logloss:0.00517\teval-logloss:0.080362\n",
            "[110]\ttrain-logloss:0.005154\teval-logloss:0.080135\n",
            "[111]\ttrain-logloss:0.005138\teval-logloss:0.080187\n",
            "[112]\ttrain-logloss:0.005122\teval-logloss:0.08023\n",
            "[113]\ttrain-logloss:0.005107\teval-logloss:0.079994\n",
            "[114]\ttrain-logloss:0.005092\teval-logloss:0.080279\n",
            "[115]\ttrain-logloss:0.005077\teval-logloss:0.080482\n",
            "[116]\ttrain-logloss:0.005062\teval-logloss:0.080169\n",
            "[117]\ttrain-logloss:0.005048\teval-logloss:0.079951\n",
            "[118]\ttrain-logloss:0.005034\teval-logloss:0.079896\n",
            "[119]\ttrain-logloss:0.00502\teval-logloss:0.079935\n",
            "[120]\ttrain-logloss:0.005007\teval-logloss:0.079971\n",
            "[121]\ttrain-logloss:0.004995\teval-logloss:0.080017\n",
            "[122]\ttrain-logloss:0.004982\teval-logloss:0.080057\n",
            "[123]\ttrain-logloss:0.00497\teval-logloss:0.079857\n",
            "[124]\ttrain-logloss:0.004958\teval-logloss:0.080119\n",
            "[125]\ttrain-logloss:0.004945\teval-logloss:0.080307\n",
            "[126]\ttrain-logloss:0.004933\teval-logloss:0.08004\n",
            "[127]\ttrain-logloss:0.004921\teval-logloss:0.079842\n",
            "[128]\ttrain-logloss:0.00491\teval-logloss:0.080095\n",
            "[129]\ttrain-logloss:0.004899\teval-logloss:0.07974\n",
            "[130]\ttrain-logloss:0.004889\teval-logloss:0.079782\n",
            "[131]\ttrain-logloss:0.004878\teval-logloss:0.079817\n",
            "[132]\ttrain-logloss:0.004868\teval-logloss:0.079631\n",
            "[133]\ttrain-logloss:0.004857\teval-logloss:0.079804\n",
            "[134]\ttrain-logloss:0.004848\teval-logloss:0.079561\n",
            "[135]\ttrain-logloss:0.004839\teval-logloss:0.079395\n",
            "Stopping. Best iteration:\n",
            "[35]\ttrain-logloss:0.009481\teval-logloss:0.077172\n",
            "\n"
          ]
        }
      ]
    },
    {
      "cell_type": "markdown",
      "metadata": {
        "id": "TJZsKW6-54HD"
      },
      "source": [
        "train()으로 학습을 수행하면 반복시 train-error와 eval-logloss가 지속적으로 감소한다. xgboost를 이용해 모델의 학습이 완료됐으면 이를 이용해 테스트 데이터 세트에 예측을 수행해 보겠다. 파이썬 래퍼 XGBoost는 train()함수를 호출해 학습이 완료된 모델 객체를 반환하게 되는데 이 모델 객체는 예측을 위해 predict()메서드를 이용한다. 하낙지 유의할 점은 사이킷런의 predict()메서드는 예측 결과 클래스 값을 반환하는데 반해 xgboost의 predict()는 예측 결괏값이 아닌 예측 결과를 추정할 수 있는 확률 값을 반환한다는 것. "
      ]
    },
    {
      "cell_type": "code",
      "metadata": {
        "id": "Pv4zGEFm321U",
        "colab": {
          "base_uri": "https://localhost:8080/"
        },
        "outputId": "69219bcf-c137-416b-c7f5-1126ade6ae22"
      },
      "source": [
        "pred_probs=xgb_model.predict(dtest)\n",
        "print('predict() 수행 결괏값을 10개만 표시, 예측 확률값으로 표시됨')\n",
        "print(np.round(pred_probs[:10],3))\n",
        "\n",
        "#예측 확률이 0.5보다 크면 1 그렇지 않으면 0으로 예측값 결정해 리스트 객체인 preds에 저장\n",
        "preds=[1 if x> 0.5 else 0 for x in pred_probs]\n",
        "print('예측값 10개만 표시:',preds[:10])"
      ],
      "execution_count": null,
      "outputs": [
        {
          "output_type": "stream",
          "name": "stdout",
          "text": [
            "predict() 수행 결괏값을 10개만 표시, 예측 확률값으로 표시됨\n",
            "[0.978 0.004 0.945 0.054 0.994 1.    1.    1.    0.998 0.   ]\n",
            "예측값 10개만 표시: [1, 0, 1, 0, 1, 1, 1, 1, 1, 0]\n"
          ]
        }
      ]
    },
    {
      "cell_type": "markdown",
      "metadata": {
        "id": "myTv5WkiFtUP"
      },
      "source": [
        "### get_clf_eval 함수"
      ]
    },
    {
      "cell_type": "code",
      "metadata": {
        "id": "hx6N2Z7nMePa"
      },
      "source": [
        "from sklearn.metrics import accuracy_score,confusion_matrix,precision_score\n",
        "from sklearn.metrics import recall_score,f1_score,roc_auc_score\n",
        "import numpy as np \n",
        "\n",
        "#3장 평가에서 생성한 get_clf_eval() 함수를 적용해 XGBoost 모델의 예측 성능 평가\n",
        "def get_clf_eval(y_test, pred=None, pred_proba=None):\n",
        "    confusion = confusion_matrix(y_test, pred)\n",
        "    accuracy = accuracy_score(y_test, pred)\n",
        "    precision = precision_score(y_test, pred)\n",
        "    recall = recall_score(y_test, pred)\n",
        "    f1 = f1_score(y_test, pred)\n",
        "    roc_auc = roc_auc_score(y_test, pred)\n",
        "    \n",
        "    print('오차행렬')\n",
        "    print(confusion)\n",
        "    print('정확도: {0:.4f}, 정밀도: {1:.4f}, 재현율: {2:.4f}, F1: {3:.4f}, AUC:{4:.4f}'\n",
        "          .format(accuracy, precision, recall, f1, roc_auc))"
      ],
      "execution_count": 10,
      "outputs": []
    },
    {
      "cell_type": "code",
      "metadata": {
        "colab": {
          "base_uri": "https://localhost:8080/"
        },
        "id": "Du8VjdFROxkO",
        "outputId": "27c96ccf-b6a9-4bb5-8a2b-f8e84ade159b"
      },
      "source": [
        "get_clf_eval(y_test,preds,pred_probs)"
      ],
      "execution_count": null,
      "outputs": [
        {
          "output_type": "stream",
          "name": "stdout",
          "text": [
            "오차행렬\n",
            "[[35  2]\n",
            " [ 2 75]]\n",
            "정확도: 0.9649, 정밀도: 0.9740, 재현율: 0.9740, F1: 0.9740, AUC:0.9600\n"
          ]
        }
      ]
    },
    {
      "cell_type": "markdown",
      "metadata": {
        "id": "e5SJL6U2Plk8"
      },
      "source": [
        "xgboost의 plot_importance() API는 피처의 중요도를 막대그래프 형식으로 나타낸다. 기본 평가 지표로 f1스코어를 기반으로 해. 각 피처의 중요도를 나타낸다. 사이킷런은 estimator 객체의 feature_importances_ 속성을 이용해 직접 시각화 코드를 작성해야 하지만, xgboost 패키지는 plot_importance()를 이용해 바로 피처 중요도를 시각화 할 수 있다. "
      ]
    },
    {
      "cell_type": "code",
      "metadata": {
        "colab": {
          "base_uri": "https://localhost:8080/",
          "height": 748
        },
        "id": "wqmxvFaQPQQQ",
        "outputId": "71acb35a-7d4c-43da-fa8e-d8b8e5157db4"
      },
      "source": [
        "from xgboost import plot_importance\n",
        "import matplotlib.pyplot as plt\n",
        "%matplotlib inline\n",
        "\n",
        "fig,ax=plt.subplots(figsize=(10,12))\n",
        "plot_importance(xgb_model,ax=ax)"
      ],
      "execution_count": null,
      "outputs": [
        {
          "output_type": "execute_result",
          "data": {
            "text/plain": [
              "<matplotlib.axes._subplots.AxesSubplot at 0x7fd8918584d0>"
            ]
          },
          "metadata": {},
          "execution_count": 19
        },
        {
          "output_type": "display_data",
          "data": {
            "image/png": "[encoded data removed]",
            "text/plain": [
              "<Figure size 720x864 with 1 Axes>"
            ]
          },
          "metadata": {
            "needs_background": "light"
          }
        }
      ]
    },
    {
      "cell_type": "markdown",
      "metadata": {
        "id": "ei4NjlURQ4Io"
      },
      "source": [
        "결정 트리에서 보여준 트리 기반 규칙 구조도 xgboost에서 시각화 할 수있다. xgboost 모듈의 to_graphviz() api를 사용하면 규칙 트리 구조를 그릴 수 있다. \n",
        "\n",
        "파이썬 래퍼 XGBoost는 사이킷런의 GridSearchCV와 유사하게 데이터 세트에 대한 교차검증 수행 후 최적 파라미터를 구할 수 있는 방법을 cv() API로 제공한다 다음은 cv() API와 파라미터에 대한 설명이다. "
      ]
    },
    {
      "cell_type": "code",
      "metadata": {
        "colab": {
          "base_uri": "https://localhost:8080/",
          "height": 357
        },
        "id": "B6oA-jS7Qx2z",
        "outputId": "1251795e-7e09-4e96-96d0-a6d9639cb169"
      },
      "source": [
        "import xgboost\n",
        "xgboost.cv(params,dtrain,num_boost_round=10,nfold=3,stratified=False,folds=None,metrics=(),\n",
        "           obj=None,feval=None,maximize=False,early_stopping_rounds=None,fpreproc=None,as_pandas=True,\n",
        "           verbose_eval=None,show_stdv=True,seed=0,callbacks=None,shuffle=True)"
      ],
      "execution_count": null,
      "outputs": [
        {
          "output_type": "execute_result",
          "data": {
            "text/html": [
              "<div>\n",
              "<style scoped>\n",
              "    .dataframe tbody tr th:only-of-type {\n",
              "        vertical-align: middle;\n",
              "    }\n",
              "\n",
              "    .dataframe tbody tr th {\n",
              "        vertical-align: top;\n",
              "    }\n",
              "\n",
              "    .dataframe thead th {\n",
              "        text-align: right;\n",
              "    }\n",
              "</style>\n",
              "<table border=\"1\" class=\"dataframe\">\n",
              "  <thead>\n",
              "    <tr style=\"text-align: right;\">\n",
              "      <th></th>\n",
              "      <th>train-logloss-mean</th>\n",
              "      <th>train-logloss-std</th>\n",
              "      <th>test-logloss-mean</th>\n",
              "      <th>test-logloss-std</th>\n",
              "    </tr>\n",
              "  </thead>\n",
              "  <tbody>\n",
              "    <tr>\n",
              "      <th>0</th>\n",
              "      <td>0.468418</td>\n",
              "      <td>0.000257</td>\n",
              "      <td>0.490195</td>\n",
              "      <td>0.014758</td>\n",
              "    </tr>\n",
              "    <tr>\n",
              "      <th>1</th>\n",
              "      <td>0.340793</td>\n",
              "      <td>0.001526</td>\n",
              "      <td>0.377599</td>\n",
              "      <td>0.024800</td>\n",
              "    </tr>\n",
              "    <tr>\n",
              "      <th>2</th>\n",
              "      <td>0.256848</td>\n",
              "      <td>0.001486</td>\n",
              "      <td>0.303257</td>\n",
              "      <td>0.025145</td>\n",
              "    </tr>\n",
              "    <tr>\n",
              "      <th>3</th>\n",
              "      <td>0.199311</td>\n",
              "      <td>0.001673</td>\n",
              "      <td>0.256776</td>\n",
              "      <td>0.028100</td>\n",
              "    </tr>\n",
              "    <tr>\n",
              "      <th>4</th>\n",
              "      <td>0.156828</td>\n",
              "      <td>0.001784</td>\n",
              "      <td>0.218177</td>\n",
              "      <td>0.029447</td>\n",
              "    </tr>\n",
              "    <tr>\n",
              "      <th>5</th>\n",
              "      <td>0.127419</td>\n",
              "      <td>0.002107</td>\n",
              "      <td>0.189770</td>\n",
              "      <td>0.029011</td>\n",
              "    </tr>\n",
              "    <tr>\n",
              "      <th>6</th>\n",
              "      <td>0.104244</td>\n",
              "      <td>0.003074</td>\n",
              "      <td>0.172812</td>\n",
              "      <td>0.031871</td>\n",
              "    </tr>\n",
              "    <tr>\n",
              "      <th>7</th>\n",
              "      <td>0.087405</td>\n",
              "      <td>0.002183</td>\n",
              "      <td>0.159882</td>\n",
              "      <td>0.029809</td>\n",
              "    </tr>\n",
              "    <tr>\n",
              "      <th>8</th>\n",
              "      <td>0.074736</td>\n",
              "      <td>0.002176</td>\n",
              "      <td>0.151109</td>\n",
              "      <td>0.033181</td>\n",
              "    </tr>\n",
              "    <tr>\n",
              "      <th>9</th>\n",
              "      <td>0.063295</td>\n",
              "      <td>0.001491</td>\n",
              "      <td>0.144458</td>\n",
              "      <td>0.032823</td>\n",
              "    </tr>\n",
              "  </tbody>\n",
              "</table>\n",
              "</div>"
            ],
            "text/plain": [
              "   train-logloss-mean  train-logloss-std  test-logloss-mean  test-logloss-std\n",
              "0            0.468418           0.000257           0.490195          0.014758\n",
              "1            0.340793           0.001526           0.377599          0.024800\n",
              "2            0.256848           0.001486           0.303257          0.025145\n",
              "3            0.199311           0.001673           0.256776          0.028100\n",
              "4            0.156828           0.001784           0.218177          0.029447\n",
              "5            0.127419           0.002107           0.189770          0.029011\n",
              "6            0.104244           0.003074           0.172812          0.031871\n",
              "7            0.087405           0.002183           0.159882          0.029809\n",
              "8            0.074736           0.002176           0.151109          0.033181\n",
              "9            0.063295           0.001491           0.144458          0.032823"
            ]
          },
          "metadata": {},
          "execution_count": 22
        }
      ]
    },
    {
      "cell_type": "markdown",
      "metadata": {
        "id": "tPRExEVSSG0G"
      },
      "source": [
        "cv() API와 파라미터에 대한 설명\n",
        "\n",
        "- params(dict) : 부스터 파라미터\n",
        "- dtrain(DMatrix) : 학습 데이터\n",
        "- num_boost_round (int) : 부스팅 반복 횟수\n",
        "- nfold (int) : CV 폴드 개수\n",
        "- stratified (bool) : CV 수행 시 층화 표본 추출(stratified sampling) 수행 여부\n",
        "- metrics string or list of strings) : CV 수행 시 모니터링할 성능 평가 지표\n",
        "- early_stopping_rounds (int) : 조기중단을 활성화 시킴. 반복 획수 지정. \n",
        "\n",
        "\n",
        "xgb.cv의 반환 값은 DataFrame 형태이다. 이쯤에서 파이썬 래퍼 XGBoost 모듈에대한 소개와 사용법을 마친다. "
      ]
    },
    {
      "cell_type": "markdown",
      "metadata": {
        "id": "OTM9KKdGS4i7"
      },
      "source": [
        "## 사이킷런 래퍼 XGBoost의 개요 및 적용"
      ]
    },
    {
      "cell_type": "code",
      "metadata": {
        "id": "oXSVMwMeRq8s"
      },
      "source": [
        "#사이킷런 래퍼 XGBoost 클래스인 XGBClassifier 임포트\n",
        "from xgboost import XGBClassifier\n",
        "\n",
        "xgb_wrapper=XGBClassifier(n_estimators=400,learning_rate=0.1,max_depth=3)\n",
        "xgb_wrapper.fit(X_train,y_train)\n",
        "w_preds=xgb_wrapper.predict(X_test)\n",
        "w_preds_proba=xgb_wrapper.predict_proba(X_test)[:,1]"
      ],
      "execution_count": null,
      "outputs": []
    },
    {
      "cell_type": "code",
      "metadata": {
        "colab": {
          "base_uri": "https://localhost:8080/"
        },
        "id": "_x5bvwmEVJP9",
        "outputId": "7fa0423f-81c1-4043-b532-7cd873c9998b"
      },
      "source": [
        "get_clf_eval(y_test,w_preds,w_preds_proba)"
      ],
      "execution_count": null,
      "outputs": [
        {
          "output_type": "stream",
          "name": "stdout",
          "text": [
            "오차행렬\n",
            "[[35  2]\n",
            " [ 1 76]]\n",
            "정확도: 0.9737, 정밀도: 0.9744, 재현율: 0.9870, F1: 0.9806, AUC:0.9665\n"
          ]
        }
      ]
    },
    {
      "cell_type": "code",
      "metadata": {
        "colab": {
          "base_uri": "https://localhost:8080/"
        },
        "id": "gqVcLKB3aE6c",
        "outputId": "c5b729a6-1cd4-4a57-f59d-92a46c0024b0"
      },
      "source": [
        "from xgboost import XGBClassifier\n",
        "\n",
        "xgb_wrapper=XGBClassifier(n_estimators=400,learning_rate=0.1,max_depth=3)\n",
        "evals=[(X_test,y_test)]\n",
        "xgb_wrapper.fit(X_train,y_train,early_stopping_rounds=100,eval_metric=\"logloss\",\n",
        "                eval_set=evals,verbose=True)\n",
        "ws100_preds=xgb_wrapper.predict(X_test)\n",
        "ws100_pred_proba=xgb_wrapper.predict_proba(X_test)[:,1]"
      ],
      "execution_count": null,
      "outputs": [
        {
          "output_type": "stream",
          "name": "stdout",
          "text": [
            "[0]\tvalidation_0-logloss:0.61352\n",
            "Will train until validation_0-logloss hasn't improved in 100 rounds.\n",
            "[1]\tvalidation_0-logloss:0.547842\n",
            "[2]\tvalidation_0-logloss:0.494247\n",
            "[3]\tvalidation_0-logloss:0.447986\n",
            "[4]\tvalidation_0-logloss:0.409109\n",
            "[5]\tvalidation_0-logloss:0.374977\n",
            "[6]\tvalidation_0-logloss:0.345714\n",
            "[7]\tvalidation_0-logloss:0.320529\n",
            "[8]\tvalidation_0-logloss:0.29721\n",
            "[9]\tvalidation_0-logloss:0.277991\n",
            "[10]\tvalidation_0-logloss:0.260302\n",
            "[11]\tvalidation_0-logloss:0.246037\n",
            "[12]\tvalidation_0-logloss:0.231556\n",
            "[13]\tvalidation_0-logloss:0.22005\n",
            "[14]\tvalidation_0-logloss:0.208572\n",
            "[15]\tvalidation_0-logloss:0.199993\n",
            "[16]\tvalidation_0-logloss:0.190118\n",
            "[17]\tvalidation_0-logloss:0.181818\n",
            "[18]\tvalidation_0-logloss:0.174729\n",
            "[19]\tvalidation_0-logloss:0.167657\n",
            "[20]\tvalidation_0-logloss:0.158202\n",
            "[21]\tvalidation_0-logloss:0.154725\n",
            "[22]\tvalidation_0-logloss:0.148947\n",
            "[23]\tvalidation_0-logloss:0.143308\n",
            "[24]\tvalidation_0-logloss:0.136344\n",
            "[25]\tvalidation_0-logloss:0.132778\n",
            "[26]\tvalidation_0-logloss:0.127912\n",
            "[27]\tvalidation_0-logloss:0.125263\n",
            "[28]\tvalidation_0-logloss:0.119978\n",
            "[29]\tvalidation_0-logloss:0.116412\n",
            "[30]\tvalidation_0-logloss:0.114502\n",
            "[31]\tvalidation_0-logloss:0.112572\n",
            "[32]\tvalidation_0-logloss:0.11154\n",
            "[33]\tvalidation_0-logloss:0.108681\n",
            "[34]\tvalidation_0-logloss:0.106681\n",
            "[35]\tvalidation_0-logloss:0.104207\n",
            "[36]\tvalidation_0-logloss:0.102962\n",
            "[37]\tvalidation_0-logloss:0.100576\n",
            "[38]\tvalidation_0-logloss:0.098683\n",
            "[39]\tvalidation_0-logloss:0.096444\n",
            "[40]\tvalidation_0-logloss:0.095869\n",
            "[41]\tvalidation_0-logloss:0.094242\n",
            "[42]\tvalidation_0-logloss:0.094715\n",
            "[43]\tvalidation_0-logloss:0.094272\n",
            "[44]\tvalidation_0-logloss:0.093894\n",
            "[45]\tvalidation_0-logloss:0.094184\n",
            "[46]\tvalidation_0-logloss:0.09402\n",
            "[47]\tvalidation_0-logloss:0.09236\n",
            "[48]\tvalidation_0-logloss:0.093012\n",
            "[49]\tvalidation_0-logloss:0.091272\n",
            "[50]\tvalidation_0-logloss:0.090051\n",
            "[51]\tvalidation_0-logloss:0.089605\n",
            "[52]\tvalidation_0-logloss:0.089577\n",
            "[53]\tvalidation_0-logloss:0.090703\n",
            "[54]\tvalidation_0-logloss:0.089579\n",
            "[55]\tvalidation_0-logloss:0.090357\n",
            "[56]\tvalidation_0-logloss:0.091587\n",
            "[57]\tvalidation_0-logloss:0.091527\n",
            "[58]\tvalidation_0-logloss:0.091986\n",
            "[59]\tvalidation_0-logloss:0.091951\n",
            "[60]\tvalidation_0-logloss:0.091939\n",
            "[61]\tvalidation_0-logloss:0.091461\n",
            "[62]\tvalidation_0-logloss:0.090311\n",
            "[63]\tvalidation_0-logloss:0.089407\n",
            "[64]\tvalidation_0-logloss:0.089719\n",
            "[65]\tvalidation_0-logloss:0.089743\n",
            "[66]\tvalidation_0-logloss:0.089622\n",
            "[67]\tvalidation_0-logloss:0.088734\n",
            "[68]\tvalidation_0-logloss:0.088621\n",
            "[69]\tvalidation_0-logloss:0.089739\n",
            "[70]\tvalidation_0-logloss:0.089981\n",
            "[71]\tvalidation_0-logloss:0.089782\n",
            "[72]\tvalidation_0-logloss:0.089584\n",
            "[73]\tvalidation_0-logloss:0.089533\n",
            "[74]\tvalidation_0-logloss:0.088748\n",
            "[75]\tvalidation_0-logloss:0.088597\n",
            "[76]\tvalidation_0-logloss:0.08812\n",
            "[77]\tvalidation_0-logloss:0.088396\n",
            "[78]\tvalidation_0-logloss:0.088736\n",
            "[79]\tvalidation_0-logloss:0.088153\n",
            "[80]\tvalidation_0-logloss:0.087577\n",
            "[81]\tvalidation_0-logloss:0.087412\n",
            "[82]\tvalidation_0-logloss:0.08849\n",
            "[83]\tvalidation_0-logloss:0.088575\n",
            "[84]\tvalidation_0-logloss:0.08807\n",
            "[85]\tvalidation_0-logloss:0.087641\n",
            "[86]\tvalidation_0-logloss:0.087416\n",
            "[87]\tvalidation_0-logloss:0.087611\n",
            "[88]\tvalidation_0-logloss:0.087065\n",
            "[89]\tvalidation_0-logloss:0.08727\n",
            "[90]\tvalidation_0-logloss:0.087161\n",
            "[91]\tvalidation_0-logloss:0.086962\n",
            "[92]\tvalidation_0-logloss:0.087166\n",
            "[93]\tvalidation_0-logloss:0.087067\n",
            "[94]\tvalidation_0-logloss:0.086592\n",
            "[95]\tvalidation_0-logloss:0.086116\n",
            "[96]\tvalidation_0-logloss:0.087139\n",
            "[97]\tvalidation_0-logloss:0.086768\n",
            "[98]\tvalidation_0-logloss:0.086694\n",
            "[99]\tvalidation_0-logloss:0.086547\n",
            "[100]\tvalidation_0-logloss:0.086498\n",
            "[101]\tvalidation_0-logloss:0.08641\n",
            "[102]\tvalidation_0-logloss:0.086288\n",
            "[103]\tvalidation_0-logloss:0.086258\n",
            "[104]\tvalidation_0-logloss:0.086835\n",
            "[105]\tvalidation_0-logloss:0.086767\n",
            "[106]\tvalidation_0-logloss:0.087321\n",
            "[107]\tvalidation_0-logloss:0.087304\n",
            "[108]\tvalidation_0-logloss:0.08728\n",
            "[109]\tvalidation_0-logloss:0.087298\n",
            "[110]\tvalidation_0-logloss:0.087289\n",
            "[111]\tvalidation_0-logloss:0.088002\n",
            "[112]\tvalidation_0-logloss:0.087936\n",
            "[113]\tvalidation_0-logloss:0.087843\n",
            "[114]\tvalidation_0-logloss:0.088066\n",
            "[115]\tvalidation_0-logloss:0.087649\n",
            "[116]\tvalidation_0-logloss:0.087298\n",
            "[117]\tvalidation_0-logloss:0.087799\n",
            "[118]\tvalidation_0-logloss:0.087751\n",
            "[119]\tvalidation_0-logloss:0.08768\n",
            "[120]\tvalidation_0-logloss:0.087626\n",
            "[121]\tvalidation_0-logloss:0.08757\n",
            "[122]\tvalidation_0-logloss:0.087547\n",
            "[123]\tvalidation_0-logloss:0.087156\n",
            "[124]\tvalidation_0-logloss:0.08767\n",
            "[125]\tvalidation_0-logloss:0.087737\n",
            "[126]\tvalidation_0-logloss:0.088275\n",
            "[127]\tvalidation_0-logloss:0.088309\n",
            "[128]\tvalidation_0-logloss:0.088266\n",
            "[129]\tvalidation_0-logloss:0.087886\n",
            "[130]\tvalidation_0-logloss:0.088861\n",
            "[131]\tvalidation_0-logloss:0.088675\n",
            "[132]\tvalidation_0-logloss:0.088743\n",
            "[133]\tvalidation_0-logloss:0.089218\n",
            "[134]\tvalidation_0-logloss:0.089179\n",
            "[135]\tvalidation_0-logloss:0.088821\n",
            "[136]\tvalidation_0-logloss:0.088512\n",
            "[137]\tvalidation_0-logloss:0.08848\n",
            "[138]\tvalidation_0-logloss:0.088386\n",
            "[139]\tvalidation_0-logloss:0.089145\n",
            "[140]\tvalidation_0-logloss:0.08911\n",
            "[141]\tvalidation_0-logloss:0.088765\n",
            "[142]\tvalidation_0-logloss:0.088678\n",
            "[143]\tvalidation_0-logloss:0.088389\n",
            "[144]\tvalidation_0-logloss:0.089271\n",
            "[145]\tvalidation_0-logloss:0.089238\n",
            "[146]\tvalidation_0-logloss:0.089139\n",
            "[147]\tvalidation_0-logloss:0.088907\n",
            "[148]\tvalidation_0-logloss:0.089416\n",
            "[149]\tvalidation_0-logloss:0.089388\n",
            "[150]\tvalidation_0-logloss:0.089108\n",
            "[151]\tvalidation_0-logloss:0.088735\n",
            "[152]\tvalidation_0-logloss:0.088717\n",
            "[153]\tvalidation_0-logloss:0.088484\n",
            "[154]\tvalidation_0-logloss:0.088471\n",
            "[155]\tvalidation_0-logloss:0.088545\n",
            "[156]\tvalidation_0-logloss:0.088521\n",
            "[157]\tvalidation_0-logloss:0.088547\n",
            "[158]\tvalidation_0-logloss:0.088275\n",
            "[159]\tvalidation_0-logloss:0.0883\n",
            "[160]\tvalidation_0-logloss:0.08828\n",
            "[161]\tvalidation_0-logloss:0.088013\n",
            "[162]\tvalidation_0-logloss:0.087758\n",
            "[163]\tvalidation_0-logloss:0.087784\n",
            "[164]\tvalidation_0-logloss:0.087777\n",
            "[165]\tvalidation_0-logloss:0.087517\n",
            "[166]\tvalidation_0-logloss:0.087542\n",
            "[167]\tvalidation_0-logloss:0.087642\n",
            "[168]\tvalidation_0-logloss:0.08739\n",
            "[169]\tvalidation_0-logloss:0.087377\n",
            "[170]\tvalidation_0-logloss:0.087298\n",
            "[171]\tvalidation_0-logloss:0.087368\n",
            "[172]\tvalidation_0-logloss:0.087395\n",
            "[173]\tvalidation_0-logloss:0.087385\n",
            "[174]\tvalidation_0-logloss:0.087132\n",
            "[175]\tvalidation_0-logloss:0.087159\n",
            "[176]\tvalidation_0-logloss:0.086955\n",
            "[177]\tvalidation_0-logloss:0.087053\n",
            "[178]\tvalidation_0-logloss:0.08697\n",
            "[179]\tvalidation_0-logloss:0.086973\n",
            "[180]\tvalidation_0-logloss:0.087038\n",
            "[181]\tvalidation_0-logloss:0.086799\n",
            "[182]\tvalidation_0-logloss:0.086826\n",
            "[183]\tvalidation_0-logloss:0.086582\n",
            "[184]\tvalidation_0-logloss:0.086588\n",
            "[185]\tvalidation_0-logloss:0.086614\n",
            "[186]\tvalidation_0-logloss:0.086372\n",
            "[187]\tvalidation_0-logloss:0.086369\n",
            "[188]\tvalidation_0-logloss:0.086297\n",
            "[189]\tvalidation_0-logloss:0.086104\n",
            "[190]\tvalidation_0-logloss:0.086023\n",
            "[191]\tvalidation_0-logloss:0.08605\n",
            "[192]\tvalidation_0-logloss:0.086149\n",
            "[193]\tvalidation_0-logloss:0.085916\n",
            "[194]\tvalidation_0-logloss:0.085915\n",
            "[195]\tvalidation_0-logloss:0.085984\n",
            "[196]\tvalidation_0-logloss:0.086012\n",
            "[197]\tvalidation_0-logloss:0.085922\n",
            "[198]\tvalidation_0-logloss:0.085853\n",
            "[199]\tvalidation_0-logloss:0.085874\n",
            "[200]\tvalidation_0-logloss:0.085888\n",
            "[201]\tvalidation_0-logloss:0.08595\n",
            "[202]\tvalidation_0-logloss:0.08573\n",
            "[203]\tvalidation_0-logloss:0.08573\n",
            "[204]\tvalidation_0-logloss:0.085753\n",
            "[205]\tvalidation_0-logloss:0.085821\n",
            "[206]\tvalidation_0-logloss:0.08584\n",
            "[207]\tvalidation_0-logloss:0.085776\n",
            "[208]\tvalidation_0-logloss:0.085686\n",
            "[209]\tvalidation_0-logloss:0.08571\n",
            "[210]\tvalidation_0-logloss:0.085806\n",
            "[211]\tvalidation_0-logloss:0.085593\n",
            "[212]\tvalidation_0-logloss:0.085801\n",
            "[213]\tvalidation_0-logloss:0.085806\n",
            "[214]\tvalidation_0-logloss:0.085744\n",
            "[215]\tvalidation_0-logloss:0.085658\n",
            "[216]\tvalidation_0-logloss:0.085843\n",
            "[217]\tvalidation_0-logloss:0.085632\n",
            "[218]\tvalidation_0-logloss:0.085726\n",
            "[219]\tvalidation_0-logloss:0.085783\n",
            "[220]\tvalidation_0-logloss:0.085791\n",
            "[221]\tvalidation_0-logloss:0.085817\n",
            "[222]\tvalidation_0-logloss:0.085757\n",
            "[223]\tvalidation_0-logloss:0.085674\n",
            "[224]\tvalidation_0-logloss:0.08586\n",
            "[225]\tvalidation_0-logloss:0.085871\n",
            "[226]\tvalidation_0-logloss:0.085927\n",
            "[227]\tvalidation_0-logloss:0.085954\n",
            "[228]\tvalidation_0-logloss:0.085874\n",
            "[229]\tvalidation_0-logloss:0.086057\n",
            "[230]\tvalidation_0-logloss:0.086002\n",
            "[231]\tvalidation_0-logloss:0.085922\n",
            "[232]\tvalidation_0-logloss:0.086102\n",
            "[233]\tvalidation_0-logloss:0.086115\n",
            "[234]\tvalidation_0-logloss:0.086169\n",
            "[235]\tvalidation_0-logloss:0.086263\n",
            "[236]\tvalidation_0-logloss:0.086292\n",
            "[237]\tvalidation_0-logloss:0.086217\n",
            "[238]\tvalidation_0-logloss:0.086395\n",
            "[239]\tvalidation_0-logloss:0.086342\n",
            "[240]\tvalidation_0-logloss:0.08618\n",
            "[241]\tvalidation_0-logloss:0.086195\n",
            "[242]\tvalidation_0-logloss:0.086248\n",
            "[243]\tvalidation_0-logloss:0.086263\n",
            "[244]\tvalidation_0-logloss:0.086293\n",
            "[245]\tvalidation_0-logloss:0.086222\n",
            "[246]\tvalidation_0-logloss:0.086398\n",
            "[247]\tvalidation_0-logloss:0.086347\n",
            "[248]\tvalidation_0-logloss:0.086276\n",
            "[249]\tvalidation_0-logloss:0.086448\n",
            "[250]\tvalidation_0-logloss:0.086294\n",
            "[251]\tvalidation_0-logloss:0.086312\n",
            "[252]\tvalidation_0-logloss:0.086364\n",
            "[253]\tvalidation_0-logloss:0.086394\n",
            "[254]\tvalidation_0-logloss:0.08649\n",
            "[255]\tvalidation_0-logloss:0.086441\n",
            "[256]\tvalidation_0-logloss:0.08629\n",
            "[257]\tvalidation_0-logloss:0.08646\n",
            "[258]\tvalidation_0-logloss:0.086391\n",
            "[259]\tvalidation_0-logloss:0.086441\n",
            "[260]\tvalidation_0-logloss:0.086461\n",
            "[261]\tvalidation_0-logloss:0.086491\n",
            "[262]\tvalidation_0-logloss:0.086445\n",
            "[263]\tvalidation_0-logloss:0.086466\n",
            "[264]\tvalidation_0-logloss:0.086319\n",
            "[265]\tvalidation_0-logloss:0.086488\n",
            "[266]\tvalidation_0-logloss:0.086538\n",
            "[267]\tvalidation_0-logloss:0.086471\n",
            "[268]\tvalidation_0-logloss:0.086501\n",
            "[269]\tvalidation_0-logloss:0.086522\n",
            "[270]\tvalidation_0-logloss:0.086689\n",
            "[271]\tvalidation_0-logloss:0.086738\n",
            "[272]\tvalidation_0-logloss:0.08683\n",
            "[273]\tvalidation_0-logloss:0.086684\n",
            "[274]\tvalidation_0-logloss:0.08664\n",
            "[275]\tvalidation_0-logloss:0.086496\n",
            "[276]\tvalidation_0-logloss:0.086355\n",
            "[277]\tvalidation_0-logloss:0.086519\n",
            "[278]\tvalidation_0-logloss:0.086567\n",
            "[279]\tvalidation_0-logloss:0.08659\n",
            "[280]\tvalidation_0-logloss:0.086679\n",
            "[281]\tvalidation_0-logloss:0.086637\n",
            "[282]\tvalidation_0-logloss:0.086499\n",
            "[283]\tvalidation_0-logloss:0.086356\n",
            "[284]\tvalidation_0-logloss:0.086405\n",
            "[285]\tvalidation_0-logloss:0.086429\n",
            "[286]\tvalidation_0-logloss:0.086456\n",
            "[287]\tvalidation_0-logloss:0.086504\n",
            "[288]\tvalidation_0-logloss:0.08637\n",
            "[289]\tvalidation_0-logloss:0.086457\n",
            "[290]\tvalidation_0-logloss:0.086453\n",
            "[291]\tvalidation_0-logloss:0.086322\n",
            "[292]\tvalidation_0-logloss:0.086284\n",
            "[293]\tvalidation_0-logloss:0.086148\n",
            "[294]\tvalidation_0-logloss:0.086196\n",
            "[295]\tvalidation_0-logloss:0.086221\n",
            "[296]\tvalidation_0-logloss:0.086308\n",
            "[297]\tvalidation_0-logloss:0.086178\n",
            "[298]\tvalidation_0-logloss:0.086263\n",
            "[299]\tvalidation_0-logloss:0.086131\n",
            "[300]\tvalidation_0-logloss:0.086179\n",
            "[301]\tvalidation_0-logloss:0.086052\n",
            "[302]\tvalidation_0-logloss:0.086016\n",
            "[303]\tvalidation_0-logloss:0.086101\n",
            "[304]\tvalidation_0-logloss:0.085977\n",
            "[305]\tvalidation_0-logloss:0.086059\n",
            "[306]\tvalidation_0-logloss:0.085971\n",
            "[307]\tvalidation_0-logloss:0.085998\n",
            "[308]\tvalidation_0-logloss:0.085999\n",
            "[309]\tvalidation_0-logloss:0.085877\n",
            "[310]\tvalidation_0-logloss:0.085923\n",
            "[311]\tvalidation_0-logloss:0.085948\n",
            "Stopping. Best iteration:\n",
            "[211]\tvalidation_0-logloss:0.085593\n",
            "\n"
          ]
        }
      ]
    },
    {
      "cell_type": "code",
      "metadata": {
        "colab": {
          "base_uri": "https://localhost:8080/"
        },
        "id": "lHHRz8SWckMA",
        "outputId": "b61fb0c7-eb2f-43df-fc65-b3b7b69ab33c"
      },
      "source": [
        "get_clf_eval(y_test,ws100_preds,ws100_pred_proba)"
      ],
      "execution_count": null,
      "outputs": [
        {
          "output_type": "stream",
          "name": "stdout",
          "text": [
            "오차행렬\n",
            "[[34  3]\n",
            " [ 1 76]]\n",
            "정확도: 0.9649, 정밀도: 0.9620, 재현율: 0.9870, F1: 0.9744, AUC:0.9530\n"
          ]
        }
      ]
    },
    {
      "cell_type": "code",
      "metadata": {
        "colab": {
          "base_uri": "https://localhost:8080/"
        },
        "id": "tM8eeAFld4Ox",
        "outputId": "53288b9e-d968-4546-f517-fb948ba52a02"
      },
      "source": [
        "#early_stopping_rounds=를 10으로 설정하고 재 학습\n",
        "xgb_wrapper.fit(X_train,y_train,early_stopping_rounds=10,\n",
        "                eval_metric=\"logloss\",eval_set=evals,verbose=True)\n",
        "\n",
        "ws10_pred=xgb_wrapper.predict(X_test)\n",
        "ws10_pred_proba=xgb_wrapper.predict_proba(X_test)[:,1]\n",
        "get_clf_eval(y_test,ws10_pred,ws100_pred_proba)"
      ],
      "execution_count": null,
      "outputs": [
        {
          "output_type": "stream",
          "name": "stdout",
          "text": [
            "[0]\tvalidation_0-logloss:0.61352\n",
            "Will train until validation_0-logloss hasn't improved in 10 rounds.\n",
            "[1]\tvalidation_0-logloss:0.547842\n",
            "[2]\tvalidation_0-logloss:0.494247\n",
            "[3]\tvalidation_0-logloss:0.447986\n",
            "[4]\tvalidation_0-logloss:0.409109\n",
            "[5]\tvalidation_0-logloss:0.374977\n",
            "[6]\tvalidation_0-logloss:0.345714\n",
            "[7]\tvalidation_0-logloss:0.320529\n",
            "[8]\tvalidation_0-logloss:0.29721\n",
            "[9]\tvalidation_0-logloss:0.277991\n",
            "[10]\tvalidation_0-logloss:0.260302\n",
            "[11]\tvalidation_0-logloss:0.246037\n",
            "[12]\tvalidation_0-logloss:0.231556\n",
            "[13]\tvalidation_0-logloss:0.22005\n",
            "[14]\tvalidation_0-logloss:0.208572\n",
            "[15]\tvalidation_0-logloss:0.199993\n",
            "[16]\tvalidation_0-logloss:0.190118\n",
            "[17]\tvalidation_0-logloss:0.181818\n",
            "[18]\tvalidation_0-logloss:0.174729\n",
            "[19]\tvalidation_0-logloss:0.167657\n",
            "[20]\tvalidation_0-logloss:0.158202\n",
            "[21]\tvalidation_0-logloss:0.154725\n",
            "[22]\tvalidation_0-logloss:0.148947\n",
            "[23]\tvalidation_0-logloss:0.143308\n",
            "[24]\tvalidation_0-logloss:0.136344\n",
            "[25]\tvalidation_0-logloss:0.132778\n",
            "[26]\tvalidation_0-logloss:0.127912\n",
            "[27]\tvalidation_0-logloss:0.125263\n",
            "[28]\tvalidation_0-logloss:0.119978\n",
            "[29]\tvalidation_0-logloss:0.116412\n",
            "[30]\tvalidation_0-logloss:0.114502\n",
            "[31]\tvalidation_0-logloss:0.112572\n",
            "[32]\tvalidation_0-logloss:0.11154\n",
            "[33]\tvalidation_0-logloss:0.108681\n",
            "[34]\tvalidation_0-logloss:0.106681\n",
            "[35]\tvalidation_0-logloss:0.104207\n",
            "[36]\tvalidation_0-logloss:0.102962\n",
            "[37]\tvalidation_0-logloss:0.100576\n",
            "[38]\tvalidation_0-logloss:0.098683\n",
            "[39]\tvalidation_0-logloss:0.096444\n",
            "[40]\tvalidation_0-logloss:0.095869\n",
            "[41]\tvalidation_0-logloss:0.094242\n",
            "[42]\tvalidation_0-logloss:0.094715\n",
            "[43]\tvalidation_0-logloss:0.094272\n",
            "[44]\tvalidation_0-logloss:0.093894\n",
            "[45]\tvalidation_0-logloss:0.094184\n",
            "[46]\tvalidation_0-logloss:0.09402\n",
            "[47]\tvalidation_0-logloss:0.09236\n",
            "[48]\tvalidation_0-logloss:0.093012\n",
            "[49]\tvalidation_0-logloss:0.091272\n",
            "[50]\tvalidation_0-logloss:0.090051\n",
            "[51]\tvalidation_0-logloss:0.089605\n",
            "[52]\tvalidation_0-logloss:0.089577\n",
            "[53]\tvalidation_0-logloss:0.090703\n",
            "[54]\tvalidation_0-logloss:0.089579\n",
            "[55]\tvalidation_0-logloss:0.090357\n",
            "[56]\tvalidation_0-logloss:0.091587\n",
            "[57]\tvalidation_0-logloss:0.091527\n",
            "[58]\tvalidation_0-logloss:0.091986\n",
            "[59]\tvalidation_0-logloss:0.091951\n",
            "[60]\tvalidation_0-logloss:0.091939\n",
            "[61]\tvalidation_0-logloss:0.091461\n",
            "[62]\tvalidation_0-logloss:0.090311\n",
            "Stopping. Best iteration:\n",
            "[52]\tvalidation_0-logloss:0.089577\n",
            "\n",
            "오차행렬\n",
            "[[34  3]\n",
            " [ 2 75]]\n",
            "정확도: 0.9561, 정밀도: 0.9615, 재현율: 0.9740, F1: 0.9677, AUC:0.9465\n"
          ]
        }
      ]
    },
    {
      "cell_type": "code",
      "metadata": {
        "colab": {
          "base_uri": "https://localhost:8080/",
          "height": 748
        },
        "id": "7rZMj66vemge",
        "outputId": "0cba8c88-c944-4006-d06c-f69a429204ed"
      },
      "source": [
        "from xgboost import plot_importance\n",
        "import matplotlib.pyplot as plt\n",
        "%matplotlib inline\n",
        "\n",
        "fig,ax=plt.subplots(figsize=(10,12))\n",
        "#사이킷런 Wrapper 클래스를 입력해도 무방\n",
        "plot_importance(xgb_wrapper,ax=ax)"
      ],
      "execution_count": null,
      "outputs": [
        {
          "output_type": "execute_result",
          "data": {
            "text/plain": [
              "<matplotlib.axes._subplots.AxesSubplot at 0x7fd8911769d0>"
            ]
          },
          "metadata": {},
          "execution_count": 36
        },
        {
          "output_type": "display_data",
          "data": {
            "image/png": "[encoded data removed]",
            "text/plain": [
              "<Figure size 720x864 with 1 Axes>"
            ]
          },
          "metadata": {
            "needs_background": "light"
          }
        }
      ]
    },
    {
      "cell_type": "code",
      "metadata": {
        "colab": {
          "base_uri": "https://localhost:8080/"
        },
        "id": "omXuXMrpf4R9",
        "outputId": "d751caab-873e-4328-eb8b-6a72e2b42dfe"
      },
      "source": [
        "xgb_wrapper.feature_importances_"
      ],
      "execution_count": null,
      "outputs": [
        {
          "output_type": "execute_result",
          "data": {
            "text/plain": [
              "array([1.6616491e-03, 1.6631652e-02, 0.0000000e+00, 1.4326959e-02,\n",
              "       6.3833855e-03, 2.2605326e-02, 4.8089591e-03, 8.7997660e-02,\n",
              "       3.1706042e-04, 4.1436418e-03, 1.0341608e-02, 0.0000000e+00,\n",
              "       8.5010994e-03, 1.2317199e-02, 8.9769587e-03, 7.9138251e-03,\n",
              "       1.4635175e-02, 1.0357724e-02, 0.0000000e+00, 0.0000000e+00,\n",
              "       3.6077222e-01, 1.5455114e-02, 2.3903282e-01, 4.5287434e-02,\n",
              "       1.0665275e-02, 9.4822468e-03, 1.4726046e-02, 6.3845336e-02,\n",
              "       5.2984236e-03, 3.5153364e-03], dtype=float32)"
            ]
          },
          "metadata": {},
          "execution_count": 40
        }
      ]
    },
    {
      "cell_type": "markdown",
      "metadata": {
        "id": "OeI3BjW846A0"
      },
      "source": [
        "# LightGBM\n"
      ]
    },
    {
      "cell_type": "markdown",
      "metadata": {
        "id": "RpGureo-DKt2"
      },
      "source": [
        "## 위스콘신 유방암 예측"
      ]
    },
    {
      "cell_type": "code",
      "metadata": {
        "id": "be5tAlrxhCea",
        "colab": {
          "base_uri": "https://localhost:8080/"
        },
        "outputId": "073f910f-759e-4822-ae06-ed6ee453b464"
      },
      "source": [
        "#LightGBM 파이썬 패키지인 lightgbm에서 LGBMClassifier 임포트\n",
        "from lightgbm import LGBMClassifier\n",
        "\n",
        "import pandas as pd\n",
        "import numpy as np\n",
        "from sklearn.datasets import load_breast_cancer\n",
        "from sklearn.model_selection import train_test_split\n",
        "\n",
        "dataset=load_breast_cancer()\n",
        "ftr=dataset.data\n",
        "target=dataset.target\n",
        "\n",
        "#전체 데이터 중 80%는 학습, 20%는 테스트 데이터\n",
        "X_train,X_test,y_train,y_test=train_test_split(ftr,target,test_size=0.2,random_state=156)\n",
        "\n",
        "#앞서 XGBoost와 동일하게 n_estimators 는 400 설정. \n",
        "lgbm_wrapper=LGBMClassifier(n_estimators=400)\n",
        "\n",
        "#LightGBM도 XGBoost와 동일하게 조기중단 수행 가능\n",
        "evals=[(X_test,y_test)]\n",
        "lgbm_wrapper.fit(X_train,y_train,early_stopping_rounds=100,eval_metric='logloss',\n",
        "                 eval_set=evals,verbose=True)\n",
        "preds=lgbm_wrapper.predict(X_test)\n",
        "pred_proba=lgbm_wrapper.predict_proba(X_test)[:,1]"
      ],
      "execution_count": 9,
      "outputs": [
        {
          "output_type": "stream",
          "name": "stdout",
          "text": [
            "[1]\tvalid_0's binary_logloss: 0.565079\tvalid_0's binary_logloss: 0.565079\n",
            "Training until validation scores don't improve for 100 rounds.\n",
            "[2]\tvalid_0's binary_logloss: 0.507451\tvalid_0's binary_logloss: 0.507451\n",
            "[3]\tvalid_0's binary_logloss: 0.458489\tvalid_0's binary_logloss: 0.458489\n",
            "[4]\tvalid_0's binary_logloss: 0.417481\tvalid_0's binary_logloss: 0.417481\n",
            "[5]\tvalid_0's binary_logloss: 0.385507\tvalid_0's binary_logloss: 0.385507\n",
            "[6]\tvalid_0's binary_logloss: 0.355846\tvalid_0's binary_logloss: 0.355846\n",
            "[7]\tvalid_0's binary_logloss: 0.330897\tvalid_0's binary_logloss: 0.330897\n",
            "[8]\tvalid_0's binary_logloss: 0.306923\tvalid_0's binary_logloss: 0.306923\n",
            "[9]\tvalid_0's binary_logloss: 0.28776\tvalid_0's binary_logloss: 0.28776\n",
            "[10]\tvalid_0's binary_logloss: 0.26917\tvalid_0's binary_logloss: 0.26917\n",
            "[11]\tvalid_0's binary_logloss: 0.250954\tvalid_0's binary_logloss: 0.250954\n",
            "[12]\tvalid_0's binary_logloss: 0.23847\tvalid_0's binary_logloss: 0.23847\n",
            "[13]\tvalid_0's binary_logloss: 0.225865\tvalid_0's binary_logloss: 0.225865\n",
            "[14]\tvalid_0's binary_logloss: 0.215076\tvalid_0's binary_logloss: 0.215076\n",
            "[15]\tvalid_0's binary_logloss: 0.205996\tvalid_0's binary_logloss: 0.205996\n",
            "[16]\tvalid_0's binary_logloss: 0.196091\tvalid_0's binary_logloss: 0.196091\n",
            "[17]\tvalid_0's binary_logloss: 0.186395\tvalid_0's binary_logloss: 0.186395\n",
            "[18]\tvalid_0's binary_logloss: 0.17942\tvalid_0's binary_logloss: 0.17942\n",
            "[19]\tvalid_0's binary_logloss: 0.174727\tvalid_0's binary_logloss: 0.174727\n",
            "[20]\tvalid_0's binary_logloss: 0.168563\tvalid_0's binary_logloss: 0.168563\n",
            "[21]\tvalid_0's binary_logloss: 0.165432\tvalid_0's binary_logloss: 0.165432\n",
            "[22]\tvalid_0's binary_logloss: 0.160356\tvalid_0's binary_logloss: 0.160356\n",
            "[23]\tvalid_0's binary_logloss: 0.155508\tvalid_0's binary_logloss: 0.155508\n",
            "[24]\tvalid_0's binary_logloss: 0.151598\tvalid_0's binary_logloss: 0.151598\n",
            "[25]\tvalid_0's binary_logloss: 0.149861\tvalid_0's binary_logloss: 0.149861\n",
            "[26]\tvalid_0's binary_logloss: 0.149873\tvalid_0's binary_logloss: 0.149873\n",
            "[27]\tvalid_0's binary_logloss: 0.147032\tvalid_0's binary_logloss: 0.147032\n",
            "[28]\tvalid_0's binary_logloss: 0.145077\tvalid_0's binary_logloss: 0.145077\n",
            "[29]\tvalid_0's binary_logloss: 0.139891\tvalid_0's binary_logloss: 0.139891\n",
            "[30]\tvalid_0's binary_logloss: 0.137416\tvalid_0's binary_logloss: 0.137416\n",
            "[31]\tvalid_0's binary_logloss: 0.138393\tvalid_0's binary_logloss: 0.138393\n",
            "[32]\tvalid_0's binary_logloss: 0.135948\tvalid_0's binary_logloss: 0.135948\n",
            "[33]\tvalid_0's binary_logloss: 0.132968\tvalid_0's binary_logloss: 0.132968\n",
            "[34]\tvalid_0's binary_logloss: 0.129697\tvalid_0's binary_logloss: 0.129697\n",
            "[35]\tvalid_0's binary_logloss: 0.131102\tvalid_0's binary_logloss: 0.131102\n",
            "[36]\tvalid_0's binary_logloss: 0.129382\tvalid_0's binary_logloss: 0.129382\n",
            "[37]\tvalid_0's binary_logloss: 0.128044\tvalid_0's binary_logloss: 0.128044\n",
            "[38]\tvalid_0's binary_logloss: 0.127325\tvalid_0's binary_logloss: 0.127325\n",
            "[39]\tvalid_0's binary_logloss: 0.128091\tvalid_0's binary_logloss: 0.128091\n",
            "[40]\tvalid_0's binary_logloss: 0.129045\tvalid_0's binary_logloss: 0.129045\n",
            "[41]\tvalid_0's binary_logloss: 0.127023\tvalid_0's binary_logloss: 0.127023\n",
            "[42]\tvalid_0's binary_logloss: 0.129314\tvalid_0's binary_logloss: 0.129314\n",
            "[43]\tvalid_0's binary_logloss: 0.129175\tvalid_0's binary_logloss: 0.129175\n",
            "[44]\tvalid_0's binary_logloss: 0.128212\tvalid_0's binary_logloss: 0.128212\n",
            "[45]\tvalid_0's binary_logloss: 0.126664\tvalid_0's binary_logloss: 0.126664\n",
            "[46]\tvalid_0's binary_logloss: 0.127662\tvalid_0's binary_logloss: 0.127662\n",
            "[47]\tvalid_0's binary_logloss: 0.126108\tvalid_0's binary_logloss: 0.126108\n",
            "[48]\tvalid_0's binary_logloss: 0.129371\tvalid_0's binary_logloss: 0.129371\n",
            "[49]\tvalid_0's binary_logloss: 0.129573\tvalid_0's binary_logloss: 0.129573\n",
            "[50]\tvalid_0's binary_logloss: 0.130876\tvalid_0's binary_logloss: 0.130876\n",
            "[51]\tvalid_0's binary_logloss: 0.131366\tvalid_0's binary_logloss: 0.131366\n",
            "[52]\tvalid_0's binary_logloss: 0.131336\tvalid_0's binary_logloss: 0.131336\n",
            "[53]\tvalid_0's binary_logloss: 0.13208\tvalid_0's binary_logloss: 0.13208\n",
            "[54]\tvalid_0's binary_logloss: 0.13306\tvalid_0's binary_logloss: 0.13306\n",
            "[55]\tvalid_0's binary_logloss: 0.132342\tvalid_0's binary_logloss: 0.132342\n",
            "[56]\tvalid_0's binary_logloss: 0.134836\tvalid_0's binary_logloss: 0.134836\n",
            "[57]\tvalid_0's binary_logloss: 0.135208\tvalid_0's binary_logloss: 0.135208\n",
            "[58]\tvalid_0's binary_logloss: 0.13328\tvalid_0's binary_logloss: 0.13328\n",
            "[59]\tvalid_0's binary_logloss: 0.134147\tvalid_0's binary_logloss: 0.134147\n",
            "[60]\tvalid_0's binary_logloss: 0.134549\tvalid_0's binary_logloss: 0.134549\n",
            "[61]\tvalid_0's binary_logloss: 0.133202\tvalid_0's binary_logloss: 0.133202\n",
            "[62]\tvalid_0's binary_logloss: 0.135726\tvalid_0's binary_logloss: 0.135726\n",
            "[63]\tvalid_0's binary_logloss: 0.134011\tvalid_0's binary_logloss: 0.134011\n",
            "[64]\tvalid_0's binary_logloss: 0.131493\tvalid_0's binary_logloss: 0.131493\n",
            "[65]\tvalid_0's binary_logloss: 0.134114\tvalid_0's binary_logloss: 0.134114\n",
            "[66]\tvalid_0's binary_logloss: 0.134525\tvalid_0's binary_logloss: 0.134525\n",
            "[67]\tvalid_0's binary_logloss: 0.131412\tvalid_0's binary_logloss: 0.131412\n",
            "[68]\tvalid_0's binary_logloss: 0.12878\tvalid_0's binary_logloss: 0.12878\n",
            "[69]\tvalid_0's binary_logloss: 0.129571\tvalid_0's binary_logloss: 0.129571\n",
            "[70]\tvalid_0's binary_logloss: 0.129671\tvalid_0's binary_logloss: 0.129671\n",
            "[71]\tvalid_0's binary_logloss: 0.129935\tvalid_0's binary_logloss: 0.129935\n",
            "[72]\tvalid_0's binary_logloss: 0.128951\tvalid_0's binary_logloss: 0.128951\n",
            "[73]\tvalid_0's binary_logloss: 0.128977\tvalid_0's binary_logloss: 0.128977\n",
            "[74]\tvalid_0's binary_logloss: 0.127121\tvalid_0's binary_logloss: 0.127121\n",
            "[75]\tvalid_0's binary_logloss: 0.128107\tvalid_0's binary_logloss: 0.128107\n",
            "[76]\tvalid_0's binary_logloss: 0.129796\tvalid_0's binary_logloss: 0.129796\n",
            "[77]\tvalid_0's binary_logloss: 0.131663\tvalid_0's binary_logloss: 0.131663\n",
            "[78]\tvalid_0's binary_logloss: 0.132483\tvalid_0's binary_logloss: 0.132483\n",
            "[79]\tvalid_0's binary_logloss: 0.131578\tvalid_0's binary_logloss: 0.131578\n",
            "[80]\tvalid_0's binary_logloss: 0.130352\tvalid_0's binary_logloss: 0.130352\n",
            "[81]\tvalid_0's binary_logloss: 0.129895\tvalid_0's binary_logloss: 0.129895\n",
            "[82]\tvalid_0's binary_logloss: 0.131587\tvalid_0's binary_logloss: 0.131587\n",
            "[83]\tvalid_0's binary_logloss: 0.132763\tvalid_0's binary_logloss: 0.132763\n",
            "[84]\tvalid_0's binary_logloss: 0.133677\tvalid_0's binary_logloss: 0.133677\n",
            "[85]\tvalid_0's binary_logloss: 0.137552\tvalid_0's binary_logloss: 0.137552\n",
            "[86]\tvalid_0's binary_logloss: 0.136055\tvalid_0's binary_logloss: 0.136055\n",
            "[87]\tvalid_0's binary_logloss: 0.137904\tvalid_0's binary_logloss: 0.137904\n",
            "[88]\tvalid_0's binary_logloss: 0.139524\tvalid_0's binary_logloss: 0.139524\n",
            "[89]\tvalid_0's binary_logloss: 0.138434\tvalid_0's binary_logloss: 0.138434\n",
            "[90]\tvalid_0's binary_logloss: 0.138402\tvalid_0's binary_logloss: 0.138402\n",
            "[91]\tvalid_0's binary_logloss: 0.139384\tvalid_0's binary_logloss: 0.139384\n",
            "[92]\tvalid_0's binary_logloss: 0.139642\tvalid_0's binary_logloss: 0.139642\n",
            "[93]\tvalid_0's binary_logloss: 0.138006\tvalid_0's binary_logloss: 0.138006\n",
            "[94]\tvalid_0's binary_logloss: 0.141612\tvalid_0's binary_logloss: 0.141612\n",
            "[95]\tvalid_0's binary_logloss: 0.142319\tvalid_0's binary_logloss: 0.142319\n",
            "[96]\tvalid_0's binary_logloss: 0.145095\tvalid_0's binary_logloss: 0.145095\n",
            "[97]\tvalid_0's binary_logloss: 0.141542\tvalid_0's binary_logloss: 0.141542\n",
            "[98]\tvalid_0's binary_logloss: 0.144993\tvalid_0's binary_logloss: 0.144993\n",
            "[99]\tvalid_0's binary_logloss: 0.147936\tvalid_0's binary_logloss: 0.147936\n",
            "[100]\tvalid_0's binary_logloss: 0.147432\tvalid_0's binary_logloss: 0.147432\n",
            "[101]\tvalid_0's binary_logloss: 0.149689\tvalid_0's binary_logloss: 0.149689\n",
            "[102]\tvalid_0's binary_logloss: 0.153542\tvalid_0's binary_logloss: 0.153542\n",
            "[103]\tvalid_0's binary_logloss: 0.154556\tvalid_0's binary_logloss: 0.154556\n",
            "[104]\tvalid_0's binary_logloss: 0.155458\tvalid_0's binary_logloss: 0.155458\n",
            "[105]\tvalid_0's binary_logloss: 0.159357\tvalid_0's binary_logloss: 0.159357\n",
            "[106]\tvalid_0's binary_logloss: 0.160176\tvalid_0's binary_logloss: 0.160176\n",
            "[107]\tvalid_0's binary_logloss: 0.163369\tvalid_0's binary_logloss: 0.163369\n",
            "[108]\tvalid_0's binary_logloss: 0.163494\tvalid_0's binary_logloss: 0.163494\n",
            "[109]\tvalid_0's binary_logloss: 0.161111\tvalid_0's binary_logloss: 0.161111\n",
            "[110]\tvalid_0's binary_logloss: 0.16332\tvalid_0's binary_logloss: 0.16332\n",
            "[111]\tvalid_0's binary_logloss: 0.1663\tvalid_0's binary_logloss: 0.1663\n",
            "[112]\tvalid_0's binary_logloss: 0.166363\tvalid_0's binary_logloss: 0.166363\n",
            "[113]\tvalid_0's binary_logloss: 0.169834\tvalid_0's binary_logloss: 0.169834\n",
            "[114]\tvalid_0's binary_logloss: 0.166509\tvalid_0's binary_logloss: 0.166509\n",
            "[115]\tvalid_0's binary_logloss: 0.165823\tvalid_0's binary_logloss: 0.165823\n",
            "[116]\tvalid_0's binary_logloss: 0.167059\tvalid_0's binary_logloss: 0.167059\n",
            "[117]\tvalid_0's binary_logloss: 0.169086\tvalid_0's binary_logloss: 0.169086\n",
            "[118]\tvalid_0's binary_logloss: 0.170012\tvalid_0's binary_logloss: 0.170012\n",
            "[119]\tvalid_0's binary_logloss: 0.168639\tvalid_0's binary_logloss: 0.168639\n",
            "[120]\tvalid_0's binary_logloss: 0.16907\tvalid_0's binary_logloss: 0.16907\n",
            "[121]\tvalid_0's binary_logloss: 0.16918\tvalid_0's binary_logloss: 0.16918\n",
            "[122]\tvalid_0's binary_logloss: 0.170233\tvalid_0's binary_logloss: 0.170233\n",
            "[123]\tvalid_0's binary_logloss: 0.165655\tvalid_0's binary_logloss: 0.165655\n",
            "[124]\tvalid_0's binary_logloss: 0.16695\tvalid_0's binary_logloss: 0.16695\n",
            "[125]\tvalid_0's binary_logloss: 0.170955\tvalid_0's binary_logloss: 0.170955\n",
            "[126]\tvalid_0's binary_logloss: 0.168916\tvalid_0's binary_logloss: 0.168916\n",
            "[127]\tvalid_0's binary_logloss: 0.172316\tvalid_0's binary_logloss: 0.172316\n",
            "[128]\tvalid_0's binary_logloss: 0.173734\tvalid_0's binary_logloss: 0.173734\n",
            "[129]\tvalid_0's binary_logloss: 0.174309\tvalid_0's binary_logloss: 0.174309\n",
            "[130]\tvalid_0's binary_logloss: 0.176719\tvalid_0's binary_logloss: 0.176719\n",
            "[131]\tvalid_0's binary_logloss: 0.176591\tvalid_0's binary_logloss: 0.176591\n",
            "[132]\tvalid_0's binary_logloss: 0.180168\tvalid_0's binary_logloss: 0.180168\n",
            "[133]\tvalid_0's binary_logloss: 0.179856\tvalid_0's binary_logloss: 0.179856\n",
            "[134]\tvalid_0's binary_logloss: 0.179251\tvalid_0's binary_logloss: 0.179251\n",
            "[135]\tvalid_0's binary_logloss: 0.18315\tvalid_0's binary_logloss: 0.18315\n",
            "[136]\tvalid_0's binary_logloss: 0.184656\tvalid_0's binary_logloss: 0.184656\n",
            "[137]\tvalid_0's binary_logloss: 0.187475\tvalid_0's binary_logloss: 0.187475\n",
            "[138]\tvalid_0's binary_logloss: 0.188721\tvalid_0's binary_logloss: 0.188721\n",
            "[139]\tvalid_0's binary_logloss: 0.188542\tvalid_0's binary_logloss: 0.188542\n",
            "[140]\tvalid_0's binary_logloss: 0.18817\tvalid_0's binary_logloss: 0.18817\n",
            "[141]\tvalid_0's binary_logloss: 0.185899\tvalid_0's binary_logloss: 0.185899\n",
            "[142]\tvalid_0's binary_logloss: 0.185452\tvalid_0's binary_logloss: 0.185452\n",
            "[143]\tvalid_0's binary_logloss: 0.186084\tvalid_0's binary_logloss: 0.186084\n",
            "[144]\tvalid_0's binary_logloss: 0.185302\tvalid_0's binary_logloss: 0.185302\n",
            "[145]\tvalid_0's binary_logloss: 0.187856\tvalid_0's binary_logloss: 0.187856\n",
            "[146]\tvalid_0's binary_logloss: 0.190334\tvalid_0's binary_logloss: 0.190334\n",
            "[147]\tvalid_0's binary_logloss: 0.192769\tvalid_0's binary_logloss: 0.192769\n",
            "Early stopping, best iteration is:\n",
            "[47]\tvalid_0's binary_logloss: 0.126108\tvalid_0's binary_logloss: 0.126108\n"
          ]
        }
      ]
    },
    {
      "cell_type": "code",
      "metadata": {
        "colab": {
          "base_uri": "https://localhost:8080/"
        },
        "id": "Dr3Hvv81Fh9p",
        "outputId": "3b0942cb-f6d6-4916-f033-486aca413da2"
      },
      "source": [
        "get_clf_eval(y_test,preds,pred_proba)"
      ],
      "execution_count": 11,
      "outputs": [
        {
          "output_type": "stream",
          "name": "stdout",
          "text": [
            "오차행렬\n",
            "[[33  4]\n",
            " [ 2 75]]\n",
            "정확도: 0.9474, 정밀도: 0.9494, 재현율: 0.9740, F1: 0.9615, AUC:0.9330\n"
          ]
        }
      ]
    },
    {
      "cell_type": "code",
      "metadata": {
        "colab": {
          "base_uri": "https://localhost:8080/",
          "height": 744
        },
        "id": "LE246u22Gg57",
        "outputId": "717c1b3f-4c50-48b5-bc92-3e72f4807de6"
      },
      "source": [
        "#plot_importance()를 이용해 피처 중요도 시각화\n",
        "from lightgbm import plot_importance\n",
        "import matplotlib.pyplot as plt\n",
        "%matplotlib inline\n",
        "\n",
        "fig,ax=plt.subplots(figsize=(10,12))\n",
        "plot_importance(lgbm_wrapper,ax=ax)"
      ],
      "execution_count": 12,
      "outputs": [
        {
          "output_type": "execute_result",
          "data": {
            "text/plain": [
              "<matplotlib.axes._subplots.AxesSubplot at 0x7f2d224765d0>"
            ]
          },
          "metadata": {},
          "execution_count": 12
        },
        {
          "output_type": "display_data",
          "data": {
            "image/png": "[encoded data removed]",
            "text/plain": [
              "<Figure size 720x864 with 1 Axes>"
            ]
          },
          "metadata": {
            "needs_background": "light"
          }
        }
      ]
    },
    {
      "cell_type": "code",
      "metadata": {
        "id": "1a1h0mfcGziD"
      },
      "source": [
        ""
      ],
      "execution_count": null,
      "outputs": []
    }
  ]
}
