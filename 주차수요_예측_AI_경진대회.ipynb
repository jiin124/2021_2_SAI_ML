{
  "nbformat": 4,
  "nbformat_minor": 0,
  "metadata": {
    "colab": {
      "name": "주차수요 예측 AI 경진대회.ipynb",
      "provenance": [],
      "collapsed_sections": [],
      "authorship_tag": "ABX9TyMPJCm2tEmpL/xspht24acC",
      "include_colab_link": true
    },
    "kernelspec": {
      "name": "python3",
      "display_name": "Python 3"
    },
    "language_info": {
      "name": "python"
    }
  },
  "cells": [
    {
      "cell_type": "markdown",
      "metadata": {
        "id": "view-in-github",
        "colab_type": "text"
      },
      "source": [
        "<a href=\"https://colab.research.google.com/github/jiin124/2021_2_SAI_ML/blob/main/%EC%A3%BC%EC%B0%A8%EC%88%98%EC%9A%94_%EC%98%88%EC%B8%A1_AI_%EA%B2%BD%EC%A7%84%EB%8C%80%ED%9A%8C.ipynb\" target=\"_parent\"><img src=\"https://colab.research.google.com/assets/colab-badge.svg\" alt=\"Open In Colab\"/></a>"
      ]
    },
    {
      "cell_type": "markdown",
      "metadata": {
        "id": "BWvG4lUlSMzh"
      },
      "source": [
        "# 주차수요 예측 AI 경진대회"
      ]
    },
    {
      "cell_type": "code",
      "metadata": {
        "id": "eal6_3BwR_pw"
      },
      "source": [
        "import numpy as np\n",
        "import pandas as pd\n",
        "import matplotlib.pyplot as plt\n",
        "import seaborn as sns\n",
        "\n",
        "from sklearn.preprocessing import StandardScaler\n",
        "from sklearn.linear_model import LogisticRegression\n",
        "from sklearn.model_selection import train_test_split\n",
        "from sklearn.metrics import accuracy_score,roc_auc_score\n",
        "from sklearn.ensemble import RandomForestRegressor\n",
        "from xgboost import XGBRegressor\n",
        "from lightgbm import LGBMRegressor"
      ],
      "execution_count": 45,
      "outputs": []
    },
    {
      "cell_type": "code",
      "metadata": {
        "id": "X2Yimy5AuLfg"
      },
      "source": [
        "import matplotlib.pyplot as plt\n",
        "\n",
        "plt.rc('font', family='NanumBarunGothic') "
      ],
      "execution_count": 47,
      "outputs": []
    },
    {
      "cell_type": "code",
      "metadata": {
        "id": "CDjNm8qke3B0"
      },
      "source": [
        "import warnings\n",
        "warnings.filterwarnings(\"ignore\")"
      ],
      "execution_count": 48,
      "outputs": []
    },
    {
      "cell_type": "code",
      "metadata": {
        "colab": {
          "base_uri": "https://localhost:8080/",
          "height": 321
        },
        "id": "a8caGCVSZkbe",
        "outputId": "f05aa4dc-0548-4366-99ec-147de7333b11"
      },
      "source": [
        "train=pd.read_csv(\"train.csv\")\n",
        "train.head()"
      ],
      "execution_count": 213,
      "outputs": [
        {
          "output_type": "execute_result",
          "data": {
            "text/html": [
              "<div>\n",
              "<style scoped>\n",
              "    .dataframe tbody tr th:only-of-type {\n",
              "        vertical-align: middle;\n",
              "    }\n",
              "\n",
              "    .dataframe tbody tr th {\n",
              "        vertical-align: top;\n",
              "    }\n",
              "\n",
              "    .dataframe thead th {\n",
              "        text-align: right;\n",
              "    }\n",
              "</style>\n",
              "<table border=\"1\" class=\"dataframe\">\n",
              "  <thead>\n",
              "    <tr style=\"text-align: right;\">\n",
              "      <th></th>\n",
              "      <th>단지코드</th>\n",
              "      <th>총세대수</th>\n",
              "      <th>임대건물구분</th>\n",
              "      <th>지역</th>\n",
              "      <th>공급유형</th>\n",
              "      <th>전용면적</th>\n",
              "      <th>전용면적별세대수</th>\n",
              "      <th>공가수</th>\n",
              "      <th>자격유형</th>\n",
              "      <th>임대보증금</th>\n",
              "      <th>임대료</th>\n",
              "      <th>도보 10분거리 내 지하철역 수(환승노선 수 반영)</th>\n",
              "      <th>도보 10분거리 내 버스정류장 수</th>\n",
              "      <th>단지내주차면수</th>\n",
              "      <th>등록차량수</th>\n",
              "    </tr>\n",
              "  </thead>\n",
              "  <tbody>\n",
              "    <tr>\n",
              "      <th>0</th>\n",
              "      <td>C2483</td>\n",
              "      <td>900</td>\n",
              "      <td>아파트</td>\n",
              "      <td>경상북도</td>\n",
              "      <td>국민임대</td>\n",
              "      <td>39.72</td>\n",
              "      <td>134</td>\n",
              "      <td>38.0</td>\n",
              "      <td>A</td>\n",
              "      <td>15667000</td>\n",
              "      <td>103680</td>\n",
              "      <td>0.0</td>\n",
              "      <td>3.0</td>\n",
              "      <td>1425.0</td>\n",
              "      <td>1015.0</td>\n",
              "    </tr>\n",
              "    <tr>\n",
              "      <th>1</th>\n",
              "      <td>C2483</td>\n",
              "      <td>900</td>\n",
              "      <td>아파트</td>\n",
              "      <td>경상북도</td>\n",
              "      <td>국민임대</td>\n",
              "      <td>39.72</td>\n",
              "      <td>15</td>\n",
              "      <td>38.0</td>\n",
              "      <td>A</td>\n",
              "      <td>15667000</td>\n",
              "      <td>103680</td>\n",
              "      <td>0.0</td>\n",
              "      <td>3.0</td>\n",
              "      <td>1425.0</td>\n",
              "      <td>1015.0</td>\n",
              "    </tr>\n",
              "    <tr>\n",
              "      <th>2</th>\n",
              "      <td>C2483</td>\n",
              "      <td>900</td>\n",
              "      <td>아파트</td>\n",
              "      <td>경상북도</td>\n",
              "      <td>국민임대</td>\n",
              "      <td>51.93</td>\n",
              "      <td>385</td>\n",
              "      <td>38.0</td>\n",
              "      <td>A</td>\n",
              "      <td>27304000</td>\n",
              "      <td>184330</td>\n",
              "      <td>0.0</td>\n",
              "      <td>3.0</td>\n",
              "      <td>1425.0</td>\n",
              "      <td>1015.0</td>\n",
              "    </tr>\n",
              "    <tr>\n",
              "      <th>3</th>\n",
              "      <td>C2483</td>\n",
              "      <td>900</td>\n",
              "      <td>아파트</td>\n",
              "      <td>경상북도</td>\n",
              "      <td>국민임대</td>\n",
              "      <td>51.93</td>\n",
              "      <td>15</td>\n",
              "      <td>38.0</td>\n",
              "      <td>A</td>\n",
              "      <td>27304000</td>\n",
              "      <td>184330</td>\n",
              "      <td>0.0</td>\n",
              "      <td>3.0</td>\n",
              "      <td>1425.0</td>\n",
              "      <td>1015.0</td>\n",
              "    </tr>\n",
              "    <tr>\n",
              "      <th>4</th>\n",
              "      <td>C2483</td>\n",
              "      <td>900</td>\n",
              "      <td>아파트</td>\n",
              "      <td>경상북도</td>\n",
              "      <td>국민임대</td>\n",
              "      <td>51.93</td>\n",
              "      <td>41</td>\n",
              "      <td>38.0</td>\n",
              "      <td>A</td>\n",
              "      <td>27304000</td>\n",
              "      <td>184330</td>\n",
              "      <td>0.0</td>\n",
              "      <td>3.0</td>\n",
              "      <td>1425.0</td>\n",
              "      <td>1015.0</td>\n",
              "    </tr>\n",
              "  </tbody>\n",
              "</table>\n",
              "</div>"
            ],
            "text/plain": [
              "    단지코드  총세대수 임대건물구분  ... 도보 10분거리 내 버스정류장 수 단지내주차면수   등록차량수\n",
              "0  C2483   900    아파트  ...                3.0  1425.0  1015.0\n",
              "1  C2483   900    아파트  ...                3.0  1425.0  1015.0\n",
              "2  C2483   900    아파트  ...                3.0  1425.0  1015.0\n",
              "3  C2483   900    아파트  ...                3.0  1425.0  1015.0\n",
              "4  C2483   900    아파트  ...                3.0  1425.0  1015.0\n",
              "\n",
              "[5 rows x 15 columns]"
            ]
          },
          "metadata": {},
          "execution_count": 213
        }
      ]
    },
    {
      "cell_type": "code",
      "metadata": {
        "colab": {
          "base_uri": "https://localhost:8080/"
        },
        "id": "HjLDzgYlZqfP",
        "outputId": "30d13e14-aa82-4d8c-bc27-e8bf1f9fe54e"
      },
      "source": [
        "train.info()"
      ],
      "execution_count": 214,
      "outputs": [
        {
          "output_type": "stream",
          "name": "stdout",
          "text": [
            "<class 'pandas.core.frame.DataFrame'>\n",
            "RangeIndex: 2952 entries, 0 to 2951\n",
            "Data columns (total 15 columns):\n",
            " #   Column                        Non-Null Count  Dtype  \n",
            "---  ------                        --------------  -----  \n",
            " 0   단지코드                          2952 non-null   object \n",
            " 1   총세대수                          2952 non-null   int64  \n",
            " 2   임대건물구분                        2952 non-null   object \n",
            " 3   지역                            2952 non-null   object \n",
            " 4   공급유형                          2952 non-null   object \n",
            " 5   전용면적                          2952 non-null   float64\n",
            " 6   전용면적별세대수                      2952 non-null   int64  \n",
            " 7   공가수                           2952 non-null   float64\n",
            " 8   자격유형                          2952 non-null   object \n",
            " 9   임대보증금                         2383 non-null   object \n",
            " 10  임대료                           2383 non-null   object \n",
            " 11  도보 10분거리 내 지하철역 수(환승노선 수 반영)  2741 non-null   float64\n",
            " 12  도보 10분거리 내 버스정류장 수            2948 non-null   float64\n",
            " 13  단지내주차면수                       2952 non-null   float64\n",
            " 14  등록차량수                         2952 non-null   float64\n",
            "dtypes: float64(6), int64(2), object(7)\n",
            "memory usage: 346.1+ KB\n"
          ]
        }
      ]
    },
    {
      "cell_type": "markdown",
      "metadata": {
        "id": "ehzcwaqQc1Ee"
      },
      "source": [
        "왜 임대료하고 임대보증금이 objest 형인지 알수없는 부분... 왜? 내가 형식을 바꿔줘야 겠다고 생각함"
      ]
    },
    {
      "cell_type": "code",
      "metadata": {
        "colab": {
          "base_uri": "https://localhost:8080/"
        },
        "id": "c3QkQRCzZunc",
        "outputId": "fb87ba51-6623-4f0e-9eb7-8f9045e23712"
      },
      "source": [
        "train.isna().sum()"
      ],
      "execution_count": 215,
      "outputs": [
        {
          "output_type": "execute_result",
          "data": {
            "text/plain": [
              "단지코드                              0\n",
              "총세대수                              0\n",
              "임대건물구분                            0\n",
              "지역                                0\n",
              "공급유형                              0\n",
              "전용면적                              0\n",
              "전용면적별세대수                          0\n",
              "공가수                               0\n",
              "자격유형                              0\n",
              "임대보증금                           569\n",
              "임대료                             569\n",
              "도보 10분거리 내 지하철역 수(환승노선 수 반영)    211\n",
              "도보 10분거리 내 버스정류장 수                4\n",
              "단지내주차면수                           0\n",
              "등록차량수                             0\n",
              "dtype: int64"
            ]
          },
          "metadata": {},
          "execution_count": 215
        }
      ]
    },
    {
      "cell_type": "code",
      "metadata": {
        "colab": {
          "base_uri": "https://localhost:8080/",
          "height": 312
        },
        "id": "Vl5rR3q3Z5fO",
        "outputId": "3afdbd53-0183-48cc-ed34-3af65f87805a"
      },
      "source": [
        "train.describe()"
      ],
      "execution_count": 216,
      "outputs": [
        {
          "output_type": "execute_result",
          "data": {
            "text/html": [
              "<div>\n",
              "<style scoped>\n",
              "    .dataframe tbody tr th:only-of-type {\n",
              "        vertical-align: middle;\n",
              "    }\n",
              "\n",
              "    .dataframe tbody tr th {\n",
              "        vertical-align: top;\n",
              "    }\n",
              "\n",
              "    .dataframe thead th {\n",
              "        text-align: right;\n",
              "    }\n",
              "</style>\n",
              "<table border=\"1\" class=\"dataframe\">\n",
              "  <thead>\n",
              "    <tr style=\"text-align: right;\">\n",
              "      <th></th>\n",
              "      <th>총세대수</th>\n",
              "      <th>전용면적</th>\n",
              "      <th>전용면적별세대수</th>\n",
              "      <th>공가수</th>\n",
              "      <th>도보 10분거리 내 지하철역 수(환승노선 수 반영)</th>\n",
              "      <th>도보 10분거리 내 버스정류장 수</th>\n",
              "      <th>단지내주차면수</th>\n",
              "      <th>등록차량수</th>\n",
              "    </tr>\n",
              "  </thead>\n",
              "  <tbody>\n",
              "    <tr>\n",
              "      <th>count</th>\n",
              "      <td>2952.000000</td>\n",
              "      <td>2952.000000</td>\n",
              "      <td>2952.000000</td>\n",
              "      <td>2952.000000</td>\n",
              "      <td>2741.000000</td>\n",
              "      <td>2948.000000</td>\n",
              "      <td>2952.000000</td>\n",
              "      <td>2952.000000</td>\n",
              "    </tr>\n",
              "    <tr>\n",
              "      <th>mean</th>\n",
              "      <td>886.661247</td>\n",
              "      <td>44.757215</td>\n",
              "      <td>102.747967</td>\n",
              "      <td>12.921070</td>\n",
              "      <td>0.176578</td>\n",
              "      <td>3.695726</td>\n",
              "      <td>601.668360</td>\n",
              "      <td>559.768293</td>\n",
              "    </tr>\n",
              "    <tr>\n",
              "      <th>std</th>\n",
              "      <td>513.540168</td>\n",
              "      <td>31.874280</td>\n",
              "      <td>132.640159</td>\n",
              "      <td>10.778831</td>\n",
              "      <td>0.427408</td>\n",
              "      <td>2.644665</td>\n",
              "      <td>396.407072</td>\n",
              "      <td>433.375027</td>\n",
              "    </tr>\n",
              "    <tr>\n",
              "      <th>min</th>\n",
              "      <td>26.000000</td>\n",
              "      <td>12.620000</td>\n",
              "      <td>1.000000</td>\n",
              "      <td>0.000000</td>\n",
              "      <td>0.000000</td>\n",
              "      <td>0.000000</td>\n",
              "      <td>13.000000</td>\n",
              "      <td>13.000000</td>\n",
              "    </tr>\n",
              "    <tr>\n",
              "      <th>25%</th>\n",
              "      <td>513.500000</td>\n",
              "      <td>32.100000</td>\n",
              "      <td>14.000000</td>\n",
              "      <td>4.000000</td>\n",
              "      <td>0.000000</td>\n",
              "      <td>2.000000</td>\n",
              "      <td>279.250000</td>\n",
              "      <td>220.000000</td>\n",
              "    </tr>\n",
              "    <tr>\n",
              "      <th>50%</th>\n",
              "      <td>779.000000</td>\n",
              "      <td>39.930000</td>\n",
              "      <td>60.000000</td>\n",
              "      <td>11.000000</td>\n",
              "      <td>0.000000</td>\n",
              "      <td>3.000000</td>\n",
              "      <td>517.000000</td>\n",
              "      <td>487.000000</td>\n",
              "    </tr>\n",
              "    <tr>\n",
              "      <th>75%</th>\n",
              "      <td>1106.000000</td>\n",
              "      <td>51.562500</td>\n",
              "      <td>144.000000</td>\n",
              "      <td>20.000000</td>\n",
              "      <td>0.000000</td>\n",
              "      <td>4.000000</td>\n",
              "      <td>823.000000</td>\n",
              "      <td>770.000000</td>\n",
              "    </tr>\n",
              "    <tr>\n",
              "      <th>max</th>\n",
              "      <td>2568.000000</td>\n",
              "      <td>583.400000</td>\n",
              "      <td>1865.000000</td>\n",
              "      <td>55.000000</td>\n",
              "      <td>3.000000</td>\n",
              "      <td>20.000000</td>\n",
              "      <td>1798.000000</td>\n",
              "      <td>2550.000000</td>\n",
              "    </tr>\n",
              "  </tbody>\n",
              "</table>\n",
              "</div>"
            ],
            "text/plain": [
              "              총세대수         전용면적  ...      단지내주차면수        등록차량수\n",
              "count  2952.000000  2952.000000  ...  2952.000000  2952.000000\n",
              "mean    886.661247    44.757215  ...   601.668360   559.768293\n",
              "std     513.540168    31.874280  ...   396.407072   433.375027\n",
              "min      26.000000    12.620000  ...    13.000000    13.000000\n",
              "25%     513.500000    32.100000  ...   279.250000   220.000000\n",
              "50%     779.000000    39.930000  ...   517.000000   487.000000\n",
              "75%    1106.000000    51.562500  ...   823.000000   770.000000\n",
              "max    2568.000000   583.400000  ...  1798.000000  2550.000000\n",
              "\n",
              "[8 rows x 8 columns]"
            ]
          },
          "metadata": {},
          "execution_count": 216
        }
      ]
    },
    {
      "cell_type": "code",
      "metadata": {
        "colab": {
          "base_uri": "https://localhost:8080/",
          "height": 304
        },
        "id": "pO0IjUvdaIK6",
        "outputId": "59058bc9-1865-47ea-b2a9-c4ebbd140b7a"
      },
      "source": [
        "test=pd.read_csv(\"test.csv\")\n",
        "test.head()"
      ],
      "execution_count": 217,
      "outputs": [
        {
          "output_type": "execute_result",
          "data": {
            "text/html": [
              "<div>\n",
              "<style scoped>\n",
              "    .dataframe tbody tr th:only-of-type {\n",
              "        vertical-align: middle;\n",
              "    }\n",
              "\n",
              "    .dataframe tbody tr th {\n",
              "        vertical-align: top;\n",
              "    }\n",
              "\n",
              "    .dataframe thead th {\n",
              "        text-align: right;\n",
              "    }\n",
              "</style>\n",
              "<table border=\"1\" class=\"dataframe\">\n",
              "  <thead>\n",
              "    <tr style=\"text-align: right;\">\n",
              "      <th></th>\n",
              "      <th>단지코드</th>\n",
              "      <th>총세대수</th>\n",
              "      <th>임대건물구분</th>\n",
              "      <th>지역</th>\n",
              "      <th>공급유형</th>\n",
              "      <th>전용면적</th>\n",
              "      <th>전용면적별세대수</th>\n",
              "      <th>공가수</th>\n",
              "      <th>자격유형</th>\n",
              "      <th>임대보증금</th>\n",
              "      <th>임대료</th>\n",
              "      <th>도보 10분거리 내 지하철역 수(환승노선 수 반영)</th>\n",
              "      <th>도보 10분거리 내 버스정류장 수</th>\n",
              "      <th>단지내주차면수</th>\n",
              "    </tr>\n",
              "  </thead>\n",
              "  <tbody>\n",
              "    <tr>\n",
              "      <th>0</th>\n",
              "      <td>C1072</td>\n",
              "      <td>754</td>\n",
              "      <td>아파트</td>\n",
              "      <td>경기도</td>\n",
              "      <td>국민임대</td>\n",
              "      <td>39.79</td>\n",
              "      <td>116</td>\n",
              "      <td>14.0</td>\n",
              "      <td>H</td>\n",
              "      <td>22830000</td>\n",
              "      <td>189840</td>\n",
              "      <td>0.0</td>\n",
              "      <td>2.0</td>\n",
              "      <td>683.0</td>\n",
              "    </tr>\n",
              "    <tr>\n",
              "      <th>1</th>\n",
              "      <td>C1072</td>\n",
              "      <td>754</td>\n",
              "      <td>아파트</td>\n",
              "      <td>경기도</td>\n",
              "      <td>국민임대</td>\n",
              "      <td>46.81</td>\n",
              "      <td>30</td>\n",
              "      <td>14.0</td>\n",
              "      <td>A</td>\n",
              "      <td>36048000</td>\n",
              "      <td>249930</td>\n",
              "      <td>0.0</td>\n",
              "      <td>2.0</td>\n",
              "      <td>683.0</td>\n",
              "    </tr>\n",
              "    <tr>\n",
              "      <th>2</th>\n",
              "      <td>C1072</td>\n",
              "      <td>754</td>\n",
              "      <td>아파트</td>\n",
              "      <td>경기도</td>\n",
              "      <td>국민임대</td>\n",
              "      <td>46.90</td>\n",
              "      <td>112</td>\n",
              "      <td>14.0</td>\n",
              "      <td>H</td>\n",
              "      <td>36048000</td>\n",
              "      <td>249930</td>\n",
              "      <td>0.0</td>\n",
              "      <td>2.0</td>\n",
              "      <td>683.0</td>\n",
              "    </tr>\n",
              "    <tr>\n",
              "      <th>3</th>\n",
              "      <td>C1072</td>\n",
              "      <td>754</td>\n",
              "      <td>아파트</td>\n",
              "      <td>경기도</td>\n",
              "      <td>국민임대</td>\n",
              "      <td>46.90</td>\n",
              "      <td>120</td>\n",
              "      <td>14.0</td>\n",
              "      <td>H</td>\n",
              "      <td>36048000</td>\n",
              "      <td>249930</td>\n",
              "      <td>0.0</td>\n",
              "      <td>2.0</td>\n",
              "      <td>683.0</td>\n",
              "    </tr>\n",
              "    <tr>\n",
              "      <th>4</th>\n",
              "      <td>C1072</td>\n",
              "      <td>754</td>\n",
              "      <td>아파트</td>\n",
              "      <td>경기도</td>\n",
              "      <td>국민임대</td>\n",
              "      <td>51.46</td>\n",
              "      <td>60</td>\n",
              "      <td>14.0</td>\n",
              "      <td>H</td>\n",
              "      <td>43497000</td>\n",
              "      <td>296780</td>\n",
              "      <td>0.0</td>\n",
              "      <td>2.0</td>\n",
              "      <td>683.0</td>\n",
              "    </tr>\n",
              "  </tbody>\n",
              "</table>\n",
              "</div>"
            ],
            "text/plain": [
              "    단지코드  총세대수  ... 도보 10분거리 내 버스정류장 수 단지내주차면수\n",
              "0  C1072   754  ...                2.0   683.0\n",
              "1  C1072   754  ...                2.0   683.0\n",
              "2  C1072   754  ...                2.0   683.0\n",
              "3  C1072   754  ...                2.0   683.0\n",
              "4  C1072   754  ...                2.0   683.0\n",
              "\n",
              "[5 rows x 14 columns]"
            ]
          },
          "metadata": {},
          "execution_count": 217
        }
      ]
    },
    {
      "cell_type": "code",
      "metadata": {
        "colab": {
          "base_uri": "https://localhost:8080/"
        },
        "id": "TTNs9RG-aWBP",
        "outputId": "b335f39f-30ae-411a-a681-6d4df4bba92b"
      },
      "source": [
        "test.info()"
      ],
      "execution_count": 54,
      "outputs": [
        {
          "output_type": "stream",
          "name": "stdout",
          "text": [
            "<class 'pandas.core.frame.DataFrame'>\n",
            "RangeIndex: 1022 entries, 0 to 1021\n",
            "Data columns (total 14 columns):\n",
            " #   Column                        Non-Null Count  Dtype  \n",
            "---  ------                        --------------  -----  \n",
            " 0   단지코드                          1022 non-null   object \n",
            " 1   총세대수                          1022 non-null   int64  \n",
            " 2   임대건물구분                        1022 non-null   object \n",
            " 3   지역                            1022 non-null   object \n",
            " 4   공급유형                          1022 non-null   object \n",
            " 5   전용면적                          1022 non-null   float64\n",
            " 6   전용면적별세대수                      1022 non-null   int64  \n",
            " 7   공가수                           1022 non-null   float64\n",
            " 8   자격유형                          1020 non-null   object \n",
            " 9   임대보증금                         842 non-null    object \n",
            " 10  임대료                           842 non-null    object \n",
            " 11  도보 10분거리 내 지하철역 수(환승노선 수 반영)  980 non-null    float64\n",
            " 12  도보 10분거리 내 버스정류장 수            1022 non-null   float64\n",
            " 13  단지내주차면수                       1022 non-null   float64\n",
            "dtypes: float64(5), int64(2), object(7)\n",
            "memory usage: 111.9+ KB\n"
          ]
        }
      ]
    },
    {
      "cell_type": "code",
      "metadata": {
        "colab": {
          "base_uri": "https://localhost:8080/"
        },
        "id": "S1sN3FATaZa2",
        "outputId": "367dc2f2-2b24-47c4-8312-09bc5f9421bb"
      },
      "source": [
        "test.isna().sum()"
      ],
      "execution_count": 55,
      "outputs": [
        {
          "output_type": "execute_result",
          "data": {
            "text/plain": [
              "단지코드                              0\n",
              "총세대수                              0\n",
              "임대건물구분                            0\n",
              "지역                                0\n",
              "공급유형                              0\n",
              "전용면적                              0\n",
              "전용면적별세대수                          0\n",
              "공가수                               0\n",
              "자격유형                              2\n",
              "임대보증금                           180\n",
              "임대료                             180\n",
              "도보 10분거리 내 지하철역 수(환승노선 수 반영)     42\n",
              "도보 10분거리 내 버스정류장 수                0\n",
              "단지내주차면수                           0\n",
              "dtype: int64"
            ]
          },
          "metadata": {},
          "execution_count": 55
        }
      ]
    },
    {
      "cell_type": "markdown",
      "metadata": {
        "id": "nFuExlJWboQN"
      },
      "source": [
        "# EDA"
      ]
    },
    {
      "cell_type": "code",
      "metadata": {
        "colab": {
          "base_uri": "https://localhost:8080/"
        },
        "id": "bAoN1tKUamdo",
        "outputId": "d75bb35a-e008-44c2-f662-57781115e6a2"
      },
      "source": [
        "train.columns"
      ],
      "execution_count": 56,
      "outputs": [
        {
          "output_type": "execute_result",
          "data": {
            "text/plain": [
              "Index(['단지코드', '총세대수', '임대건물구분', '지역', '공급유형', '전용면적', '전용면적별세대수', '공가수',\n",
              "       '자격유형', '임대보증금', '임대료', '도보 10분거리 내 지하철역 수(환승노선 수 반영)',\n",
              "       '도보 10분거리 내 버스정류장 수', '단지내주차면수', '등록차량수'],\n",
              "      dtype='object')"
            ]
          },
          "metadata": {},
          "execution_count": 56
        }
      ]
    },
    {
      "cell_type": "code",
      "metadata": {
        "colab": {
          "base_uri": "https://localhost:8080/"
        },
        "id": "XYEZxHO8bstx",
        "outputId": "868699c9-aaa0-4749-a43d-5af563fae7ad"
      },
      "source": [
        "train.info()"
      ],
      "execution_count": 57,
      "outputs": [
        {
          "output_type": "stream",
          "name": "stdout",
          "text": [
            "<class 'pandas.core.frame.DataFrame'>\n",
            "RangeIndex: 2952 entries, 0 to 2951\n",
            "Data columns (total 15 columns):\n",
            " #   Column                        Non-Null Count  Dtype  \n",
            "---  ------                        --------------  -----  \n",
            " 0   단지코드                          2952 non-null   object \n",
            " 1   총세대수                          2952 non-null   int64  \n",
            " 2   임대건물구분                        2952 non-null   object \n",
            " 3   지역                            2952 non-null   object \n",
            " 4   공급유형                          2952 non-null   object \n",
            " 5   전용면적                          2952 non-null   float64\n",
            " 6   전용면적별세대수                      2952 non-null   int64  \n",
            " 7   공가수                           2952 non-null   float64\n",
            " 8   자격유형                          2952 non-null   object \n",
            " 9   임대보증금                         2383 non-null   object \n",
            " 10  임대료                           2383 non-null   object \n",
            " 11  도보 10분거리 내 지하철역 수(환승노선 수 반영)  2741 non-null   float64\n",
            " 12  도보 10분거리 내 버스정류장 수            2948 non-null   float64\n",
            " 13  단지내주차면수                       2952 non-null   float64\n",
            " 14  등록차량수                         2952 non-null   float64\n",
            "dtypes: float64(6), int64(2), object(7)\n",
            "memory usage: 346.1+ KB\n"
          ]
        }
      ]
    },
    {
      "cell_type": "code",
      "metadata": {
        "colab": {
          "base_uri": "https://localhost:8080/",
          "height": 178
        },
        "id": "76MFzs0nb0-q",
        "outputId": "41ef763e-d548-4a4d-bf78-98cbc076c70d"
      },
      "source": [
        "train.head(2)"
      ],
      "execution_count": 58,
      "outputs": [
        {
          "output_type": "execute_result",
          "data": {
            "text/html": [
              "<div>\n",
              "<style scoped>\n",
              "    .dataframe tbody tr th:only-of-type {\n",
              "        vertical-align: middle;\n",
              "    }\n",
              "\n",
              "    .dataframe tbody tr th {\n",
              "        vertical-align: top;\n",
              "    }\n",
              "\n",
              "    .dataframe thead th {\n",
              "        text-align: right;\n",
              "    }\n",
              "</style>\n",
              "<table border=\"1\" class=\"dataframe\">\n",
              "  <thead>\n",
              "    <tr style=\"text-align: right;\">\n",
              "      <th></th>\n",
              "      <th>단지코드</th>\n",
              "      <th>총세대수</th>\n",
              "      <th>임대건물구분</th>\n",
              "      <th>지역</th>\n",
              "      <th>공급유형</th>\n",
              "      <th>전용면적</th>\n",
              "      <th>전용면적별세대수</th>\n",
              "      <th>공가수</th>\n",
              "      <th>자격유형</th>\n",
              "      <th>임대보증금</th>\n",
              "      <th>임대료</th>\n",
              "      <th>도보 10분거리 내 지하철역 수(환승노선 수 반영)</th>\n",
              "      <th>도보 10분거리 내 버스정류장 수</th>\n",
              "      <th>단지내주차면수</th>\n",
              "      <th>등록차량수</th>\n",
              "    </tr>\n",
              "  </thead>\n",
              "  <tbody>\n",
              "    <tr>\n",
              "      <th>0</th>\n",
              "      <td>C2483</td>\n",
              "      <td>900</td>\n",
              "      <td>아파트</td>\n",
              "      <td>경상북도</td>\n",
              "      <td>국민임대</td>\n",
              "      <td>39.72</td>\n",
              "      <td>134</td>\n",
              "      <td>38.0</td>\n",
              "      <td>A</td>\n",
              "      <td>15667000</td>\n",
              "      <td>103680</td>\n",
              "      <td>0.0</td>\n",
              "      <td>3.0</td>\n",
              "      <td>1425.0</td>\n",
              "      <td>1015.0</td>\n",
              "    </tr>\n",
              "    <tr>\n",
              "      <th>1</th>\n",
              "      <td>C2483</td>\n",
              "      <td>900</td>\n",
              "      <td>아파트</td>\n",
              "      <td>경상북도</td>\n",
              "      <td>국민임대</td>\n",
              "      <td>39.72</td>\n",
              "      <td>15</td>\n",
              "      <td>38.0</td>\n",
              "      <td>A</td>\n",
              "      <td>15667000</td>\n",
              "      <td>103680</td>\n",
              "      <td>0.0</td>\n",
              "      <td>3.0</td>\n",
              "      <td>1425.0</td>\n",
              "      <td>1015.0</td>\n",
              "    </tr>\n",
              "  </tbody>\n",
              "</table>\n",
              "</div>"
            ],
            "text/plain": [
              "    단지코드  총세대수 임대건물구분  ... 도보 10분거리 내 버스정류장 수 단지내주차면수   등록차량수\n",
              "0  C2483   900    아파트  ...                3.0  1425.0  1015.0\n",
              "1  C2483   900    아파트  ...                3.0  1425.0  1015.0\n",
              "\n",
              "[2 rows x 15 columns]"
            ]
          },
          "metadata": {},
          "execution_count": 58
        }
      ]
    },
    {
      "cell_type": "code",
      "metadata": {
        "colab": {
          "base_uri": "https://localhost:8080/",
          "height": 386
        },
        "id": "tviNfq12bwgB",
        "outputId": "49ad4d7e-86b5-4816-cd12-9e9df4fb20c0"
      },
      "source": [
        "train['임대보증금']=train['임대보증금'].astype(float)\n",
        "test['임대보증금']=test['임대보증금'].astype(float)\n",
        "\n",
        "train['임대료']=train['임대료'].astype(float)\n",
        "test['임대료']=test['임대료'].astype(float)"
      ],
      "execution_count": 218,
      "outputs": [
        {
          "output_type": "error",
          "ename": "ValueError",
          "evalue": "ignored",
          "traceback": [
            "\u001b[0;31m---------------------------------------------------------------------------\u001b[0m",
            "\u001b[0;31mValueError\u001b[0m                                Traceback (most recent call last)",
            "\u001b[0;32m<ipython-input-218-e332ef03704a>\u001b[0m in \u001b[0;36m<module>\u001b[0;34m()\u001b[0m\n\u001b[0;32m----> 1\u001b[0;31m \u001b[0mtrain\u001b[0m\u001b[0;34m[\u001b[0m\u001b[0;34m'임대보증금'\u001b[0m\u001b[0;34m]\u001b[0m\u001b[0;34m=\u001b[0m\u001b[0mtrain\u001b[0m\u001b[0;34m[\u001b[0m\u001b[0;34m'임대보증금'\u001b[0m\u001b[0;34m]\u001b[0m\u001b[0;34m.\u001b[0m\u001b[0mastype\u001b[0m\u001b[0;34m(\u001b[0m\u001b[0mfloat\u001b[0m\u001b[0;34m)\u001b[0m\u001b[0;34m\u001b[0m\u001b[0;34m\u001b[0m\u001b[0m\n\u001b[0m\u001b[1;32m      2\u001b[0m \u001b[0mtest\u001b[0m\u001b[0;34m[\u001b[0m\u001b[0;34m'임대보증금'\u001b[0m\u001b[0;34m]\u001b[0m\u001b[0;34m=\u001b[0m\u001b[0mtest\u001b[0m\u001b[0;34m[\u001b[0m\u001b[0;34m'임대보증금'\u001b[0m\u001b[0;34m]\u001b[0m\u001b[0;34m.\u001b[0m\u001b[0mastype\u001b[0m\u001b[0;34m(\u001b[0m\u001b[0mfloat\u001b[0m\u001b[0;34m)\u001b[0m\u001b[0;34m\u001b[0m\u001b[0;34m\u001b[0m\u001b[0m\n\u001b[1;32m      3\u001b[0m \u001b[0;34m\u001b[0m\u001b[0m\n\u001b[1;32m      4\u001b[0m \u001b[0mtrain\u001b[0m\u001b[0;34m[\u001b[0m\u001b[0;34m'임대료'\u001b[0m\u001b[0;34m]\u001b[0m\u001b[0;34m=\u001b[0m\u001b[0mtrain\u001b[0m\u001b[0;34m[\u001b[0m\u001b[0;34m'임대료'\u001b[0m\u001b[0;34m]\u001b[0m\u001b[0;34m.\u001b[0m\u001b[0mastype\u001b[0m\u001b[0;34m(\u001b[0m\u001b[0mfloat\u001b[0m\u001b[0;34m)\u001b[0m\u001b[0;34m\u001b[0m\u001b[0;34m\u001b[0m\u001b[0m\n\u001b[1;32m      5\u001b[0m \u001b[0mtest\u001b[0m\u001b[0;34m[\u001b[0m\u001b[0;34m'임대료'\u001b[0m\u001b[0;34m]\u001b[0m\u001b[0;34m=\u001b[0m\u001b[0mtest\u001b[0m\u001b[0;34m[\u001b[0m\u001b[0;34m'임대료'\u001b[0m\u001b[0;34m]\u001b[0m\u001b[0;34m.\u001b[0m\u001b[0mastype\u001b[0m\u001b[0;34m(\u001b[0m\u001b[0mfloat\u001b[0m\u001b[0;34m)\u001b[0m\u001b[0;34m\u001b[0m\u001b[0;34m\u001b[0m\u001b[0m\n",
            "\u001b[0;32m/usr/local/lib/python3.7/dist-packages/pandas/core/generic.py\u001b[0m in \u001b[0;36mastype\u001b[0;34m(self, dtype, copy, errors)\u001b[0m\n\u001b[1;32m   5546\u001b[0m         \u001b[0;32melse\u001b[0m\u001b[0;34m:\u001b[0m\u001b[0;34m\u001b[0m\u001b[0;34m\u001b[0m\u001b[0m\n\u001b[1;32m   5547\u001b[0m             \u001b[0;31m# else, only a single dtype is given\u001b[0m\u001b[0;34m\u001b[0m\u001b[0;34m\u001b[0m\u001b[0;34m\u001b[0m\u001b[0m\n\u001b[0;32m-> 5548\u001b[0;31m             \u001b[0mnew_data\u001b[0m \u001b[0;34m=\u001b[0m \u001b[0mself\u001b[0m\u001b[0;34m.\u001b[0m\u001b[0m_mgr\u001b[0m\u001b[0;34m.\u001b[0m\u001b[0mastype\u001b[0m\u001b[0;34m(\u001b[0m\u001b[0mdtype\u001b[0m\u001b[0;34m=\u001b[0m\u001b[0mdtype\u001b[0m\u001b[0;34m,\u001b[0m \u001b[0mcopy\u001b[0m\u001b[0;34m=\u001b[0m\u001b[0mcopy\u001b[0m\u001b[0;34m,\u001b[0m \u001b[0merrors\u001b[0m\u001b[0;34m=\u001b[0m\u001b[0merrors\u001b[0m\u001b[0;34m,\u001b[0m\u001b[0;34m)\u001b[0m\u001b[0;34m\u001b[0m\u001b[0;34m\u001b[0m\u001b[0m\n\u001b[0m\u001b[1;32m   5549\u001b[0m             \u001b[0;32mreturn\u001b[0m \u001b[0mself\u001b[0m\u001b[0;34m.\u001b[0m\u001b[0m_constructor\u001b[0m\u001b[0;34m(\u001b[0m\u001b[0mnew_data\u001b[0m\u001b[0;34m)\u001b[0m\u001b[0;34m.\u001b[0m\u001b[0m__finalize__\u001b[0m\u001b[0;34m(\u001b[0m\u001b[0mself\u001b[0m\u001b[0;34m,\u001b[0m \u001b[0mmethod\u001b[0m\u001b[0;34m=\u001b[0m\u001b[0;34m\"astype\"\u001b[0m\u001b[0;34m)\u001b[0m\u001b[0;34m\u001b[0m\u001b[0;34m\u001b[0m\u001b[0m\n\u001b[1;32m   5550\u001b[0m \u001b[0;34m\u001b[0m\u001b[0m\n",
            "\u001b[0;32m/usr/local/lib/python3.7/dist-packages/pandas/core/internals/managers.py\u001b[0m in \u001b[0;36mastype\u001b[0;34m(self, dtype, copy, errors)\u001b[0m\n\u001b[1;32m    602\u001b[0m         \u001b[0mself\u001b[0m\u001b[0;34m,\u001b[0m \u001b[0mdtype\u001b[0m\u001b[0;34m,\u001b[0m \u001b[0mcopy\u001b[0m\u001b[0;34m:\u001b[0m \u001b[0mbool\u001b[0m \u001b[0;34m=\u001b[0m \u001b[0;32mFalse\u001b[0m\u001b[0;34m,\u001b[0m \u001b[0merrors\u001b[0m\u001b[0;34m:\u001b[0m \u001b[0mstr\u001b[0m \u001b[0;34m=\u001b[0m \u001b[0;34m\"raise\"\u001b[0m\u001b[0;34m\u001b[0m\u001b[0;34m\u001b[0m\u001b[0m\n\u001b[1;32m    603\u001b[0m     ) -> \"BlockManager\":\n\u001b[0;32m--> 604\u001b[0;31m         \u001b[0;32mreturn\u001b[0m \u001b[0mself\u001b[0m\u001b[0;34m.\u001b[0m\u001b[0mapply\u001b[0m\u001b[0;34m(\u001b[0m\u001b[0;34m\"astype\"\u001b[0m\u001b[0;34m,\u001b[0m \u001b[0mdtype\u001b[0m\u001b[0;34m=\u001b[0m\u001b[0mdtype\u001b[0m\u001b[0;34m,\u001b[0m \u001b[0mcopy\u001b[0m\u001b[0;34m=\u001b[0m\u001b[0mcopy\u001b[0m\u001b[0;34m,\u001b[0m \u001b[0merrors\u001b[0m\u001b[0;34m=\u001b[0m\u001b[0merrors\u001b[0m\u001b[0;34m)\u001b[0m\u001b[0;34m\u001b[0m\u001b[0;34m\u001b[0m\u001b[0m\n\u001b[0m\u001b[1;32m    605\u001b[0m \u001b[0;34m\u001b[0m\u001b[0m\n\u001b[1;32m    606\u001b[0m     def convert(\n",
            "\u001b[0;32m/usr/local/lib/python3.7/dist-packages/pandas/core/internals/managers.py\u001b[0m in \u001b[0;36mapply\u001b[0;34m(self, f, align_keys, **kwargs)\u001b[0m\n\u001b[1;32m    407\u001b[0m                 \u001b[0mapplied\u001b[0m \u001b[0;34m=\u001b[0m \u001b[0mb\u001b[0m\u001b[0;34m.\u001b[0m\u001b[0mapply\u001b[0m\u001b[0;34m(\u001b[0m\u001b[0mf\u001b[0m\u001b[0;34m,\u001b[0m \u001b[0;34m**\u001b[0m\u001b[0mkwargs\u001b[0m\u001b[0;34m)\u001b[0m\u001b[0;34m\u001b[0m\u001b[0;34m\u001b[0m\u001b[0m\n\u001b[1;32m    408\u001b[0m             \u001b[0;32melse\u001b[0m\u001b[0;34m:\u001b[0m\u001b[0;34m\u001b[0m\u001b[0;34m\u001b[0m\u001b[0m\n\u001b[0;32m--> 409\u001b[0;31m                 \u001b[0mapplied\u001b[0m \u001b[0;34m=\u001b[0m \u001b[0mgetattr\u001b[0m\u001b[0;34m(\u001b[0m\u001b[0mb\u001b[0m\u001b[0;34m,\u001b[0m \u001b[0mf\u001b[0m\u001b[0;34m)\u001b[0m\u001b[0;34m(\u001b[0m\u001b[0;34m**\u001b[0m\u001b[0mkwargs\u001b[0m\u001b[0;34m)\u001b[0m\u001b[0;34m\u001b[0m\u001b[0;34m\u001b[0m\u001b[0m\n\u001b[0m\u001b[1;32m    410\u001b[0m             \u001b[0mresult_blocks\u001b[0m \u001b[0;34m=\u001b[0m \u001b[0m_extend_blocks\u001b[0m\u001b[0;34m(\u001b[0m\u001b[0mapplied\u001b[0m\u001b[0;34m,\u001b[0m \u001b[0mresult_blocks\u001b[0m\u001b[0;34m)\u001b[0m\u001b[0;34m\u001b[0m\u001b[0;34m\u001b[0m\u001b[0m\n\u001b[1;32m    411\u001b[0m \u001b[0;34m\u001b[0m\u001b[0m\n",
            "\u001b[0;32m/usr/local/lib/python3.7/dist-packages/pandas/core/internals/blocks.py\u001b[0m in \u001b[0;36mastype\u001b[0;34m(self, dtype, copy, errors)\u001b[0m\n\u001b[1;32m    593\u001b[0m             \u001b[0mvals1d\u001b[0m \u001b[0;34m=\u001b[0m \u001b[0mvalues\u001b[0m\u001b[0;34m.\u001b[0m\u001b[0mravel\u001b[0m\u001b[0;34m(\u001b[0m\u001b[0;34m)\u001b[0m\u001b[0;34m\u001b[0m\u001b[0;34m\u001b[0m\u001b[0m\n\u001b[1;32m    594\u001b[0m             \u001b[0;32mtry\u001b[0m\u001b[0;34m:\u001b[0m\u001b[0;34m\u001b[0m\u001b[0;34m\u001b[0m\u001b[0m\n\u001b[0;32m--> 595\u001b[0;31m                 \u001b[0mvalues\u001b[0m \u001b[0;34m=\u001b[0m \u001b[0mastype_nansafe\u001b[0m\u001b[0;34m(\u001b[0m\u001b[0mvals1d\u001b[0m\u001b[0;34m,\u001b[0m \u001b[0mdtype\u001b[0m\u001b[0;34m,\u001b[0m \u001b[0mcopy\u001b[0m\u001b[0;34m=\u001b[0m\u001b[0;32mTrue\u001b[0m\u001b[0;34m)\u001b[0m\u001b[0;34m\u001b[0m\u001b[0;34m\u001b[0m\u001b[0m\n\u001b[0m\u001b[1;32m    596\u001b[0m             \u001b[0;32mexcept\u001b[0m \u001b[0;34m(\u001b[0m\u001b[0mValueError\u001b[0m\u001b[0;34m,\u001b[0m \u001b[0mTypeError\u001b[0m\u001b[0;34m)\u001b[0m\u001b[0;34m:\u001b[0m\u001b[0;34m\u001b[0m\u001b[0;34m\u001b[0m\u001b[0m\n\u001b[1;32m    597\u001b[0m                 \u001b[0;31m# e.g. astype_nansafe can fail on object-dtype of strings\u001b[0m\u001b[0;34m\u001b[0m\u001b[0;34m\u001b[0m\u001b[0;34m\u001b[0m\u001b[0m\n",
            "\u001b[0;32m/usr/local/lib/python3.7/dist-packages/pandas/core/dtypes/cast.py\u001b[0m in \u001b[0;36mastype_nansafe\u001b[0;34m(arr, dtype, copy, skipna)\u001b[0m\n\u001b[1;32m    995\u001b[0m     \u001b[0;32mif\u001b[0m \u001b[0mcopy\u001b[0m \u001b[0;32mor\u001b[0m \u001b[0mis_object_dtype\u001b[0m\u001b[0;34m(\u001b[0m\u001b[0marr\u001b[0m\u001b[0;34m)\u001b[0m \u001b[0;32mor\u001b[0m \u001b[0mis_object_dtype\u001b[0m\u001b[0;34m(\u001b[0m\u001b[0mdtype\u001b[0m\u001b[0;34m)\u001b[0m\u001b[0;34m:\u001b[0m\u001b[0;34m\u001b[0m\u001b[0;34m\u001b[0m\u001b[0m\n\u001b[1;32m    996\u001b[0m         \u001b[0;31m# Explicit copy, or required since NumPy can't view from / to object.\u001b[0m\u001b[0;34m\u001b[0m\u001b[0;34m\u001b[0m\u001b[0;34m\u001b[0m\u001b[0m\n\u001b[0;32m--> 997\u001b[0;31m         \u001b[0;32mreturn\u001b[0m \u001b[0marr\u001b[0m\u001b[0;34m.\u001b[0m\u001b[0mastype\u001b[0m\u001b[0;34m(\u001b[0m\u001b[0mdtype\u001b[0m\u001b[0;34m,\u001b[0m \u001b[0mcopy\u001b[0m\u001b[0;34m=\u001b[0m\u001b[0;32mTrue\u001b[0m\u001b[0;34m)\u001b[0m\u001b[0;34m\u001b[0m\u001b[0;34m\u001b[0m\u001b[0m\n\u001b[0m\u001b[1;32m    998\u001b[0m \u001b[0;34m\u001b[0m\u001b[0m\n\u001b[1;32m    999\u001b[0m     \u001b[0;32mreturn\u001b[0m \u001b[0marr\u001b[0m\u001b[0;34m.\u001b[0m\u001b[0mview\u001b[0m\u001b[0;34m(\u001b[0m\u001b[0mdtype\u001b[0m\u001b[0;34m)\u001b[0m\u001b[0;34m\u001b[0m\u001b[0;34m\u001b[0m\u001b[0m\n",
            "\u001b[0;31mValueError\u001b[0m: could not convert string to float: '-'"
          ]
        }
      ]
    },
    {
      "cell_type": "markdown",
      "metadata": {
        "id": "UsSq0K0Ic-bI"
      },
      "source": [
        "엥.. 머선일.. -이게 왜 있는데\n",
        "'-' 이거 뭔데. 뭔가 숨어있나보다"
      ]
    },
    {
      "cell_type": "code",
      "metadata": {
        "id": "CZhvJNMzcrnW"
      },
      "source": [
        "train.loc[train.임대보증금=='-', '임대보증금'] = np.nan\n",
        "test.loc[test.임대보증금=='-', '임대보증금'] = np.nan\n",
        "train['임대보증금'] = train['임대보증금'].astype(float)\n",
        "test['임대보증금'] = test['임대보증금'].astype(float)\n",
        "train.loc[train.임대료=='-', '임대료'] = np.nan\n",
        "test.loc[test.임대료=='-', '임대료'] = np.nan\n",
        "train['임대료'] = train['임대료'].astype(float)\n",
        "test['임대료'] = test['임대료'].astype(float)"
      ],
      "execution_count": 219,
      "outputs": []
    },
    {
      "cell_type": "code",
      "metadata": {
        "colab": {
          "base_uri": "https://localhost:8080/"
        },
        "id": "2Ko64Bq-dIEw",
        "outputId": "e0bff6b6-277c-4545-925a-1fd7ae514c4e"
      },
      "source": [
        "train.info()"
      ],
      "execution_count": 61,
      "outputs": [
        {
          "output_type": "stream",
          "name": "stdout",
          "text": [
            "<class 'pandas.core.frame.DataFrame'>\n",
            "RangeIndex: 2952 entries, 0 to 2951\n",
            "Data columns (total 15 columns):\n",
            " #   Column                        Non-Null Count  Dtype  \n",
            "---  ------                        --------------  -----  \n",
            " 0   단지코드                          2952 non-null   object \n",
            " 1   총세대수                          2952 non-null   int64  \n",
            " 2   임대건물구분                        2952 non-null   object \n",
            " 3   지역                            2952 non-null   object \n",
            " 4   공급유형                          2952 non-null   object \n",
            " 5   전용면적                          2952 non-null   float64\n",
            " 6   전용면적별세대수                      2952 non-null   int64  \n",
            " 7   공가수                           2952 non-null   float64\n",
            " 8   자격유형                          2952 non-null   object \n",
            " 9   임대보증금                         2371 non-null   float64\n",
            " 10  임대료                           2362 non-null   float64\n",
            " 11  도보 10분거리 내 지하철역 수(환승노선 수 반영)  2741 non-null   float64\n",
            " 12  도보 10분거리 내 버스정류장 수            2948 non-null   float64\n",
            " 13  단지내주차면수                       2952 non-null   float64\n",
            " 14  등록차량수                         2952 non-null   float64\n",
            "dtypes: float64(8), int64(2), object(5)\n",
            "memory usage: 346.1+ KB\n"
          ]
        }
      ]
    },
    {
      "cell_type": "markdown",
      "metadata": {
        "id": "AELEslu3dNGP"
      },
      "source": [
        "good"
      ]
    },
    {
      "cell_type": "code",
      "metadata": {
        "colab": {
          "base_uri": "https://localhost:8080/"
        },
        "id": "RVNMRKUXdMBs",
        "outputId": "600a1525-2aa8-4bf8-d346-080f07b1c73b"
      },
      "source": [
        "train['단지코드'].value_counts()"
      ],
      "execution_count": 62,
      "outputs": [
        {
          "output_type": "execute_result",
          "data": {
            "text/plain": [
              "C1439    48\n",
              "C2132    47\n",
              "C1859    40\n",
              "C1790    33\n",
              "C2597    32\n",
              "         ..\n",
              "C2490     2\n",
              "C2188     1\n",
              "C2340     1\n",
              "C2520     1\n",
              "C2437     1\n",
              "Name: 단지코드, Length: 423, dtype: int64"
            ]
          },
          "metadata": {},
          "execution_count": 62
        }
      ]
    },
    {
      "cell_type": "markdown",
      "metadata": {
        "id": "B0vvC8ICdT0H"
      },
      "source": [
        "주어진 단지가 423개는 있나봄. 나중에 얘네끼리 묶어주던가 해야겠다. 어차피 같은 단지니까"
      ]
    },
    {
      "cell_type": "code",
      "metadata": {
        "colab": {
          "base_uri": "https://localhost:8080/",
          "height": 297
        },
        "id": "yZ19Akc9dxG1",
        "outputId": "db8f176f-4742-447c-e00c-201ca3db47fb"
      },
      "source": [
        "\n",
        "\n",
        "sns.histplot(data=train,x='총세대수')"
      ],
      "execution_count": 79,
      "outputs": [
        {
          "output_type": "execute_result",
          "data": {
            "text/plain": [
              "<matplotlib.axes._subplots.AxesSubplot at 0x7fb77231a250>"
            ]
          },
          "metadata": {},
          "execution_count": 79
        },
        {
          "output_type": "display_data",
          "data": {
            "image/png": "[encoded data removed]",
            "text/plain": [
              "<Figure size 432x288 with 1 Axes>"
            ]
          },
          "metadata": {
            "needs_background": "light"
          }
        }
      ]
    },
    {
      "cell_type": "code",
      "metadata": {
        "id": "r43oELlRf-Z5",
        "colab": {
          "base_uri": "https://localhost:8080/",
          "height": 297
        },
        "outputId": "4dbaa1ce-abad-4db1-92e1-e58b8dadbf80"
      },
      "source": [
        "sns.scatterplot(data=train,x='총세대수',y=\"등록차량수\")"
      ],
      "execution_count": 64,
      "outputs": [
        {
          "output_type": "execute_result",
          "data": {
            "text/plain": [
              "<matplotlib.axes._subplots.AxesSubplot at 0x7fb772cf3bd0>"
            ]
          },
          "metadata": {},
          "execution_count": 64
        },
        {
          "output_type": "display_data",
          "data": {
            "image/png": "[encoded data removed]",
            "text/plain": [
              "<Figure size 432x288 with 1 Axes>"
            ]
          },
          "metadata": {
            "needs_background": "light"
          }
        }
      ]
    },
    {
      "cell_type": "markdown",
      "metadata": {
        "id": "tkQUrvN9e8iC"
      },
      "source": [
        "아니 왜 한글 안되는데.. 뭘 더 해줘야하는데\n",
        "원하는대로 해줬자나!~~~~~~~~~~~~~~~~`\n",
        "여튼 500에서 1000사이가 가장 많다. "
      ]
    },
    {
      "cell_type": "code",
      "metadata": {
        "colab": {
          "base_uri": "https://localhost:8080/"
        },
        "id": "3rSPTrgGdRDV",
        "outputId": "81adc61b-d597-4cd9-935c-0953fcf4d6c3"
      },
      "source": [
        "train['임대건물구분'].value_counts()"
      ],
      "execution_count": 65,
      "outputs": [
        {
          "output_type": "execute_result",
          "data": {
            "text/plain": [
              "아파트    2390\n",
              "상가      562\n",
              "Name: 임대건물구분, dtype: int64"
            ]
          },
          "metadata": {},
          "execution_count": 65
        }
      ]
    },
    {
      "cell_type": "code",
      "metadata": {
        "colab": {
          "base_uri": "https://localhost:8080/"
        },
        "id": "yxFrX6jddhGt",
        "outputId": "74ec9ad3-fca4-4326-a7f8-d718330d7952"
      },
      "source": [
        "train['지역'].value_counts()"
      ],
      "execution_count": 66,
      "outputs": [
        {
          "output_type": "execute_result",
          "data": {
            "text/plain": [
              "경기도        621\n",
              "경상남도       369\n",
              "부산광역시      328\n",
              "대전광역시      266\n",
              "강원도        187\n",
              "충청북도       163\n",
              "충청남도       158\n",
              "전라남도       151\n",
              "광주광역시      141\n",
              "경상북도       119\n",
              "전라북도       109\n",
              "대구광역시      102\n",
              "제주특별자치도     91\n",
              "서울특별시       64\n",
              "세종특별자치시     47\n",
              "울산광역시       36\n",
              "Name: 지역, dtype: int64"
            ]
          },
          "metadata": {},
          "execution_count": 66
        }
      ]
    },
    {
      "cell_type": "code",
      "metadata": {
        "colab": {
          "base_uri": "https://localhost:8080/"
        },
        "id": "Gnngm63Tdmpw",
        "outputId": "03ed05e0-d33d-4b9b-9020-0fa4e244e637"
      },
      "source": [
        "train['공급유형'].value_counts()"
      ],
      "execution_count": 67,
      "outputs": [
        {
          "output_type": "execute_result",
          "data": {
            "text/plain": [
              "국민임대         1758\n",
              "임대상가          562\n",
              "행복주택          213\n",
              "공공임대(10년)     205\n",
              "영구임대          152\n",
              "공공임대(50년)      31\n",
              "공공임대(분납)       12\n",
              "장기전세            9\n",
              "공공분양            7\n",
              "공공임대(5년)        3\n",
              "Name: 공급유형, dtype: int64"
            ]
          },
          "metadata": {},
          "execution_count": 67
        }
      ]
    },
    {
      "cell_type": "code",
      "metadata": {
        "colab": {
          "base_uri": "https://localhost:8080/",
          "height": 297
        },
        "id": "zLDeVPGFdqpd",
        "outputId": "17e4fafe-2bbb-4cb1-ef35-c847180d3bec"
      },
      "source": [
        "sns.histplot(data=train,x='전용면적')"
      ],
      "execution_count": 68,
      "outputs": [
        {
          "output_type": "execute_result",
          "data": {
            "text/plain": [
              "<matplotlib.axes._subplots.AxesSubplot at 0x7fb772c7f690>"
            ]
          },
          "metadata": {},
          "execution_count": 68
        },
        {
          "output_type": "display_data",
          "data": {
            "image/png": "[encoded data removed]",
            "text/plain": [
              "<Figure size 432x288 with 1 Axes>"
            ]
          },
          "metadata": {
            "needs_background": "light"
          }
        }
      ]
    },
    {
      "cell_type": "markdown",
      "metadata": {
        "id": "D1RujCkMfkNu"
      },
      "source": [
        "굉장히 꼬리가 긴 데이터..이건 나중에 StandardScaler로 처리해버리던지 log로 바꿔버리던지 해야지 "
      ]
    },
    {
      "cell_type": "code",
      "metadata": {
        "colab": {
          "base_uri": "https://localhost:8080/",
          "height": 282
        },
        "id": "gqY7lGwCx9oN",
        "outputId": "6ee829d7-de02-4992-bcde-e93b8b6a141b"
      },
      "source": [
        "sns.boxplot(data=train['전용면적'])"
      ],
      "execution_count": 93,
      "outputs": [
        {
          "output_type": "execute_result",
          "data": {
            "text/plain": [
              "<matplotlib.axes._subplots.AxesSubplot at 0x7fb7702ec6d0>"
            ]
          },
          "metadata": {},
          "execution_count": 93
        },
        {
          "output_type": "display_data",
          "data": {
            "image/png": "[encoded data removed]",
            "text/plain": [
              "<Figure size 432x288 with 1 Axes>"
            ]
          },
          "metadata": {
            "image/png": {
              "width": 375,
              "height": 248
            },
            "needs_background": "light"
          }
        }
      ]
    },
    {
      "cell_type": "code",
      "metadata": {
        "colab": {
          "base_uri": "https://localhost:8080/",
          "height": 297
        },
        "id": "78r_qUVffi61",
        "outputId": "250b1268-9871-4468-945a-becb396b1f9c"
      },
      "source": [
        "sns.histplot(data=train,x='공가수')"
      ],
      "execution_count": 69,
      "outputs": [
        {
          "output_type": "execute_result",
          "data": {
            "text/plain": [
              "<matplotlib.axes._subplots.AxesSubplot at 0x7fb772c7f490>"
            ]
          },
          "metadata": {},
          "execution_count": 69
        },
        {
          "output_type": "display_data",
          "data": {
            "image/png": "[encoded data removed]",
            "text/plain": [
              "<Figure size 432x288 with 1 Axes>"
            ]
          },
          "metadata": {
            "needs_background": "light"
          }
        }
      ]
    },
    {
      "cell_type": "code",
      "metadata": {
        "id": "vk9FaW6tfwxZ",
        "colab": {
          "base_uri": "https://localhost:8080/",
          "height": 297
        },
        "outputId": "3682ea05-d442-4ccc-dc05-9516453e75b3"
      },
      "source": [
        "sns.histplot(data=train,x='전용면적별세대수')"
      ],
      "execution_count": 70,
      "outputs": [
        {
          "output_type": "execute_result",
          "data": {
            "text/plain": [
              "<matplotlib.axes._subplots.AxesSubplot at 0x7fb7728e4c90>"
            ]
          },
          "metadata": {},
          "execution_count": 70
        },
        {
          "output_type": "display_data",
          "data": {
            "image/png": "[encoded data removed]",
            "text/plain": [
              "<Figure size 432x288 with 1 Axes>"
            ]
          },
          "metadata": {
            "needs_background": "light"
          }
        }
      ]
    },
    {
      "cell_type": "code",
      "metadata": {
        "colab": {
          "base_uri": "https://localhost:8080/",
          "height": 282
        },
        "id": "4yvABXepyDJM",
        "outputId": "9a76e709-fc99-4b1e-80fb-56e57fd85491"
      },
      "source": [
        "sns.boxplot(data=train['전용면적별세대수'])"
      ],
      "execution_count": 94,
      "outputs": [
        {
          "output_type": "execute_result",
          "data": {
            "text/plain": [
              "<matplotlib.axes._subplots.AxesSubplot at 0x7fb7702d1f90>"
            ]
          },
          "metadata": {},
          "execution_count": 94
        },
        {
          "output_type": "display_data",
          "data": {
            "image/png": "[encoded data removed]",
            "text/plain": [
              "<Figure size 432x288 with 1 Axes>"
            ]
          },
          "metadata": {
            "image/png": {
              "width": 381,
              "height": 248
            },
            "needs_background": "light"
          }
        }
      ]
    },
    {
      "cell_type": "code",
      "metadata": {
        "colab": {
          "base_uri": "https://localhost:8080/"
        },
        "id": "zYaLruC-qgwl",
        "outputId": "39717bd8-f7f2-49d0-abe9-e2a7db1a4b72"
      },
      "source": [
        "train['자격유형'].value_counts()"
      ],
      "execution_count": 71,
      "outputs": [
        {
          "output_type": "execute_result",
          "data": {
            "text/plain": [
              "A    1801\n",
              "D     569\n",
              "H     155\n",
              "J     114\n",
              "C      95\n",
              "I      49\n",
              "E      37\n",
              "K      33\n",
              "L      33\n",
              "N      30\n",
              "B      21\n",
              "G       9\n",
              "F       3\n",
              "M       2\n",
              "O       1\n",
              "Name: 자격유형, dtype: int64"
            ]
          },
          "metadata": {},
          "execution_count": 71
        }
      ]
    },
    {
      "cell_type": "code",
      "metadata": {
        "colab": {
          "base_uri": "https://localhost:8080/"
        },
        "id": "llZ2nmjHLxMk",
        "outputId": "9df259e5-fcfd-4282-f1dc-cd0d715f2879"
      },
      "source": [
        "test['자격유형'].value_counts()"
      ],
      "execution_count": 168,
      "outputs": [
        {
          "output_type": "execute_result",
          "data": {
            "text/plain": [
              "A    572\n",
              "D    180\n",
              "H     92\n",
              "J     84\n",
              "C     34\n",
              "K     16\n",
              "L     12\n",
              "N     10\n",
              "E     10\n",
              "I      7\n",
              "M      2\n",
              "G      1\n",
              "Name: 자격유형, dtype: int64"
            ]
          },
          "metadata": {},
          "execution_count": 168
        }
      ]
    },
    {
      "cell_type": "code",
      "metadata": {
        "colab": {
          "base_uri": "https://localhost:8080/",
          "height": 297
        },
        "id": "9GjTVx5sqoja",
        "outputId": "7b9e8c9c-4f19-4068-ef02-a9c92ce68b0b"
      },
      "source": [
        "sns.histplot(data=train,x='임대보증금')"
      ],
      "execution_count": 72,
      "outputs": [
        {
          "output_type": "execute_result",
          "data": {
            "text/plain": [
              "<matplotlib.axes._subplots.AxesSubplot at 0x7fb772740490>"
            ]
          },
          "metadata": {},
          "execution_count": 72
        },
        {
          "output_type": "display_data",
          "data": {
            "image/png": "[encoded data removed]",
            "text/plain": [
              "<Figure size 432x288 with 1 Axes>"
            ]
          },
          "metadata": {
            "needs_background": "light"
          }
        }
      ]
    },
    {
      "cell_type": "code",
      "metadata": {
        "colab": {
          "base_uri": "https://localhost:8080/",
          "height": 297
        },
        "id": "PXb72_ZwrXHR",
        "outputId": "17e22789-a8a6-42ef-8ca9-aeea61608a04"
      },
      "source": [
        "sns.histplot(data=train,x='임대료')"
      ],
      "execution_count": 73,
      "outputs": [
        {
          "output_type": "execute_result",
          "data": {
            "text/plain": [
              "<matplotlib.axes._subplots.AxesSubplot at 0x7fb772609250>"
            ]
          },
          "metadata": {},
          "execution_count": 73
        },
        {
          "output_type": "display_data",
          "data": {
            "image/png": "[encoded data removed]",
            "text/plain": [
              "<Figure size 432x288 with 1 Axes>"
            ]
          },
          "metadata": {
            "needs_background": "light"
          }
        }
      ]
    },
    {
      "cell_type": "code",
      "metadata": {
        "colab": {
          "base_uri": "https://localhost:8080/",
          "height": 297
        },
        "id": "Geah7CYDraxk",
        "outputId": "822c64a3-62ac-47f0-fbae-4e7a87e5cd8b"
      },
      "source": [
        "sns.histplot(data=train,x='도보 10분거리 내 지하철역 수(환승노선 수 반영)')"
      ],
      "execution_count": 74,
      "outputs": [
        {
          "output_type": "execute_result",
          "data": {
            "text/plain": [
              "<matplotlib.axes._subplots.AxesSubplot at 0x7fb772a33b50>"
            ]
          },
          "metadata": {},
          "execution_count": 74
        },
        {
          "output_type": "display_data",
          "data": {
            "image/png": "[encoded data removed]",
            "text/plain": [
              "<Figure size 432x288 with 1 Axes>"
            ]
          },
          "metadata": {
            "needs_background": "light"
          }
        }
      ]
    },
    {
      "cell_type": "markdown",
      "metadata": {
        "id": "q__TpCJmrjIV"
      },
      "source": [
        "컬럼명이 너무 길고 빡쳐서 안되겠다. 바꿔주기로함"
      ]
    },
    {
      "cell_type": "code",
      "metadata": {
        "id": "Q_R5NjaBrhim"
      },
      "source": [
        "train=train.rename(columns={'도보 10분거리 내 지하철역 수(환승노선 수 반영)':'지하철'})\n",
        "train=train.rename(columns={'도보 10분거리 내 버스정류장 수':'버스'})\n",
        "test=test.rename(columns={'도보 10분거리 내 지하철역 수(환승노선 수 반영)':'지하철'})\n",
        "test=test.rename(columns={'도보 10분거리 내 버스정류장 수':'버스'})"
      ],
      "execution_count": 220,
      "outputs": []
    },
    {
      "cell_type": "code",
      "metadata": {
        "colab": {
          "base_uri": "https://localhost:8080/"
        },
        "id": "bLi8LF50sNpF",
        "outputId": "e64482c3-4e02-4c70-818e-a534bb8d7c16"
      },
      "source": [
        "train.columns"
      ],
      "execution_count": 125,
      "outputs": [
        {
          "output_type": "execute_result",
          "data": {
            "text/plain": [
              "Index(['단지코드', '총세대수', '임대건물구분', '지역', '공급유형', '전용면적', '전용면적별세대수', '공가수',\n",
              "       '자격유형', '임대보증금', '임대료', '지하철', '버스', '단지내주차면수', '등록차량수'],\n",
              "      dtype='object')"
            ]
          },
          "metadata": {},
          "execution_count": 125
        }
      ]
    },
    {
      "cell_type": "code",
      "metadata": {
        "colab": {
          "base_uri": "https://localhost:8080/",
          "height": 297
        },
        "id": "5oEVVGlXsQ-3",
        "outputId": "08be64df-a8fa-48bc-f29f-877b71e24385"
      },
      "source": [
        "sns.histplot(data=train,x='버스')"
      ],
      "execution_count": 80,
      "outputs": [
        {
          "output_type": "execute_result",
          "data": {
            "text/plain": [
              "<matplotlib.axes._subplots.AxesSubplot at 0x7fb77b6ea4d0>"
            ]
          },
          "metadata": {},
          "execution_count": 80
        },
        {
          "output_type": "display_data",
          "data": {
            "image/png": "[encoded data removed]",
            "text/plain": [
              "<Figure size 432x288 with 1 Axes>"
            ]
          },
          "metadata": {
            "needs_background": "light"
          }
        }
      ]
    },
    {
      "cell_type": "code",
      "metadata": {
        "colab": {
          "base_uri": "https://localhost:8080/",
          "height": 297
        },
        "id": "4JTs8Nb-secy",
        "outputId": "399ac601-07e0-4763-ec02-380bbf8658f4"
      },
      "source": [
        "sns.histplot(data=train,x='단지내주차면수')"
      ],
      "execution_count": 81,
      "outputs": [
        {
          "output_type": "execute_result",
          "data": {
            "text/plain": [
              "<matplotlib.axes._subplots.AxesSubplot at 0x7fb77211e3d0>"
            ]
          },
          "metadata": {},
          "execution_count": 81
        },
        {
          "output_type": "display_data",
          "data": {
            "image/png": "[encoded data removed]",
            "text/plain": [
              "<Figure size 432x288 with 1 Axes>"
            ]
          },
          "metadata": {
            "needs_background": "light"
          }
        }
      ]
    },
    {
      "cell_type": "code",
      "metadata": {
        "colab": {
          "base_uri": "https://localhost:8080/",
          "height": 357
        },
        "id": "ZQeKO8saslRd",
        "outputId": "86cf165b-5628-4297-e7b1-defcf4823909"
      },
      "source": [
        "corr=train.corr()\n",
        "corr"
      ],
      "execution_count": 87,
      "outputs": [
        {
          "output_type": "execute_result",
          "data": {
            "text/html": [
              "<div>\n",
              "<style scoped>\n",
              "    .dataframe tbody tr th:only-of-type {\n",
              "        vertical-align: middle;\n",
              "    }\n",
              "\n",
              "    .dataframe tbody tr th {\n",
              "        vertical-align: top;\n",
              "    }\n",
              "\n",
              "    .dataframe thead th {\n",
              "        text-align: right;\n",
              "    }\n",
              "</style>\n",
              "<table border=\"1\" class=\"dataframe\">\n",
              "  <thead>\n",
              "    <tr style=\"text-align: right;\">\n",
              "      <th></th>\n",
              "      <th>총세대수</th>\n",
              "      <th>전용면적</th>\n",
              "      <th>전용면적별세대수</th>\n",
              "      <th>공가수</th>\n",
              "      <th>임대보증금</th>\n",
              "      <th>임대료</th>\n",
              "      <th>지하철</th>\n",
              "      <th>버스</th>\n",
              "      <th>단지내주차면수</th>\n",
              "      <th>등록차량수</th>\n",
              "    </tr>\n",
              "  </thead>\n",
              "  <tbody>\n",
              "    <tr>\n",
              "      <th>총세대수</th>\n",
              "      <td>1.000000</td>\n",
              "      <td>0.042271</td>\n",
              "      <td>0.098205</td>\n",
              "      <td>0.068192</td>\n",
              "      <td>0.075493</td>\n",
              "      <td>0.099606</td>\n",
              "      <td>0.213843</td>\n",
              "      <td>-0.001446</td>\n",
              "      <td>0.501488</td>\n",
              "      <td>0.316703</td>\n",
              "    </tr>\n",
              "    <tr>\n",
              "      <th>전용면적</th>\n",
              "      <td>0.042271</td>\n",
              "      <td>1.000000</td>\n",
              "      <td>-0.035479</td>\n",
              "      <td>-0.089201</td>\n",
              "      <td>0.490950</td>\n",
              "      <td>0.740591</td>\n",
              "      <td>-0.013111</td>\n",
              "      <td>-0.007866</td>\n",
              "      <td>0.071260</td>\n",
              "      <td>0.115453</td>\n",
              "    </tr>\n",
              "    <tr>\n",
              "      <th>전용면적별세대수</th>\n",
              "      <td>0.098205</td>\n",
              "      <td>-0.035479</td>\n",
              "      <td>1.000000</td>\n",
              "      <td>0.166472</td>\n",
              "      <td>-0.099252</td>\n",
              "      <td>-0.057759</td>\n",
              "      <td>-0.056680</td>\n",
              "      <td>0.047112</td>\n",
              "      <td>0.281989</td>\n",
              "      <td>0.247085</td>\n",
              "    </tr>\n",
              "    <tr>\n",
              "      <th>공가수</th>\n",
              "      <td>0.068192</td>\n",
              "      <td>-0.089201</td>\n",
              "      <td>0.166472</td>\n",
              "      <td>1.000000</td>\n",
              "      <td>0.030728</td>\n",
              "      <td>-0.194322</td>\n",
              "      <td>-0.093334</td>\n",
              "      <td>0.043285</td>\n",
              "      <td>0.289819</td>\n",
              "      <td>0.118121</td>\n",
              "    </tr>\n",
              "    <tr>\n",
              "      <th>임대보증금</th>\n",
              "      <td>0.075493</td>\n",
              "      <td>0.490950</td>\n",
              "      <td>-0.099252</td>\n",
              "      <td>0.030728</td>\n",
              "      <td>1.000000</td>\n",
              "      <td>0.557144</td>\n",
              "      <td>0.027113</td>\n",
              "      <td>0.110757</td>\n",
              "      <td>0.270697</td>\n",
              "      <td>0.311469</td>\n",
              "    </tr>\n",
              "    <tr>\n",
              "      <th>임대료</th>\n",
              "      <td>0.099606</td>\n",
              "      <td>0.740591</td>\n",
              "      <td>-0.057759</td>\n",
              "      <td>-0.194322</td>\n",
              "      <td>0.557144</td>\n",
              "      <td>1.000000</td>\n",
              "      <td>0.071571</td>\n",
              "      <td>0.044654</td>\n",
              "      <td>0.279785</td>\n",
              "      <td>0.416536</td>\n",
              "    </tr>\n",
              "    <tr>\n",
              "      <th>지하철</th>\n",
              "      <td>0.213843</td>\n",
              "      <td>-0.013111</td>\n",
              "      <td>-0.056680</td>\n",
              "      <td>-0.093334</td>\n",
              "      <td>0.027113</td>\n",
              "      <td>0.071571</td>\n",
              "      <td>1.000000</td>\n",
              "      <td>0.098380</td>\n",
              "      <td>-0.055544</td>\n",
              "      <td>-0.108592</td>\n",
              "    </tr>\n",
              "    <tr>\n",
              "      <th>버스</th>\n",
              "      <td>-0.001446</td>\n",
              "      <td>-0.007866</td>\n",
              "      <td>0.047112</td>\n",
              "      <td>0.043285</td>\n",
              "      <td>0.110757</td>\n",
              "      <td>0.044654</td>\n",
              "      <td>0.098380</td>\n",
              "      <td>1.000000</td>\n",
              "      <td>0.070696</td>\n",
              "      <td>0.103752</td>\n",
              "    </tr>\n",
              "    <tr>\n",
              "      <th>단지내주차면수</th>\n",
              "      <td>0.501488</td>\n",
              "      <td>0.071260</td>\n",
              "      <td>0.281989</td>\n",
              "      <td>0.289819</td>\n",
              "      <td>0.270697</td>\n",
              "      <td>0.279785</td>\n",
              "      <td>-0.055544</td>\n",
              "      <td>0.070696</td>\n",
              "      <td>1.000000</td>\n",
              "      <td>0.859216</td>\n",
              "    </tr>\n",
              "    <tr>\n",
              "      <th>등록차량수</th>\n",
              "      <td>0.316703</td>\n",
              "      <td>0.115453</td>\n",
              "      <td>0.247085</td>\n",
              "      <td>0.118121</td>\n",
              "      <td>0.311469</td>\n",
              "      <td>0.416536</td>\n",
              "      <td>-0.108592</td>\n",
              "      <td>0.103752</td>\n",
              "      <td>0.859216</td>\n",
              "      <td>1.000000</td>\n",
              "    </tr>\n",
              "  </tbody>\n",
              "</table>\n",
              "</div>"
            ],
            "text/plain": [
              "              총세대수      전용면적  전용면적별세대수  ...        버스   단지내주차면수     등록차량수\n",
              "총세대수      1.000000  0.042271  0.098205  ... -0.001446  0.501488  0.316703\n",
              "전용면적      0.042271  1.000000 -0.035479  ... -0.007866  0.071260  0.115453\n",
              "전용면적별세대수  0.098205 -0.035479  1.000000  ...  0.047112  0.281989  0.247085\n",
              "공가수       0.068192 -0.089201  0.166472  ...  0.043285  0.289819  0.118121\n",
              "임대보증금     0.075493  0.490950 -0.099252  ...  0.110757  0.270697  0.311469\n",
              "임대료       0.099606  0.740591 -0.057759  ...  0.044654  0.279785  0.416536\n",
              "지하철       0.213843 -0.013111 -0.056680  ...  0.098380 -0.055544 -0.108592\n",
              "버스       -0.001446 -0.007866  0.047112  ...  1.000000  0.070696  0.103752\n",
              "단지내주차면수   0.501488  0.071260  0.281989  ...  0.070696  1.000000  0.859216\n",
              "등록차량수     0.316703  0.115453  0.247085  ...  0.103752  0.859216  1.000000\n",
              "\n",
              "[10 rows x 10 columns]"
            ]
          },
          "metadata": {},
          "execution_count": 87
        }
      ]
    },
    {
      "cell_type": "markdown",
      "metadata": {
        "id": "6sH168Y5vcSI"
      },
      "source": [
        "히트맵그렸더니 한글이 안보여서 어쩔수 없이 시각화는 안하고 이렇게 표로 확인 함. 등록 차량 수랑 관계가 있어보이는 피처값은 총세대수, 임대료, 임대보증금, 단지내주차면수. 단지내주차면수가 가장 상관성이 크다."
      ]
    },
    {
      "cell_type": "code",
      "metadata": {
        "colab": {
          "base_uri": "https://localhost:8080/",
          "height": 458
        },
        "id": "HjC6DkgWt-DW",
        "outputId": "e36b0a6a-adee-4ec4-b31c-2abf8fcd55b3"
      },
      "source": [
        "sns.jointplot(data=train,x=\"단지내주차면수\",y=\"등록차량수\")"
      ],
      "execution_count": 90,
      "outputs": [
        {
          "output_type": "execute_result",
          "data": {
            "text/plain": [
              "<seaborn.axisgrid.JointGrid at 0x7fb7704b1290>"
            ]
          },
          "metadata": {},
          "execution_count": 90
        },
        {
          "output_type": "display_data",
          "data": {
            "image/png": "[encoded data removed]",
            "text/plain": [
              "<Figure size 432x432 with 3 Axes>"
            ]
          },
          "metadata": {
            "image/png": {
              "width": 434,
              "height": 423
            },
            "needs_background": "light"
          }
        }
      ]
    },
    {
      "cell_type": "markdown",
      "metadata": {
        "id": "31sh4Eyiw_jE"
      },
      "source": [
        "# 전처리"
      ]
    },
    {
      "cell_type": "markdown",
      "metadata": {
        "id": "8qYcSVb5xHEk"
      },
      "source": [
        "데이터를 어떻게 문석할까 생각을 해봤는데 지역끼리 묶을지, 단지끼리 묶을지 고민을 많이 했다. 아무래도 새로운 데이터를 만들어서 분석에 이용해야할 것 같기도..?"
      ]
    },
    {
      "cell_type": "code",
      "metadata": {
        "colab": {
          "base_uri": "https://localhost:8080/"
        },
        "id": "f_SYU_u90tdD",
        "outputId": "997f8c4e-c0ae-455e-f54a-012c91964f4b"
      },
      "source": [
        "train.columns"
      ],
      "execution_count": 95,
      "outputs": [
        {
          "output_type": "execute_result",
          "data": {
            "text/plain": [
              "Index(['단지코드', '총세대수', '임대건물구분', '지역', '공급유형', '전용면적', '전용면적별세대수', '공가수',\n",
              "       '자격유형', '임대보증금', '임대료', '지하철', '버스', '단지내주차면수', '등록차량수'],\n",
              "      dtype='object')"
            ]
          },
          "metadata": {},
          "execution_count": 95
        }
      ]
    },
    {
      "cell_type": "code",
      "metadata": {
        "colab": {
          "base_uri": "https://localhost:8080/",
          "height": 447
        },
        "id": "cvSWjXrb4VUA",
        "outputId": "ccb52e88-aeba-4379-f127-339b79c750ee"
      },
      "source": [
        "train.groupby('단지코드').mean()"
      ],
      "execution_count": 221,
      "outputs": [
        {
          "output_type": "execute_result",
          "data": {
            "text/html": [
              "<div>\n",
              "<style scoped>\n",
              "    .dataframe tbody tr th:only-of-type {\n",
              "        vertical-align: middle;\n",
              "    }\n",
              "\n",
              "    .dataframe tbody tr th {\n",
              "        vertical-align: top;\n",
              "    }\n",
              "\n",
              "    .dataframe thead th {\n",
              "        text-align: right;\n",
              "    }\n",
              "</style>\n",
              "<table border=\"1\" class=\"dataframe\">\n",
              "  <thead>\n",
              "    <tr style=\"text-align: right;\">\n",
              "      <th></th>\n",
              "      <th>총세대수</th>\n",
              "      <th>전용면적</th>\n",
              "      <th>전용면적별세대수</th>\n",
              "      <th>공가수</th>\n",
              "      <th>임대보증금</th>\n",
              "      <th>임대료</th>\n",
              "      <th>지하철</th>\n",
              "      <th>버스</th>\n",
              "      <th>단지내주차면수</th>\n",
              "      <th>등록차량수</th>\n",
              "    </tr>\n",
              "    <tr>\n",
              "      <th>단지코드</th>\n",
              "      <th></th>\n",
              "      <th></th>\n",
              "      <th></th>\n",
              "      <th></th>\n",
              "      <th></th>\n",
              "      <th></th>\n",
              "      <th></th>\n",
              "      <th></th>\n",
              "      <th></th>\n",
              "      <th></th>\n",
              "    </tr>\n",
              "  </thead>\n",
              "  <tbody>\n",
              "    <tr>\n",
              "      <th>C1000</th>\n",
              "      <td>566.0</td>\n",
              "      <td>45.218571</td>\n",
              "      <td>80.857143</td>\n",
              "      <td>10.0</td>\n",
              "      <td>1.320357e+07</td>\n",
              "      <td>121064.285714</td>\n",
              "      <td>0.0</td>\n",
              "      <td>1.0</td>\n",
              "      <td>438.0</td>\n",
              "      <td>481.0</td>\n",
              "    </tr>\n",
              "    <tr>\n",
              "      <th>C1004</th>\n",
              "      <td>521.0</td>\n",
              "      <td>39.136842</td>\n",
              "      <td>27.421053</td>\n",
              "      <td>3.0</td>\n",
              "      <td>4.705000e+06</td>\n",
              "      <td>104695.000000</td>\n",
              "      <td>NaN</td>\n",
              "      <td>2.0</td>\n",
              "      <td>153.0</td>\n",
              "      <td>93.0</td>\n",
              "    </tr>\n",
              "    <tr>\n",
              "      <th>C1005</th>\n",
              "      <td>1144.0</td>\n",
              "      <td>54.360000</td>\n",
              "      <td>381.333333</td>\n",
              "      <td>16.0</td>\n",
              "      <td>1.710767e+07</td>\n",
              "      <td>222046.666667</td>\n",
              "      <td>NaN</td>\n",
              "      <td>8.0</td>\n",
              "      <td>950.0</td>\n",
              "      <td>376.0</td>\n",
              "    </tr>\n",
              "    <tr>\n",
              "      <th>C1013</th>\n",
              "      <td>1308.0</td>\n",
              "      <td>46.142000</td>\n",
              "      <td>261.600000</td>\n",
              "      <td>16.0</td>\n",
              "      <td>2.492480e+07</td>\n",
              "      <td>134726.000000</td>\n",
              "      <td>0.0</td>\n",
              "      <td>6.0</td>\n",
              "      <td>1119.0</td>\n",
              "      <td>1665.0</td>\n",
              "    </tr>\n",
              "    <tr>\n",
              "      <th>C1014</th>\n",
              "      <td>996.0</td>\n",
              "      <td>49.232857</td>\n",
              "      <td>142.285714</td>\n",
              "      <td>5.0</td>\n",
              "      <td>2.389400e+07</td>\n",
              "      <td>160488.571429</td>\n",
              "      <td>0.0</td>\n",
              "      <td>2.0</td>\n",
              "      <td>823.0</td>\n",
              "      <td>708.0</td>\n",
              "    </tr>\n",
              "    <tr>\n",
              "      <th>...</th>\n",
              "      <td>...</td>\n",
              "      <td>...</td>\n",
              "      <td>...</td>\n",
              "      <td>...</td>\n",
              "      <td>...</td>\n",
              "      <td>...</td>\n",
              "      <td>...</td>\n",
              "      <td>...</td>\n",
              "      <td>...</td>\n",
              "      <td>...</td>\n",
              "    </tr>\n",
              "    <tr>\n",
              "      <th>C2663</th>\n",
              "      <td>772.0</td>\n",
              "      <td>41.005000</td>\n",
              "      <td>128.666667</td>\n",
              "      <td>14.0</td>\n",
              "      <td>3.025867e+07</td>\n",
              "      <td>269070.000000</td>\n",
              "      <td>0.0</td>\n",
              "      <td>3.0</td>\n",
              "      <td>700.0</td>\n",
              "      <td>652.0</td>\n",
              "    </tr>\n",
              "    <tr>\n",
              "      <th>C2666</th>\n",
              "      <td>1084.0</td>\n",
              "      <td>43.258333</td>\n",
              "      <td>180.666667</td>\n",
              "      <td>23.0</td>\n",
              "      <td>1.889050e+07</td>\n",
              "      <td>133145.000000</td>\n",
              "      <td>0.0</td>\n",
              "      <td>1.0</td>\n",
              "      <td>837.0</td>\n",
              "      <td>701.0</td>\n",
              "    </tr>\n",
              "    <tr>\n",
              "      <th>C2670</th>\n",
              "      <td>648.0</td>\n",
              "      <td>40.918000</td>\n",
              "      <td>129.600000</td>\n",
              "      <td>9.0</td>\n",
              "      <td>1.635000e+07</td>\n",
              "      <td>115188.000000</td>\n",
              "      <td>0.0</td>\n",
              "      <td>2.0</td>\n",
              "      <td>600.0</td>\n",
              "      <td>435.0</td>\n",
              "    </tr>\n",
              "    <tr>\n",
              "      <th>C2680</th>\n",
              "      <td>758.0</td>\n",
              "      <td>43.350000</td>\n",
              "      <td>252.666667</td>\n",
              "      <td>19.0</td>\n",
              "      <td>2.360633e+07</td>\n",
              "      <td>129816.666667</td>\n",
              "      <td>0.0</td>\n",
              "      <td>7.0</td>\n",
              "      <td>564.0</td>\n",
              "      <td>590.0</td>\n",
              "    </tr>\n",
              "    <tr>\n",
              "      <th>C2692</th>\n",
              "      <td>499.0</td>\n",
              "      <td>43.570000</td>\n",
              "      <td>99.800000</td>\n",
              "      <td>19.0</td>\n",
              "      <td>1.579360e+07</td>\n",
              "      <td>117848.000000</td>\n",
              "      <td>0.0</td>\n",
              "      <td>2.0</td>\n",
              "      <td>409.0</td>\n",
              "      <td>437.0</td>\n",
              "    </tr>\n",
              "  </tbody>\n",
              "</table>\n",
              "<p>423 rows × 10 columns</p>\n",
              "</div>"
            ],
            "text/plain": [
              "         총세대수       전용면적    전용면적별세대수   공가수  ...  지하철   버스  단지내주차면수   등록차량수\n",
              "단지코드                                        ...                           \n",
              "C1000   566.0  45.218571   80.857143  10.0  ...  0.0  1.0    438.0   481.0\n",
              "C1004   521.0  39.136842   27.421053   3.0  ...  NaN  2.0    153.0    93.0\n",
              "C1005  1144.0  54.360000  381.333333  16.0  ...  NaN  8.0    950.0   376.0\n",
              "C1013  1308.0  46.142000  261.600000  16.0  ...  0.0  6.0   1119.0  1665.0\n",
              "C1014   996.0  49.232857  142.285714   5.0  ...  0.0  2.0    823.0   708.0\n",
              "...       ...        ...         ...   ...  ...  ...  ...      ...     ...\n",
              "C2663   772.0  41.005000  128.666667  14.0  ...  0.0  3.0    700.0   652.0\n",
              "C2666  1084.0  43.258333  180.666667  23.0  ...  0.0  1.0    837.0   701.0\n",
              "C2670   648.0  40.918000  129.600000   9.0  ...  0.0  2.0    600.0   435.0\n",
              "C2680   758.0  43.350000  252.666667  19.0  ...  0.0  7.0    564.0   590.0\n",
              "C2692   499.0  43.570000   99.800000  19.0  ...  0.0  2.0    409.0   437.0\n",
              "\n",
              "[423 rows x 10 columns]"
            ]
          },
          "metadata": {},
          "execution_count": 221
        }
      ]
    },
    {
      "cell_type": "code",
      "metadata": {
        "colab": {
          "base_uri": "https://localhost:8080/",
          "height": 304
        },
        "id": "5glg-DRp1Qf5",
        "outputId": "78fcbeea-b857-4bba-a4e0-a476ad805022"
      },
      "source": [
        "train.head()"
      ],
      "execution_count": 97,
      "outputs": [
        {
          "output_type": "execute_result",
          "data": {
            "text/html": [
              "<div>\n",
              "<style scoped>\n",
              "    .dataframe tbody tr th:only-of-type {\n",
              "        vertical-align: middle;\n",
              "    }\n",
              "\n",
              "    .dataframe tbody tr th {\n",
              "        vertical-align: top;\n",
              "    }\n",
              "\n",
              "    .dataframe thead th {\n",
              "        text-align: right;\n",
              "    }\n",
              "</style>\n",
              "<table border=\"1\" class=\"dataframe\">\n",
              "  <thead>\n",
              "    <tr style=\"text-align: right;\">\n",
              "      <th></th>\n",
              "      <th>단지코드</th>\n",
              "      <th>총세대수</th>\n",
              "      <th>임대건물구분</th>\n",
              "      <th>지역</th>\n",
              "      <th>공급유형</th>\n",
              "      <th>전용면적</th>\n",
              "      <th>전용면적별세대수</th>\n",
              "      <th>공가수</th>\n",
              "      <th>자격유형</th>\n",
              "      <th>임대보증금</th>\n",
              "      <th>임대료</th>\n",
              "      <th>지하철</th>\n",
              "      <th>버스</th>\n",
              "      <th>단지내주차면수</th>\n",
              "      <th>등록차량수</th>\n",
              "    </tr>\n",
              "  </thead>\n",
              "  <tbody>\n",
              "    <tr>\n",
              "      <th>0</th>\n",
              "      <td>C2483</td>\n",
              "      <td>900</td>\n",
              "      <td>아파트</td>\n",
              "      <td>경상북도</td>\n",
              "      <td>국민임대</td>\n",
              "      <td>39.72</td>\n",
              "      <td>134</td>\n",
              "      <td>38.0</td>\n",
              "      <td>A</td>\n",
              "      <td>15667000.0</td>\n",
              "      <td>103680.0</td>\n",
              "      <td>0.0</td>\n",
              "      <td>3.0</td>\n",
              "      <td>1425.0</td>\n",
              "      <td>1015.0</td>\n",
              "    </tr>\n",
              "    <tr>\n",
              "      <th>1</th>\n",
              "      <td>C2483</td>\n",
              "      <td>900</td>\n",
              "      <td>아파트</td>\n",
              "      <td>경상북도</td>\n",
              "      <td>국민임대</td>\n",
              "      <td>39.72</td>\n",
              "      <td>15</td>\n",
              "      <td>38.0</td>\n",
              "      <td>A</td>\n",
              "      <td>15667000.0</td>\n",
              "      <td>103680.0</td>\n",
              "      <td>0.0</td>\n",
              "      <td>3.0</td>\n",
              "      <td>1425.0</td>\n",
              "      <td>1015.0</td>\n",
              "    </tr>\n",
              "    <tr>\n",
              "      <th>2</th>\n",
              "      <td>C2483</td>\n",
              "      <td>900</td>\n",
              "      <td>아파트</td>\n",
              "      <td>경상북도</td>\n",
              "      <td>국민임대</td>\n",
              "      <td>51.93</td>\n",
              "      <td>385</td>\n",
              "      <td>38.0</td>\n",
              "      <td>A</td>\n",
              "      <td>27304000.0</td>\n",
              "      <td>184330.0</td>\n",
              "      <td>0.0</td>\n",
              "      <td>3.0</td>\n",
              "      <td>1425.0</td>\n",
              "      <td>1015.0</td>\n",
              "    </tr>\n",
              "    <tr>\n",
              "      <th>3</th>\n",
              "      <td>C2483</td>\n",
              "      <td>900</td>\n",
              "      <td>아파트</td>\n",
              "      <td>경상북도</td>\n",
              "      <td>국민임대</td>\n",
              "      <td>51.93</td>\n",
              "      <td>15</td>\n",
              "      <td>38.0</td>\n",
              "      <td>A</td>\n",
              "      <td>27304000.0</td>\n",
              "      <td>184330.0</td>\n",
              "      <td>0.0</td>\n",
              "      <td>3.0</td>\n",
              "      <td>1425.0</td>\n",
              "      <td>1015.0</td>\n",
              "    </tr>\n",
              "    <tr>\n",
              "      <th>4</th>\n",
              "      <td>C2483</td>\n",
              "      <td>900</td>\n",
              "      <td>아파트</td>\n",
              "      <td>경상북도</td>\n",
              "      <td>국민임대</td>\n",
              "      <td>51.93</td>\n",
              "      <td>41</td>\n",
              "      <td>38.0</td>\n",
              "      <td>A</td>\n",
              "      <td>27304000.0</td>\n",
              "      <td>184330.0</td>\n",
              "      <td>0.0</td>\n",
              "      <td>3.0</td>\n",
              "      <td>1425.0</td>\n",
              "      <td>1015.0</td>\n",
              "    </tr>\n",
              "  </tbody>\n",
              "</table>\n",
              "</div>"
            ],
            "text/plain": [
              "    단지코드  총세대수 임대건물구분    지역  공급유형  ...       임대료  지하철   버스 단지내주차면수   등록차량수\n",
              "0  C2483   900    아파트  경상북도  국민임대  ...  103680.0  0.0  3.0  1425.0  1015.0\n",
              "1  C2483   900    아파트  경상북도  국민임대  ...  103680.0  0.0  3.0  1425.0  1015.0\n",
              "2  C2483   900    아파트  경상북도  국민임대  ...  184330.0  0.0  3.0  1425.0  1015.0\n",
              "3  C2483   900    아파트  경상북도  국민임대  ...  184330.0  0.0  3.0  1425.0  1015.0\n",
              "4  C2483   900    아파트  경상북도  국민임대  ...  184330.0  0.0  3.0  1425.0  1015.0\n",
              "\n",
              "[5 rows x 15 columns]"
            ]
          },
          "metadata": {},
          "execution_count": 97
        }
      ]
    },
    {
      "cell_type": "markdown",
      "metadata": {
        "id": "k1kUlq4S8CKn"
      },
      "source": [
        "## 지역명은 숫자로 인코딩"
      ]
    },
    {
      "cell_type": "code",
      "metadata": {
        "id": "Z9iaCAiX8A_1"
      },
      "source": [
        "from sklearn.preprocessing import LabelEncoder\n",
        "\n",
        "encoding=LabelEncoder()\n",
        "\n",
        "train['지역']=encoding.fit_transform(train['지역'])\n",
        "test['지역']=encoding.fit_transform(test['지역'])\n",
        "\n"
      ],
      "execution_count": 222,
      "outputs": []
    },
    {
      "cell_type": "markdown",
      "metadata": {
        "id": "FMjGGT05A2di"
      },
      "source": [
        "## Outlier 제거\n",
        "\n",
        "EDA과정에서 본 것중에 outlier가 엄청 큰것들이 있었음. 그걸 제거해버리겠다"
      ]
    },
    {
      "cell_type": "code",
      "metadata": {
        "colab": {
          "base_uri": "https://localhost:8080/"
        },
        "id": "CT1zNloGJkUl",
        "outputId": "810f81a0-dce1-4249-eacc-779d8cc57f24"
      },
      "source": [
        "train.isna().sum()"
      ],
      "execution_count": 157,
      "outputs": [
        {
          "output_type": "execute_result",
          "data": {
            "text/plain": [
              "단지코드          0\n",
              "총세대수          0\n",
              "임대건물구분        0\n",
              "지역            0\n",
              "공급유형          0\n",
              "전용면적          0\n",
              "전용면적별세대수      0\n",
              "공가수           0\n",
              "자격유형          0\n",
              "임대보증금       569\n",
              "임대료         569\n",
              "지하철         211\n",
              "버스            4\n",
              "단지내주차면수       0\n",
              "등록차량수         0\n",
              "dtype: int64"
            ]
          },
          "metadata": {},
          "execution_count": 157
        }
      ]
    },
    {
      "cell_type": "code",
      "metadata": {
        "id": "dvMYI3GKAq3R"
      },
      "source": [
        "train['임대료']=train['임대료'].fillna(0)\n",
        "test['임대료']=test['임대료'].fillna(0)\n",
        "\n",
        "train['임대보증금']=train['임대보증금'].fillna(0)\n",
        "test['임대보증금']=test['임대보증금'].fillna(0)\n",
        "\n",
        "train['지하철']=train['지하철'].fillna(0)\n",
        "test['지하철']=test['지하철'].fillna(0)\n",
        "\n",
        "train['버스']=train['버스'].fillna(0)\n",
        "test['버스']=test['버스'].fillna(0)\n"
      ],
      "execution_count": 223,
      "outputs": []
    },
    {
      "cell_type": "code",
      "metadata": {
        "colab": {
          "base_uri": "https://localhost:8080/"
        },
        "id": "wAYcC-rNLhn3",
        "outputId": "f4ea37e9-fa40-49be-dfeb-aa39b42bf2c5"
      },
      "source": [
        "test.isna().sum()"
      ],
      "execution_count": 180,
      "outputs": [
        {
          "output_type": "execute_result",
          "data": {
            "text/plain": [
              "단지코드        0\n",
              "총세대수        0\n",
              "임대건물구분      0\n",
              "지역          0\n",
              "공급유형        0\n",
              "전용면적        0\n",
              "전용면적별세대수    0\n",
              "공가수         0\n",
              "자격유형        0\n",
              "임대보증금       0\n",
              "임대료         0\n",
              "지하철         0\n",
              "버스          0\n",
              "단지내주차면수     0\n",
              "dtype: int64"
            ]
          },
          "metadata": {},
          "execution_count": 180
        }
      ]
    },
    {
      "cell_type": "code",
      "metadata": {
        "id": "CM_RSCbkL9n4"
      },
      "source": [
        "test['자격유형']=test['자격유형'].fillna('A')"
      ],
      "execution_count": 224,
      "outputs": []
    },
    {
      "cell_type": "markdown",
      "metadata": {
        "id": "mBq1mMpYBCGb"
      },
      "source": [
        "## log또는 standardscaler 적용"
      ]
    },
    {
      "cell_type": "code",
      "metadata": {
        "colab": {
          "base_uri": "https://localhost:8080/"
        },
        "id": "Ewo5acOCBEjX",
        "outputId": "331650e2-f253-4133-c00d-f86480a63a35"
      },
      "source": [
        "train.columns"
      ],
      "execution_count": 181,
      "outputs": [
        {
          "output_type": "execute_result",
          "data": {
            "text/plain": [
              "Index(['단지코드', '총세대수', '임대건물구분', '지역', '공급유형', '전용면적', '전용면적별세대수', '공가수',\n",
              "       '자격유형', '임대보증금', '임대료', '지하철', '버스', '단지내주차면수', '등록차량수'],\n",
              "      dtype='object')"
            ]
          },
          "metadata": {},
          "execution_count": 181
        }
      ]
    },
    {
      "cell_type": "code",
      "metadata": {
        "id": "5utbaME4Eg6e"
      },
      "source": [
        "unique_cols = ['총세대수', '지역', '공가수', \n",
        "               '지하철',\n",
        "               '버스',\n",
        "               '단지내주차면수', '등록차량수']\n",
        "train_agg = train.set_index('단지코드')[unique_cols].drop_duplicates()\n",
        "test_agg = test.set_index('단지코드')[[col for col in unique_cols if col!='등록차량수']].drop_duplicates()"
      ],
      "execution_count": 225,
      "outputs": []
    },
    {
      "cell_type": "code",
      "metadata": {
        "colab": {
          "base_uri": "https://localhost:8080/",
          "height": 447
        },
        "id": "OBMlKZ9SEhda",
        "outputId": "571eb588-65bf-4bd9-c277-a0f55b02c904"
      },
      "source": [
        "train_agg"
      ],
      "execution_count": 183,
      "outputs": [
        {
          "output_type": "execute_result",
          "data": {
            "text/html": [
              "<div>\n",
              "<style scoped>\n",
              "    .dataframe tbody tr th:only-of-type {\n",
              "        vertical-align: middle;\n",
              "    }\n",
              "\n",
              "    .dataframe tbody tr th {\n",
              "        vertical-align: top;\n",
              "    }\n",
              "\n",
              "    .dataframe thead th {\n",
              "        text-align: right;\n",
              "    }\n",
              "</style>\n",
              "<table border=\"1\" class=\"dataframe\">\n",
              "  <thead>\n",
              "    <tr style=\"text-align: right;\">\n",
              "      <th></th>\n",
              "      <th>총세대수</th>\n",
              "      <th>지역</th>\n",
              "      <th>공가수</th>\n",
              "      <th>지하철</th>\n",
              "      <th>버스</th>\n",
              "      <th>단지내주차면수</th>\n",
              "      <th>등록차량수</th>\n",
              "    </tr>\n",
              "    <tr>\n",
              "      <th>단지코드</th>\n",
              "      <th></th>\n",
              "      <th></th>\n",
              "      <th></th>\n",
              "      <th></th>\n",
              "      <th></th>\n",
              "      <th></th>\n",
              "      <th></th>\n",
              "    </tr>\n",
              "  </thead>\n",
              "  <tbody>\n",
              "    <tr>\n",
              "      <th>C2483</th>\n",
              "      <td>900</td>\n",
              "      <td>3</td>\n",
              "      <td>38.0</td>\n",
              "      <td>0.0</td>\n",
              "      <td>3.0</td>\n",
              "      <td>1425.0</td>\n",
              "      <td>1015.0</td>\n",
              "    </tr>\n",
              "    <tr>\n",
              "      <th>C2515</th>\n",
              "      <td>545</td>\n",
              "      <td>2</td>\n",
              "      <td>17.0</td>\n",
              "      <td>0.0</td>\n",
              "      <td>3.0</td>\n",
              "      <td>624.0</td>\n",
              "      <td>205.0</td>\n",
              "    </tr>\n",
              "    <tr>\n",
              "      <th>C1407</th>\n",
              "      <td>1216</td>\n",
              "      <td>6</td>\n",
              "      <td>13.0</td>\n",
              "      <td>1.0</td>\n",
              "      <td>1.0</td>\n",
              "      <td>1285.0</td>\n",
              "      <td>1064.0</td>\n",
              "    </tr>\n",
              "    <tr>\n",
              "      <th>C1945</th>\n",
              "      <td>755</td>\n",
              "      <td>1</td>\n",
              "      <td>6.0</td>\n",
              "      <td>1.0</td>\n",
              "      <td>3.0</td>\n",
              "      <td>734.0</td>\n",
              "      <td>730.0</td>\n",
              "    </tr>\n",
              "    <tr>\n",
              "      <th>C1470</th>\n",
              "      <td>696</td>\n",
              "      <td>12</td>\n",
              "      <td>14.0</td>\n",
              "      <td>0.0</td>\n",
              "      <td>2.0</td>\n",
              "      <td>645.0</td>\n",
              "      <td>553.0</td>\n",
              "    </tr>\n",
              "    <tr>\n",
              "      <th>...</th>\n",
              "      <td>...</td>\n",
              "      <td>...</td>\n",
              "      <td>...</td>\n",
              "      <td>...</td>\n",
              "      <td>...</td>\n",
              "      <td>...</td>\n",
              "      <td>...</td>\n",
              "    </tr>\n",
              "    <tr>\n",
              "      <th>C2586</th>\n",
              "      <td>90</td>\n",
              "      <td>13</td>\n",
              "      <td>7.0</td>\n",
              "      <td>0.0</td>\n",
              "      <td>3.0</td>\n",
              "      <td>66.0</td>\n",
              "      <td>57.0</td>\n",
              "    </tr>\n",
              "    <tr>\n",
              "      <th>C2035</th>\n",
              "      <td>492</td>\n",
              "      <td>0</td>\n",
              "      <td>24.0</td>\n",
              "      <td>0.0</td>\n",
              "      <td>1.0</td>\n",
              "      <td>521.0</td>\n",
              "      <td>246.0</td>\n",
              "    </tr>\n",
              "    <tr>\n",
              "      <th>C2020</th>\n",
              "      <td>40</td>\n",
              "      <td>7</td>\n",
              "      <td>7.0</td>\n",
              "      <td>1.0</td>\n",
              "      <td>2.0</td>\n",
              "      <td>25.0</td>\n",
              "      <td>19.0</td>\n",
              "    </tr>\n",
              "    <tr>\n",
              "      <th>C2437</th>\n",
              "      <td>90</td>\n",
              "      <td>15</td>\n",
              "      <td>12.0</td>\n",
              "      <td>0.0</td>\n",
              "      <td>1.0</td>\n",
              "      <td>30.0</td>\n",
              "      <td>16.0</td>\n",
              "    </tr>\n",
              "    <tr>\n",
              "      <th>C2532</th>\n",
              "      <td>239</td>\n",
              "      <td>0</td>\n",
              "      <td>7.0</td>\n",
              "      <td>0.0</td>\n",
              "      <td>1.0</td>\n",
              "      <td>166.0</td>\n",
              "      <td>146.0</td>\n",
              "    </tr>\n",
              "  </tbody>\n",
              "</table>\n",
              "<p>423 rows × 7 columns</p>\n",
              "</div>"
            ],
            "text/plain": [
              "       총세대수  지역   공가수  지하철   버스  단지내주차면수   등록차량수\n",
              "단지코드                                            \n",
              "C2483   900   3  38.0  0.0  3.0   1425.0  1015.0\n",
              "C2515   545   2  17.0  0.0  3.0    624.0   205.0\n",
              "C1407  1216   6  13.0  1.0  1.0   1285.0  1064.0\n",
              "C1945   755   1   6.0  1.0  3.0    734.0   730.0\n",
              "C1470   696  12  14.0  0.0  2.0    645.0   553.0\n",
              "...     ...  ..   ...  ...  ...      ...     ...\n",
              "C2586    90  13   7.0  0.0  3.0     66.0    57.0\n",
              "C2035   492   0  24.0  0.0  1.0    521.0   246.0\n",
              "C2020    40   7   7.0  1.0  2.0     25.0    19.0\n",
              "C2437    90  15  12.0  0.0  1.0     30.0    16.0\n",
              "C2532   239   0   7.0  0.0  1.0    166.0   146.0\n",
              "\n",
              "[423 rows x 7 columns]"
            ]
          },
          "metadata": {},
          "execution_count": 183
        }
      ]
    },
    {
      "cell_type": "markdown",
      "metadata": {
        "id": "JsbWtokCFuuw"
      },
      "source": [
        "### '전용면적별세대수''임대보증금', '임대료' 컬럼 만들기"
      ]
    },
    {
      "cell_type": "code",
      "metadata": {
        "colab": {
          "base_uri": "https://localhost:8080/"
        },
        "id": "08h9k2NcME79",
        "outputId": "e57dfa86-faf0-40cc-cae5-485498aef83d"
      },
      "source": [
        "train.info()"
      ],
      "execution_count": 184,
      "outputs": [
        {
          "output_type": "stream",
          "name": "stdout",
          "text": [
            "<class 'pandas.core.frame.DataFrame'>\n",
            "RangeIndex: 2952 entries, 0 to 2951\n",
            "Data columns (total 15 columns):\n",
            " #   Column    Non-Null Count  Dtype  \n",
            "---  ------    --------------  -----  \n",
            " 0   단지코드      2952 non-null   object \n",
            " 1   총세대수      2952 non-null   int64  \n",
            " 2   임대건물구분    2952 non-null   object \n",
            " 3   지역        2952 non-null   int64  \n",
            " 4   공급유형      2952 non-null   object \n",
            " 5   전용면적      2952 non-null   float64\n",
            " 6   전용면적별세대수  2952 non-null   int64  \n",
            " 7   공가수       2952 non-null   float64\n",
            " 8   자격유형      2952 non-null   object \n",
            " 9   임대보증금     2952 non-null   float64\n",
            " 10  임대료       2952 non-null   float64\n",
            " 11  지하철       2952 non-null   float64\n",
            " 12  버스        2952 non-null   float64\n",
            " 13  단지내주차면수   2952 non-null   float64\n",
            " 14  등록차량수     2952 non-null   float64\n",
            "dtypes: float64(8), int64(3), object(4)\n",
            "memory usage: 346.1+ KB\n"
          ]
        }
      ]
    },
    {
      "cell_type": "code",
      "metadata": {
        "colab": {
          "base_uri": "https://localhost:8080/"
        },
        "id": "o8VHq0JHMIWM",
        "outputId": "22050f4f-1339-4769-b5e4-d04e4c4a3f4f"
      },
      "source": [
        "train['임대료'].astype(int)\n",
        "test['임대료'].astype(int)\n",
        "\n",
        "train['임대보증금'].astype(int)\n",
        "test['임대보증금'].astype(int)"
      ],
      "execution_count": 185,
      "outputs": [
        {
          "output_type": "execute_result",
          "data": {
            "text/plain": [
              "0       22830000\n",
              "1       36048000\n",
              "2       36048000\n",
              "3       36048000\n",
              "4       43497000\n",
              "          ...   \n",
              "1017           0\n",
              "1018     6872000\n",
              "1019     6872000\n",
              "1020    13410000\n",
              "1021    18689000\n",
              "Name: 임대보증금, Length: 1022, dtype: int64"
            ]
          },
          "metadata": {},
          "execution_count": 185
        }
      ]
    },
    {
      "cell_type": "code",
      "metadata": {
        "id": "kaw5jU4QEuZw"
      },
      "source": [
        "trainm = train.groupby(['단지코드']).mean() \n",
        "testm = test.groupby(['단지코드']).mean()"
      ],
      "execution_count": 226,
      "outputs": []
    },
    {
      "cell_type": "code",
      "metadata": {
        "colab": {
          "base_uri": "https://localhost:8080/",
          "height": 447
        },
        "id": "Q0mZcEYfJUTe",
        "outputId": "000c2a60-3936-408e-e07b-a6a32e82400c"
      },
      "source": [
        "trainm"
      ],
      "execution_count": 187,
      "outputs": [
        {
          "output_type": "execute_result",
          "data": {
            "text/html": [
              "<div>\n",
              "<style scoped>\n",
              "    .dataframe tbody tr th:only-of-type {\n",
              "        vertical-align: middle;\n",
              "    }\n",
              "\n",
              "    .dataframe tbody tr th {\n",
              "        vertical-align: top;\n",
              "    }\n",
              "\n",
              "    .dataframe thead th {\n",
              "        text-align: right;\n",
              "    }\n",
              "</style>\n",
              "<table border=\"1\" class=\"dataframe\">\n",
              "  <thead>\n",
              "    <tr style=\"text-align: right;\">\n",
              "      <th></th>\n",
              "      <th>총세대수</th>\n",
              "      <th>지역</th>\n",
              "      <th>전용면적</th>\n",
              "      <th>전용면적별세대수</th>\n",
              "      <th>공가수</th>\n",
              "      <th>임대보증금</th>\n",
              "      <th>임대료</th>\n",
              "      <th>지하철</th>\n",
              "      <th>버스</th>\n",
              "      <th>단지내주차면수</th>\n",
              "      <th>등록차량수</th>\n",
              "    </tr>\n",
              "    <tr>\n",
              "      <th>단지코드</th>\n",
              "      <th></th>\n",
              "      <th></th>\n",
              "      <th></th>\n",
              "      <th></th>\n",
              "      <th></th>\n",
              "      <th></th>\n",
              "      <th></th>\n",
              "      <th></th>\n",
              "      <th></th>\n",
              "      <th></th>\n",
              "      <th></th>\n",
              "    </tr>\n",
              "  </thead>\n",
              "  <tbody>\n",
              "    <tr>\n",
              "      <th>C1000</th>\n",
              "      <td>566.0</td>\n",
              "      <td>15.0</td>\n",
              "      <td>45.218571</td>\n",
              "      <td>80.857143</td>\n",
              "      <td>10.0</td>\n",
              "      <td>1.320357e+07</td>\n",
              "      <td>121064.285714</td>\n",
              "      <td>0.0</td>\n",
              "      <td>1.0</td>\n",
              "      <td>438.0</td>\n",
              "      <td>481.0</td>\n",
              "    </tr>\n",
              "    <tr>\n",
              "      <th>C1004</th>\n",
              "      <td>521.0</td>\n",
              "      <td>14.0</td>\n",
              "      <td>39.136842</td>\n",
              "      <td>27.421053</td>\n",
              "      <td>3.0</td>\n",
              "      <td>4.952632e+05</td>\n",
              "      <td>11020.526316</td>\n",
              "      <td>0.0</td>\n",
              "      <td>2.0</td>\n",
              "      <td>153.0</td>\n",
              "      <td>93.0</td>\n",
              "    </tr>\n",
              "    <tr>\n",
              "      <th>C1005</th>\n",
              "      <td>1144.0</td>\n",
              "      <td>14.0</td>\n",
              "      <td>54.360000</td>\n",
              "      <td>381.333333</td>\n",
              "      <td>16.0</td>\n",
              "      <td>1.710767e+07</td>\n",
              "      <td>222046.666667</td>\n",
              "      <td>0.0</td>\n",
              "      <td>8.0</td>\n",
              "      <td>950.0</td>\n",
              "      <td>376.0</td>\n",
              "    </tr>\n",
              "    <tr>\n",
              "      <th>C1013</th>\n",
              "      <td>1308.0</td>\n",
              "      <td>4.0</td>\n",
              "      <td>46.142000</td>\n",
              "      <td>261.600000</td>\n",
              "      <td>16.0</td>\n",
              "      <td>2.492480e+07</td>\n",
              "      <td>134726.000000</td>\n",
              "      <td>0.0</td>\n",
              "      <td>6.0</td>\n",
              "      <td>1119.0</td>\n",
              "      <td>1665.0</td>\n",
              "    </tr>\n",
              "    <tr>\n",
              "      <th>C1014</th>\n",
              "      <td>996.0</td>\n",
              "      <td>12.0</td>\n",
              "      <td>49.232857</td>\n",
              "      <td>142.285714</td>\n",
              "      <td>5.0</td>\n",
              "      <td>2.389400e+07</td>\n",
              "      <td>160488.571429</td>\n",
              "      <td>0.0</td>\n",
              "      <td>2.0</td>\n",
              "      <td>823.0</td>\n",
              "      <td>708.0</td>\n",
              "    </tr>\n",
              "    <tr>\n",
              "      <th>...</th>\n",
              "      <td>...</td>\n",
              "      <td>...</td>\n",
              "      <td>...</td>\n",
              "      <td>...</td>\n",
              "      <td>...</td>\n",
              "      <td>...</td>\n",
              "      <td>...</td>\n",
              "      <td>...</td>\n",
              "      <td>...</td>\n",
              "      <td>...</td>\n",
              "      <td>...</td>\n",
              "    </tr>\n",
              "    <tr>\n",
              "      <th>C2663</th>\n",
              "      <td>772.0</td>\n",
              "      <td>1.0</td>\n",
              "      <td>41.005000</td>\n",
              "      <td>128.666667</td>\n",
              "      <td>14.0</td>\n",
              "      <td>3.025867e+07</td>\n",
              "      <td>269070.000000</td>\n",
              "      <td>0.0</td>\n",
              "      <td>3.0</td>\n",
              "      <td>700.0</td>\n",
              "      <td>652.0</td>\n",
              "    </tr>\n",
              "    <tr>\n",
              "      <th>C2666</th>\n",
              "      <td>1084.0</td>\n",
              "      <td>7.0</td>\n",
              "      <td>43.258333</td>\n",
              "      <td>180.666667</td>\n",
              "      <td>23.0</td>\n",
              "      <td>1.889050e+07</td>\n",
              "      <td>133145.000000</td>\n",
              "      <td>0.0</td>\n",
              "      <td>1.0</td>\n",
              "      <td>837.0</td>\n",
              "      <td>701.0</td>\n",
              "    </tr>\n",
              "    <tr>\n",
              "      <th>C2670</th>\n",
              "      <td>648.0</td>\n",
              "      <td>12.0</td>\n",
              "      <td>40.918000</td>\n",
              "      <td>129.600000</td>\n",
              "      <td>9.0</td>\n",
              "      <td>1.635000e+07</td>\n",
              "      <td>115188.000000</td>\n",
              "      <td>0.0</td>\n",
              "      <td>2.0</td>\n",
              "      <td>600.0</td>\n",
              "      <td>435.0</td>\n",
              "    </tr>\n",
              "    <tr>\n",
              "      <th>C2680</th>\n",
              "      <td>758.0</td>\n",
              "      <td>2.0</td>\n",
              "      <td>43.350000</td>\n",
              "      <td>252.666667</td>\n",
              "      <td>19.0</td>\n",
              "      <td>2.360633e+07</td>\n",
              "      <td>129816.666667</td>\n",
              "      <td>0.0</td>\n",
              "      <td>7.0</td>\n",
              "      <td>564.0</td>\n",
              "      <td>590.0</td>\n",
              "    </tr>\n",
              "    <tr>\n",
              "      <th>C2692</th>\n",
              "      <td>499.0</td>\n",
              "      <td>3.0</td>\n",
              "      <td>43.570000</td>\n",
              "      <td>99.800000</td>\n",
              "      <td>19.0</td>\n",
              "      <td>1.579360e+07</td>\n",
              "      <td>117848.000000</td>\n",
              "      <td>0.0</td>\n",
              "      <td>2.0</td>\n",
              "      <td>409.0</td>\n",
              "      <td>437.0</td>\n",
              "    </tr>\n",
              "  </tbody>\n",
              "</table>\n",
              "<p>423 rows × 11 columns</p>\n",
              "</div>"
            ],
            "text/plain": [
              "         총세대수    지역       전용면적    전용면적별세대수  ...  지하철   버스  단지내주차면수   등록차량수\n",
              "단지코드                                        ...                           \n",
              "C1000   566.0  15.0  45.218571   80.857143  ...  0.0  1.0    438.0   481.0\n",
              "C1004   521.0  14.0  39.136842   27.421053  ...  0.0  2.0    153.0    93.0\n",
              "C1005  1144.0  14.0  54.360000  381.333333  ...  0.0  8.0    950.0   376.0\n",
              "C1013  1308.0   4.0  46.142000  261.600000  ...  0.0  6.0   1119.0  1665.0\n",
              "C1014   996.0  12.0  49.232857  142.285714  ...  0.0  2.0    823.0   708.0\n",
              "...       ...   ...        ...         ...  ...  ...  ...      ...     ...\n",
              "C2663   772.0   1.0  41.005000  128.666667  ...  0.0  3.0    700.0   652.0\n",
              "C2666  1084.0   7.0  43.258333  180.666667  ...  0.0  1.0    837.0   701.0\n",
              "C2670   648.0  12.0  40.918000  129.600000  ...  0.0  2.0    600.0   435.0\n",
              "C2680   758.0   2.0  43.350000  252.666667  ...  0.0  7.0    564.0   590.0\n",
              "C2692   499.0   3.0  43.570000   99.800000  ...  0.0  2.0    409.0   437.0\n",
              "\n",
              "[423 rows x 11 columns]"
            ]
          },
          "metadata": {},
          "execution_count": 187
        }
      ]
    },
    {
      "cell_type": "code",
      "metadata": {
        "id": "tKVrh6NZFpad"
      },
      "source": [
        "train_agg['임대료']=trainm['임대료']\n",
        "test_agg['임대료']=testm['임대료']\n",
        "\n",
        "train_agg['임대보증금']=trainm['임대보증금']\n",
        "test_agg['임대보증금']=testm['임대보증금']\n",
        "\n",
        "train_agg['전용면적별세대수']=trainm['전용면적별세대수']\n",
        "test_agg['전용면적별세대수']=testm['전용면적별세대수']"
      ],
      "execution_count": 227,
      "outputs": []
    },
    {
      "cell_type": "code",
      "metadata": {
        "colab": {
          "base_uri": "https://localhost:8080/",
          "height": 234
        },
        "id": "O8hMn_TFIgXF",
        "outputId": "12abc429-1e9b-4cfb-a465-98f56eee9b74"
      },
      "source": [
        "train_agg.head()"
      ],
      "execution_count": 189,
      "outputs": [
        {
          "output_type": "execute_result",
          "data": {
            "text/html": [
              "<div>\n",
              "<style scoped>\n",
              "    .dataframe tbody tr th:only-of-type {\n",
              "        vertical-align: middle;\n",
              "    }\n",
              "\n",
              "    .dataframe tbody tr th {\n",
              "        vertical-align: top;\n",
              "    }\n",
              "\n",
              "    .dataframe thead th {\n",
              "        text-align: right;\n",
              "    }\n",
              "</style>\n",
              "<table border=\"1\" class=\"dataframe\">\n",
              "  <thead>\n",
              "    <tr style=\"text-align: right;\">\n",
              "      <th></th>\n",
              "      <th>총세대수</th>\n",
              "      <th>지역</th>\n",
              "      <th>공가수</th>\n",
              "      <th>지하철</th>\n",
              "      <th>버스</th>\n",
              "      <th>단지내주차면수</th>\n",
              "      <th>등록차량수</th>\n",
              "      <th>임대료</th>\n",
              "      <th>임대보증금</th>\n",
              "      <th>전용면적별세대수</th>\n",
              "    </tr>\n",
              "    <tr>\n",
              "      <th>단지코드</th>\n",
              "      <th></th>\n",
              "      <th></th>\n",
              "      <th></th>\n",
              "      <th></th>\n",
              "      <th></th>\n",
              "      <th></th>\n",
              "      <th></th>\n",
              "      <th></th>\n",
              "      <th></th>\n",
              "      <th></th>\n",
              "    </tr>\n",
              "  </thead>\n",
              "  <tbody>\n",
              "    <tr>\n",
              "      <th>C2483</th>\n",
              "      <td>900</td>\n",
              "      <td>3</td>\n",
              "      <td>38.0</td>\n",
              "      <td>0.0</td>\n",
              "      <td>3.0</td>\n",
              "      <td>1425.0</td>\n",
              "      <td>1015.0</td>\n",
              "      <td>167910.000000</td>\n",
              "      <td>2.477638e+07</td>\n",
              "      <td>112.500000</td>\n",
              "    </tr>\n",
              "    <tr>\n",
              "      <th>C2515</th>\n",
              "      <td>545</td>\n",
              "      <td>2</td>\n",
              "      <td>17.0</td>\n",
              "      <td>0.0</td>\n",
              "      <td>3.0</td>\n",
              "      <td>624.0</td>\n",
              "      <td>205.0</td>\n",
              "      <td>139557.142857</td>\n",
              "      <td>1.678714e+07</td>\n",
              "      <td>77.857143</td>\n",
              "    </tr>\n",
              "    <tr>\n",
              "      <th>C1407</th>\n",
              "      <td>1216</td>\n",
              "      <td>6</td>\n",
              "      <td>13.0</td>\n",
              "      <td>1.0</td>\n",
              "      <td>1.0</td>\n",
              "      <td>1285.0</td>\n",
              "      <td>1064.0</td>\n",
              "      <td>176730.000000</td>\n",
              "      <td>2.851055e+07</td>\n",
              "      <td>110.545455</td>\n",
              "    </tr>\n",
              "    <tr>\n",
              "      <th>C1945</th>\n",
              "      <td>755</td>\n",
              "      <td>1</td>\n",
              "      <td>6.0</td>\n",
              "      <td>1.0</td>\n",
              "      <td>3.0</td>\n",
              "      <td>734.0</td>\n",
              "      <td>730.0</td>\n",
              "      <td>189106.666667</td>\n",
              "      <td>2.265167e+07</td>\n",
              "      <td>125.833333</td>\n",
              "    </tr>\n",
              "    <tr>\n",
              "      <th>C1470</th>\n",
              "      <td>696</td>\n",
              "      <td>12</td>\n",
              "      <td>14.0</td>\n",
              "      <td>0.0</td>\n",
              "      <td>2.0</td>\n",
              "      <td>645.0</td>\n",
              "      <td>553.0</td>\n",
              "      <td>120150.000000</td>\n",
              "      <td>1.772275e+07</td>\n",
              "      <td>174.000000</td>\n",
              "    </tr>\n",
              "  </tbody>\n",
              "</table>\n",
              "</div>"
            ],
            "text/plain": [
              "       총세대수  지역   공가수  지하철  ...   등록차량수            임대료         임대보증금    전용면적별세대수\n",
              "단지코드                        ...                                                 \n",
              "C2483   900   3  38.0  0.0  ...  1015.0  167910.000000  2.477638e+07  112.500000\n",
              "C2515   545   2  17.0  0.0  ...   205.0  139557.142857  1.678714e+07   77.857143\n",
              "C1407  1216   6  13.0  1.0  ...  1064.0  176730.000000  2.851055e+07  110.545455\n",
              "C1945   755   1   6.0  1.0  ...   730.0  189106.666667  2.265167e+07  125.833333\n",
              "C1470   696  12  14.0  0.0  ...   553.0  120150.000000  1.772275e+07  174.000000\n",
              "\n",
              "[5 rows x 10 columns]"
            ]
          },
          "metadata": {},
          "execution_count": 189
        }
      ]
    },
    {
      "cell_type": "code",
      "metadata": {
        "colab": {
          "base_uri": "https://localhost:8080/",
          "height": 234
        },
        "id": "IRe9D0lIM6xp",
        "outputId": "7761aa8a-61f2-4ac4-a009-a24f44e85c4e"
      },
      "source": [
        "test_agg.head()"
      ],
      "execution_count": 190,
      "outputs": [
        {
          "output_type": "execute_result",
          "data": {
            "text/html": [
              "<div>\n",
              "<style scoped>\n",
              "    .dataframe tbody tr th:only-of-type {\n",
              "        vertical-align: middle;\n",
              "    }\n",
              "\n",
              "    .dataframe tbody tr th {\n",
              "        vertical-align: top;\n",
              "    }\n",
              "\n",
              "    .dataframe thead th {\n",
              "        text-align: right;\n",
              "    }\n",
              "</style>\n",
              "<table border=\"1\" class=\"dataframe\">\n",
              "  <thead>\n",
              "    <tr style=\"text-align: right;\">\n",
              "      <th></th>\n",
              "      <th>총세대수</th>\n",
              "      <th>지역</th>\n",
              "      <th>공가수</th>\n",
              "      <th>지하철</th>\n",
              "      <th>버스</th>\n",
              "      <th>단지내주차면수</th>\n",
              "      <th>임대료</th>\n",
              "      <th>임대보증금</th>\n",
              "      <th>전용면적별세대수</th>\n",
              "    </tr>\n",
              "    <tr>\n",
              "      <th>단지코드</th>\n",
              "      <th></th>\n",
              "      <th></th>\n",
              "      <th></th>\n",
              "      <th></th>\n",
              "      <th></th>\n",
              "      <th></th>\n",
              "      <th></th>\n",
              "      <th></th>\n",
              "      <th></th>\n",
              "    </tr>\n",
              "  </thead>\n",
              "  <tbody>\n",
              "    <tr>\n",
              "      <th>C1072</th>\n",
              "      <td>754</td>\n",
              "      <td>1</td>\n",
              "      <td>14.0</td>\n",
              "      <td>0.0</td>\n",
              "      <td>2.0</td>\n",
              "      <td>683.0</td>\n",
              "      <td>265843.750000</td>\n",
              "      <td>3.812025e+07</td>\n",
              "      <td>94.250000</td>\n",
              "    </tr>\n",
              "    <tr>\n",
              "      <th>C1128</th>\n",
              "      <td>1354</td>\n",
              "      <td>1</td>\n",
              "      <td>9.0</td>\n",
              "      <td>0.0</td>\n",
              "      <td>3.0</td>\n",
              "      <td>1216.0</td>\n",
              "      <td>245516.666667</td>\n",
              "      <td>3.412500e+07</td>\n",
              "      <td>150.444444</td>\n",
              "    </tr>\n",
              "    <tr>\n",
              "      <th>C1456</th>\n",
              "      <td>619</td>\n",
              "      <td>7</td>\n",
              "      <td>18.0</td>\n",
              "      <td>0.0</td>\n",
              "      <td>16.0</td>\n",
              "      <td>547.0</td>\n",
              "      <td>223624.444444</td>\n",
              "      <td>3.396522e+07</td>\n",
              "      <td>68.777778</td>\n",
              "    </tr>\n",
              "    <tr>\n",
              "      <th>C1840</th>\n",
              "      <td>593</td>\n",
              "      <td>11</td>\n",
              "      <td>7.0</td>\n",
              "      <td>0.0</td>\n",
              "      <td>3.0</td>\n",
              "      <td>543.0</td>\n",
              "      <td>123150.000000</td>\n",
              "      <td>1.892425e+07</td>\n",
              "      <td>148.250000</td>\n",
              "    </tr>\n",
              "    <tr>\n",
              "      <th>C1332</th>\n",
              "      <td>1297</td>\n",
              "      <td>1</td>\n",
              "      <td>11.0</td>\n",
              "      <td>0.0</td>\n",
              "      <td>2.0</td>\n",
              "      <td>1112.0</td>\n",
              "      <td>292880.000000</td>\n",
              "      <td>4.133450e+07</td>\n",
              "      <td>162.125000</td>\n",
              "    </tr>\n",
              "  </tbody>\n",
              "</table>\n",
              "</div>"
            ],
            "text/plain": [
              "       총세대수  지역   공가수  지하철  ...  단지내주차면수            임대료         임대보증금    전용면적별세대수\n",
              "단지코드                        ...                                                  \n",
              "C1072   754   1  14.0  0.0  ...    683.0  265843.750000  3.812025e+07   94.250000\n",
              "C1128  1354   1   9.0  0.0  ...   1216.0  245516.666667  3.412500e+07  150.444444\n",
              "C1456   619   7  18.0  0.0  ...    547.0  223624.444444  3.396522e+07   68.777778\n",
              "C1840   593  11   7.0  0.0  ...    543.0  123150.000000  1.892425e+07  148.250000\n",
              "C1332  1297   1  11.0  0.0  ...   1112.0  292880.000000  4.133450e+07  162.125000\n",
              "\n",
              "[5 rows x 9 columns]"
            ]
          },
          "metadata": {},
          "execution_count": 190
        }
      ]
    },
    {
      "cell_type": "markdown",
      "metadata": {
        "id": "D7WH3pfZNHZi"
      },
      "source": [
        "### log 적용"
      ]
    },
    {
      "cell_type": "code",
      "metadata": {
        "id": "9QOp-3TmM-7L"
      },
      "source": [
        "def get_preprocessed_df(df=None):\n",
        "  df_copy=df.copy()\n",
        "  log1=np.log1p(df_copy['임대료'])\n",
        "  log2=np.log1p(df_copy['임대보증금'])\n",
        "  df_copy.insert(0,'임대료_s',log1)\n",
        "  df_copy.insert(0,'임대보증금_s',log2)\n",
        "  df_copy.drop(['임대료','임대보증금'],axis=1,inplace=True)\n",
        "  return df_copy"
      ],
      "execution_count": 228,
      "outputs": []
    },
    {
      "cell_type": "code",
      "metadata": {
        "id": "MNxmuzs2OE5h"
      },
      "source": [
        "train_agg=get_preprocessed_df(train_agg)\n"
      ],
      "execution_count": 229,
      "outputs": []
    },
    {
      "cell_type": "code",
      "metadata": {
        "id": "Ok03Sz_jPd8x"
      },
      "source": [
        "test_agg=get_preprocessed_df(test_agg)"
      ],
      "execution_count": 230,
      "outputs": []
    },
    {
      "cell_type": "code",
      "metadata": {
        "id": "9knEZYDROJis"
      },
      "source": [
        "X_train = train_agg.drop('등록차량수',axis=1)\n",
        "y_train = train_agg['등록차량수']\n",
        "X_test=test_agg"
      ],
      "execution_count": 235,
      "outputs": []
    },
    {
      "cell_type": "code",
      "metadata": {
        "colab": {
          "base_uri": "https://localhost:8080/",
          "height": 447
        },
        "id": "sZQDaDqxPCPB",
        "outputId": "8399d9b8-f20f-427c-8cfa-e3c31c062eb5"
      },
      "source": [
        "X_train"
      ],
      "execution_count": 236,
      "outputs": [
        {
          "output_type": "execute_result",
          "data": {
            "text/html": [
              "<div>\n",
              "<style scoped>\n",
              "    .dataframe tbody tr th:only-of-type {\n",
              "        vertical-align: middle;\n",
              "    }\n",
              "\n",
              "    .dataframe tbody tr th {\n",
              "        vertical-align: top;\n",
              "    }\n",
              "\n",
              "    .dataframe thead th {\n",
              "        text-align: right;\n",
              "    }\n",
              "</style>\n",
              "<table border=\"1\" class=\"dataframe\">\n",
              "  <thead>\n",
              "    <tr style=\"text-align: right;\">\n",
              "      <th></th>\n",
              "      <th>임대보증금_s</th>\n",
              "      <th>임대료_s</th>\n",
              "      <th>총세대수</th>\n",
              "      <th>지역</th>\n",
              "      <th>공가수</th>\n",
              "      <th>지하철</th>\n",
              "      <th>버스</th>\n",
              "      <th>단지내주차면수</th>\n",
              "      <th>전용면적별세대수</th>\n",
              "    </tr>\n",
              "    <tr>\n",
              "      <th>단지코드</th>\n",
              "      <th></th>\n",
              "      <th></th>\n",
              "      <th></th>\n",
              "      <th></th>\n",
              "      <th></th>\n",
              "      <th></th>\n",
              "      <th></th>\n",
              "      <th></th>\n",
              "      <th></th>\n",
              "    </tr>\n",
              "  </thead>\n",
              "  <tbody>\n",
              "    <tr>\n",
              "      <th>C2483</th>\n",
              "      <td>17.025401</td>\n",
              "      <td>12.031189</td>\n",
              "      <td>900</td>\n",
              "      <td>3</td>\n",
              "      <td>38.0</td>\n",
              "      <td>0.0</td>\n",
              "      <td>3.0</td>\n",
              "      <td>1425.0</td>\n",
              "      <td>112.500000</td>\n",
              "    </tr>\n",
              "    <tr>\n",
              "      <th>C2515</th>\n",
              "      <td>16.636124</td>\n",
              "      <td>11.846237</td>\n",
              "      <td>545</td>\n",
              "      <td>2</td>\n",
              "      <td>17.0</td>\n",
              "      <td>0.0</td>\n",
              "      <td>3.0</td>\n",
              "      <td>624.0</td>\n",
              "      <td>77.857143</td>\n",
              "    </tr>\n",
              "    <tr>\n",
              "      <th>C1407</th>\n",
              "      <td>17.165785</td>\n",
              "      <td>12.082384</td>\n",
              "      <td>1216</td>\n",
              "      <td>6</td>\n",
              "      <td>13.0</td>\n",
              "      <td>1.0</td>\n",
              "      <td>1.0</td>\n",
              "      <td>1285.0</td>\n",
              "      <td>110.545455</td>\n",
              "    </tr>\n",
              "    <tr>\n",
              "      <th>C1945</th>\n",
              "      <td>16.935744</td>\n",
              "      <td>12.150072</td>\n",
              "      <td>755</td>\n",
              "      <td>1</td>\n",
              "      <td>6.0</td>\n",
              "      <td>1.0</td>\n",
              "      <td>3.0</td>\n",
              "      <td>734.0</td>\n",
              "      <td>125.833333</td>\n",
              "    </tr>\n",
              "    <tr>\n",
              "      <th>C1470</th>\n",
              "      <td>16.690360</td>\n",
              "      <td>11.696505</td>\n",
              "      <td>696</td>\n",
              "      <td>12</td>\n",
              "      <td>14.0</td>\n",
              "      <td>0.0</td>\n",
              "      <td>2.0</td>\n",
              "      <td>645.0</td>\n",
              "      <td>174.000000</td>\n",
              "    </tr>\n",
              "    <tr>\n",
              "      <th>...</th>\n",
              "      <td>...</td>\n",
              "      <td>...</td>\n",
              "      <td>...</td>\n",
              "      <td>...</td>\n",
              "      <td>...</td>\n",
              "      <td>...</td>\n",
              "      <td>...</td>\n",
              "      <td>...</td>\n",
              "      <td>...</td>\n",
              "    </tr>\n",
              "    <tr>\n",
              "      <th>C2586</th>\n",
              "      <td>17.079742</td>\n",
              "      <td>11.618915</td>\n",
              "      <td>90</td>\n",
              "      <td>13</td>\n",
              "      <td>7.0</td>\n",
              "      <td>0.0</td>\n",
              "      <td>3.0</td>\n",
              "      <td>66.0</td>\n",
              "      <td>18.000000</td>\n",
              "    </tr>\n",
              "    <tr>\n",
              "      <th>C2035</th>\n",
              "      <td>16.571080</td>\n",
              "      <td>11.975407</td>\n",
              "      <td>492</td>\n",
              "      <td>0</td>\n",
              "      <td>24.0</td>\n",
              "      <td>0.0</td>\n",
              "      <td>1.0</td>\n",
              "      <td>521.0</td>\n",
              "      <td>98.400000</td>\n",
              "    </tr>\n",
              "    <tr>\n",
              "      <th>C2020</th>\n",
              "      <td>17.152466</td>\n",
              "      <td>11.820246</td>\n",
              "      <td>40</td>\n",
              "      <td>7</td>\n",
              "      <td>7.0</td>\n",
              "      <td>1.0</td>\n",
              "      <td>2.0</td>\n",
              "      <td>25.0</td>\n",
              "      <td>13.333333</td>\n",
              "    </tr>\n",
              "    <tr>\n",
              "      <th>C2437</th>\n",
              "      <td>16.152111</td>\n",
              "      <td>11.585534</td>\n",
              "      <td>90</td>\n",
              "      <td>15</td>\n",
              "      <td>12.0</td>\n",
              "      <td>0.0</td>\n",
              "      <td>1.0</td>\n",
              "      <td>30.0</td>\n",
              "      <td>90.000000</td>\n",
              "    </tr>\n",
              "    <tr>\n",
              "      <th>C2532</th>\n",
              "      <td>16.399973</td>\n",
              "      <td>11.813210</td>\n",
              "      <td>239</td>\n",
              "      <td>0</td>\n",
              "      <td>7.0</td>\n",
              "      <td>0.0</td>\n",
              "      <td>1.0</td>\n",
              "      <td>166.0</td>\n",
              "      <td>39.833333</td>\n",
              "    </tr>\n",
              "  </tbody>\n",
              "</table>\n",
              "<p>423 rows × 9 columns</p>\n",
              "</div>"
            ],
            "text/plain": [
              "         임대보증금_s      임대료_s  총세대수  지역   공가수  지하철   버스  단지내주차면수    전용면적별세대수\n",
              "단지코드                                                                      \n",
              "C2483  17.025401  12.031189   900   3  38.0  0.0  3.0   1425.0  112.500000\n",
              "C2515  16.636124  11.846237   545   2  17.0  0.0  3.0    624.0   77.857143\n",
              "C1407  17.165785  12.082384  1216   6  13.0  1.0  1.0   1285.0  110.545455\n",
              "C1945  16.935744  12.150072   755   1   6.0  1.0  3.0    734.0  125.833333\n",
              "C1470  16.690360  11.696505   696  12  14.0  0.0  2.0    645.0  174.000000\n",
              "...          ...        ...   ...  ..   ...  ...  ...      ...         ...\n",
              "C2586  17.079742  11.618915    90  13   7.0  0.0  3.0     66.0   18.000000\n",
              "C2035  16.571080  11.975407   492   0  24.0  0.0  1.0    521.0   98.400000\n",
              "C2020  17.152466  11.820246    40   7   7.0  1.0  2.0     25.0   13.333333\n",
              "C2437  16.152111  11.585534    90  15  12.0  0.0  1.0     30.0   90.000000\n",
              "C2532  16.399973  11.813210   239   0   7.0  0.0  1.0    166.0   39.833333\n",
              "\n",
              "[423 rows x 9 columns]"
            ]
          },
          "metadata": {},
          "execution_count": 236
        }
      ]
    },
    {
      "cell_type": "code",
      "metadata": {
        "colab": {
          "base_uri": "https://localhost:8080/"
        },
        "id": "A83hv-FnPoXE",
        "outputId": "64b25eb3-ca4d-4d4e-b371-7f36fb5d08fa"
      },
      "source": [
        "y_train.head()"
      ],
      "execution_count": 237,
      "outputs": [
        {
          "output_type": "execute_result",
          "data": {
            "text/plain": [
              "단지코드\n",
              "C2483    1015.0\n",
              "C2515     205.0\n",
              "C1407    1064.0\n",
              "C1945     730.0\n",
              "C1470     553.0\n",
              "Name: 등록차량수, dtype: float64"
            ]
          },
          "metadata": {},
          "execution_count": 237
        }
      ]
    },
    {
      "cell_type": "code",
      "metadata": {
        "colab": {
          "base_uri": "https://localhost:8080/",
          "height": 447
        },
        "id": "aD9n6Q_uRPko",
        "outputId": "58697d3e-6285-4120-f221-fe8f73db037b"
      },
      "source": [
        "X_test"
      ],
      "execution_count": 238,
      "outputs": [
        {
          "output_type": "execute_result",
          "data": {
            "text/html": [
              "<div>\n",
              "<style scoped>\n",
              "    .dataframe tbody tr th:only-of-type {\n",
              "        vertical-align: middle;\n",
              "    }\n",
              "\n",
              "    .dataframe tbody tr th {\n",
              "        vertical-align: top;\n",
              "    }\n",
              "\n",
              "    .dataframe thead th {\n",
              "        text-align: right;\n",
              "    }\n",
              "</style>\n",
              "<table border=\"1\" class=\"dataframe\">\n",
              "  <thead>\n",
              "    <tr style=\"text-align: right;\">\n",
              "      <th></th>\n",
              "      <th>임대보증금_s</th>\n",
              "      <th>임대료_s</th>\n",
              "      <th>총세대수</th>\n",
              "      <th>지역</th>\n",
              "      <th>공가수</th>\n",
              "      <th>지하철</th>\n",
              "      <th>버스</th>\n",
              "      <th>단지내주차면수</th>\n",
              "      <th>전용면적별세대수</th>\n",
              "    </tr>\n",
              "    <tr>\n",
              "      <th>단지코드</th>\n",
              "      <th></th>\n",
              "      <th></th>\n",
              "      <th></th>\n",
              "      <th></th>\n",
              "      <th></th>\n",
              "      <th></th>\n",
              "      <th></th>\n",
              "      <th></th>\n",
              "      <th></th>\n",
              "    </tr>\n",
              "  </thead>\n",
              "  <tbody>\n",
              "    <tr>\n",
              "      <th>C1072</th>\n",
              "      <td>17.456256</td>\n",
              "      <td>12.490668</td>\n",
              "      <td>754</td>\n",
              "      <td>1</td>\n",
              "      <td>14.0</td>\n",
              "      <td>0.0</td>\n",
              "      <td>2.0</td>\n",
              "      <td>683.0</td>\n",
              "      <td>94.250000</td>\n",
              "    </tr>\n",
              "    <tr>\n",
              "      <th>C1128</th>\n",
              "      <td>17.345541</td>\n",
              "      <td>12.411124</td>\n",
              "      <td>1354</td>\n",
              "      <td>1</td>\n",
              "      <td>9.0</td>\n",
              "      <td>0.0</td>\n",
              "      <td>3.0</td>\n",
              "      <td>1216.0</td>\n",
              "      <td>150.444444</td>\n",
              "    </tr>\n",
              "    <tr>\n",
              "      <th>C1456</th>\n",
              "      <td>17.340848</td>\n",
              "      <td>12.317728</td>\n",
              "      <td>619</td>\n",
              "      <td>7</td>\n",
              "      <td>18.0</td>\n",
              "      <td>0.0</td>\n",
              "      <td>16.0</td>\n",
              "      <td>547.0</td>\n",
              "      <td>68.777778</td>\n",
              "    </tr>\n",
              "    <tr>\n",
              "      <th>C1840</th>\n",
              "      <td>16.755955</td>\n",
              "      <td>11.721167</td>\n",
              "      <td>593</td>\n",
              "      <td>11</td>\n",
              "      <td>7.0</td>\n",
              "      <td>0.0</td>\n",
              "      <td>3.0</td>\n",
              "      <td>543.0</td>\n",
              "      <td>148.250000</td>\n",
              "    </tr>\n",
              "    <tr>\n",
              "      <th>C1332</th>\n",
              "      <td>17.537208</td>\n",
              "      <td>12.587522</td>\n",
              "      <td>1297</td>\n",
              "      <td>1</td>\n",
              "      <td>11.0</td>\n",
              "      <td>0.0</td>\n",
              "      <td>2.0</td>\n",
              "      <td>1112.0</td>\n",
              "      <td>162.125000</td>\n",
              "    </tr>\n",
              "    <tr>\n",
              "      <th>...</th>\n",
              "      <td>...</td>\n",
              "      <td>...</td>\n",
              "      <td>...</td>\n",
              "      <td>...</td>\n",
              "      <td>...</td>\n",
              "      <td>...</td>\n",
              "      <td>...</td>\n",
              "      <td>...</td>\n",
              "      <td>...</td>\n",
              "    </tr>\n",
              "    <tr>\n",
              "      <th>C2456</th>\n",
              "      <td>16.319300</td>\n",
              "      <td>11.951719</td>\n",
              "      <td>349</td>\n",
              "      <td>12</td>\n",
              "      <td>17.0</td>\n",
              "      <td>0.0</td>\n",
              "      <td>4.0</td>\n",
              "      <td>270.0</td>\n",
              "      <td>86.500000</td>\n",
              "    </tr>\n",
              "    <tr>\n",
              "      <th>C1266</th>\n",
              "      <td>16.479623</td>\n",
              "      <td>12.205467</td>\n",
              "      <td>596</td>\n",
              "      <td>14</td>\n",
              "      <td>35.0</td>\n",
              "      <td>0.0</td>\n",
              "      <td>1.0</td>\n",
              "      <td>593.0</td>\n",
              "      <td>118.200000</td>\n",
              "    </tr>\n",
              "    <tr>\n",
              "      <th>C2152</th>\n",
              "      <td>0.000000</td>\n",
              "      <td>0.000000</td>\n",
              "      <td>120</td>\n",
              "      <td>0</td>\n",
              "      <td>9.0</td>\n",
              "      <td>0.0</td>\n",
              "      <td>1.0</td>\n",
              "      <td>40.0</td>\n",
              "      <td>60.000000</td>\n",
              "    </tr>\n",
              "    <tr>\n",
              "      <th>C1267</th>\n",
              "      <td>15.931087</td>\n",
              "      <td>11.345089</td>\n",
              "      <td>675</td>\n",
              "      <td>2</td>\n",
              "      <td>38.0</td>\n",
              "      <td>0.0</td>\n",
              "      <td>1.0</td>\n",
              "      <td>467.0</td>\n",
              "      <td>60.909091</td>\n",
              "    </tr>\n",
              "    <tr>\n",
              "      <th>C2189</th>\n",
              "      <td>16.254439</td>\n",
              "      <td>11.782769</td>\n",
              "      <td>382</td>\n",
              "      <td>11</td>\n",
              "      <td>45.0</td>\n",
              "      <td>0.0</td>\n",
              "      <td>2.0</td>\n",
              "      <td>300.0</td>\n",
              "      <td>94.500000</td>\n",
              "    </tr>\n",
              "  </tbody>\n",
              "</table>\n",
              "<p>150 rows × 9 columns</p>\n",
              "</div>"
            ],
            "text/plain": [
              "         임대보증금_s      임대료_s  총세대수  지역   공가수  지하철    버스  단지내주차면수    전용면적별세대수\n",
              "단지코드                                                                       \n",
              "C1072  17.456256  12.490668   754   1  14.0  0.0   2.0    683.0   94.250000\n",
              "C1128  17.345541  12.411124  1354   1   9.0  0.0   3.0   1216.0  150.444444\n",
              "C1456  17.340848  12.317728   619   7  18.0  0.0  16.0    547.0   68.777778\n",
              "C1840  16.755955  11.721167   593  11   7.0  0.0   3.0    543.0  148.250000\n",
              "C1332  17.537208  12.587522  1297   1  11.0  0.0   2.0   1112.0  162.125000\n",
              "...          ...        ...   ...  ..   ...  ...   ...      ...         ...\n",
              "C2456  16.319300  11.951719   349  12  17.0  0.0   4.0    270.0   86.500000\n",
              "C1266  16.479623  12.205467   596  14  35.0  0.0   1.0    593.0  118.200000\n",
              "C2152   0.000000   0.000000   120   0   9.0  0.0   1.0     40.0   60.000000\n",
              "C1267  15.931087  11.345089   675   2  38.0  0.0   1.0    467.0   60.909091\n",
              "C2189  16.254439  11.782769   382  11  45.0  0.0   2.0    300.0   94.500000\n",
              "\n",
              "[150 rows x 9 columns]"
            ]
          },
          "metadata": {},
          "execution_count": 238
        }
      ]
    },
    {
      "cell_type": "code",
      "metadata": {
        "colab": {
          "base_uri": "https://localhost:8080/"
        },
        "id": "j2lSWn-vUHve",
        "outputId": "35876dfd-c4d7-45c6-e82d-5a5ce8b0bc97"
      },
      "source": [
        "rf_clf=RandomForestRegressor(n_jobs=-1,random_state=0)\n",
        "rf_clf.fit(X_train,y_train)\n",
        "rf_pred=rf_clf.predict(X_test)\n",
        "\n",
        "lr_clf=LogisticRegression(n_jobs=-1,random_state=0)\n",
        "lr_clf.fit(X_train,y_train)\n",
        "lr_pred=lr_clf.predict(X_test)\n",
        "\n",
        "xgb_clf=XGBRegressor(n_jobs=-1,random_state=0)\n",
        "xgb_clf.fit(X_train,y_train)\n",
        "xgb_pred=xgb_clf.predict(X_test)\n",
        "\n",
        "lgbm_clf=LGBMRegressor(n_jobs=-1,random_state=0)\n",
        "lgbm_clf.fit(X_train,y_train)\n",
        "lgbm_pred=lgbm_clf.predict(X_test)\n",
        "\n"
      ],
      "execution_count": 243,
      "outputs": [
        {
          "output_type": "stream",
          "name": "stdout",
          "text": [
            "[18:21:22] WARNING: /workspace/src/objective/regression_obj.cu:152: reg:linear is now deprecated in favor of reg:squarederror.\n"
          ]
        }
      ]
    },
    {
      "cell_type": "code",
      "metadata": {
        "id": "3KlTRpdzVQjs"
      },
      "source": [
        "submission=pd.read_csv(\"sample_submission.csv\")"
      ],
      "execution_count": 241,
      "outputs": []
    },
    {
      "cell_type": "code",
      "metadata": {
        "id": "-Yx1L2K1VadY"
      },
      "source": [
        "rf_sub=submission.copy()\n",
        "lr_sub=submission.copy()\n",
        "xgb_sub=submission.copy()\n",
        "lgbm_sub=submission.copy()"
      ],
      "execution_count": 242,
      "outputs": []
    },
    {
      "cell_type": "code",
      "metadata": {
        "id": "E9RUXPDfVomu"
      },
      "source": [
        "rf_sub['num']=rf_pred\n",
        "lr_sub['num']=lr_pred\n",
        "xgb_sub['num']=xgb_pred\n",
        "lgbm_sub['num']=lgbm_pred"
      ],
      "execution_count": 244,
      "outputs": []
    },
    {
      "cell_type": "code",
      "metadata": {
        "id": "6JPDT7SbV2vN"
      },
      "source": [
        "rf_sub.to_csv('rf.csv', index=False)\n",
        "lr_sub.to_csv('lr.csv', index=False)\n",
        "xgb_sub.to_csv('xgb.csv', index=False)\n",
        "lgbm_sub.to_csv('lgbm.csv', index=False)"
      ],
      "execution_count": 245,
      "outputs": []
    },
    {
      "cell_type": "code",
      "metadata": {
        "colab": {
          "base_uri": "https://localhost:8080/"
        },
        "id": "STZw5IoEWCYY",
        "outputId": "8a523021-198d-4d6e-b27e-18136734edff"
      },
      "source": [
        "rf_clf.feature_importances_"
      ],
      "execution_count": 249,
      "outputs": [
        {
          "output_type": "execute_result",
          "data": {
            "text/plain": [
              "array([0.0387312 , 0.05720176, 0.03499823, 0.01793811, 0.05564183,\n",
              "       0.00232199, 0.01753195, 0.75184863, 0.02378631])"
            ]
          },
          "metadata": {},
          "execution_count": 249
        }
      ]
    },
    {
      "cell_type": "code",
      "metadata": {
        "colab": {
          "base_uri": "https://localhost:8080/",
          "height": 282
        },
        "id": "oaGiOy5VY-mn",
        "outputId": "3a3d9df1-5662-4ec3-c5e8-87d5e6d53690"
      },
      "source": [
        "sns.barplot(x=rf_clf.feature_importances_,y=X_train.columns)"
      ],
      "execution_count": 255,
      "outputs": [
        {
          "output_type": "execute_result",
          "data": {
            "text/plain": [
              "<matplotlib.axes._subplots.AxesSubplot at 0x7fb76d12ea50>"
            ]
          },
          "metadata": {},
          "execution_count": 255
        },
        {
          "output_type": "display_data",
          "data": {
            "image/png": "[encoded data removed]",
            "text/plain": [
              "<Figure size 432x288 with 1 Axes>"
            ]
          },
          "metadata": {
            "image/png": {
              "width": 404,
              "height": 248
            },
            "needs_background": "light"
          }
        }
      ]
    },
    {
      "cell_type": "code",
      "metadata": {
        "id": "TUpyA9drZQi6"
      },
      "source": [
        ""
      ],
      "execution_count": null,
      "outputs": []
    }
  ]
}