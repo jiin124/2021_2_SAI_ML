{
  "nbformat": 4,
  "nbformat_minor": 0,
  "metadata": {
    "colab": {
      "name": "스태깅 앙상블.ipynb",
      "provenance": [],
      "authorship_tag": "ABX9TyPPR5/CRiS4PfLs8iJVyz78",
      "include_colab_link": true
    },
    "kernelspec": {
      "name": "python3",
      "display_name": "Python 3"
    },
    "language_info": {
      "name": "python"
    }
  },
  "cells": [
    {
      "cell_type": "markdown",
      "metadata": {
        "id": "view-in-github",
        "colab_type": "text"
      },
      "source": [
        "<a href=\"https://colab.research.google.com/github/jiin124/2021_2_SAI_ML/blob/main/4%EC%A3%BC%EC%B0%A8/%EC%8A%A4%ED%83%9C%EA%B9%85_%EC%95%99%EC%83%81%EB%B8%94.ipynb\" target=\"_parent\"><img src=\"https://colab.research.google.com/assets/colab-badge.svg\" alt=\"Open In Colab\"/></a>"
      ]
    },
    {
      "cell_type": "code",
      "metadata": {
        "id": "JqFU-j7Vhnzx"
      },
      "source": [
        "import numpy as np\n",
        "import pandas as pd\n",
        "import matplotlib.pyplot as plt\n",
        "%matplotlib inline\n",
        "import seaborn as sns\n",
        "\n",
        "from sklearn.neighbors import KNeighborsClassifier\n",
        "from sklearn.ensemble import RandomForestClassifier\n",
        "from sklearn.ensemble import AdaBoostClassifier\n",
        "from sklearn.tree import DecisionTreeClassifier\n",
        "from sklearn.linear_model import LogisticRegression\n",
        "\n",
        "from sklearn.datasets import load_breast_cancer\n",
        "from sklearn.model_selection import train_test_split\n",
        "from sklearn.metrics import accuracy_score\n",
        "\n",
        "df=load_breast_cancer()\n",
        "\n",
        "X_data=df.data\n",
        "y_label=df.target\n",
        "\n",
        "X_train,X_test,y_train,y_test=train_test_split(X_data,y_label,test_size=0.2,random_state=0)\n"
      ],
      "execution_count": 29,
      "outputs": []
    },
    {
      "cell_type": "markdown",
      "metadata": {
        "id": "ZjSsNKdDmZW_"
      },
      "source": [
        "KNN,ADABoost,랜덤포레스트,결정트리를 이용해서 알고리즘 클래스를 형성하고 최종모델 로지스틱 회귀이다."
      ]
    },
    {
      "cell_type": "code",
      "metadata": {
        "colab": {
          "base_uri": "https://localhost:8080/"
        },
        "id": "jjs5dRCzlON8",
        "outputId": "4b432fe4-d217-4374-bb53-5744ce0f5c25"
      },
      "source": [
        "#개별 ML모델 생성\n",
        "knn_clf=KNeighborsClassifier(n_neighbors=4)\n",
        "rf_clf=RandomForestClassifier(n_estimators=100,random_state=0)\n",
        "dt_clf=DecisionTreeClassifier()\n",
        "ada_clf=AdaBoostClassifier(n_estimators=100)\n",
        "\n",
        "lr_final=LogisticRegression(C=10)\n",
        "\n",
        "#개별 모델 학습\n",
        "knn_clf.fit(X_train,y_train)\n",
        "rf_clf.fit(X_train,y_train)\n",
        "dt_clf.fit(X_train,y_train)\n",
        "ada_clf.fit(X_train,y_train)\n",
        "\n"
      ],
      "execution_count": 30,
      "outputs": [
        {
          "output_type": "execute_result",
          "data": {
            "text/plain": [
              "AdaBoostClassifier(algorithm='SAMME.R', base_estimator=None, learning_rate=1.0,\n",
              "                   n_estimators=100, random_state=None)"
            ]
          },
          "metadata": {},
          "execution_count": 30
        }
      ]
    },
    {
      "cell_type": "code",
      "metadata": {
        "colab": {
          "base_uri": "https://localhost:8080/"
        },
        "id": "GRoA1yUWrMhQ",
        "outputId": "7d80e164-b1ea-464a-e55a-18ff40c902ae"
      },
      "source": [
        "knn_pred=knn_clf.predict(X_test)\n",
        "rf_pred=rf_clf.predict(X_test)\n",
        "dt_pred=dt_clf.predict(X_test)\n",
        "ada_pred=ada_clf.predict(X_test)\n",
        "\n",
        "print(\"KNN 정확도 : {0:.4f}\".format(accuracy_score(y_test,knn_pred)))\n",
        "print(\"랜덤 포레스트 : {0:.4f}\".format(accuracy_score(y_test,rf_pred)))\n",
        "print(\"결정 트리 정확도 : {0:.4f}\".format(accuracy_score(y_test,dt_pred)))\n",
        "print(\"에이다부스트 정확도 : {0:.4f}\".format(accuracy_score(y_test,ada_pred)))"
      ],
      "execution_count": 31,
      "outputs": [
        {
          "output_type": "stream",
          "name": "stdout",
          "text": [
            "KNN 정확도 : 0.9211\n",
            "랜덤 포레스트 : 0.9649\n",
            "결정 트리 정확도 : 0.9035\n",
            "에이다부스트 정확도 : 0.9561\n"
          ]
        }
      ]
    },
    {
      "cell_type": "markdown",
      "metadata": {
        "id": "CQpQ3pz1tTEu"
      },
      "source": [
        "개별 알고리즘으로부터 예측된 예측값을 칼럼 레벨로 옆으로 붙여서 피처값을 만들어 최종 메타 모델인 로지스틱 회귀에서 학습 데이터로 다시 사용하겠다. \n",
        "반환된 예측 데이터는 1차원 형태의 ndarray이니까 먼저 반환된 예측 결과를 행 형태로 붙인 뒤 넘파이의 tranpose()를 이용해 행과 열 위치를 바꾼 ndarray로 변환하면 된다. "
      ]
    },
    {
      "cell_type": "code",
      "metadata": {
        "colab": {
          "base_uri": "https://localhost:8080/"
        },
        "id": "6NxrRfkktCIF",
        "outputId": "431959c1-48ad-4a79-cd9c-47f7808a35b4"
      },
      "source": [
        "pred=np.array([knn_pred,rf_pred,dt_pred,ada_pred])\n",
        "print(pred.shape)\n",
        "\n",
        "#tranpose를 이용해 행과 열 위치 교환 칼럼 레벨로 각 알고리즘의 예측 결과를 피처로 만듦\n",
        "pred=np.transpose(pred)\n",
        "print(pred.shape)"
      ],
      "execution_count": 32,
      "outputs": [
        {
          "output_type": "stream",
          "name": "stdout",
          "text": [
            "(4, 114)\n",
            "(114, 4)\n"
          ]
        }
      ]
    },
    {
      "cell_type": "markdown",
      "metadata": {
        "id": "zPP4cWMSvXbu"
      },
      "source": [
        "이렇게 예측 데이터로 생성된 데이터 세트를 기반으로 최종 메타 모델인 로지스틱 회귀를 학습하고 예측 정확도를 측정하겠다. "
      ]
    },
    {
      "cell_type": "code",
      "metadata": {
        "colab": {
          "base_uri": "https://localhost:8080/"
        },
        "id": "W8wKtc5huT9-",
        "outputId": "f2a5f2ee-c661-4bfa-abd7-fbc5be70cd35"
      },
      "source": [
        "lr_final.fit(pred,y_test)\n",
        "final=lr_final.predict(pred)\n",
        "\n",
        "print(\"최종 메타 모델의 예측 정확도 :{0:.4f}\".format(accuracy_score(y_test,final)))"
      ],
      "execution_count": 33,
      "outputs": [
        {
          "output_type": "stream",
          "name": "stdout",
          "text": [
            "최종 메타 모델의 예측 정확도 :0.9649\n"
          ]
        }
      ]
    },
    {
      "cell_type": "code",
      "metadata": {
        "id": "yhyYoVmzCQA1"
      },
      "source": [
        ""
      ],
      "execution_count": null,
      "outputs": []
    },
    {
      "cell_type": "markdown",
      "metadata": {
        "id": "n7RVj7zewMHl"
      },
      "source": [
        "# CV세트 기반의 스태킹"
      ]
    },
    {
      "cell_type": "markdown",
      "metadata": {
        "id": "PfOVaVSE4smc"
      },
      "source": [
        "## step1"
      ]
    },
    {
      "cell_type": "code",
      "metadata": {
        "id": "iFF-_jJWv9HX"
      },
      "source": [
        "from sklearn.model_selection import KFold\n",
        "from sklearn.metrics import mean_absolute_error\n",
        "\n",
        "#개별 기반 모델에서 최종 메타 모델이 사용할 학습 및 테스트용 데이터를 생성하기 위한 함수\n",
        "def get_stacking_base_datsets(model,X_train_n,y_train_n,X_test_n,n_folds):\n",
        "  #지정된 n_folds값으로 KFold 생성.\n",
        "  kf=KFold(n_splits=n_folds,shuffle=False,random_state=0)\n",
        "  #추후에 메타 모델이 사용할 학습 데이터 반환을 위한 넘파이 배열 초기화\n",
        "  train_fold_pred=np.zeros((X_train_n.shape[0],1))\n",
        "  test_pred=np.zeros((X_test_n.shape[0],n_folds))\n",
        "  print(model.__class__.__name__,'모델 시작')\n",
        "\n",
        "  for folder_counter,(train_index,valid_index) in enumerate(kf.split(X_train_n)):\n",
        "    #입력된 학습 데이터에서 기반 모델이 학습.예측할 폴드 데이터 추출\n",
        "    print(\"\\t 폴드 세트 : \",folder_counter,'시작')\n",
        "    X_tr=X_train_n[train_index]\n",
        "    y_tr=y_train_n[train_index]\n",
        "    X_te=X_train_n[valid_index]\n",
        "\n",
        "    #폴드 세트 내부에서 다시 만들어진 학습 데이터로 기반 모델의 학습 수행\n",
        "    model.fit(X_tr,y_tr)\n",
        "    #폴드 세트 내부에서 다시 만들어진 검증 데이터로 기반 모델 예측 후 데이터 저장.\n",
        "    train_fold_pred[valid_index,:]=model.predict(X_te).reshape(-1,1)\n",
        "    #입력된 원본 테스트 데이터를 폴드 세트내 학습된 기반 모델에서 예측 후 데이터 저장.\n",
        "    test_pred[:,folder_counter]=model.predict(X_test_n)\n",
        "\n",
        "  #폴드 세트 내에서 원본 테스트 데이터를 예측한 데이터를 평균해 테스트 데이터로 생성\n",
        "  test_pred_mean=np.mean(test_pred,axis=1).reshape(-1,1)\n",
        "\n",
        "  #train_fold_pred는 최종 메타 모델이 사용하는 학습 데이터, test_pred_mean은 테스트 데이터\n",
        "  return train_fold_pred,test_pred_mean"
      ],
      "execution_count": 38,
      "outputs": []
    },
    {
      "cell_type": "code",
      "metadata": {
        "colab": {
          "base_uri": "https://localhost:8080/"
        },
        "id": "ENkJJohJ33cv",
        "outputId": "15dcc959-7f94-4ac9-e3bb-b0f8aeeb7c74"
      },
      "source": [
        "knn_train,knn_test=get_stacking_base_datsets(knn_clf,X_train,y_train,X_test,7)\n",
        "rf_train,rf_test=get_stacking_base_datsets(rf_clf,X_train,y_train,X_test,7)\n",
        "dt_train,dt_test=get_stacking_base_datsets(dt_clf,X_train,y_train,X_test,7)\n",
        "ada_train,ada_test=get_stacking_base_datsets(ada_clf,X_train,y_train,X_test,7)"
      ],
      "execution_count": 39,
      "outputs": [
        {
          "output_type": "stream",
          "name": "stderr",
          "text": [
            "/usr/local/lib/python3.7/dist-packages/sklearn/model_selection/_split.py:296: FutureWarning: Setting a random_state has no effect since shuffle is False. This will raise an error in 0.24. You should leave random_state to its default (None), or set shuffle=True.\n",
            "  FutureWarning\n",
            "/usr/local/lib/python3.7/dist-packages/sklearn/model_selection/_split.py:296: FutureWarning: Setting a random_state has no effect since shuffle is False. This will raise an error in 0.24. You should leave random_state to its default (None), or set shuffle=True.\n",
            "  FutureWarning\n"
          ]
        },
        {
          "output_type": "stream",
          "name": "stdout",
          "text": [
            "KNeighborsClassifier 모델 시작\n",
            "\t 폴드 세트 :  0 시작\n",
            "\t 폴드 세트 :  1 시작\n",
            "\t 폴드 세트 :  2 시작\n",
            "\t 폴드 세트 :  3 시작\n",
            "\t 폴드 세트 :  4 시작\n",
            "\t 폴드 세트 :  5 시작\n",
            "\t 폴드 세트 :  6 시작\n",
            "RandomForestClassifier 모델 시작\n",
            "\t 폴드 세트 :  0 시작\n",
            "\t 폴드 세트 :  1 시작\n",
            "\t 폴드 세트 :  2 시작\n",
            "\t 폴드 세트 :  3 시작\n",
            "\t 폴드 세트 :  4 시작\n",
            "\t 폴드 세트 :  5 시작\n",
            "\t 폴드 세트 :  6 시작\n"
          ]
        },
        {
          "output_type": "stream",
          "name": "stderr",
          "text": [
            "/usr/local/lib/python3.7/dist-packages/sklearn/model_selection/_split.py:296: FutureWarning: Setting a random_state has no effect since shuffle is False. This will raise an error in 0.24. You should leave random_state to its default (None), or set shuffle=True.\n",
            "  FutureWarning\n",
            "/usr/local/lib/python3.7/dist-packages/sklearn/model_selection/_split.py:296: FutureWarning: Setting a random_state has no effect since shuffle is False. This will raise an error in 0.24. You should leave random_state to its default (None), or set shuffle=True.\n",
            "  FutureWarning\n"
          ]
        },
        {
          "output_type": "stream",
          "name": "stdout",
          "text": [
            "DecisionTreeClassifier 모델 시작\n",
            "\t 폴드 세트 :  0 시작\n",
            "\t 폴드 세트 :  1 시작\n",
            "\t 폴드 세트 :  2 시작\n",
            "\t 폴드 세트 :  3 시작\n",
            "\t 폴드 세트 :  4 시작\n",
            "\t 폴드 세트 :  5 시작\n",
            "\t 폴드 세트 :  6 시작\n",
            "AdaBoostClassifier 모델 시작\n",
            "\t 폴드 세트 :  0 시작\n",
            "\t 폴드 세트 :  1 시작\n",
            "\t 폴드 세트 :  2 시작\n",
            "\t 폴드 세트 :  3 시작\n",
            "\t 폴드 세트 :  4 시작\n",
            "\t 폴드 세트 :  5 시작\n",
            "\t 폴드 세트 :  6 시작\n"
          ]
        }
      ]
    },
    {
      "cell_type": "markdown",
      "metadata": {
        "id": "IPvDDWJu4wIE"
      },
      "source": [
        "## step2"
      ]
    },
    {
      "cell_type": "markdown",
      "metadata": {
        "id": "yr2SH1l-9vVV"
      },
      "source": [
        "앞의 예제에서 get_stacking_base_datasets()호출로 반환된 각 모델별 학습 데이터와 테스트 데이터를 합치기만 하면 된다. 넘파이의 concatenate()를 이용해 쉽게 이와 같은 기능을 수행한다. concatenate()는 여러 개의 넘파이 배열을 이용해 쉽게 이와 같은 기능을 수행한다. concatenate()는 여러개의 넘파이 배열을 칼럼 또는 로우 레벨로 합쳐주는 기능을 제공한다. "
      ]
    },
    {
      "cell_type": "code",
      "metadata": {
        "colab": {
          "base_uri": "https://localhost:8080/"
        },
        "id": "Y0jyurv64P-A",
        "outputId": "36ce3ff6-d192-4fe4-8c56-156aabdfd1cd"
      },
      "source": [
        "Stack_final_X_train=np.concatenate((knn_train,rf_train,dt_train,ada_train),axis=1)\n",
        "Stack_final_X_test=np.concatenate((knn_test,rf_test,dt_test,ada_test),axis=1)\n",
        "print(\"원본 학습 피처 데이터 shape:\",X_train.shape,'원본 테스트 피처 shape:',X_test.shape)\n",
        "print('스태킹 학습 피처 데이터 shape:',Stack_final_X_train.shape,\n",
        "      '스태킹 테스트 피처 데이터 shape:',Stack_final_X_test.shape)\n"
      ],
      "execution_count": 40,
      "outputs": [
        {
          "output_type": "stream",
          "name": "stdout",
          "text": [
            "원본 학습 피처 데이터 shape: (455, 30) 원본 테스트 피처 shape: (114, 30)\n",
            "스태킹 학습 피처 데이터 shape: (455, 4) 스태킹 테스트 피처 데이터 shape: (114, 4)\n"
          ]
        }
      ]
    },
    {
      "cell_type": "code",
      "metadata": {
        "colab": {
          "base_uri": "https://localhost:8080/"
        },
        "id": "aD-jQMDL-sWA",
        "outputId": "790ab0fd-b563-4712-fca5-bb92c1d5cd2a"
      },
      "source": [
        "lr_final.fit(Stack_final_X_train,y_train)\n",
        "stack_final=lr_final.predict(Stack_final_X_test)\n",
        "\n",
        "print('최종 메타 모델의 예측 정확도:{0:.4f}'.format(accuracy_score(y_test,stack_final)))"
      ],
      "execution_count": 41,
      "outputs": [
        {
          "output_type": "stream",
          "name": "stdout",
          "text": [
            "최종 메타 모델의 예측 정확도:0.9737\n"
          ]
        }
      ]
    },
    {
      "cell_type": "code",
      "metadata": {
        "id": "LJtbQKdi_N-k"
      },
      "source": [
        ""
      ],
      "execution_count": null,
      "outputs": []
    }
  ]
}